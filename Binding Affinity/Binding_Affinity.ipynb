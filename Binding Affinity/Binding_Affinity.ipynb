{
  "cells": [
    {
      "cell_type": "markdown",
      "metadata": {
        "id": "I5oQg9jrM-nE"
      },
      "source": [
        "## **Loading Data From TDC**\n",
        "\n"
      ]
    },
    {
      "cell_type": "code",
      "execution_count": null,
      "metadata": {
        "colab": {
          "base_uri": "https://localhost:8080/"
        },
        "gather": {
          "logged": 1674854782111
        },
        "id": "-ksq0Y4Iz9xC",
        "outputId": "3d53135f-0262-4517-b479-36446dbcd3d0"
      },
      "outputs": [
        {
          "name": "stdout",
          "output_type": "stream",
          "text": [
            "Requirement already satisfied: PyTDC in /anaconda/envs/jupyter_env/lib/python3.8/site-packages (0.4.0)\n",
            "Requirement already satisfied: seaborn in /anaconda/envs/jupyter_env/lib/python3.8/site-packages (from PyTDC) (0.12.2)\n",
            "Requirement already satisfied: requests in /anaconda/envs/jupyter_env/lib/python3.8/site-packages (from PyTDC) (2.28.2)\n",
            "Requirement already satisfied: pandas in /anaconda/envs/jupyter_env/lib/python3.8/site-packages (from PyTDC) (2.0.0)\n",
            "Requirement already satisfied: tqdm in /anaconda/envs/jupyter_env/lib/python3.8/site-packages (from PyTDC) (4.65.0)\n",
            "Requirement already satisfied: numpy in /anaconda/envs/jupyter_env/lib/python3.8/site-packages (from PyTDC) (1.24.2)\n",
            "Requirement already satisfied: scikit-learn in /anaconda/envs/jupyter_env/lib/python3.8/site-packages (from PyTDC) (1.2.2)\n",
            "Requirement already satisfied: rdkit-pypi in /anaconda/envs/jupyter_env/lib/python3.8/site-packages (from PyTDC) (2022.9.5)\n",
            "Requirement already satisfied: fuzzywuzzy in /anaconda/envs/jupyter_env/lib/python3.8/site-packages (from PyTDC) (0.18.0)\n",
            "Requirement already satisfied: huggingface-hub in /anaconda/envs/jupyter_env/lib/python3.8/site-packages (from PyTDC) (0.14.1)\n",
            "Requirement already satisfied: dataclasses in /anaconda/envs/jupyter_env/lib/python3.8/site-packages (from PyTDC) (0.6)\n",
            "Requirement already satisfied: typing-extensions>=3.7.4.3 in /anaconda/envs/jupyter_env/lib/python3.8/site-packages (from huggingface-hub->PyTDC) (4.5.0)\n",
            "Requirement already satisfied: filelock in /anaconda/envs/jupyter_env/lib/python3.8/site-packages (from huggingface-hub->PyTDC) (3.11.0)\n",
            "Requirement already satisfied: pyyaml>=5.1 in /anaconda/envs/jupyter_env/lib/python3.8/site-packages (from huggingface-hub->PyTDC) (6.0)\n",
            "Requirement already satisfied: packaging>=20.9 in /anaconda/envs/jupyter_env/lib/python3.8/site-packages (from huggingface-hub->PyTDC) (21.3)\n",
            "Requirement already satisfied: fsspec in /anaconda/envs/jupyter_env/lib/python3.8/site-packages (from huggingface-hub->PyTDC) (2023.4.0)\n",
            "Requirement already satisfied: pytz>=2020.1 in /anaconda/envs/jupyter_env/lib/python3.8/site-packages (from pandas->PyTDC) (2023.3)\n",
            "Requirement already satisfied: python-dateutil>=2.8.2 in /anaconda/envs/jupyter_env/lib/python3.8/site-packages (from pandas->PyTDC) (2.8.2)\n",
            "Requirement already satisfied: tzdata>=2022.1 in /anaconda/envs/jupyter_env/lib/python3.8/site-packages (from pandas->PyTDC) (2023.3)\n",
            "Requirement already satisfied: Pillow in /anaconda/envs/jupyter_env/lib/python3.8/site-packages (from rdkit-pypi->PyTDC) (9.5.0)\n",
            "Requirement already satisfied: idna<4,>=2.5 in /anaconda/envs/jupyter_env/lib/python3.8/site-packages (from requests->PyTDC) (3.4)\n",
            "Requirement already satisfied: certifi>=2017.4.17 in /anaconda/envs/jupyter_env/lib/python3.8/site-packages (from requests->PyTDC) (2022.12.7)\n",
            "Requirement already satisfied: urllib3<1.27,>=1.21.1 in /anaconda/envs/jupyter_env/lib/python3.8/site-packages (from requests->PyTDC) (1.26.15)\n",
            "Requirement already satisfied: charset-normalizer<4,>=2 in /anaconda/envs/jupyter_env/lib/python3.8/site-packages (from requests->PyTDC) (3.1.0)\n",
            "Requirement already satisfied: joblib>=1.1.1 in /anaconda/envs/jupyter_env/lib/python3.8/site-packages (from scikit-learn->PyTDC) (1.2.0)\n",
            "Requirement already satisfied: scipy>=1.3.2 in /anaconda/envs/jupyter_env/lib/python3.8/site-packages (from scikit-learn->PyTDC) (1.9.1)\n",
            "Requirement already satisfied: threadpoolctl>=2.0.0 in /anaconda/envs/jupyter_env/lib/python3.8/site-packages (from scikit-learn->PyTDC) (3.1.0)\n",
            "Requirement already satisfied: matplotlib!=3.6.1,>=3.1 in /anaconda/envs/jupyter_env/lib/python3.8/site-packages (from seaborn->PyTDC) (3.7.1)\n",
            "Requirement already satisfied: fonttools>=4.22.0 in /anaconda/envs/jupyter_env/lib/python3.8/site-packages (from matplotlib!=3.6.1,>=3.1->seaborn->PyTDC) (4.39.3)\n",
            "Requirement already satisfied: contourpy>=1.0.1 in /anaconda/envs/jupyter_env/lib/python3.8/site-packages (from matplotlib!=3.6.1,>=3.1->seaborn->PyTDC) (1.0.7)\n",
            "Requirement already satisfied: importlib-resources>=3.2.0 in /anaconda/envs/jupyter_env/lib/python3.8/site-packages (from matplotlib!=3.6.1,>=3.1->seaborn->PyTDC) (5.12.0)\n",
            "Requirement already satisfied: cycler>=0.10 in /anaconda/envs/jupyter_env/lib/python3.8/site-packages (from matplotlib!=3.6.1,>=3.1->seaborn->PyTDC) (0.11.0)\n",
            "Requirement already satisfied: kiwisolver>=1.0.1 in /anaconda/envs/jupyter_env/lib/python3.8/site-packages (from matplotlib!=3.6.1,>=3.1->seaborn->PyTDC) (1.4.4)\n",
            "Requirement already satisfied: pyparsing>=2.3.1 in /anaconda/envs/jupyter_env/lib/python3.8/site-packages (from matplotlib!=3.6.1,>=3.1->seaborn->PyTDC) (3.0.9)\n",
            "Requirement already satisfied: six>=1.5 in /anaconda/envs/jupyter_env/lib/python3.8/site-packages (from python-dateutil>=2.8.2->pandas->PyTDC) (1.16.0)\n",
            "Requirement already satisfied: zipp>=3.1.0 in /anaconda/envs/jupyter_env/lib/python3.8/site-packages (from importlib-resources>=3.2.0->matplotlib!=3.6.1,>=3.1->seaborn->PyTDC) (3.15.0)\n",
            "Note: you may need to restart the kernel to use updated packages.\n"
          ]
        }
      ],
      "source": [
        "pip install PyTDC"
      ]
    },
    {
      "cell_type": "code",
      "execution_count": null,
      "metadata": {
        "colab": {
          "base_uri": "https://localhost:8080/",
          "height": 661
        },
        "gather": {
          "logged": 1674854783703
        },
        "id": "IB7FRA0YYNR3",
        "outputId": "3a82fcbb-e78c-4915-d2fb-aab729e24fee"
      },
      "outputs": [
        {
          "name": "stderr",
          "output_type": "stream",
          "text": [
            "Found local copy...\n",
            "Loading...\n",
            "Done!\n",
            "The scale is in original affinity scale, so we will take the minimum!\n",
            "The original data has been updated!\n"
          ]
        },
        {
          "data": {
            "text/html": [
              "<div>\n",
              "<style scoped>\n",
              "    .dataframe tbody tr th:only-of-type {\n",
              "        vertical-align: middle;\n",
              "    }\n",
              "\n",
              "    .dataframe tbody tr th {\n",
              "        vertical-align: top;\n",
              "    }\n",
              "\n",
              "    .dataframe thead th {\n",
              "        text-align: right;\n",
              "    }\n",
              "</style>\n",
              "<table border=\"1\" class=\"dataframe\">\n",
              "  <thead>\n",
              "    <tr style=\"text-align: right;\">\n",
              "      <th></th>\n",
              "      <th>Drug_ID</th>\n",
              "      <th>Drug</th>\n",
              "      <th>Target_ID</th>\n",
              "      <th>Target</th>\n",
              "      <th>Y</th>\n",
              "    </tr>\n",
              "  </thead>\n",
              "  <tbody>\n",
              "    <tr>\n",
              "      <th>0</th>\n",
              "      <td>51.0</td>\n",
              "      <td>O=C(O)CCC(=O)C(=O)O</td>\n",
              "      <td>Q9GZT9</td>\n",
              "      <td>MANDSGGPGGPSPSERDRQYCELCGKMENLLRCSRCRSSFYCCKEH...</td>\n",
              "      <td>900.0</td>\n",
              "    </tr>\n",
              "    <tr>\n",
              "      <th>1</th>\n",
              "      <td>187.0</td>\n",
              "      <td>CC(=O)OCC[N+](C)(C)C</td>\n",
              "      <td>P11229</td>\n",
              "      <td>MNTSAPPAVSPNITVLAPGKGPWQVAFIGITTGLLSLATVTGNLLV...</td>\n",
              "      <td>17378.0</td>\n",
              "    </tr>\n",
              "    <tr>\n",
              "      <th>2</th>\n",
              "      <td>187.0</td>\n",
              "      <td>CC(=O)OCC[N+](C)(C)C</td>\n",
              "      <td>P58154</td>\n",
              "      <td>MRRNIFCLACLWIVQACLSLDRADILYNIRQTSRPDVIPTQRDRPV...</td>\n",
              "      <td>458.0</td>\n",
              "    </tr>\n",
              "    <tr>\n",
              "      <th>3</th>\n",
              "      <td>237.0</td>\n",
              "      <td>CCN(CC)CCCC(C)Nc1c2ccc(Cl)cc2nc2ccc(OC)cc12</td>\n",
              "      <td>P02752</td>\n",
              "      <td>MLRFAITLFAVITSSTCQQYGCLEGDTHKANPSPEPNMHECTLYSE...</td>\n",
              "      <td>264.0</td>\n",
              "    </tr>\n",
              "    <tr>\n",
              "      <th>4</th>\n",
              "      <td>242.0</td>\n",
              "      <td>O=C([O-])c1ccccc1</td>\n",
              "      <td>P14920</td>\n",
              "      <td>MRVVVIGAGVIGLSTALCIHERYHSVLQPLDIKVYADRFTPLTTTD...</td>\n",
              "      <td>2200.0</td>\n",
              "    </tr>\n",
              "    <tr>\n",
              "      <th>...</th>\n",
              "      <td>...</td>\n",
              "      <td>...</td>\n",
              "      <td>...</td>\n",
              "      <td>...</td>\n",
              "      <td>...</td>\n",
              "    </tr>\n",
              "    <tr>\n",
              "      <th>42231</th>\n",
              "      <td>138805907.0</td>\n",
              "      <td>COc1nc2ccc([C@@](O)(c3ccc(C(F)(F)F)nc3)c3cncn3...</td>\n",
              "      <td>P51449</td>\n",
              "      <td>MDRAPQRQHRASRELLAAKKTHTSQIEVIPCKICGDKSSGIHYGVI...</td>\n",
              "      <td>3.1</td>\n",
              "    </tr>\n",
              "    <tr>\n",
              "      <th>42232</th>\n",
              "      <td>138805908.0</td>\n",
              "      <td>COc1nc2ccc([C@](O)(c3ccnc(C(F)(F)F)c3)c3cncn3C...</td>\n",
              "      <td>P51449</td>\n",
              "      <td>MDRAPQRQHRASRELLAAKKTHTSQIEVIPCKICGDKSSGIHYGVI...</td>\n",
              "      <td>9300.0</td>\n",
              "    </tr>\n",
              "    <tr>\n",
              "      <th>42233</th>\n",
              "      <td>138805909.0</td>\n",
              "      <td>COc1nc2ccc([C@@](O)(c3ccnc(C(F)(F)F)c3)c3cncn3...</td>\n",
              "      <td>P51449</td>\n",
              "      <td>MDRAPQRQHRASRELLAAKKTHTSQIEVIPCKICGDKSSGIHYGVI...</td>\n",
              "      <td>3.5</td>\n",
              "    </tr>\n",
              "    <tr>\n",
              "      <th>42234</th>\n",
              "      <td>138805910.0</td>\n",
              "      <td>COc1nc2ccc([C@](O)(c3ccc(Cl)cc3)c3cncn3C)cc2c(...</td>\n",
              "      <td>P51449</td>\n",
              "      <td>MDRAPQRQHRASRELLAAKKTHTSQIEVIPCKICGDKSSGIHYGVI...</td>\n",
              "      <td>850.0</td>\n",
              "    </tr>\n",
              "    <tr>\n",
              "      <th>42235</th>\n",
              "      <td>138805911.0</td>\n",
              "      <td>COc1nc2ccc([C@@](O)(c3ccc(Cl)cc3)c3cncn3C)cc2c...</td>\n",
              "      <td>P51449</td>\n",
              "      <td>MDRAPQRQHRASRELLAAKKTHTSQIEVIPCKICGDKSSGIHYGVI...</td>\n",
              "      <td>13.0</td>\n",
              "    </tr>\n",
              "  </tbody>\n",
              "</table>\n",
              "<p>42236 rows × 5 columns</p>\n",
              "</div>"
            ],
            "text/plain": [
              "           Drug_ID                                               Drug   \n",
              "0             51.0                                O=C(O)CCC(=O)C(=O)O  \\\n",
              "1            187.0                               CC(=O)OCC[N+](C)(C)C   \n",
              "2            187.0                               CC(=O)OCC[N+](C)(C)C   \n",
              "3            237.0        CCN(CC)CCCC(C)Nc1c2ccc(Cl)cc2nc2ccc(OC)cc12   \n",
              "4            242.0                                  O=C([O-])c1ccccc1   \n",
              "...            ...                                                ...   \n",
              "42231  138805907.0  COc1nc2ccc([C@@](O)(c3ccc(C(F)(F)F)nc3)c3cncn3...   \n",
              "42232  138805908.0  COc1nc2ccc([C@](O)(c3ccnc(C(F)(F)F)c3)c3cncn3C...   \n",
              "42233  138805909.0  COc1nc2ccc([C@@](O)(c3ccnc(C(F)(F)F)c3)c3cncn3...   \n",
              "42234  138805910.0  COc1nc2ccc([C@](O)(c3ccc(Cl)cc3)c3cncn3C)cc2c(...   \n",
              "42235  138805911.0  COc1nc2ccc([C@@](O)(c3ccc(Cl)cc3)c3cncn3C)cc2c...   \n",
              "\n",
              "      Target_ID                                             Target        Y  \n",
              "0        Q9GZT9  MANDSGGPGGPSPSERDRQYCELCGKMENLLRCSRCRSSFYCCKEH...    900.0  \n",
              "1        P11229  MNTSAPPAVSPNITVLAPGKGPWQVAFIGITTGLLSLATVTGNLLV...  17378.0  \n",
              "2        P58154  MRRNIFCLACLWIVQACLSLDRADILYNIRQTSRPDVIPTQRDRPV...    458.0  \n",
              "3        P02752  MLRFAITLFAVITSSTCQQYGCLEGDTHKANPSPEPNMHECTLYSE...    264.0  \n",
              "4        P14920  MRVVVIGAGVIGLSTALCIHERYHSVLQPLDIKVYADRFTPLTTTD...   2200.0  \n",
              "...         ...                                                ...      ...  \n",
              "42231    P51449  MDRAPQRQHRASRELLAAKKTHTSQIEVIPCKICGDKSSGIHYGVI...      3.1  \n",
              "42232    P51449  MDRAPQRQHRASRELLAAKKTHTSQIEVIPCKICGDKSSGIHYGVI...   9300.0  \n",
              "42233    P51449  MDRAPQRQHRASRELLAAKKTHTSQIEVIPCKICGDKSSGIHYGVI...      3.5  \n",
              "42234    P51449  MDRAPQRQHRASRELLAAKKTHTSQIEVIPCKICGDKSSGIHYGVI...    850.0  \n",
              "42235    P51449  MDRAPQRQHRASRELLAAKKTHTSQIEVIPCKICGDKSSGIHYGVI...     13.0  \n",
              "\n",
              "[42236 rows x 5 columns]"
            ]
          },
          "execution_count": 2,
          "metadata": {},
          "output_type": "execute_result"
        }
      ],
      "source": [
        "#Importing BindingDB_kd dataset\n",
        "from tdc.multi_pred import DTI\n",
        "data = DTI(name = 'BindingDB_Kd')\n",
        "data.harmonize_affinities(mode = 'max_affinity') \n"
      ]
    },
    {
      "cell_type": "code",
      "execution_count": null,
      "metadata": {
        "gather": {
          "logged": 1674854784003
        },
        "jupyter": {
          "outputs_hidden": false,
          "source_hidden": false
        },
        "nteract": {
          "transient": {
            "deleting": false
          }
        },
        "id": "UtoqDyRze4kM",
        "outputId": "b3af3550-c6e2-4ae7-d29f-6e6cd65b1d57"
      },
      "outputs": [
        {
          "data": {
            "text/plain": [
              "<tdc.multi_pred.dti.DTI at 0x7f989d04a130>"
            ]
          },
          "execution_count": 3,
          "metadata": {},
          "output_type": "execute_result"
        }
      ],
      "source": [
        "data"
      ]
    },
    {
      "cell_type": "code",
      "execution_count": null,
      "metadata": {
        "gather": {
          "logged": 1674854784324
        },
        "id": "vPCvvn0Pe081"
      },
      "outputs": [],
      "source": [
        "# Split the loaded data\n",
        "split = data.get_split()"
      ]
    },
    {
      "cell_type": "code",
      "execution_count": null,
      "metadata": {
        "colab": {
          "base_uri": "https://localhost:8080/"
        },
        "gather": {
          "logged": 1674854785050
        },
        "id": "6XMc0YZyz3cH",
        "outputId": "f685577c-15f6-4902-8cb4-53d6ef486d3b"
      },
      "outputs": [
        {
          "data": {
            "text/plain": [
              "{'train':            Drug_ID                                               Drug   \n",
              " 0             51.0                                O=C(O)CCC(=O)C(=O)O  \\\n",
              " 1            187.0                               CC(=O)OCC[N+](C)(C)C   \n",
              " 2            264.0                                          CCCC(=O)O   \n",
              " 3            311.0                         O=C(O)CC(O)(CC(=O)O)C(=O)O   \n",
              " 4            525.0                                  O=C(O)CC(O)C(=O)O   \n",
              " ...            ...                                                ...   \n",
              " 29560  138805907.0  COc1nc2ccc([C@@](O)(c3ccc(C(F)(F)F)nc3)c3cncn3...   \n",
              " 29561  138805908.0  COc1nc2ccc([C@](O)(c3ccnc(C(F)(F)F)c3)c3cncn3C...   \n",
              " 29562  138805909.0  COc1nc2ccc([C@@](O)(c3ccnc(C(F)(F)F)c3)c3cncn3...   \n",
              " 29563  138805910.0  COc1nc2ccc([C@](O)(c3ccc(Cl)cc3)c3cncn3C)cc2c(...   \n",
              " 29564  138805911.0  COc1nc2ccc([C@@](O)(c3ccc(Cl)cc3)c3cncn3C)cc2c...   \n",
              " \n",
              "       Target_ID                                             Target        Y  \n",
              " 0        Q9GZT9  MANDSGGPGGPSPSERDRQYCELCGKMENLLRCSRCRSSFYCCKEH...    900.0  \n",
              " 1        P58154  MRRNIFCLACLWIVQACLSLDRADILYNIRQTSRPDVIPTQRDRPV...    458.0  \n",
              " 2        Q9Z429  MQQFTIRTRLLMLVGAMFIGFITIELMGFSALQRGVASLNTVYLDR...  92000.0  \n",
              " 3        P15474  MPRSLANAPIMILNGPNLNLLGQRQPEIYGSDTLADVEALCVKAAA...   7300.0  \n",
              " 4        Q9Z429  MQQFTIRTRLLMLVGAMFIGFITIELMGFSALQRGVASLNTVYLDR...   8500.0  \n",
              " ...         ...                                                ...      ...  \n",
              " 29560    P51449  MDRAPQRQHRASRELLAAKKTHTSQIEVIPCKICGDKSSGIHYGVI...      3.1  \n",
              " 29561    P51449  MDRAPQRQHRASRELLAAKKTHTSQIEVIPCKICGDKSSGIHYGVI...   9300.0  \n",
              " 29562    P51449  MDRAPQRQHRASRELLAAKKTHTSQIEVIPCKICGDKSSGIHYGVI...      3.5  \n",
              " 29563    P51449  MDRAPQRQHRASRELLAAKKTHTSQIEVIPCKICGDKSSGIHYGVI...    850.0  \n",
              " 29564    P51449  MDRAPQRQHRASRELLAAKKTHTSQIEVIPCKICGDKSSGIHYGVI...     13.0  \n",
              " \n",
              " [29565 rows x 5 columns],\n",
              " 'valid':          Drug_ID                                               Drug Target_ID   \n",
              " 0       644241.0  Cc1cn(-c2cc(NC(=O)c3ccc(C)c(Nc4nccc(-c5cccnc5)...    Q13470  \\\n",
              " 1     58267953.0  COc1cc2ncnc(Oc3cccc(NC(=O)Nc4ccc(OC(F)(F)F)cc4...    P15056   \n",
              " 2     90655423.0  CC(=O)N[C@H]1[C@H](O[C@@H]2[C@@H](C(=O)O)O[C@@...    P16070   \n",
              " 3     16722836.0  Cc1cnc(Nc2ccc(OCCN3CCCC3)cc2)nc1Nc1cccc(S(=O)(...    Q9H093   \n",
              " 4     10447834.0               NCCc1cnc(CCC(c2ccccc2)c2ccccc2)[nH]1    P23944   \n",
              " ...          ...                                                ...       ...   \n",
              " 4219  11712649.0  O=C(O)c1ccc(Nc2ncc3c(n2)-c2ccc(Cl)cc2C(c2c(F)c...    P53355   \n",
              " 4220   9809715.0  COC(=O)c1ccc2c(c1)NC(=O)/C2=C(\\Nc1ccc(N(C)C(=O...    Q13705   \n",
              " 4221   6918454.0          O=C(NOCC1CC1)c1ccc(F)c(F)c1Nc1ccc(I)cc1Cl    Q9BX84   \n",
              " 4222    208908.0  CS(=O)(=O)CCNCc1ccc(-c2ccc3ncnc(Nc4ccc(OCc5ccc...    Q9BUB5   \n",
              " 4223  11213558.0  COc1cc(Nc2ncc(F)c(Nc3ccc4c(n3)NC(=O)C(C)(C)O4)...    Q8NEV4   \n",
              " \n",
              "                                                  Target         Y  \n",
              " 0     MLPEAGSLWLLKLLRDIQLAQFYWPILEELNVTRPEHFDFVKPEDL...  10000.00  \n",
              " 1     MAALSGGGGGGAEPGQALFNGDMEPEAGAGAGAAASSAADPAIPEE...    375.00  \n",
              " 2     MDKFWWHAAWGLCLVPLSLAQIDLNITCRFAGVFHVEKNGRYSISR...   3400.00  \n",
              " 3     MESLVFARRSGPTPSAAELARPLAEGLIKSPKPLMKKQAVKRHHHK...     49.00  \n",
              " 4     MTFRDILSVTFEGPRSSSSTGGSGAGGGAGTVGPEGGAVGGVPGAT...   3548.13  \n",
              " ...                                                 ...       ...  \n",
              " 4219  MTVFRQENVDDYYDTGEELGSGQFAVVKKCREKSTGLQYAAKFIKK...  10000.00  \n",
              " 4220  MTAPWVALALLWGSLCAGSGRGEAETRECIYYNANWELERTNQSGL...  10000.00  \n",
              " 4221  MKEQPVLERLQSQKSWIKGVFDKRECSTIIPSSKNPHRCTPVCQVC...  10000.00  \n",
              " 4222  MVSSQKLEKPIEMGSSEPLPIADGDRRRKKKRRGRATDSLPGKFED...  10000.00  \n",
              " 4223  MFPLIGKTIIFDNFPDPSDTWEITETIGKGTYGKVFKVLNKKNGQK...  10000.00  \n",
              " \n",
              " [4224 rows x 5 columns],\n",
              " 'test':          Drug_ID                                               Drug Target_ID   \n",
              " 0     10461815.0  Cc1[nH]c(/C=C2\\C(=O)Nc3ccc(S(=O)(=O)Cc4c(Cl)cc...    Q12852  \\\n",
              " 1     16725726.0  CCn1c(-c2nonc2N)nc2c(C#CC(C)(C)O)ncc(OC[C@H]3C...    Q15746   \n",
              " 2     11485656.0  Cc1ccc(F)c(NC(=O)Nc2ccc(-c3cccc4[nH]nc(N)c34)c...    P43405   \n",
              " 3     11712649.0  O=C(O)c1ccc(Nc2ncc3c(n2)-c2ccc(Cl)cc2C(c2c(F)c...    Q8IVW4   \n",
              " 4      9813758.0                      Cc1ccc2nc(NCCN)c3ncc(C)n3c2c1    Q9H1R3   \n",
              " ...          ...                                                ...       ...   \n",
              " 8442     44259.0  CN[C@@H]1C[C@H]2O[C@@](C)([C@@H]1OC)n1c3ccccc3...    Q05655   \n",
              " 8443   9869779.0  COc1cc(Oc2ccnc3cc(OC)c(OC)cc23)ccc1NC(=O)NC(C)...    P00533   \n",
              " 8444   5330790.0   Nc1nc(Nc2ccc(S(N)(=O)=O)cc2)nn1C(=O)c1c(F)cccc1F    O75716   \n",
              " 8445  57399640.0  COc1cc2c(Oc3ccc(NC(=O)C4(C(=O)NC5=CCC(F)C=C5)C...    P57058   \n",
              " 8446  16722836.0  Cc1cnc(Nc2ccc(OCCN3CCCC3)cc2)nc1Nc1cccc(S(=O)(...    P00533   \n",
              " \n",
              "                                                  Target        Y  \n",
              " 0     MACLHETRTPSPSFGGFVSTLSEASMRKLDPDTSDCTPEKDLTPTH...    670.0  \n",
              " 1     MGDVKLVASSHISKTSLSVDPSRVDSMPLTEAPAFILPPRNLCIKE...  10000.0  \n",
              " 2     MASSGMADSANHLPFFFGNITREEAEDYLVQGGMSDGLYLLRQSRN...  10000.0  \n",
              " 3     MEMYETLGKVGEGSYGTVMKCKHKNTGQIVAIKIFYERPEQSVNKI...  10000.0  \n",
              " 4     MATENGAVELGIQNPSTDKAPKGPTGERPLAAGKDPGPPDPKKAPD...  10000.0  \n",
              " ...                                                 ...      ...  \n",
              " 8442  MAPFLRIAFNSYELGSLQAEDEANQPFCAVKMKEALSTERGKTLVQ...      1.5  \n",
              " 8443  MRPSGTAGAALLALLAALCPASRALEEKKVCQGTSNKLTQLGTFED...   2000.0  \n",
              " 8444  MGHALCVCSRGTVIIDNKRYLFIQKLGEGGFSYVDLVEGLHDGHFY...    140.0  \n",
              " 8445  MPAAAGDGLLGEPAAPGGGGGAEDAARPAAACEGSFLPAWVSGVPR...   5400.0  \n",
              " 8446  MRPSGTAGAALLALLAALCPASRALEEKKVCQGTSNKLTQLGTFED...    570.0  \n",
              " \n",
              " [8447 rows x 5 columns]}"
            ]
          },
          "execution_count": 5,
          "metadata": {},
          "output_type": "execute_result"
        }
      ],
      "source": [
        "split"
      ]
    },
    {
      "cell_type": "code",
      "execution_count": null,
      "metadata": {
        "colab": {
          "base_uri": "https://localhost:8080/",
          "height": 554
        },
        "gather": {
          "logged": 1674854785383
        },
        "id": "4z2qblpp0WoR",
        "outputId": "9af22dc3-4a7b-4fd0-ce0d-b10a997ec21b"
      },
      "outputs": [
        {
          "data": {
            "text/html": [
              "<div>\n",
              "<style scoped>\n",
              "    .dataframe tbody tr th:only-of-type {\n",
              "        vertical-align: middle;\n",
              "    }\n",
              "\n",
              "    .dataframe tbody tr th {\n",
              "        vertical-align: top;\n",
              "    }\n",
              "\n",
              "    .dataframe thead th {\n",
              "        text-align: right;\n",
              "    }\n",
              "</style>\n",
              "<table border=\"1\" class=\"dataframe\">\n",
              "  <thead>\n",
              "    <tr style=\"text-align: right;\">\n",
              "      <th></th>\n",
              "      <th>Drug_ID</th>\n",
              "      <th>Drug</th>\n",
              "      <th>Target_ID</th>\n",
              "      <th>Target</th>\n",
              "      <th>Y</th>\n",
              "    </tr>\n",
              "  </thead>\n",
              "  <tbody>\n",
              "    <tr>\n",
              "      <th>0</th>\n",
              "      <td>51.0</td>\n",
              "      <td>O=C(O)CCC(=O)C(=O)O</td>\n",
              "      <td>Q9GZT9</td>\n",
              "      <td>MANDSGGPGGPSPSERDRQYCELCGKMENLLRCSRCRSSFYCCKEH...</td>\n",
              "      <td>900.0</td>\n",
              "    </tr>\n",
              "    <tr>\n",
              "      <th>1</th>\n",
              "      <td>187.0</td>\n",
              "      <td>CC(=O)OCC[N+](C)(C)C</td>\n",
              "      <td>P58154</td>\n",
              "      <td>MRRNIFCLACLWIVQACLSLDRADILYNIRQTSRPDVIPTQRDRPV...</td>\n",
              "      <td>458.0</td>\n",
              "    </tr>\n",
              "    <tr>\n",
              "      <th>2</th>\n",
              "      <td>264.0</td>\n",
              "      <td>CCCC(=O)O</td>\n",
              "      <td>Q9Z429</td>\n",
              "      <td>MQQFTIRTRLLMLVGAMFIGFITIELMGFSALQRGVASLNTVYLDR...</td>\n",
              "      <td>92000.0</td>\n",
              "    </tr>\n",
              "    <tr>\n",
              "      <th>3</th>\n",
              "      <td>311.0</td>\n",
              "      <td>O=C(O)CC(O)(CC(=O)O)C(=O)O</td>\n",
              "      <td>P15474</td>\n",
              "      <td>MPRSLANAPIMILNGPNLNLLGQRQPEIYGSDTLADVEALCVKAAA...</td>\n",
              "      <td>7300.0</td>\n",
              "    </tr>\n",
              "    <tr>\n",
              "      <th>4</th>\n",
              "      <td>525.0</td>\n",
              "      <td>O=C(O)CC(O)C(=O)O</td>\n",
              "      <td>Q9Z429</td>\n",
              "      <td>MQQFTIRTRLLMLVGAMFIGFITIELMGFSALQRGVASLNTVYLDR...</td>\n",
              "      <td>8500.0</td>\n",
              "    </tr>\n",
              "    <tr>\n",
              "      <th>...</th>\n",
              "      <td>...</td>\n",
              "      <td>...</td>\n",
              "      <td>...</td>\n",
              "      <td>...</td>\n",
              "      <td>...</td>\n",
              "    </tr>\n",
              "    <tr>\n",
              "      <th>29560</th>\n",
              "      <td>138805907.0</td>\n",
              "      <td>COc1nc2ccc([C@@](O)(c3ccc(C(F)(F)F)nc3)c3cncn3...</td>\n",
              "      <td>P51449</td>\n",
              "      <td>MDRAPQRQHRASRELLAAKKTHTSQIEVIPCKICGDKSSGIHYGVI...</td>\n",
              "      <td>3.1</td>\n",
              "    </tr>\n",
              "    <tr>\n",
              "      <th>29561</th>\n",
              "      <td>138805908.0</td>\n",
              "      <td>COc1nc2ccc([C@](O)(c3ccnc(C(F)(F)F)c3)c3cncn3C...</td>\n",
              "      <td>P51449</td>\n",
              "      <td>MDRAPQRQHRASRELLAAKKTHTSQIEVIPCKICGDKSSGIHYGVI...</td>\n",
              "      <td>9300.0</td>\n",
              "    </tr>\n",
              "    <tr>\n",
              "      <th>29562</th>\n",
              "      <td>138805909.0</td>\n",
              "      <td>COc1nc2ccc([C@@](O)(c3ccnc(C(F)(F)F)c3)c3cncn3...</td>\n",
              "      <td>P51449</td>\n",
              "      <td>MDRAPQRQHRASRELLAAKKTHTSQIEVIPCKICGDKSSGIHYGVI...</td>\n",
              "      <td>3.5</td>\n",
              "    </tr>\n",
              "    <tr>\n",
              "      <th>29563</th>\n",
              "      <td>138805910.0</td>\n",
              "      <td>COc1nc2ccc([C@](O)(c3ccc(Cl)cc3)c3cncn3C)cc2c(...</td>\n",
              "      <td>P51449</td>\n",
              "      <td>MDRAPQRQHRASRELLAAKKTHTSQIEVIPCKICGDKSSGIHYGVI...</td>\n",
              "      <td>850.0</td>\n",
              "    </tr>\n",
              "    <tr>\n",
              "      <th>29564</th>\n",
              "      <td>138805911.0</td>\n",
              "      <td>COc1nc2ccc([C@@](O)(c3ccc(Cl)cc3)c3cncn3C)cc2c...</td>\n",
              "      <td>P51449</td>\n",
              "      <td>MDRAPQRQHRASRELLAAKKTHTSQIEVIPCKICGDKSSGIHYGVI...</td>\n",
              "      <td>13.0</td>\n",
              "    </tr>\n",
              "  </tbody>\n",
              "</table>\n",
              "<p>29565 rows × 5 columns</p>\n",
              "</div>"
            ],
            "text/plain": [
              "           Drug_ID                                               Drug   \n",
              "0             51.0                                O=C(O)CCC(=O)C(=O)O  \\\n",
              "1            187.0                               CC(=O)OCC[N+](C)(C)C   \n",
              "2            264.0                                          CCCC(=O)O   \n",
              "3            311.0                         O=C(O)CC(O)(CC(=O)O)C(=O)O   \n",
              "4            525.0                                  O=C(O)CC(O)C(=O)O   \n",
              "...            ...                                                ...   \n",
              "29560  138805907.0  COc1nc2ccc([C@@](O)(c3ccc(C(F)(F)F)nc3)c3cncn3...   \n",
              "29561  138805908.0  COc1nc2ccc([C@](O)(c3ccnc(C(F)(F)F)c3)c3cncn3C...   \n",
              "29562  138805909.0  COc1nc2ccc([C@@](O)(c3ccnc(C(F)(F)F)c3)c3cncn3...   \n",
              "29563  138805910.0  COc1nc2ccc([C@](O)(c3ccc(Cl)cc3)c3cncn3C)cc2c(...   \n",
              "29564  138805911.0  COc1nc2ccc([C@@](O)(c3ccc(Cl)cc3)c3cncn3C)cc2c...   \n",
              "\n",
              "      Target_ID                                             Target        Y  \n",
              "0        Q9GZT9  MANDSGGPGGPSPSERDRQYCELCGKMENLLRCSRCRSSFYCCKEH...    900.0  \n",
              "1        P58154  MRRNIFCLACLWIVQACLSLDRADILYNIRQTSRPDVIPTQRDRPV...    458.0  \n",
              "2        Q9Z429  MQQFTIRTRLLMLVGAMFIGFITIELMGFSALQRGVASLNTVYLDR...  92000.0  \n",
              "3        P15474  MPRSLANAPIMILNGPNLNLLGQRQPEIYGSDTLADVEALCVKAAA...   7300.0  \n",
              "4        Q9Z429  MQQFTIRTRLLMLVGAMFIGFITIELMGFSALQRGVASLNTVYLDR...   8500.0  \n",
              "...         ...                                                ...      ...  \n",
              "29560    P51449  MDRAPQRQHRASRELLAAKKTHTSQIEVIPCKICGDKSSGIHYGVI...      3.1  \n",
              "29561    P51449  MDRAPQRQHRASRELLAAKKTHTSQIEVIPCKICGDKSSGIHYGVI...   9300.0  \n",
              "29562    P51449  MDRAPQRQHRASRELLAAKKTHTSQIEVIPCKICGDKSSGIHYGVI...      3.5  \n",
              "29563    P51449  MDRAPQRQHRASRELLAAKKTHTSQIEVIPCKICGDKSSGIHYGVI...    850.0  \n",
              "29564    P51449  MDRAPQRQHRASRELLAAKKTHTSQIEVIPCKICGDKSSGIHYGVI...     13.0  \n",
              "\n",
              "[29565 rows x 5 columns]"
            ]
          },
          "execution_count": 6,
          "metadata": {},
          "output_type": "execute_result"
        }
      ],
      "source": [
        "# Train data using key \"train\"\n",
        "split[\"train\"]"
      ]
    },
    {
      "cell_type": "code",
      "execution_count": null,
      "metadata": {
        "gather": {
          "logged": 1674854785706
        },
        "id": "4c_5fmB60bGt"
      },
      "outputs": [],
      "source": [
        "#Converting each dataset into Pandas DataFrame\n",
        "import pandas as pd\n",
        "\n",
        "train_df= pd.DataFrame.from_dict(split['train'])\n",
        "validate_df= pd.DataFrame.from_dict(split['valid'])\n",
        "test_df= pd.DataFrame.from_dict(split['test'])"
      ]
    },
    {
      "cell_type": "code",
      "execution_count": null,
      "metadata": {
        "gather": {
          "logged": 1674854786020
        },
        "id": "l3SJa3Ad0iI0"
      },
      "outputs": [],
      "source": [
        "#Combining the datasets into a single one\n",
        "df = pd.concat([train_df,validate_df,test_df])"
      ]
    },
    {
      "cell_type": "code",
      "execution_count": null,
      "metadata": {
        "colab": {
          "base_uri": "https://localhost:8080/",
          "height": 505
        },
        "gather": {
          "logged": 1674854791760
        },
        "id": "kZ8Haz8v1wpT",
        "outputId": "c06cf30a-5d17-4ec9-ad1a-ea4ce3bfa16b"
      },
      "outputs": [
        {
          "data": {
            "text/html": [
              "<div>\n",
              "<style scoped>\n",
              "    .dataframe tbody tr th:only-of-type {\n",
              "        vertical-align: middle;\n",
              "    }\n",
              "\n",
              "    .dataframe tbody tr th {\n",
              "        vertical-align: top;\n",
              "    }\n",
              "\n",
              "    .dataframe thead th {\n",
              "        text-align: right;\n",
              "    }\n",
              "</style>\n",
              "<table border=\"1\" class=\"dataframe\">\n",
              "  <thead>\n",
              "    <tr style=\"text-align: right;\">\n",
              "      <th></th>\n",
              "      <th>Drug_ID</th>\n",
              "      <th>Drug</th>\n",
              "      <th>Target_ID</th>\n",
              "      <th>Target</th>\n",
              "      <th>Y</th>\n",
              "    </tr>\n",
              "  </thead>\n",
              "  <tbody>\n",
              "    <tr>\n",
              "      <th>0</th>\n",
              "      <td>51.0</td>\n",
              "      <td>O=C(O)CCC(=O)C(=O)O</td>\n",
              "      <td>Q9GZT9</td>\n",
              "      <td>MANDSGGPGGPSPSERDRQYCELCGKMENLLRCSRCRSSFYCCKEH...</td>\n",
              "      <td>900.0</td>\n",
              "    </tr>\n",
              "    <tr>\n",
              "      <th>1</th>\n",
              "      <td>187.0</td>\n",
              "      <td>CC(=O)OCC[N+](C)(C)C</td>\n",
              "      <td>P58154</td>\n",
              "      <td>MRRNIFCLACLWIVQACLSLDRADILYNIRQTSRPDVIPTQRDRPV...</td>\n",
              "      <td>458.0</td>\n",
              "    </tr>\n",
              "    <tr>\n",
              "      <th>2</th>\n",
              "      <td>264.0</td>\n",
              "      <td>CCCC(=O)O</td>\n",
              "      <td>Q9Z429</td>\n",
              "      <td>MQQFTIRTRLLMLVGAMFIGFITIELMGFSALQRGVASLNTVYLDR...</td>\n",
              "      <td>92000.0</td>\n",
              "    </tr>\n",
              "    <tr>\n",
              "      <th>3</th>\n",
              "      <td>311.0</td>\n",
              "      <td>O=C(O)CC(O)(CC(=O)O)C(=O)O</td>\n",
              "      <td>P15474</td>\n",
              "      <td>MPRSLANAPIMILNGPNLNLLGQRQPEIYGSDTLADVEALCVKAAA...</td>\n",
              "      <td>7300.0</td>\n",
              "    </tr>\n",
              "    <tr>\n",
              "      <th>4</th>\n",
              "      <td>525.0</td>\n",
              "      <td>O=C(O)CC(O)C(=O)O</td>\n",
              "      <td>Q9Z429</td>\n",
              "      <td>MQQFTIRTRLLMLVGAMFIGFITIELMGFSALQRGVASLNTVYLDR...</td>\n",
              "      <td>8500.0</td>\n",
              "    </tr>\n",
              "    <tr>\n",
              "      <th>...</th>\n",
              "      <td>...</td>\n",
              "      <td>...</td>\n",
              "      <td>...</td>\n",
              "      <td>...</td>\n",
              "      <td>...</td>\n",
              "    </tr>\n",
              "    <tr>\n",
              "      <th>8442</th>\n",
              "      <td>44259.0</td>\n",
              "      <td>CN[C@@H]1C[C@H]2O[C@@](C)([C@@H]1OC)n1c3ccccc3...</td>\n",
              "      <td>Q05655</td>\n",
              "      <td>MAPFLRIAFNSYELGSLQAEDEANQPFCAVKMKEALSTERGKTLVQ...</td>\n",
              "      <td>1.5</td>\n",
              "    </tr>\n",
              "    <tr>\n",
              "      <th>8443</th>\n",
              "      <td>9869779.0</td>\n",
              "      <td>COc1cc(Oc2ccnc3cc(OC)c(OC)cc23)ccc1NC(=O)NC(C)...</td>\n",
              "      <td>P00533</td>\n",
              "      <td>MRPSGTAGAALLALLAALCPASRALEEKKVCQGTSNKLTQLGTFED...</td>\n",
              "      <td>2000.0</td>\n",
              "    </tr>\n",
              "    <tr>\n",
              "      <th>8444</th>\n",
              "      <td>5330790.0</td>\n",
              "      <td>Nc1nc(Nc2ccc(S(N)(=O)=O)cc2)nn1C(=O)c1c(F)cccc1F</td>\n",
              "      <td>O75716</td>\n",
              "      <td>MGHALCVCSRGTVIIDNKRYLFIQKLGEGGFSYVDLVEGLHDGHFY...</td>\n",
              "      <td>140.0</td>\n",
              "    </tr>\n",
              "    <tr>\n",
              "      <th>8445</th>\n",
              "      <td>57399640.0</td>\n",
              "      <td>COc1cc2c(Oc3ccc(NC(=O)C4(C(=O)NC5=CCC(F)C=C5)C...</td>\n",
              "      <td>P57058</td>\n",
              "      <td>MPAAAGDGLLGEPAAPGGGGGAEDAARPAAACEGSFLPAWVSGVPR...</td>\n",
              "      <td>5400.0</td>\n",
              "    </tr>\n",
              "    <tr>\n",
              "      <th>8446</th>\n",
              "      <td>16722836.0</td>\n",
              "      <td>Cc1cnc(Nc2ccc(OCCN3CCCC3)cc2)nc1Nc1cccc(S(=O)(...</td>\n",
              "      <td>P00533</td>\n",
              "      <td>MRPSGTAGAALLALLAALCPASRALEEKKVCQGTSNKLTQLGTFED...</td>\n",
              "      <td>570.0</td>\n",
              "    </tr>\n",
              "  </tbody>\n",
              "</table>\n",
              "<p>42236 rows × 5 columns</p>\n",
              "</div>"
            ],
            "text/plain": [
              "         Drug_ID                                               Drug Target_ID   \n",
              "0           51.0                                O=C(O)CCC(=O)C(=O)O    Q9GZT9  \\\n",
              "1          187.0                               CC(=O)OCC[N+](C)(C)C    P58154   \n",
              "2          264.0                                          CCCC(=O)O    Q9Z429   \n",
              "3          311.0                         O=C(O)CC(O)(CC(=O)O)C(=O)O    P15474   \n",
              "4          525.0                                  O=C(O)CC(O)C(=O)O    Q9Z429   \n",
              "...          ...                                                ...       ...   \n",
              "8442     44259.0  CN[C@@H]1C[C@H]2O[C@@](C)([C@@H]1OC)n1c3ccccc3...    Q05655   \n",
              "8443   9869779.0  COc1cc(Oc2ccnc3cc(OC)c(OC)cc23)ccc1NC(=O)NC(C)...    P00533   \n",
              "8444   5330790.0   Nc1nc(Nc2ccc(S(N)(=O)=O)cc2)nn1C(=O)c1c(F)cccc1F    O75716   \n",
              "8445  57399640.0  COc1cc2c(Oc3ccc(NC(=O)C4(C(=O)NC5=CCC(F)C=C5)C...    P57058   \n",
              "8446  16722836.0  Cc1cnc(Nc2ccc(OCCN3CCCC3)cc2)nc1Nc1cccc(S(=O)(...    P00533   \n",
              "\n",
              "                                                 Target        Y  \n",
              "0     MANDSGGPGGPSPSERDRQYCELCGKMENLLRCSRCRSSFYCCKEH...    900.0  \n",
              "1     MRRNIFCLACLWIVQACLSLDRADILYNIRQTSRPDVIPTQRDRPV...    458.0  \n",
              "2     MQQFTIRTRLLMLVGAMFIGFITIELMGFSALQRGVASLNTVYLDR...  92000.0  \n",
              "3     MPRSLANAPIMILNGPNLNLLGQRQPEIYGSDTLADVEALCVKAAA...   7300.0  \n",
              "4     MQQFTIRTRLLMLVGAMFIGFITIELMGFSALQRGVASLNTVYLDR...   8500.0  \n",
              "...                                                 ...      ...  \n",
              "8442  MAPFLRIAFNSYELGSLQAEDEANQPFCAVKMKEALSTERGKTLVQ...      1.5  \n",
              "8443  MRPSGTAGAALLALLAALCPASRALEEKKVCQGTSNKLTQLGTFED...   2000.0  \n",
              "8444  MGHALCVCSRGTVIIDNKRYLFIQKLGEGGFSYVDLVEGLHDGHFY...    140.0  \n",
              "8445  MPAAAGDGLLGEPAAPGGGGGAEDAARPAAACEGSFLPAWVSGVPR...   5400.0  \n",
              "8446  MRPSGTAGAALLALLAALCPASRALEEKKVCQGTSNKLTQLGTFED...    570.0  \n",
              "\n",
              "[42236 rows x 5 columns]"
            ]
          },
          "execution_count": 9,
          "metadata": {},
          "output_type": "execute_result"
        }
      ],
      "source": [
        "df"
      ]
    },
    {
      "cell_type": "code",
      "execution_count": null,
      "metadata": {
        "gather": {
          "logged": 1674854810901
        },
        "id": "Tx45JOptDUsF"
      },
      "outputs": [],
      "source": [
        "#Saving DataFrame as csv file\n",
        "df.to_csv('BindingDB.csv')"
      ]
    },
    {
      "cell_type": "markdown",
      "source": [
        "## **Data Preprocessing**"
      ],
      "metadata": {
        "id": "O9JIxn_voV5x"
      }
    },
    {
      "cell_type": "code",
      "execution_count": null,
      "metadata": {
        "gather": {
          "logged": 1674854811256
        },
        "id": "a3rXcjBu1yC7"
      },
      "outputs": [],
      "source": [
        "#Dropping arrays containing null values\n",
        "df = df.dropna()"
      ]
    },
    {
      "cell_type": "code",
      "execution_count": null,
      "metadata": {
        "colab": {
          "base_uri": "https://localhost:8080/"
        },
        "gather": {
          "logged": 1674854811580
        },
        "id": "7ZEA8LNB18UH",
        "outputId": "f85d2493-18de-457d-a352-ba531b4603f6"
      },
      "outputs": [
        {
          "data": {
            "text/plain": [
              "Drug_ID      0\n",
              "Drug         0\n",
              "Target_ID    0\n",
              "Target       0\n",
              "Y            0\n",
              "dtype: int64"
            ]
          },
          "execution_count": 12,
          "metadata": {},
          "output_type": "execute_result"
        }
      ],
      "source": [
        "# Checking null values\n",
        "df.isnull().sum()"
      ]
    },
    {
      "cell_type": "code",
      "execution_count": null,
      "metadata": {
        "colab": {
          "base_uri": "https://localhost:8080/"
        },
        "gather": {
          "logged": 1674854812085
        },
        "id": "olYJqgbC1_bY",
        "outputId": "c4b7eae9-ed6f-4d45-c33f-632ae6bf5252"
      },
      "outputs": [
        {
          "data": {
            "text/plain": [
              "(42236, 5)"
            ]
          },
          "execution_count": 13,
          "metadata": {},
          "output_type": "execute_result"
        }
      ],
      "source": [
        "# Shape of total dataframe\n",
        "df.shape"
      ]
    },
    {
      "cell_type": "code",
      "execution_count": null,
      "metadata": {
        "gather": {
          "logged": 1674854815114
        },
        "id": "wEBVoZuZmVaz"
      },
      "outputs": [],
      "source": [
        "#Removing Outliers\n",
        "df = df[(df['Y'] >= 0.001) & (df['Y'] <= 1000000)]"
      ]
    },
    {
      "cell_type": "code",
      "execution_count": null,
      "metadata": {
        "colab": {
          "base_uri": "https://localhost:8080/"
        },
        "gather": {
          "logged": 1674854818254
        },
        "id": "w1BQ5iKZnl0v",
        "outputId": "a4de4b1c-103b-40a0-cfb5-1571190cf38b"
      },
      "outputs": [
        {
          "data": {
            "text/plain": [
              "(41879, 5)"
            ]
          },
          "execution_count": 22,
          "metadata": {},
          "output_type": "execute_result"
        }
      ],
      "source": [
        "#Shape of dataframe after removing outliers\n",
        "df.shape"
      ]
    },
    {
      "cell_type": "code",
      "execution_count": null,
      "metadata": {
        "gather": {
          "logged": 1674854818817
        },
        "id": "gXLvk2Uz9v90"
      },
      "outputs": [],
      "source": [
        "#Resetting index values\n",
        "df.reset_index(drop = True, inplace = True)"
      ]
    },
    {
      "cell_type": "code",
      "execution_count": null,
      "metadata": {
        "gather": {
          "logged": 1674854819387
        },
        "id": "keUmxWMhOMCu"
      },
      "outputs": [],
      "source": [
        "#Scaling output variable 'Y' using MinMaxScaler\n",
        "from sklearn.preprocessing import MinMaxScaler\n",
        "df['Y'] = MinMaxScaler(feature_range=(0, 100)).fit(df[['Y']]).transform(df[['Y']])\n"
      ]
    },
    {
      "cell_type": "code",
      "execution_count": null,
      "metadata": {
        "colab": {
          "base_uri": "https://localhost:8080/",
          "height": 505
        },
        "gather": {
          "logged": 1674854819992
        },
        "id": "RlD_ycRuiHAJ",
        "outputId": "e183c429-c6fd-4fa4-dda4-703fcddc3645"
      },
      "outputs": [
        {
          "data": {
            "text/html": [
              "<div>\n",
              "<style scoped>\n",
              "    .dataframe tbody tr th:only-of-type {\n",
              "        vertical-align: middle;\n",
              "    }\n",
              "\n",
              "    .dataframe tbody tr th {\n",
              "        vertical-align: top;\n",
              "    }\n",
              "\n",
              "    .dataframe thead th {\n",
              "        text-align: right;\n",
              "    }\n",
              "</style>\n",
              "<table border=\"1\" class=\"dataframe\">\n",
              "  <thead>\n",
              "    <tr style=\"text-align: right;\">\n",
              "      <th></th>\n",
              "      <th>Drug_ID</th>\n",
              "      <th>Drug</th>\n",
              "      <th>Target_ID</th>\n",
              "      <th>Target</th>\n",
              "      <th>Y</th>\n",
              "    </tr>\n",
              "  </thead>\n",
              "  <tbody>\n",
              "    <tr>\n",
              "      <th>0</th>\n",
              "      <td>51.0</td>\n",
              "      <td>O=C(O)CCC(=O)C(=O)O</td>\n",
              "      <td>Q9GZT9</td>\n",
              "      <td>MANDSGGPGGPSPSERDRQYCELCGKMENLLRCSRCRSSFYCCKEH...</td>\n",
              "      <td>0.09000</td>\n",
              "    </tr>\n",
              "    <tr>\n",
              "      <th>1</th>\n",
              "      <td>187.0</td>\n",
              "      <td>CC(=O)OCC[N+](C)(C)C</td>\n",
              "      <td>P58154</td>\n",
              "      <td>MRRNIFCLACLWIVQACLSLDRADILYNIRQTSRPDVIPTQRDRPV...</td>\n",
              "      <td>0.04580</td>\n",
              "    </tr>\n",
              "    <tr>\n",
              "      <th>2</th>\n",
              "      <td>264.0</td>\n",
              "      <td>CCCC(=O)O</td>\n",
              "      <td>Q9Z429</td>\n",
              "      <td>MQQFTIRTRLLMLVGAMFIGFITIELMGFSALQRGVASLNTVYLDR...</td>\n",
              "      <td>9.20000</td>\n",
              "    </tr>\n",
              "    <tr>\n",
              "      <th>3</th>\n",
              "      <td>311.0</td>\n",
              "      <td>O=C(O)CC(O)(CC(=O)O)C(=O)O</td>\n",
              "      <td>P15474</td>\n",
              "      <td>MPRSLANAPIMILNGPNLNLLGQRQPEIYGSDTLADVEALCVKAAA...</td>\n",
              "      <td>0.73000</td>\n",
              "    </tr>\n",
              "    <tr>\n",
              "      <th>4</th>\n",
              "      <td>525.0</td>\n",
              "      <td>O=C(O)CC(O)C(=O)O</td>\n",
              "      <td>Q9Z429</td>\n",
              "      <td>MQQFTIRTRLLMLVGAMFIGFITIELMGFSALQRGVASLNTVYLDR...</td>\n",
              "      <td>0.85000</td>\n",
              "    </tr>\n",
              "    <tr>\n",
              "      <th>...</th>\n",
              "      <td>...</td>\n",
              "      <td>...</td>\n",
              "      <td>...</td>\n",
              "      <td>...</td>\n",
              "      <td>...</td>\n",
              "    </tr>\n",
              "    <tr>\n",
              "      <th>41874</th>\n",
              "      <td>44259.0</td>\n",
              "      <td>CN[C@@H]1C[C@H]2O[C@@](C)([C@@H]1OC)n1c3ccccc3...</td>\n",
              "      <td>Q05655</td>\n",
              "      <td>MAPFLRIAFNSYELGSLQAEDEANQPFCAVKMKEALSTERGKTLVQ...</td>\n",
              "      <td>0.00015</td>\n",
              "    </tr>\n",
              "    <tr>\n",
              "      <th>41875</th>\n",
              "      <td>9869779.0</td>\n",
              "      <td>COc1cc(Oc2ccnc3cc(OC)c(OC)cc23)ccc1NC(=O)NC(C)...</td>\n",
              "      <td>P00533</td>\n",
              "      <td>MRPSGTAGAALLALLAALCPASRALEEKKVCQGTSNKLTQLGTFED...</td>\n",
              "      <td>0.20000</td>\n",
              "    </tr>\n",
              "    <tr>\n",
              "      <th>41876</th>\n",
              "      <td>5330790.0</td>\n",
              "      <td>Nc1nc(Nc2ccc(S(N)(=O)=O)cc2)nn1C(=O)c1c(F)cccc1F</td>\n",
              "      <td>O75716</td>\n",
              "      <td>MGHALCVCSRGTVIIDNKRYLFIQKLGEGGFSYVDLVEGLHDGHFY...</td>\n",
              "      <td>0.01400</td>\n",
              "    </tr>\n",
              "    <tr>\n",
              "      <th>41877</th>\n",
              "      <td>57399640.0</td>\n",
              "      <td>COc1cc2c(Oc3ccc(NC(=O)C4(C(=O)NC5=CCC(F)C=C5)C...</td>\n",
              "      <td>P57058</td>\n",
              "      <td>MPAAAGDGLLGEPAAPGGGGGAEDAARPAAACEGSFLPAWVSGVPR...</td>\n",
              "      <td>0.54000</td>\n",
              "    </tr>\n",
              "    <tr>\n",
              "      <th>41878</th>\n",
              "      <td>16722836.0</td>\n",
              "      <td>Cc1cnc(Nc2ccc(OCCN3CCCC3)cc2)nc1Nc1cccc(S(=O)(...</td>\n",
              "      <td>P00533</td>\n",
              "      <td>MRPSGTAGAALLALLAALCPASRALEEKKVCQGTSNKLTQLGTFED...</td>\n",
              "      <td>0.05700</td>\n",
              "    </tr>\n",
              "  </tbody>\n",
              "</table>\n",
              "<p>41879 rows × 5 columns</p>\n",
              "</div>"
            ],
            "text/plain": [
              "          Drug_ID                                               Drug   \n",
              "0            51.0                                O=C(O)CCC(=O)C(=O)O  \\\n",
              "1           187.0                               CC(=O)OCC[N+](C)(C)C   \n",
              "2           264.0                                          CCCC(=O)O   \n",
              "3           311.0                         O=C(O)CC(O)(CC(=O)O)C(=O)O   \n",
              "4           525.0                                  O=C(O)CC(O)C(=O)O   \n",
              "...           ...                                                ...   \n",
              "41874     44259.0  CN[C@@H]1C[C@H]2O[C@@](C)([C@@H]1OC)n1c3ccccc3...   \n",
              "41875   9869779.0  COc1cc(Oc2ccnc3cc(OC)c(OC)cc23)ccc1NC(=O)NC(C)...   \n",
              "41876   5330790.0   Nc1nc(Nc2ccc(S(N)(=O)=O)cc2)nn1C(=O)c1c(F)cccc1F   \n",
              "41877  57399640.0  COc1cc2c(Oc3ccc(NC(=O)C4(C(=O)NC5=CCC(F)C=C5)C...   \n",
              "41878  16722836.0  Cc1cnc(Nc2ccc(OCCN3CCCC3)cc2)nc1Nc1cccc(S(=O)(...   \n",
              "\n",
              "      Target_ID                                             Target        Y  \n",
              "0        Q9GZT9  MANDSGGPGGPSPSERDRQYCELCGKMENLLRCSRCRSSFYCCKEH...  0.09000  \n",
              "1        P58154  MRRNIFCLACLWIVQACLSLDRADILYNIRQTSRPDVIPTQRDRPV...  0.04580  \n",
              "2        Q9Z429  MQQFTIRTRLLMLVGAMFIGFITIELMGFSALQRGVASLNTVYLDR...  9.20000  \n",
              "3        P15474  MPRSLANAPIMILNGPNLNLLGQRQPEIYGSDTLADVEALCVKAAA...  0.73000  \n",
              "4        Q9Z429  MQQFTIRTRLLMLVGAMFIGFITIELMGFSALQRGVASLNTVYLDR...  0.85000  \n",
              "...         ...                                                ...      ...  \n",
              "41874    Q05655  MAPFLRIAFNSYELGSLQAEDEANQPFCAVKMKEALSTERGKTLVQ...  0.00015  \n",
              "41875    P00533  MRPSGTAGAALLALLAALCPASRALEEKKVCQGTSNKLTQLGTFED...  0.20000  \n",
              "41876    O75716  MGHALCVCSRGTVIIDNKRYLFIQKLGEGGFSYVDLVEGLHDGHFY...  0.01400  \n",
              "41877    P57058  MPAAAGDGLLGEPAAPGGGGGAEDAARPAAACEGSFLPAWVSGVPR...  0.54000  \n",
              "41878    P00533  MRPSGTAGAALLALLAALCPASRALEEKKVCQGTSNKLTQLGTFED...  0.05700  \n",
              "\n",
              "[41879 rows x 5 columns]"
            ]
          },
          "execution_count": 25,
          "metadata": {},
          "output_type": "execute_result"
        }
      ],
      "source": [
        "df"
      ]
    },
    {
      "cell_type": "markdown",
      "metadata": {
        "id": "B5yYqjGasBl7"
      },
      "source": [
        "# **Exploratory** **Data** **Analysis**"
      ]
    },
    {
      "cell_type": "code",
      "execution_count": null,
      "metadata": {
        "colab": {
          "base_uri": "https://localhost:8080/"
        },
        "gather": {
          "logged": 1674854821722
        },
        "id": "rum1ZiVfsSk9",
        "outputId": "79eb1524-f496-4034-a262-e97923b28f04"
      },
      "outputs": [
        {
          "data": {
            "text/plain": [
              "(9644,)"
            ]
          },
          "execution_count": 28,
          "metadata": {},
          "output_type": "execute_result"
        }
      ],
      "source": [
        "#Counting unique Drugs\n",
        "df[\"Drug_ID\"].unique().shape"
      ]
    },
    {
      "cell_type": "markdown",
      "metadata": {
        "id": "1SVRDuhgs49C"
      },
      "source": [
        "There are 9644 unique drug samples."
      ]
    },
    {
      "cell_type": "code",
      "execution_count": null,
      "metadata": {
        "colab": {
          "base_uri": "https://localhost:8080/"
        },
        "gather": {
          "logged": 1674854822230
        },
        "id": "oZFzR91aseI-",
        "outputId": "e71bd42f-60a7-44d4-f116-f76e836a95fa"
      },
      "outputs": [
        {
          "name": "stdout",
          "output_type": "stream",
          "text": [
            "['Q9GZT9' 'P58154' 'Q9Z429' ... 'P9WNS3' 'P26637' 'Q8R4D5']\n"
          ]
        }
      ],
      "source": [
        "#Counting Unique protein target\n",
        "print(df[\"Target_ID\"].unique())"
      ]
    },
    {
      "cell_type": "code",
      "execution_count": null,
      "metadata": {
        "colab": {
          "base_uri": "https://localhost:8080/"
        },
        "gather": {
          "logged": 1674854822761
        },
        "id": "BYWYycKRssnj",
        "outputId": "5850118e-b842-4e3b-b119-dd75651ad816"
      },
      "outputs": [
        {
          "data": {
            "text/plain": [
              "(1082,)"
            ]
          },
          "execution_count": 30,
          "metadata": {},
          "output_type": "execute_result"
        }
      ],
      "source": [
        "df[\"Target_ID\"].unique().shape"
      ]
    },
    {
      "cell_type": "markdown",
      "metadata": {
        "id": "9NHJTK79tGcF"
      },
      "source": [
        "There are 1082 unique drug samples."
      ]
    },
    {
      "cell_type": "code",
      "execution_count": null,
      "metadata": {
        "gather": {
          "logged": 1674854827190
        },
        "jupyter": {
          "outputs_hidden": false,
          "source_hidden": false
        },
        "nteract": {
          "transient": {
            "deleting": false
          }
        },
        "id": "GV1YRHu5e4kU",
        "outputId": "45f5ec15-b5fa-4f87-b163-92de09ac0ae6"
      },
      "outputs": [
        {
          "name": "stdout",
          "output_type": "stream",
          "text": [
            "Collecting rdkit\n",
            "  Downloading rdkit-2023.3.1-cp38-cp38-manylinux_2_17_x86_64.manylinux2014_x86_64.whl (29.7 MB)\n",
            "\u001b[2K     \u001b[90m━━━━━━━━━━━━━━━━━━━━━━━━━━━━━━━━━━━━━━━━\u001b[0m \u001b[32m29.7/29.7 MB\u001b[0m \u001b[31m15.9 MB/s\u001b[0m eta \u001b[36m0:00:00\u001b[0m00:01\u001b[0m00:01\u001b[0m\n",
            "\u001b[?25hRequirement already satisfied: numpy in /anaconda/envs/jupyter_env/lib/python3.8/site-packages (from rdkit) (1.24.2)\n",
            "Requirement already satisfied: Pillow in /anaconda/envs/jupyter_env/lib/python3.8/site-packages (from rdkit) (9.5.0)\n",
            "Installing collected packages: rdkit\n",
            "Successfully installed rdkit-2023.3.1\n",
            "Note: you may need to restart the kernel to use updated packages.\n"
          ]
        }
      ],
      "source": [
        "pip install rdkit"
      ]
    },
    {
      "cell_type": "code",
      "execution_count": null,
      "metadata": {
        "gather": {
          "logged": 1674854837670
        },
        "jupyter": {
          "outputs_hidden": false,
          "source_hidden": false
        },
        "nteract": {
          "transient": {
            "deleting": false
          }
        },
        "id": "KhSy2CrPe4kV"
      },
      "outputs": [],
      "source": [
        "#Generating the Molecular Structure\n",
        "from  rdkit.Chem import PandasTools\n",
        "PandasTools.AddMoleculeColumnToFrame(df, smilesCol = 'Drug', molCol = 'Structure')"
      ]
    },
    {
      "cell_type": "code",
      "execution_count": null,
      "metadata": {
        "gather": {
          "logged": 1674854838134
        },
        "jupyter": {
          "outputs_hidden": false,
          "source_hidden": false
        },
        "nteract": {
          "transient": {
            "deleting": false
          }
        },
        "id": "feyE4RPxe4kV",
        "outputId": "b27345f4-f3aa-473a-d281-851454d9fe2d"
      },
      "outputs": [
        {
          "data": {
            "text/html": [
              "<div>\n",
              "<style scoped>\n",
              "    .dataframe tbody tr th:only-of-type {\n",
              "        vertical-align: middle;\n",
              "    }\n",
              "\n",
              "    .dataframe tbody tr th {\n",
              "        vertical-align: top;\n",
              "    }\n",
              "\n",
              "    .dataframe thead th {\n",
              "        text-align: right;\n",
              "    }\n",
              "</style>\n",
              "<table border=\"1\" class=\"dataframe\">\n",
              "  <thead>\n",
              "    <tr style=\"text-align: right;\">\n",
              "      <th></th>\n",
              "      <th>Drug_ID</th>\n",
              "      <th>Drug</th>\n",
              "      <th>Target_ID</th>\n",
              "      <th>Target</th>\n",
              "      <th>Y</th>\n",
              "      <th>Structure</th>\n",
              "    </tr>\n",
              "  </thead>\n",
              "  <tbody>\n",
              "    <tr>\n",
              "      <th>0</th>\n",
              "      <td>51.0</td>\n",
              "      <td>O=C(O)CCC(=O)C(=O)O</td>\n",
              "      <td>Q9GZT9</td>\n",
              "      <td>MANDSGGPGGPSPSERDRQYCELCGKMENLLRCSRCRSSFYCCKEH...</td>\n",
              "      <td>0.09000</td>\n",
              "      <td style=\"text-align: center;\"><div style=\"width: 200px; height: 200px\" data-content=\"rdkit/molecule\"><img src=\"data:image/png;base64,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\" alt=\"Mol\"/></div></td>\n",
              "    </tr>\n",
              "    <tr>\n",
              "      <th>1</th>\n",
              "      <td>187.0</td>\n",
              "      <td>CC(=O)OCC[N+](C)(C)C</td>\n",
              "      <td>P58154</td>\n",
              "      <td>MRRNIFCLACLWIVQACLSLDRADILYNIRQTSRPDVIPTQRDRPV...</td>\n",
              "      <td>0.04580</td>\n",
              "      <td style=\"text-align: center;\"><div style=\"width: 200px; height: 200px\" data-content=\"rdkit/molecule\"><img src=\"data:image/png;base64,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\" alt=\"Mol\"/></div></td>\n",
              "    </tr>\n",
              "    <tr>\n",
              "      <th>2</th>\n",
              "      <td>264.0</td>\n",
              "      <td>CCCC(=O)O</td>\n",
              "      <td>Q9Z429</td>\n",
              "      <td>MQQFTIRTRLLMLVGAMFIGFITIELMGFSALQRGVASLNTVYLDR...</td>\n",
              "      <td>9.20000</td>\n",
              "      <td style=\"text-align: center;\"><div style=\"width: 200px; height: 200px\" data-content=\"rdkit/molecule\"><img src=\"data:image/png;base64,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\" alt=\"Mol\"/></div></td>\n",
              "    </tr>\n",
              "    <tr>\n",
              "      <th>3</th>\n",
              "      <td>311.0</td>\n",
              "      <td>O=C(O)CC(O)(CC(=O)O)C(=O)O</td>\n",
              "      <td>P15474</td>\n",
              "      <td>MPRSLANAPIMILNGPNLNLLGQRQPEIYGSDTLADVEALCVKAAA...</td>\n",
              "      <td>0.73000</td>\n",
              "      <td style=\"text-align: center;\"><div style=\"width: 200px; height: 200px\" data-content=\"rdkit/molecule\"><img src=\"data:image/png;base64,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\" alt=\"Mol\"/></div></td>\n",
              "    </tr>\n",
              "    <tr>\n",
              "      <th>4</th>\n",
              "      <td>525.0</td>\n",
              "      <td>O=C(O)CC(O)C(=O)O</td>\n",
              "      <td>Q9Z429</td>\n",
              "      <td>MQQFTIRTRLLMLVGAMFIGFITIELMGFSALQRGVASLNTVYLDR...</td>\n",
              "      <td>0.85000</td>\n",
              "      <td style=\"text-align: center;\"><div style=\"width: 200px; height: 200px\" data-content=\"rdkit/molecule\"><img src=\"data:image/png;base64,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\" alt=\"Mol\"/></div></td>\n",
              "    </tr>\n",
              "    <tr>\n",
              "      <th>...</th>\n",
              "      <td>...</td>\n",
              "      <td>...</td>\n",
              "      <td>...</td>\n",
              "      <td>...</td>\n",
              "      <td>...</td>\n",
              "      <td>...</td>\n",
              "    </tr>\n",
              "    <tr>\n",
              "      <th>41874</th>\n",
              "      <td>44259.0</td>\n",
              "      <td>CN[C@@H]1C[C@H]2O[C@@](C)([C@@H]1OC)n1c3ccccc3...</td>\n",
              "      <td>Q05655</td>\n",
              "      <td>MAPFLRIAFNSYELGSLQAEDEANQPFCAVKMKEALSTERGKTLVQ...</td>\n",
              "      <td>0.00015</td>\n",
              "      <td style=\"text-align: center;\"><div style=\"width: 200px; height: 200px\" data-content=\"rdkit/molecule\"><img src=\"data:image/png;base64,iVBORw0KGgoAAAANSUhEUgAAAMgAAADICAIAAAAiOjnJAAAABmJLR0QA/wD/AP+gvaeTAAAgAElEQVR4nO2deVgT1/rH34QlyCYIssmOCyhaN3BBxSViVbTeVtSqqXpr49q43CLW2sbeWm+utTX1p7a0LkV7rYJVG607rq0LIqIIsiMgUNm3ECAk7++PgykFBJLMJGDn8/j4DMnMe84k35xz5izfw0JEYGCgGra+M8DwasIIi4EWGGEx0AIjLAZaYITFQAuMsBhogREWAy0wwmKgBUZYDLTACIuBFhhhMdACIywGWmCExUALjLAYaIERFgMtMMJioAVGWAy0wAiLgRYYYVFPTEzMN9988+zZM31nRJ8wwqISRPy///u/kSNHrly50svLa82aNbm5ufrOlJ5ABorIz88PCgoinyqHwyEHxsbGS5YsSUxM1HfudA0jLGo4efKkra0tANja2p46dQoRHzx4wOPxDA0NAYDFYnG5XIlEou9s6g5GWNpSU1MjEAhI+cTlcvPy8hCxqqoqKipKoVBkZmYKBAJTU1NywtChQyMiIhoaGvSda9phhKUVMTExffv2BQATExORSKRQKMjrO3fuBAAPDw+xWCyVSouKioRCISnSAMDT01MsFtfU1Og387TCCEtDFAqFWCw2NjYGgAEDBsTHxzd998iRI15eXkRGdnZ2n332WUlJSW1tbUREBBEieV0oFJaUlOjrFmiFEZYmPH36dNy4caTxJBAIamtrW56jUCgkEsnIkSOJjMzMzPh8fmpqKnnd39+fvG5ubi4QCLKzs3V/F7TCCEttIiMjra2tAcDe3v7s2bPtnn/z5s3g4GAWiwUAbDY7ODj47t27zV43MjIKCQm5d+8e/dnXEYyw1KC8vHzhwoWkpHnzzTeLi4s7fu2jR494PJ6RkRG5PCAgQCKRKJXKuLi4t99+W/XwGBgYuGvXLvpuQWcwwuoot27d8vT0BABTU1OxWKxZkIKCAqFQaGVlReT12muvRUREyOXyrKwsgUBgZmZGXj969Ci1mdc9jLDaRy6XC4VCAwMDAPD3909NTdUyYEVFhVgs7tWrF5GRu7u7WCyurq4uLi62t7cHgMmTJ1OScz3CCKsdEhMThw4dCgCGhoZhYWH19fVURZbJZOHh4X369CHyCgsLQ8Rvv/0WAJYuXUpVKvqCEVZb7Nixg81mk56nW7du0ZGEQqH4+eefx4wZQx4MT506BQDBwcF0pKVLGGG1hZOTEwAMGjSorKxMNyneuXMHAPz8/HSTHH0wsxvaolu3bgDw6aefWllZNTQ0VFZW0p0iaWP98ccfdCdEN4yw2mLIkCEAUFdX9+uvvxobG7/zzjt0p+jg4AAAz58/xy5u4ckIqy1UX7O1tTUiPn/+nO4UTUxMunfvXl9fX1ZWRndatMIIqy1IxfT8+XOiMN3UUCo16yAt+mCE1RaqFo8umz66FDF9MMJqC1XhYWZmZm5uXltbW1FRQXeir0b7nRFWWzQtPHRWkDBV4atP08JDZ9+3qmFHd0K0wgirLezt7VksVmFhoVKp1FkNxbSxXn04HI6VlZVcLi8tLdVxicUI6xVHpSed1VBMG+tvgapi0lkNxZRYfwt035Vlb2/PZrNJw47utOiDEVY7qComndVQRkZG1tbWCoWiuLiY7rTogxFWO6iaVrrvfO/SzSxGWO2g0pODgwOLxaJv3kF9fT2ZjAWvRI8DI6x2UH3HHA6ne/fupOuB8lSSk5NHjRo1adKklJQUAOjRowcAkOMuCiOsdmhaK9FRQyHinj17hg4dGhcX5+joWFNTI5PJLly4AAA3btygMCEdwwirHVqO6lBYQxUWFr7xxhurV6+WyWQ8Hu/BgwdsNtvPz6+yspLFYoWFhVGVkB7Q78zozo9cLmez2Ww2Wy6X37p16/r161TNfz9//ryjoyMAWFlZHTlyRKlUisViYqzl7e0dFRVFSSr6ghFW+xCXmJSUFKoCymQygUBAFtdPmjQpNze3oKBg6tSp5KfO4/Gqq6upSktfMMJqh9u3b5ubm9vY2JiZmQkEgpycHC0DJiQkDBw4EACMjIyEQiFZ/mVjYwMAPXv2fGXM2RhhtUV8fDxZDu/i4kKKE2Nj40WLFiUkJGgQjVR2xPnIx8cnLi6usrKSz+eTyEFBQfn5+ZTfgr5ghPVS0tPTSRto1qxZDQ0N8fHxKutHeOHq0fFoOTk548ePBwAWi8Xn86VS6d27d8kyaBMTE7FYrFQq6bsX3aNnYT169Gjs2LEjRoz4+eef9ZuTZuTl5Xl4eADAxIkTm9pfNXPvGDJkCHH1aDtaVFQU6Zqys7M7ffq0XC4XiUTEecbX1/fRo0c0340e0JuwHj9+PGfOHLKAHQAsLS0fP36sr8w0o7y8fPDgwQDg7+9fVVXV8oSioiKRSETKM3hh/SiVSlueWVFRoarsXn/99YKCgqysrDFjxsAL07a6ujr6b0gP6EFYSUlJPB6PmLcQt2qyLtTOzq4zaEsqlZIvvn///m07YBHrx379+hHd9OzZUygUNrvkzJkzAGBmZhYeHo6IkZGRqkbb1atXab0R/aJTYTWTFJ/Pf/bsGSLW1dUFBwd3Bm3V19eTx34XF5cO2jc2s4Qk1o9Pnz5VnbB9+/bk5OTy8vL58+eTc2bPnv2qWo+q0JGwkpMxNPQ4qfg4HM6qVatyc3ObnlBbWzt9+nQAsLe315fdvkKhmDdvHil7njx5ou7lLS0hY2JiyFvR0dHOzs6kxidF1ysP7cLKzEQ+Hw0N0dKyvGdPex6Pl5GR0eqZNTU1XC6XaCspKYnujLVkzZo15LuPjY3VOEh8fPyCBQtU1o+TJ0+eN28e+UUFBARkZWVRl99ODY3CSk1FHg8NDBAAjY1x+XLMyWnH2bympmbixIkA4OzsnJaWRl/eWrJ582by5H/t2jXtoz19+jQsLKx79+4AYGtra2hoKBQK/w77BqhQT1gNDagaKFMqsbQUEbG0FEkXjFKJlZWIiFlZjaUUABoZIY+H6ekdTUIqlaq0ld7xy7Rj9+7dAGBgYHD8+HEKw5aUlBC391fDr1Yt1BNWWhpOndp4XFyMI0YgIhoZ4YEDiIjV1ejnh//615+SWroUNSj7pVLphAkTSAv6ZfUmhfz4449sNpvFYu3fv5/y4KQLVIMWW1eHAmF5e6O/PxYVNQpLJGospbSpyqRSKemndnV1zczM1DxQe5w+fZq0h3bs2EF5cKVSSazbXoFBZXVRW1gDBuDu3bh7N/73v43CGjQIT57EJUsahVVVhZSUMtXV1WT3B/q0devWLdKHvnnzZjrik5lbtra2dATv5Kg90a9bN3B3B3d3cHX988VZs6CwEH7/nXTkgKenulFbwczM7OzZs+PGjcvJyZkwYcLTp08pCNqEhISE6dOnS6XS5cuXf/bZZ9QGJ+Tk5ACAa9NP6u+DWjJstSocNAgRMT0d/fyQclPWioqKESNGAICbm1vTXkdtaGhouH79OpkO+o9//IO+h7Xjx48DwKxZs2iK35kxpEqgXl4wfTr8+itV8RqxtLS8cOFCUFBQTEzM5MmTr169qvLd7whlZWWZmZmZmZn5+fkFBQXkOCkpSSaTGRsbjxs37ujRo2QkgA6ys7MBwM3Njab4nRn1hOXiArt2NR5bWUFEBADATz8BADQ0QEgIzJ1LbfYAALp3737x4sXJkyffu3dvwoQJ165dIy7ZTamrq8vOzs7MzMzKylL9n5mZ2apPGovFMjc3r66udnJyIrOjaIJsCK2ay/W3Qj1hcTjQu3fjsYEBkOHX/v0BAFxdoaAA8vOpzV4jKm3FxsaOHz9+x44dlZWVTTWUl5fX6oJ0CwsLT09PT09PDw+Ppv8XFRX169fv2LFj69ev9/PzoyXTADKZqYNDLzc3d5rid2ZYSNHyy9Gj4fZtuHYNAgMpidcKJSUlgYGBKSkpDQ0NLd+1trb2bIGHhwcZvMvPz1epcNGiRe7u7h9++KFIJBo1atTvv/9OzqEcPz+IjYU7d2DECDrCd2ooa2N5e8Pt25CcTKOwbGxsRo0alZiY6ODgEBgY2LQEcnV1Jd1RdXV1eXl5pB68fPkyOUhJSamurlbFGTx4sLu7+6ZNm3744Yfbt2+fPHnyzTffpCPD2dkAAH/Ph0LKhEWqRVrX7ubk5Bw+fJjNZl+4cGHgwIFPnz4lJdCVK1dUpVFRUVGr19rZ2alUSIZZLCwshELhihUrQkNDp0+fTtZdUYhMBsXFwOGAvT21gbsGXUlYW7duraurW7hw4aBBg+rr63v37t2yXWVsbOzs7NysQuzduzcZD27Ge++9t2fPnsePH+/du3fdunXU5jYnBxDBxQXYf8tFwZS1sZ48gf79wcsL0tMpidecjIwMHx8fpVKZmJhIJm2OGDGCw+E0a5u3fGBsm3Pnzk2bNs3a2jotLY2swaKKS5cgKAgmToToaAqjdh2o6hCrq0NDQzQwQJmMqpB/geyZ+95771EeecqUKQCwZs0aasPu24cAuHgxtVG7DFTOx+rdGwGQjumfycnJBgYGxsbGdAwaJiYmGhoaGhkZUbjWGRE/+QQB8JNPKAzZlaCy/vf2BjMzTE+XUhiTsHnzZoVCsWzZMrIki1r69++/ZMkSuVxOrQlHTg7A3/WREKh1mxk48D9SKTsxcVf7p6pDQkLCiRMnTExM6HNf2bp1q6Wl5alTp6KpaxDV1oKRESMsKvDwaDTPoDAmAGzatEmpVL7//vtqjRKqhZ2d3YYNGwDggw8+0N5SNiYGUlPhp5+gthY4HGjSg/Z3gsJq9fr16wAwcuRICmPGxMSQoT3i0UgfNTU1ZLQ4IiJCy1DvvIO+vkgWos6cqdWEx64LlSUW6QVITk6mMOamTZsQcd26dXZ2dhSGbUm3bt22bt1KUpRKtW0mjhwJX3xBRba6LtTq1NraGl7sPKs9N2/eBAArK6tSsmyDZpRKJRmQ/ve//63B5RkZGBmJN27gO+/gvXs4YgSmpzMlFkX07dsXqGtmkSVZoaGhRK90w2Kxvv76axaLtX379oKCgnbPz8+H06dhyxaYMQPs7MDLC+bMgfBwAABDQ9ixA9avpz3PnRdqderv7w8A33//vfahzp49CwC2traVZE2ZriAD0kuXLm32ulKpTEtLO3r06IYNG0JCqq2sEOAv/xwccPp03L0b33kHHzxARFy8GB0cMC0N//hDl3fQKaBSWJ9++ikR67p167SPRjT65Zdfah9KLTIyMjgcDpvNvn//fl5enkQiEQqFwcHBxDCSMGpUDgBaW2NAAAoEGBGBTR0nVMIqLkYbG/zlF7SwQKFQx/ehZygTllAoBACylpzFYo0dO5bP54vF4kuXLmnQ5Dpx4gQAODo6tuoNRBMVFRXkYO3atQDQcnKpk5PTjBkztmzZcv58al5eR8N+8w2y2Y3DOzR5Fh0/fnzr1q20hNYUaoT1ySefAICBgcHu3btbnYlrbW0dEBCgklrbnogKheK1114DgD179lCSvY6Qm5traWm5cuVKhUJx6NAhY2NjY2NjR0fH4OBgoVAokUi08XE8exYtLREAR49GartN4uLigoKCLC0tPTw82jZd0jEUCOvjjz8mqvrxxx9VC0179Ojx4Ycf8vn8gIAAc3PzVqU2bNgwHo8nEokkEklGRobKK/HIkSMA4Obm1tRKj26WLVsGAPPmzVPJmtolrA8foqsrAqCnJ1LieJKVlTV37tymFfTatWspiEsR2grro48+Iqo6cuSIynahmRWRQqHIyMg4c+bM9u3blyxZ4u/vb2lp2arURo8e/e677xKnvANk3T5iu0aM2pOVlWVsbGxgYJCUlPS///2PyJpyr738fPTzQwC0sMBff9U8TmFh4YIFC5pNEDI2Nvb396cus9qilbB2ffwxuaUTJ05UV1cTwwUHB4eOGFyVlpbevHkzPDxcIBBwuVyyyo/Qq1cva2trmUwmlUrXr18/btw4hUKhTT7bZdGiRQCwePHihoYGb2/vprKmFqkU33oLAdDQEA8dUnseiFQqXbt2bdOReDab7ebmFhgYuH///vr6ejryrBlaCGvjxgZHxyAvr5MnT1ZXV5Ma0MXFRWP7oYKCgujo6K+//pp0sn/xxRcVFRXEr4zWxlZKSgqZNpORkbF//34A6NOnD33FpFKJQiGOGpXDYrH5fH4HEyJ+uN7e3qp1H46OjgEBAZ9//rnqmaNToZGwlEpcswYBkMNpOHOmuro6MDCQqIoS46Ho6GgWi2Vqapqenn769GkAsLCw0N65/2XMnTsXAJYvX15fX+/p6QkAP/30E01pqYiIOExm2U+fPr3djrrjx48PHz6cPKVaWFgMGzaMz+dTMDXtxAmcMQOnT8ePP6Z8fqb6wlIqUSBoNFP75RcsL5cGB4/u1cvNzY3CWXg8Hg8AJkyYoFQqZ8+eDQDTpk2jKnhTEhIS2Gy2iYlJTk7Onj17AMDX15fumpfw+++/k7LZ19f3ZU5/V65cGTt2rKmpKYfDGTBgwNy5cymzxL12DSdOROIJLRLhqlXUhH2BmsJSKnH1alJWoUSCZWU4YgQCyEaNotYEsbi4mHzoBw4cKCgoIEM6R48epTAJwhtvvEGep2QyGal2T548SXkqLyMjI6N///4AYGtre+PGjaZvJSQkTJs2zdLS0s3NLSgo6NixYxTXznw+njvXeNzQgG5uVAZXT1hKJa5a1aiq06dVqkI3N6RhxjB5OuvevXteXt6+ffvIp19YWEhhErGxsSwWy8zM7I8//tixYwcADBs2TMc7RFRWVhJXXw6Hc/jwYUTMzc2dPHmyhYXF2LFj9+7dS1cX8T/+gU2tVr28kNK2f4eFpVTiypUIgN264cWLWFaG/v4IgO7umpj2dYyZM2cCwJw5c5RKJfG9XUzp4gSyjGLjxo3V1dWkgDyn+hHrELlcvmLFCtJr4+vr26dPn9DQULrnn+H69XjkSONxZSX27YsKBYpEWFRESfgOC6ukBPv1Q1NTvHwZy8oaO2T69MG/umpTS3Z2toWFBameMjMziUnahQsXKAn+22+/AYClpWVxcTGZiRUQEEBJZM0QCASmpqYAYGpqKhAI/qB74Do9HQcPxhs3MCUF58/H3bvxxx8RAM3NMSwMtZ6npE5VmJeHN25gaSkOH44A2LcvPnumZfLtsmvXLvJoXVZW9t///pd0Xba6DYm6kP6RLVu2lJeXk41urly5on1Yjfnll19ILyDpULC0tNyyZQtlXQn5+fjDD81fTE3Fjz/GtWsbu2vj43HatMapGtbW+PnnqMXn3J6wEhNx+3bcsQNVS6PefBMB0NsbOz4MqwUKhYJsQLJixQq5XD5s2DAAWL9+vZZhL168SPr6y8rKyJAUl8ulJMMaExkZCQCzZ89+9OhRSEgI6azq0aOHUCikQF5FRejoiB3xr799G7ncRnnZ2qJIhDXtmKi3SpvCio7GMWPw8mW8cAH9/fHWLUTE3FwMDsaCAg0S04zk5GQTExM2m33jxo34+HgjIyM2m32LZEZTyA4lIpGouLiYjC/dvn2bqgxrxuHDhwFg4cKF5M/bt29PmjSJyMvW1lYkEtVo9AXj9etIek8OHcJBgzraQo+OxtGjG+XVq9fpgwfVHeBqU1hcLj582Hj8+++oP8tDMienb9++MpmMLAIbOHCgxiMYEokEAHr27FlVVfXBBx8AwIwZM6jNsAaQJ99333236Ys3b94MfGHf4+zsLBaL1R6YHzcOv/668XjnTlTLv/nSJRw+PKZ/fxaL5erqGh4e3vEujzaF5eGBqkAVFejrq0aeKKWurm7AgAEAsHnz5traWjKc9/nnn2sQSqlUki3jxGJxfn6+qakpi8WKi4ujPM/qQrpnV65c2fKtS5cuDR8+nMjLzc2tI19wbW1t40KBlBTs3Rs1nieiVN48fdrX15ek3rdv3yNHjnSkA7lNYQ0f/ufsofR0HD9ew8xRwZ07dwwMDAwNDePi4q5du8ZisTgcjgZb7pSUlAQFBTk7O8tkstWrVwNASEgIHRlWl6+++gpePvlWqVRKJBLykwAAb2/viIiINmx5v/zyy7feeqvxD61nHykUisjISNUGev3794+MjGy7w69NYYlEuGED4otOLB1Ou2uV999/HwD8/PwaGhqWLl0KAKNGjdJs+KWoqCg7O5vD4RgYGOhrs7Fm/Oc//yGdam2cQ75gsmIFAAYMGNDyCyZqq62t3bNnD7WdvXK5/MCBA+7u7iT14cOHt7FvSJvCqq/Hjz/G11/H11/Hzz9Hfe8xVF1dTWaMfPXVV2VlZY6OjrNmzdJ4qcWSJUsAgMfjUZtJjSHtSGEH5sYTeRH7OAAYNGjQsWPHyFvPnj2bOXMmrfmsr68PDw/v1auXo6NjG88TlPlj6QZiZ2Vqavro0SMzM7Oms7hapaysjBhxq+y4VQeIWF1d/eTJk94qv169kiESPfzlF58FC3xWr+7I+fX19d999922bdvISrWePXumpqZaWVnJ5XKy2zStyGSy1NRUMtW2dWhVNx2QfUonTpxIyvn6+vrs7OzffvstMjJy586d69evnzdv3pgxY9zd3du22ibdFqmpqfq+oResW4cAqOaqpLq6uvDwcOK/2nlKX6RwAwGdIRaLL168eOXKlb59+0qlUjL08bKTbWxsnJycXF1dHR0dnZ2dnZ2dnZycXFxcevXqtWHDhn379onFYvI4pn/q6gAA1LRCJTsg37lz5+DBgzR5P2tG1xNWz549Fy5cGBUVlf7ClNLa2trR0dHJycnT07PpgYuLS6uT6wkffPDBgQMHfvjhh08//bTpkgS9oZGwCEOGDDl48GAbN6t7up6wAKC+vj4vL2/lypWbNm2yt7cnFYG69OvXb8qUKefOnQsPDydLQvSMFsIi66CqO5NhUpd09I2JiQGAkJCQXr16aaYqwvr16wFg165dtbW1lGVOYxhh6Ze6ujoyn3jo0KFahuJyuYMHDy4sLDx69CgledMKRlj6JT4+vq6uzsfHh5ImBVlNTxwitI+mFYyw9AupB4lliPa8/fbbTk5OycnJV68mUBJQcxhh6Zd79+4BAFVbdhkbG2/adNjOLmP79kGUBNScFStAJII+fTS4lAirqqqK6jxpTtcTFrUlFgDMnz+xstL1wgV4+JCqkOpz/DgcOQI3bsD//get7W3WNkyJpS0VFRVpaWkmJiYDBw6kKqa1NSxaBAB/7vGpa86fh/374ccfQSKBsjIQCtUNQFYGdCphdbEhnUuXLgHVxsyImJmJBgbI4aAWVkVasGABXr/eeFxbi15e6gZQKpVsNpvFYulmqW1H6GIlFuX1IMHDA2bOhLo62LuX2sAdo7Dwz73nOByQy9UNQBwJEFF7v2eq6GLCorbl3hRiRLt3L+jhq3F3h7S0xuPSUrCw0CBGZ2tmdTFh0VRiAcCYMTByJJSWwuHDlMd+Ofv3Q3Y2rFoF//433L8PGRmwfDlotHNiZxNWV2pjkU3hu3fvTtMq+GPHGhe26WKRfVUVzp+PADhyJDY04MOHuGEDrlqFZ89qFo/MWu4Mk/cJXWkQmtSD/v7+NM0PefNN2LAB/vlPoH36yZMnMGcOPH4M5ubw/vtgYACDBsEgrTrSOluJ1ZWqQpWwaIpvaAjm5rB2LZDRndBQ+O03GpI5dAj8/ODxY/DxgTt3YP58SqIywtIc0sCio+WuorYWiooam1k1NRp0VbaJTAbvvQeLFoFUCjwexMbCgAFUxWaEpSGIeP/+faBZWAAQGgo7d0JpKcVhM5KSwN8f9u0Dc3M4fBgOHQJTUwrjM8LSkOTk5PLycjK3mNaEzMzgww/hww8b/xwxAubMge++g8xMzWMeOnToNX//67a24O0Nt2/DwoWUZLUpjLA0hL6OhpbMmQM5OfDwITx7BjExEBUFy5aBlxc4OTWKjGzL2xFqamqWLFmyaNEiqVR62MMD7t+HF6uKqeXZs2cAQAr1zkCXeSqkr2uUcPPmX7ZC3bULBg0CZ2dITIQrV+DKFbh+HQoKICoKoqIAAHx8YM6cnwYONB4/fryNjU2rMVNSUkJCQhISEkxMTEQi0Zo1a2jKfFRU1JkzZwDAxMSEpiTURt/9HR3iwYMHrq6uAPAJPbvCnzyJJiZoZoa//PLncOGNG9jUmFKhwMePMTwcQ0KQbP3l7t44xcXT05PP50dGRjbdV/Hw4cOkeurXr99DlbcK1eTk5BCnSQCwtbUlGYiNjdXBrgtt09mFVVhYuGzZMgMDAwAg/wcGBj4gm2tRxMGDaGiIAPjPf2IHvw65HG/dUmzdunXixIlNCwlDQ8ORI0eGhoYGBweTV3g8XrVaBi8dRqlUhoeHk2m0VlZW4eHhqn7jLVu2ZGdnI2Jtba2OLVVVdF5hyeXy8PBwsjDLyMjo/fff//bbb+3t7QGAzWbzeLwCKjy6RKJGE6iwMM3zGRsbKxKJuFwu58X8TwsLCxaLNWPGjJKSEu0z2ZK0tDTiSAgAwcHBz15irRgaGrpt2zY6MtAunVRY0dHRKuscLpf7+MV2gFVVVUKhkHx/ZmZmQqFQ442cGhpwxQoEQAMD/OYbarJdVVV19uzZ0NBQYpdKFLZ69erk5GRqEkCsr68XiUTkE3B0dDx+/HgbJ3/00UdEc8+f47x5OhmqekGnE1ZaWprKKLFPnz6RkZGIKJFIAgMDVcbUqampqnN69+5NzlGL2lqcM6fRWVz9q9tn6NCh33//fXBwMBl9YrFYXC43MjKyDeOhjnD//v0hQ4aQgDwer+PF4bp1KBA0Hh89qgPv2M4krOrqaqFQSJosqtIoISGB7CgGALt37256fnR09KAX42sTJ07seAO5vLz83XcvAKCVFf7VtZ8ypk6dumbNGkRMSUkRCASqAqx3794ikaisrEzdgFKpNCwsjLQyvby8oqOj1bo8LKzR3DM/H3v0oNXqupFOISylUhkZGUl20CS/xYKCgtLSUoFAQNaj9ujRQywWt/y5k3YYsWgnDa927dHz8/OJR8qMGb8/ekTXHS1durK15EAAAAesSURBVHT06NGqP8vLy8ViscpZysLCgs/nd9w17ty5c25ubuThICwsTKbFvjerVuG//vXnn1VVuG9foz9VcTFGR2NlJUokje/W1WFUlIYJ6V9Y9+7dGz16NPnE/fz8bt26pVAoIiIievbsST5KPp9f1KarfWlpaVhYGPGWsbKyEolEL2t4ZWRkENMiLy8vSvaTehnbtm2zs7Nrlm2FQiGRSLhcLqkf2Ww2l8uVSCRtPLiVlpby+Xzy4QwePDi2I7bHbbJ+/V/6UJ4+RQ4Hd+5ERHzwAOfPx8xMnDy58d3ychw+XMOE9Cms/Px8Pp9PtpF2cnKKiIhQKpVXr15tWsE96nCpkpKSonrI79u3b8uG171790jZ5ufnR+3WKS05efIki8USi8WtvpucnKzaLoA0JcViccteicjISPLr6tatm0gk0rJ91ipPn+K0aThiBObmvhLCqq+vF4vFpA/G2NhYIBBUVlbm5uaSTb8AwMXFJSIiQoPIly5dGvBiygCXy01ISCCvX758mSTH5XI1NgHsOA8ePDA3N586dWob55D6kdRxAGBpaSkQCIgjXF5e3qxZs8jrgYGBKSqTfap5+hRnzsTLl/Gtt/4Ulq0tTp2KU6fi5MldSlg//fSTyuYwODg4IyNDKpWqmu2mpqZCoVCbZgTxMiQdYKQm3bt3LzG5W7hwoW62IS0sLHR0dOzTp0+79uhyufzYsWMBAQHkAzEwMLC2tibVuo2NzQ8tt5OgFCIsRJw3D7dv78olluoT9PX1JY82EomE/GpZLFZISAjpMtaeoqKi5cuXk8cooqrQ0FCddUMrlUovLy8jIyOJqiXcHnFxcXw+X+VCyOVy8+jf+0MlrLw8dHHpssJKTU0ln9qmTZvkcvn9+/fJdiYAMGzYsN9++43yFB89euTu7m5qarpgwQLKg7cNefZ8++231boqMTFx48aNBw8epCdTzXn2DN97r/F4zx5cuxZzc1HlOFlZiRo75epUWGQ1hLW1NSKWlJSQ1quDg8PBgwfpW2lJjLu///57muK/DPKbee2113ScrgY8eIDh4UjpAKxuF6yScp5UTD169Ni4ceOGDRtSU1MXL15Mng0phGyjVVFRQZ7tUecuRWTZe1ZWVkKCvn1s2uPnn2HZMjh9msqYOp2P1ew7Jttu0YTeTfrInJnKysp9+/Z9/fXX+s1M25BxAWpX6uq0xNJl4aFKS18llsowNy4uTsdJq4u5OQAAtbOau8zU5C6HamOSrKys58+f6zczbdPlhfW3KrG8vb1JwzEvL49snN5poUNYXWbOu8boS1iurq5mZmZyudze3j45OVnHqasFERa1foD6bLy/Mmm1ipeX18aNGwMDA4cMGWJK6RJCyiH2NkxV2AUSBQAOh2NoaOjj40NUtWfPHrJCqxPS5dtYukTvJRYAnD9/XuWEdvXq1VLKl1dThIWFfMCAaienQgpjvrJVoX4T7VqYmZUmJjoUFdkBUPb0+soKq5PoadGiRWTWxoMHD/SbkzagY3k+81RILxEREWTK9ezZs/WSgY5gamrKZrNlMplCoSDzQbTnlW28670fqwvBYrHMzMyQUm9cpvFOI+PHj1d1NIwePdrKykqPmWkbymvDV7aNpd9ECZ988onqmGxh12mhfNOUV78q1EFarwCU723xylaFKhiFdQTKq0J9lli5ubllZWV0p8UIqyM4ODjY2dkplUqqAuqzjcXn8+/evSsUCletWqXNDryt8sUXX9TU1HSq/bc7M8eOHaM4IpXznNuDjGmw2WypVFpVVTVp0iSSB19f34sXL9KUaL9+/QCAp1ohwKATdFoVduvWzczMTKlU+vj4nDt37vLly5cuXerfv//jx4+DgoImT56clJREYXKpqanBwcEpKSkAoFrFz6AjdCzk7777TjVnd8qUKUlJSWRVdPfu3QHAyMhIIBCUl5drmUp5efm6devIqg1LS8uQkBBKMs/QcfSwErqpVR9ZqVxYWFhcXCwQCMh4go2NTaveMh2BGIo0Nf5r13+GgQ70ZgpSUlKicimytrYWiUR1dXVxcXGBgYGkPPPx8Tl//rxaMe/evTty5EhyeWBgYHx8PE2ZZ2gXPdsYPXnyZNq0aUQK/fr1O3PmDCJKJBJPT0/yIjF3aDfOs2fPeDweeep0dnYmxjX0Z5/hpejfHwsRSROeKIk4jtbV1TWzo6moqGj12pqaGpFIRDqOu3XrFhYWVlVVpeP8M7SkUwgLXxgbNW3Cl5WV5eXlLVq0iJRDjo6Op06danaVRCLx8PBQlW1ZWVn6yDtDK3QWYRGaNuFV9pCxsbHEB+HcuXOqM5OSkqZMmUIkNWTIkOuqzboZOgedS1iEpqIhPV5KpfLy5cvkXdLqbyY+/WaYoSWdUViEZk349PT0lv0UbXuTMuiRzissRJTJZNu2bSMD7wYGBipTMtKzqu/cMbRFpxYWIT8/f/HixURSNjY2GmwXwKB7WNhF5pOcPXu2sLBw9uzZpABj6OR0GWExdC1e/RmkDHqBERYDLTDCYqAFRlgMtMAIi4EWGGEx0AIjLAZaYITFQAuMsBhogREWAy0wwmKgBUZYDLTACIuBFhhhMdACIywGWmCExUALjLAYaIERFgMt/D/obScdf1KzEQAAArB6VFh0cmRraXRQS0wgcmRraXQgMjAyMy4wMy4xAAB4nI2SXUgUURTH79ydvTs2s6u7Ozu7uruzHy20lfVQkVnhXgisKMIoQRTjlhWDPkRFUJKQwUaJYYH60MdWlgku1ktoBO5OIJk9JLk+CIFISIRFH/QQ2UPNnHV7CcILh//v3Pu/554zzJfM0Cwylh3lFzYiZsRaIy5wBDFDOYsNFHMkvAmUzx9gTMKmmeMFFDbzQlq499dfOC/Uo3FDLRaSV55QDXLuv1DwLleXX/PffpYU5VXIK7YhuIi5wvwcHCBORJw5JsYWw414K7ISRGw8RwQkFPG4aAUiIhIlJtk1bHcwR7GGi0tYiVPDThdzuTXslpns0bBHYYpXw14f85VquLSMlfk17A+wQJAFVQ3LoXAoHMehSDgSRQJGqsgCPHJKTHWxqBsFPcyvMH4lz8mC0RXBArHyFmJ3FJc4JeL1lZb5FWtIdkcjNisfCKoisYqS06USt+wJqi6r4gkG/N5nnDHQ0u+AYs3ue/TW+nbdTKYnU/T62SjwgRqNVs5/ypq86rKX7qtZA/v93ecTEcoDV+ZEWv2rGzxT5xz023i6ymSiHKd9704lTI5PNNHhlicZkwd33aBTyQXw1H4do+mGFthf2NiRKH/+EPwfH99NtI1soCb3jKg0FG8G3jzvoWTuAfDcWGsi/f0p8Jn3rZn6bbeB5cNvR8dn64FfL3Zlc3Uy8P7Gcr0zagN+0VSnz+zdCW/1JGN6euAH9PBmxxY9MfkTZjnZn9T7fOtgxsiVpL678xJw11SFnj2dAl7snchWNeT3twuvsleHy/Pc/TmzcGcG6hyNdWSlVD/U/9D4MrO6oh3ebbt2Ux8YvAhc/WhUT/VKo/Adcn36wa1h6PP3/Ak9eGgPcO30/UTu2BGor/wBgUW7DO+S/5wAAANaelRYdE1PTCByZGtpdCAyMDIzLjAzLjEAAHicfVbLjhw3DLzPV+gHtiG+JPGQg/fhdRB4BkjW+Yfc/f9wseWRZgEiPSuiRyhRRbLI2UuJ5+/Xv/77WdbDr5dLKfV//ty9/Cu11sv3Ei/l+e39z2t5+fjyfN95uf24fvxTpBUVnMHnM/bLx+37fYfKS7GjijSu5Unx1ly81KOezz7K5Vr08MajA8iHyWg1Awo8ytHYvUp5omNY7WQJUAHkQ1pvw8Jja0RGCdAArIeP1hAPgBUvpAmwlRs80tDeelxNTZxGAuzn1cyNRjATMaOa4MYZi7lVj/tcR+8ZQ584czIwhENjGRlD3HJDGgeT9LhQbVTjDBiFaQeZivRwyexDU2RUho7avaMedEjl3rNgKCpDB5uhxgi/O6tmFaRZGe3uZlFLG81ToM0SKldTyIgQtrYM2GYJuxsqY0cHWU3zE5WJaNUqBAnBkahn6qExkQR1kYOlEhLUM2RUJ9TAGhkEX0LoWRlx48upRBfyFlIi0rSOHOV5kkMGVY9k9z6MstCZp0/rtU1x6EDt0+tlQkdH1B6UHT4li4mjRGhX6k2RcRzqVdGbGdTuUCjI440DmkbV7gQYvRHQIMDpOOgzqdbV5+RA+pukBMYdisDbzO9oqZZx1fVMUTPvFoeao5MyNUudXqF7xqSLpoP40u4UmlKREBNFr6CdPSuW8MzVaCRjBJLrEMmQgkZ+ssO5Q/ThvYqCQQbVCApDdgxpA6qyKtbSmGyqqkMimAqCmvVG6ZBt5Vv0MloULYMjJh1JS5Bv19dPA3/+BDzfrq/7JyA+vAc9YYYjEV/f/5A91GNT9+gmLNsDmrDaHsOE1fewJaxxOqQ9WWPT9wClWPXzrXSSi2H4MBbjHC22mH4ahvYhiR0QXmwxzzQMLcIYXPEVc+lhQmkYWrSRVw1D42HkaBhatFEbDcOPI0TD8KLMkSoY3hkOzjC8OHNwhuHFmYMzDC/OHJxheHHm4AzDizMHZxhenDk4w/DizMEZRh5bScvZJw8dQ8FZFmd0BoeRLYlTE9hZnCVkASOLs9hZ130mGIfz7TfUATb7yD3J+5D/PrRC0NAFfO+0K80QdpKVfwe+/KicMgWHT0qMBnlsh/h+/28K75dfhKbJUcbfcEcAAAG9elRYdFNNSUxFUyByZGtpdCAyMDIzLjAzLjEAAHicLVK7biMxDPyVlDYgC3xTjHFAgL0iVVylCly5T5smH5+h4FWxxIiPmaG+3u9fx9ud5cDv7f1++jjOz+i2o/vpOJ9ufP7mhz76Uxw7Po7Tv9v5YTi+Yf8WxMovvyeeklUyLjpd02JcadaKMB0XmYSAx1WmRkY1EsHs46ozpADwXE6JFJsVsrJTXFcA8Umqgc6GIMq6yL1QfaGpLrqsy5aw5qBpvshlXGOym1onidQy6fEiwYUkVXfejcqpgbKVuRnysswmxKHQc+VJWbjiqSS4ASAOiUNmlph3jUG6D2hxMG+VJuTDwUDUtxNZHgkk0Qt0m5Q5yYBcVquNMAwAO53GtVDWHMSgDg05m0v7VioAmNkWAJ1pS3s2Z0anwK61Nj0ndewBvsFHLSggoaU7pyRhEoaSmorqbqWLtxmZyzn2OE+KbTSmJPHGVhZbO1TIsj2AM+AE7pIs9AntxdoUQPIsFNGGulC3QE+rvVpI3r0aWrr2E3lCGB5e6T0yCvveadTu7ycgar26DtvMXhUR9nEeP5+viEfN+vn/Cn0jZvz+ATTAn3GclZxfAAAAAElFTkSuQmCC\" alt=\"Mol\"/></div></td>\n",
              "    </tr>\n",
              "    <tr>\n",
              "      <th>41875</th>\n",
              "      <td>9869779.0</td>\n",
              "      <td>COc1cc(Oc2ccnc3cc(OC)c(OC)cc23)ccc1NC(=O)NC(C)...</td>\n",
              "      <td>P00533</td>\n",
              "      <td>MRPSGTAGAALLALLAALCPASRALEEKKVCQGTSNKLTQLGTFED...</td>\n",
              "      <td>0.20000</td>\n",
              "      <td style=\"text-align: center;\"><div style=\"width: 200px; height: 200px\" data-content=\"rdkit/molecule\"><img src=\"data:image/png;base64,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\" alt=\"Mol\"/></div></td>\n",
              "    </tr>\n",
              "    <tr>\n",
              "      <th>41876</th>\n",
              "      <td>5330790.0</td>\n",
              "      <td>Nc1nc(Nc2ccc(S(N)(=O)=O)cc2)nn1C(=O)c1c(F)cccc1F</td>\n",
              "      <td>O75716</td>\n",
              "      <td>MGHALCVCSRGTVIIDNKRYLFIQKLGEGGFSYVDLVEGLHDGHFY...</td>\n",
              "      <td>0.01400</td>\n",
              "      <td style=\"text-align: center;\"><div style=\"width: 200px; height: 200px\" data-content=\"rdkit/molecule\"><img src=\"data:image/png;base64,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\" alt=\"Mol\"/></div></td>\n",
              "    </tr>\n",
              "    <tr>\n",
              "      <th>41877</th>\n",
              "      <td>57399640.0</td>\n",
              "      <td>COc1cc2c(Oc3ccc(NC(=O)C4(C(=O)NC5=CCC(F)C=C5)C...</td>\n",
              "      <td>P57058</td>\n",
              "      <td>MPAAAGDGLLGEPAAPGGGGGAEDAARPAAACEGSFLPAWVSGVPR...</td>\n",
              "      <td>0.54000</td>\n",
              "      <td style=\"text-align: center;\"><div style=\"width: 200px; height: 200px\" data-content=\"rdkit/molecule\"><img src=\"data:image/png;base64,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\" alt=\"Mol\"/></div></td>\n",
              "    </tr>\n",
              "    <tr>\n",
              "      <th>41878</th>\n",
              "      <td>16722836.0</td>\n",
              "      <td>Cc1cnc(Nc2ccc(OCCN3CCCC3)cc2)nc1Nc1cccc(S(=O)(...</td>\n",
              "      <td>P00533</td>\n",
              "      <td>MRPSGTAGAALLALLAALCPASRALEEKKVCQGTSNKLTQLGTFED...</td>\n",
              "      <td>0.05700</td>\n",
              "      <td style=\"text-align: center;\"><div style=\"width: 200px; height: 200px\" data-content=\"rdkit/molecule\"><img src=\"data:image/png;base64,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\" alt=\"Mol\"/></div></td>\n",
              "    </tr>\n",
              "  </tbody>\n",
              "</table>\n",
              "<p>41879 rows × 6 columns</p>\n",
              "</div>"
            ],
            "text/plain": [
              "          Drug_ID                                               Drug   \n",
              "0            51.0                                O=C(O)CCC(=O)C(=O)O  \\\n",
              "1           187.0                               CC(=O)OCC[N+](C)(C)C   \n",
              "2           264.0                                          CCCC(=O)O   \n",
              "3           311.0                         O=C(O)CC(O)(CC(=O)O)C(=O)O   \n",
              "4           525.0                                  O=C(O)CC(O)C(=O)O   \n",
              "...           ...                                                ...   \n",
              "41874     44259.0  CN[C@@H]1C[C@H]2O[C@@](C)([C@@H]1OC)n1c3ccccc3...   \n",
              "41875   9869779.0  COc1cc(Oc2ccnc3cc(OC)c(OC)cc23)ccc1NC(=O)NC(C)...   \n",
              "41876   5330790.0   Nc1nc(Nc2ccc(S(N)(=O)=O)cc2)nn1C(=O)c1c(F)cccc1F   \n",
              "41877  57399640.0  COc1cc2c(Oc3ccc(NC(=O)C4(C(=O)NC5=CCC(F)C=C5)C...   \n",
              "41878  16722836.0  Cc1cnc(Nc2ccc(OCCN3CCCC3)cc2)nc1Nc1cccc(S(=O)(...   \n",
              "\n",
              "      Target_ID                                             Target        Y   \n",
              "0        Q9GZT9  MANDSGGPGGPSPSERDRQYCELCGKMENLLRCSRCRSSFYCCKEH...  0.09000  \\\n",
              "1        P58154  MRRNIFCLACLWIVQACLSLDRADILYNIRQTSRPDVIPTQRDRPV...  0.04580   \n",
              "2        Q9Z429  MQQFTIRTRLLMLVGAMFIGFITIELMGFSALQRGVASLNTVYLDR...  9.20000   \n",
              "3        P15474  MPRSLANAPIMILNGPNLNLLGQRQPEIYGSDTLADVEALCVKAAA...  0.73000   \n",
              "4        Q9Z429  MQQFTIRTRLLMLVGAMFIGFITIELMGFSALQRGVASLNTVYLDR...  0.85000   \n",
              "...         ...                                                ...      ...   \n",
              "41874    Q05655  MAPFLRIAFNSYELGSLQAEDEANQPFCAVKMKEALSTERGKTLVQ...  0.00015   \n",
              "41875    P00533  MRPSGTAGAALLALLAALCPASRALEEKKVCQGTSNKLTQLGTFED...  0.20000   \n",
              "41876    O75716  MGHALCVCSRGTVIIDNKRYLFIQKLGEGGFSYVDLVEGLHDGHFY...  0.01400   \n",
              "41877    P57058  MPAAAGDGLLGEPAAPGGGGGAEDAARPAAACEGSFLPAWVSGVPR...  0.54000   \n",
              "41878    P00533  MRPSGTAGAALLALLAALCPASRALEEKKVCQGTSNKLTQLGTFED...  0.05700   \n",
              "\n",
              "                                              Structure  \n",
              "0      <rdkit.Chem.rdchem.Mol object at 0x7f986aae2570>  \n",
              "1      <rdkit.Chem.rdchem.Mol object at 0x7f986aae25d0>  \n",
              "2      <rdkit.Chem.rdchem.Mol object at 0x7f986aae2630>  \n",
              "3      <rdkit.Chem.rdchem.Mol object at 0x7f986aae2690>  \n",
              "4      <rdkit.Chem.rdchem.Mol object at 0x7f986aae26f0>  \n",
              "...                                                 ...  \n",
              "41874  <rdkit.Chem.rdchem.Mol object at 0x7f986a576570>  \n",
              "41875  <rdkit.Chem.rdchem.Mol object at 0x7f986a5765d0>  \n",
              "41876  <rdkit.Chem.rdchem.Mol object at 0x7f986a576630>  \n",
              "41877  <rdkit.Chem.rdchem.Mol object at 0x7f986a576690>  \n",
              "41878  <rdkit.Chem.rdchem.Mol object at 0x7f986a5766f0>  \n",
              "\n",
              "[41879 rows x 6 columns]"
            ]
          },
          "execution_count": 33,
          "metadata": {},
          "output_type": "execute_result"
        }
      ],
      "source": [
        "df"
      ]
    },
    {
      "cell_type": "code",
      "execution_count": null,
      "metadata": {
        "gather": {
          "logged": 1674854848791
        },
        "jupyter": {
          "outputs_hidden": false,
          "source_hidden": false
        },
        "nteract": {
          "transient": {
            "deleting": false
          }
        },
        "id": "eMc030tie4kV"
      },
      "outputs": [],
      "source": [
        "#Checking the number of atoms in Drug Molecules\n",
        "from rdkit import Chem\n",
        "from rdkit.Chem import AllChem\n",
        "#Getting the number of atoms\n",
        "df['Number_of_Atoms'] = df['Drug'].map(lambda x: Chem.MolFromSmiles(x).GetNumAtoms())"
      ]
    },
    {
      "cell_type": "code",
      "execution_count": null,
      "metadata": {
        "gather": {
          "logged": 1674854849218
        },
        "jupyter": {
          "outputs_hidden": false,
          "source_hidden": false
        },
        "nteract": {
          "transient": {
            "deleting": false
          }
        },
        "id": "uPDz9dX1e4kV",
        "outputId": "00f328c4-c856-47b5-9722-d1c6f03a322d"
      },
      "outputs": [
        {
          "data": {
            "text/html": [
              "<div>\n",
              "<style scoped>\n",
              "    .dataframe tbody tr th:only-of-type {\n",
              "        vertical-align: middle;\n",
              "    }\n",
              "\n",
              "    .dataframe tbody tr th {\n",
              "        vertical-align: top;\n",
              "    }\n",
              "\n",
              "    .dataframe thead th {\n",
              "        text-align: right;\n",
              "    }\n",
              "</style>\n",
              "<table border=\"1\" class=\"dataframe\">\n",
              "  <thead>\n",
              "    <tr style=\"text-align: right;\">\n",
              "      <th></th>\n",
              "      <th>Drug_ID</th>\n",
              "      <th>Drug</th>\n",
              "      <th>Target_ID</th>\n",
              "      <th>Target</th>\n",
              "      <th>Y</th>\n",
              "      <th>Structure</th>\n",
              "      <th>Number_of_Atoms</th>\n",
              "    </tr>\n",
              "  </thead>\n",
              "  <tbody>\n",
              "    <tr>\n",
              "      <th>0</th>\n",
              "      <td>51.0</td>\n",
              "      <td>O=C(O)CCC(=O)C(=O)O</td>\n",
              "      <td>Q9GZT9</td>\n",
              "      <td>MANDSGGPGGPSPSERDRQYCELCGKMENLLRCSRCRSSFYCCKEH...</td>\n",
              "      <td>0.09000</td>\n",
              "      <td style=\"text-align: center;\"><div style=\"width: 200px; height: 200px\" data-content=\"rdkit/molecule\"><img src=\"data:image/png;base64,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\" alt=\"Mol\"/></div></td>\n",
              "      <td>10</td>\n",
              "    </tr>\n",
              "    <tr>\n",
              "      <th>1</th>\n",
              "      <td>187.0</td>\n",
              "      <td>CC(=O)OCC[N+](C)(C)C</td>\n",
              "      <td>P58154</td>\n",
              "      <td>MRRNIFCLACLWIVQACLSLDRADILYNIRQTSRPDVIPTQRDRPV...</td>\n",
              "      <td>0.04580</td>\n",
              "      <td style=\"text-align: center;\"><div style=\"width: 200px; height: 200px\" data-content=\"rdkit/molecule\"><img src=\"data:image/png;base64,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\" alt=\"Mol\"/></div></td>\n",
              "      <td>10</td>\n",
              "    </tr>\n",
              "    <tr>\n",
              "      <th>2</th>\n",
              "      <td>264.0</td>\n",
              "      <td>CCCC(=O)O</td>\n",
              "      <td>Q9Z429</td>\n",
              "      <td>MQQFTIRTRLLMLVGAMFIGFITIELMGFSALQRGVASLNTVYLDR...</td>\n",
              "      <td>9.20000</td>\n",
              "      <td style=\"text-align: center;\"><div style=\"width: 200px; height: 200px\" data-content=\"rdkit/molecule\"><img src=\"data:image/png;base64,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\" alt=\"Mol\"/></div></td>\n",
              "      <td>6</td>\n",
              "    </tr>\n",
              "    <tr>\n",
              "      <th>3</th>\n",
              "      <td>311.0</td>\n",
              "      <td>O=C(O)CC(O)(CC(=O)O)C(=O)O</td>\n",
              "      <td>P15474</td>\n",
              "      <td>MPRSLANAPIMILNGPNLNLLGQRQPEIYGSDTLADVEALCVKAAA...</td>\n",
              "      <td>0.73000</td>\n",
              "      <td style=\"text-align: center;\"><div style=\"width: 200px; height: 200px\" data-content=\"rdkit/molecule\"><img src=\"data:image/png;base64,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\" alt=\"Mol\"/></div></td>\n",
              "      <td>13</td>\n",
              "    </tr>\n",
              "    <tr>\n",
              "      <th>4</th>\n",
              "      <td>525.0</td>\n",
              "      <td>O=C(O)CC(O)C(=O)O</td>\n",
              "      <td>Q9Z429</td>\n",
              "      <td>MQQFTIRTRLLMLVGAMFIGFITIELMGFSALQRGVASLNTVYLDR...</td>\n",
              "      <td>0.85000</td>\n",
              "      <td style=\"text-align: center;\"><div style=\"width: 200px; height: 200px\" data-content=\"rdkit/molecule\"><img src=\"data:image/png;base64,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\" alt=\"Mol\"/></div></td>\n",
              "      <td>9</td>\n",
              "    </tr>\n",
              "    <tr>\n",
              "      <th>...</th>\n",
              "      <td>...</td>\n",
              "      <td>...</td>\n",
              "      <td>...</td>\n",
              "      <td>...</td>\n",
              "      <td>...</td>\n",
              "      <td>...</td>\n",
              "      <td>...</td>\n",
              "    </tr>\n",
              "    <tr>\n",
              "      <th>41874</th>\n",
              "      <td>44259.0</td>\n",
              "      <td>CN[C@@H]1C[C@H]2O[C@@](C)([C@@H]1OC)n1c3ccccc3...</td>\n",
              "      <td>Q05655</td>\n",
              "      <td>MAPFLRIAFNSYELGSLQAEDEANQPFCAVKMKEALSTERGKTLVQ...</td>\n",
              "      <td>0.00015</td>\n",
              "      <td style=\"text-align: center;\"><div style=\"width: 200px; height: 200px\" data-content=\"rdkit/molecule\"><img src=\"data:image/png;base64,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\" alt=\"Mol\"/></div></td>\n",
              "      <td>35</td>\n",
              "    </tr>\n",
              "    <tr>\n",
              "      <th>41875</th>\n",
              "      <td>9869779.0</td>\n",
              "      <td>COc1cc(Oc2ccnc3cc(OC)c(OC)cc23)ccc1NC(=O)NC(C)...</td>\n",
              "      <td>P00533</td>\n",
              "      <td>MRPSGTAGAALLALLAALCPASRALEEKKVCQGTSNKLTQLGTFED...</td>\n",
              "      <td>0.20000</td>\n",
              "      <td style=\"text-align: center;\"><div style=\"width: 200px; height: 200px\" data-content=\"rdkit/molecule\"><img src=\"data:image/png;base64,iVBORw0KGgoAAAANSUhEUgAAAMgAAADICAIAAAAiOjnJAAAABmJLR0QA/wD/AP+gvaeTAAAbfklEQVR4nO2daViTR9fHT/YgIKC4VAElQlWsWsQNraCoFVfqgiJ1e4oSUVzrWh/rQl1apYs+tmL1snXDUquC1lcFFy6xWEXqRSugBhAMi4CsigRIzvthaEpRNCT3EIT5XXzAm8zcJ+afuc+cOWeGh4jAYHAN39gGMJomTFgMKjBhMajAhMWgAhMWgwpMWAwqMGExqMCExaACExaDCkxYDCowYTGowITFoAITFoMKTFgMKjBhMajAhMWgAhMWgwpMWAwqMGExqMCExaACExaDCkxYDCowYTGowITFoAITFoMKTFgMKjBhMajAhMWgAhMWgwpMWAwqMGExqMCExaACExaDCkxYDCowYTGowITFoAITFoMKTFgMKjBhMajAhMWgAhMWgwpMWAwqMGExqMCExaACExaDCkxYDCowYTGowITFoAITFoMKTFjNke+//z48PLysrIzeLYT0umY0NoqLi3/66ac9e/YkJCS0bNly9OjRx48fp3UzZDQDfvvttzlz5piYmJAPvVWrViKRCAC2bdtG6Y48ZIeNN11KSkqOHz/+3Xff3blzBwD4fP7QoUN79OgxduxYjUYzfvx4jUZz/PjxqVOncn9vSoJlGJe4uDh/f38zMzPyKbdr187f318ul7dp0wYAhg0bhohffPEFAJiYmNy8eZNzA5iwmhQlJSUhISF9+vTRDhx9+vQJCAhwc3Pj8XjkSr9+/fbv309e/5///AcABg16R6XK4tYSJqymw4EDB4jnBABt2rSZO3euv79/27ZtyRWpVDpz5szbt2/XbKJSqZYunRwf3zkpqb9aXcahMczHajr079//9u3bjo6OI0eOTExMvHLlCvlwnZ2d5XK5r6+vubn5i62qqp4kJw9UqRRWVlNksjAAHifGsDhW00EsFms0mv3790ul0suXL0skEm9v78jIyPj4eLlc/lJVAYBQ2NrB4YxAYFlYeCI7ezNXxrzBwvL1hVOnAAAWLza2KY2DVq1aAUBhYeH8+fP/97//5eTkhIWFjRgx4rUNpdJuMtlxHk+YlbWpoCCUE2PeYGG1aweXLsHTpwAAYWFw8iQkJADNYHJjx8rKCgAKCgq6dOmycOFCCwsL3du2bDnKxiYYAJ88OcSJMW925H35cvjiCwCANWsgLa36YseO4OAA/fvnt2q13+FvtBPvJgwZsQoKCvRr3rbtYqGwlaXlpIyMAKGwjZXVVBOTd/Q25s0WlkwGpqaQlQXDh0NODqSkQGoqZGZCZiao1QUxMWu1r2zfvn3nzp3d3d23bdumnXg3MciIVVhYqHcPrVrNqKoqqKoqtLH5is+XGmKMYOPGjYa0NwrJyXD0KHh5Qfv20K8fqNWwdi2kpoK5OTg7w+DBMHRoka1tePfu7W1tbUUiUUlJSVFRkVKpjI2N7dixY80wT1MiJUVTUtJRJhs2dKhM7074fBOh0DonJ0gotBaLO+lvDYehi4ahpAS7d0cA3L27+spvv6G9PQoECFD94+r6iLw7gUBgb28/cuTIr776ysvLCwAmT55sVPMpcuQIAqCvr0GdqNXPKysfl5Zez87eYkg/b9ijEBHmzoWkJOjWDWbPrr7o6gqpqVBRAWlpoFDAgwdQXJzXsuUohUKRnp6elpaWlpbm5ua2d+/ec+fOhYeHZ2VldejQwajvgwqtWgEAGPAkhNLSaBOTboWFJxCr2rY1bLJdl+KeP39+6NCh/Px8Q2TLOV98gQBobo6JiTq9vqKi4v79++fOnUtOTkbEyZMnA8CWLQZ9FxstN24gAA4YoGdzlSojPt4sIcG2sjLPcGPqFBZZ8Q4ODjb8Hlxx5YpGKEQeD0+f1rOHixcvAoCdnV1VVRWnpjUK7t1DAHR01LO5QuEVFwcpKd6cGFOnsCIiIgCga9euGo2GkzsZSFZWlpNTL2fnqHXr9O9Eo9E4OjoCwLlz57gzrbGQl4cAaG2tT9vCwpNxcfDHHy0rKpScGFOnsKqqqjp16gQAZMnJuKhUKldXVwDw9Bxt4Fizfft2APDy8uLItEZEZSW+/TYOHlz9z8JCXRtWVZUkJNjExUFu7h6ujHnVrJBEInx8fLi6GWH9+vXt27fv06fPRx99tHXr1rCwsPj4+JKSklc0CQgIAABbW9vc3FwD756XlyeRSIRCoVLJzVez8XDmDEZEICIeOIDPnqFYjDIZ+vvjjz/io0evanj58qa4OEhKGoCo5sqYVwkrKytLKBSKxeLHjx9zdb/Y2FihUPjSEKWVlZWLi4u3t/fq1atDQkKuXbtWWFiIiEeOHAEAiUTCVT7atGnTAGDTpk2c9NZ42LkTvb2xsBADA/HWLTQ1/Sf+wuPhlCnJCxcu/Pnnn2t9OW/evCkQCDw9Bzx9eodDY16TNiOfNavto0dLP/ig9ZIlBk0+AQAgNzfXxcVFqVT6+PgMGTIkMTGxvLw8Pz8/NTVVoVA8f/78xSbW1talpaUqlWrfvn3z5s0z3AYAuHLlioeHh42NzcOHDwUCASd9NgaCg2HQIAgPh2fPoH17iIkBR0fQaODhQ4iJgXfe2Xv9egAA8Hg8JyenYcOGbdy40dLSsn///vHx8atWrfr88885NOZ1+VjnzsHYsSCTwYMHwDdoxVqtVo8ePToyMtLV1fXq1asLFiw4cOAA+ZOVlZWTk5ODg0PLli2FQuGzZ8/y8vIyMjIePHhQUlLy1ltvSaXS1NRUQ+5eCycnp6SkpDNnzowbN47Dbo1LcDBMnQonTsCFC1BSArGx1dfNzWHwYHBwuFlVdVChUMTGxj579kwqlRYWFu7Zs2fFihWdOnW6e/euqakpl9a8ZkRTq7FzZwTAyEgDx8aPP/4YANq1a5eZmYmIu3bt8vT0dHBwEApfEqTl8Xh2dnYjRoxISkoyMTHh8Xj379830ICa7Ny5EwDGjRvHYZ9G58wZzM/Higr89FN8/BjDwnDxYnRxQR4PAbBv3zwAMDU1HT58+EcffbRq1SqFQkHW5s+cOcO5MTos6QQFIQBOmWLIbU6dOsXj8UQiUXR0dK0/VVZWpqSkREZGhoSErF692tvb28XFhRQq2dnZ4d952atXrzbEgFrk5+dLpVI+n//w4UMOu22cZGdjaCh++un1bt261fz2kjzmadOm0bipDsLKzkaRCIVCzMzU7x7JycktW7YEgG+++UbHJlVVVSkpKbdu3ULEGzduAIC1tXV5ebl+BtQiNjYWEX19fQFg+vTpnPT5pkCy/xYvXuzi4iKRSKRSaXh4OI0b6bYIPWkSAqBexY2lpaVOTk4GfoTOzs4A8NNPP+ndg5ZffvmFx+P5+fl9+OGHAODs7Gx4n28oxDmZOXMmjc51E1ZsLO7bhwkJ+ORJvXrXaDTe3t4A0LNnz6dPn+pjICIifvvttwDg4eGhdw+Ee/fukbzKZcuWSSQSAPj4448N7PPNJT09XSAQSCQSw6ODL6Jz2syiRfjDD/jJJ1ifkZOEuc3NzZOSkvSx7m9KSkrMzc15PN69e/f07qS0tLRHjx4AMHHixM6dOwPAokWLDLGqCTB69GgA+PLLLznvWTdhPXqEn35a/bufHx46hJs347FjePMmFhTU1ejy5cskFvrLL78YbujcuXMBYMWKFfo112g0ZFm9W7duHh4eADBw4ECVSmW4YW80p0+fBjorwroJKyMDN26s/n3uXPT0/CemC4DW1o+nTp0xY8bGjRuPHDly48aN/Pz8jIwMUs393//+lxNDb926BQCtW7d+/vy5Hs137NhBxk4/Pz8S9Wh6Szp6UFVVZWdnBwBXr17ltmedH4Xz5+PJk7hlC/78M/7yC65di97e6OyM5uYIcHfIkFqBKKlUCgDvv/8+hwkqLi4uAHD06NH6NoyJiRGJRDweb/Xq1TweTygUcv7/+OayYcMGGrNjnYVVVYW3b2NGxkv+lJPz8LffDh48uG7dumnTprm4uFhYWJiYmAgEgl9//XXHjh2rVq3ixNaQkBAAcHNzq1er7Ozst956CwDkcjnx3Gm4FA3Ks2ccdvbo0SOBQMDtijDS27th/vz5ADBnzhwOl7FLS0tJPOyvv/7SsUlFRcV7770HAO7u7iTqQSke2EDk5qKfHwYHo58fh/IaP348AOzYsYOrDpGesBITE3k8nrm5+ZgxYwDg888/56RbuVwOAEuXLtXx9QsWLAAAW1tbUknRtWvX4uJiTiwxDl99hQkJiIgXL2L9XYK6OHv2LAB06dJFrW6QtBkDIUPFkiVLAEAmkxlo9O3bt9PS0sgGYqamprt27YqKinr48OErulUoFFKpVCKRLF68mHjuiTqmyjdaPvsM09IQEWNj8e+tiAxHrVaTpM6oqCiu+qQorMOHDwNAv379SNAo0oBl7MePH9vY2LRu3frixYumpqY1a2zEYrFMJhsxYoS/v//27dsjIiJSUlK0M4Zbt25t2LCBeO4nTpzg6J0Zj4QEXLYM//wT585FTme1mzdvBgBvb24S3pGqsMrLy0nEgTyPpui7jF1VVTVy5EgAGDBgQO/evQGgV69efn5+7u7uHTt2fGnKhlgs7tat27hx4+bNm0cKz9esWcPtuzMaqal48iTevYufforcrcZkZWWJRCKRSJSVxc0ObHQLVpctW0ZWo0QikVAozNRrGXvFihUk8kQyPx0dHYuKirR/LS8vJ8kRX3/9tb+//4gRI2QyGb9G6linTp26d+/edMpykpNx/HicMgVNTZHHQ+6yiYgbOnz48MOHD8fGxublGVQERldYycnJPB7PzMyMzDu2bt1a3x5Ivo1QKFy6dCnxrv7888/XtiorK0tISDh58iRJuTHcw2tEZGWhSIRiMfr6IgByFMpBxAkTJrRu3bpWMNLJyUmbLB4ZGZmSkqJjjJ56if3QoUMBgLjP9S3o0+bbaNeMf/zxx3rdXa1WEw+PQ7fU+Hh5IQAGBlZXe3GRTUQcYolE4ufn5+Pj07dvX0tLy5e6Gebm5s7Ozt7e3p988skrPk3qwgoNDQWA3r17Ozg4AMD58+d1bKjNt/nggw9sbGzqFWWoSVBQELduqZaioqKCupdKKXLuHAKgTIZ9+iAAHj9uYH937txp0aIFAOz/90yzoKAgLi4uLCxs+/btWjdDq7C2bdu+ok/qwlKpVGR/1YULFwLAxIkTdWmlzbfp0aMHWTN2dXXVb804OzubuKX6eXh1sXPnTrJspS0u2rBhQ1hYWFxc3KtL2ThAmy++eDEC4LBhhnRWUFBA5CKXy3V8/c2bN48dO7b/lfGOhthtZuXKlQDg6+srFouFQqEu2T+kYsTc3Jw4SdpMef2YNGkSAGyrv4dXF2lpaWSyya+jwKRDhw5ubm41CycN9IVrs2ULAqCXV/aQIf/t25fsTKEHajXK5V8DQP/+/blK0CU0hLAUCgWfz2/RosXu3bt1cb21+TZkzfilmfL14npU1B43t6KePZELF/758+d9+/YFAE9Pz6dPnxYUFFy7dq1mwv5Ly134fL6vgTsM1SQ7O9rDY6CtLcmD1Ttdcf16BMAxY77PeOkqsAE00P5YxIX38PDYs2fPhQsXasYwX4SEFeRyeX0z5etEo0EHBwRAnT28V0ASbzp37jxq1Kg+ffqkkVB4DdRqdXp6+qVLl0JCQlauXDlx4sSePXuSGl0OQ/9k55zAwEDQN5vozBnk85HPxwsXuDLqHxpCWGq1un///tqd7AkikahmxJx4J+R/p7Kycvfu3YZnyv+LbdsQAHXz8F7B3r17yTycVP1bWVmlpKS8tlVxcfGsWbPAgETFF9HunEM2KDxy5Ei9mj94gJaWCIAcreLWpiGEtX79egCwsLBYs2aNv7+/h4eHnZ3dS6vsRSKRg4ODp6entbU1GJwp/y9yc1EiQaHQkJWQ33//nUQ9Vq5cKRAI+Hy+LrvW7N2718zMjMxd9E5UfBHtzjlkNXbIkCG6ty0rQ2dn4qQhpc2EqAvrzJkzfD6fz+fXCjSoVKqa5YTjxo2TyWTagnc+ny+RSO7evculKd7eCIBBQfq1fvLkCQmJzZ49m+h+8+bNujQ8f/48ANjb25NExWPHjulnwIuQkoLevXuTot+goKBr165lZ2e/tqFSic7O2LUr0kv1oCustLQ0EszV8Vy88vLypKSkU6dOyeVyQ+omXk5UFALge+/p0VStVo8aNYrMnog+xo0bp2M0X6PRkBgeiRK7u7vrYcBLycvLI0WntarJzczMxo//xNsb167FAwcwOrq6JPTaNdy1CxFx92786y88eBAR8fx5fPCAK4v+gaawnj076eMDAB988EGj2L1No8Hz5zEiAo8exXqGmlavXk2iHj4+PsRzr9cmmlu3bgWA8ePHk+kIVyNxRkYGqZH39PTcuHHjjBkzBg4cSEbTwYP31ixLAEBTU9y6FceMwXv3MDAQ4+MxJAQRcf9+jIvjxJx/QVNYM2YgQMLkyY0ot27jRrxwARMT65UXcPr0abJeuXz5cuK51zpD67Xk5OSQGN6MGTMAYNmyZfW0+yWUl5f369cPAEaOHFlril1YWBgfnxsaips346xZ6OqKbdogAH73HZ4/j3Pn4sKFGB+PEybgpk3o5fVmCWvXLgRAMzPUOY24IfD3r/5lzRoMD0c3N/zoI9yyBX/6CW/ffqnHoa1xXbp0KfHcD5JHSD0hCwnEhbe0tHxmcGIxqYfr1KmTjqHXoiI8cQKjozEiAh0d39ARKzYWxWIEQC6K4rnEz696FhQQgF9+ibWeFjxeVzu7QYMGzZ49OygoKDQ0NDo6unv37gAwduxY4rkHBgbqd+eoqCgAsLW1JcHVQ4cOGfI+Dh9+3K5dBxMTk/j4eN1bxcdXZ9ls24bp6UiizteuIY2NUSgIKycHO3ZEAFy+nPvODSQ6GpcswfXrcc8ezM/HS5dw3z5ctQonTcJevSplLznQQSqVOjg4TJ8+HQAGDRqkd42rRqN5++23tdGBwdqtQutPXBxKpdi2bfbRo7/q3QltXi+sRYsWLVq0aNeuXefOnbt//35FRcVrGmRmoqsrurlhZSU3NjYgSqXy6tWr+/fvX7NmzZQpU0iGqo+PT25u7vTp0w2scSVnMI8dO5ZkpOiyuvUiT56gvT0CYECAIbZQ5/XCqnU6mVAo3DlpEo4ahQsX4ldf4dmzmJyMKhU+foxr1+L69Xj0KKpU9d0+pHGiTVTkZP5B9tUVCAQzZ84EvXaOUKurq9AHDOAkC4sirxGWRqMJDw8PDg4OCAgYOXKkvb29QCD4cfDg2t5Jr1748cdI0haWL0dOSx+Ni7u7OwCEEEfXYMgjlRRdWlhY1NeFX7cOAbBt29fsgtwYeM1ZOjweb8KECTWvVFRUaB4+hPv3QaH456drVyguhjZtAAAcHUGphH+vDL65yOXy6Ojob7/91t/fn5PewsPDLS0tnZ2d//jjj+HDhw8dOrRLly7kUEWSz/gKOnQAExMIDYXXvbARwJlEN23Cv/5CjQbnzq1v+LExo01U5GQzcI1GU1hYWFRURKrZan0WJiYm779fOnEirlyJISF46RKmp6NGg15eWFCAyckYHo7aaqPPPjPcHIpwd/rXqlXw3Xdw4gTMmwd1nGv9JiIWi2fNmrVz586QkBASkDQEHo9nYWExZcoUpVLZvXv34OBgpVKpUCgePHigUChyc/NiYsxqnT7s4wMtWsD27eDjA/n5UFRUfV2pNNAWurxuO24GQEpKyttvvy2VSjMzM+sqMdCdzz77bP369VZWVnFxcbJ/BzhKS58pFKY1XYwHD2DOHCgrgy5dQCQCsRjOngVnZwCAR49g3z4DbaGJsYfMN4Phw4cDwJ49hh41ExUVRfJtfv21HiGoJUuwshJHjMADB3D+/OqL2l8aJ0xYOhEWFgYAvXr1MqST9PR0skJc39NWyAk58fF469Y/O3XS2eyYM5iwdKKiooJsskW28tYDbaa87vk2bzQGnWLSfBCJRLNnzwYAsvmbHgQGBsbFxXXu3PmHH36oq7anKcGcd11JS0tzcHCQSCRKpTIuLm7BggUOf+Po6Ojg4GBvby8Wi1/adt++fXK5XCqVXr9+naSoN3mYsOrBqFGjLl68+M0338Dfa8k1EQgEdnZ2DjVwd3e3sLD4448/Bg8e/Pz584MHD86ZM8cIdhsDJqx6EBoa6uvrKxQKx4wZ065duxYtWvD5/PLy8ry8vLS0tLt375aXl9d8/a1bt2QyWd++fdPS0gIDA3fv3m0syxseJqx6UF5e3rNnT4VCUeu6WCy2sbGxt7e3trYmmyBUVFQ8efLk6NGjvr6+Fy5cGDhwYHR0dF0PyiYJE1b9KCsri4mJKSkpUdQgMzPzxVeKxeJWrVrl5OS0a9fu9u3bde0R11ThbkmnedCiRYv333+/1kWVSpWZmZmampqamnr37t3ExMTU1NT09PScnBxzc/MFCxY0N1UBExYnSCQSmUxWa32mvLw8KCho69atMTExxjLMiLBHIUWKi4s7duxYVlZ27949UrXcfGj6kTojYmFhMXXqVETUnn7dfGAjFl1+//13UkSqVCpJ9VgzgY1YdBkwYMC7775boVL99X//Z2xbGhQmLOocW7YsU6Nx2bXL2IY0KOxRSJ+nT6FDBygthcRE6N7d2NY0EGzEoo+ZGfj4AAA0JxeejVgNwp074OwMrVuDUglSqbGtaQjYiNUgvPsuuLjAkydw8qSxTWkgmLAaivnzoUsXaAYpfgT2KGwoqqogNhYiI0GjgYAAaOqrh2ytsKHg8eDAATh4EEpLYdUq2LvX2AbRpbmMzManoAA6dAAeD1q2BLXa2NZQh41YDQWZEmo0UFTUHCaGzMdqEHJyQCSChw8hIgIEAggIqN5ApenChEWfykoYNgyUSvj1V+jRw9jWNBDMx6LP8uVw/TpoNE1mayddYCMWZUJDwdcXRCK4cgUGDza2NQ0HG7Fo8uefMG8eAMDu3c1KVcCERY/i4uKfN2yAqiqYMwfkcmOb09AwYVEBEWfNmjX11Kmg0aPh22+NbY4RYMKiwpYtWyIiIqysrD4MDgYTE2ObYwSY8849UVFRnp6eiHj27NnRo0cb2xzjwCLvHKNUKn18fNRqdVBQULNVFbARi3PUavW6desSExNPnz7dHPbBqgsmLCqo1WrtabHNEyYsBhWa71jNoAoTFoMKTFgMKjBhMajAhMWgAhMWgwpMWAwqMGExqMCExaACExaDCkxYDCowYTGowITFoAITFoMKTFgMKjBhMajAhMWgAhMWgwpMWAwqMGExqMCExaACExaDCkxYDCowYTGowITFoAITFoMKTFgMKjBhMajAhMWgAhMWgwpMWAwqMGExqMCExaACExaDCkxYDCowYTGowITFoAITFoMKTFgMKjBhMajAhMWgAhMWgwpMWAwqMGExqMCExaACExaDCkxYDCowYTGowITFoML/A9rRjPdM4AGkAAACZnpUWHRyZGtpdFBLTCByZGtpdCAyMDIzLjAzLjEAAHice79v7T0GIOBlgAAmIFYCYlUgbmBkY0gA0ozMHAwaQJqZic0BTLOwOWSAaGZGmAAeBVAGO0SGmbARUDtxi6NpxLQLJsPOABZgAvoD1SwkCZChzIzoliJci262AESGiZuBkYGRSYGJOYOJmSWBhVWBlU2BjT2DiZ0jgYMzg4mTK4GLO4OJmyeBh1eBl4+Bhz+DiV9AQUCQgV8oQUg4g4lFJINJRDRBVCyDSUxcQVxCQUJSg0lCSkFKmkFahkFalkFWLoNJTj5BXiGDSUExQYwpQVE2QZgtQZgrQYQF6AI2JjFRERZmNnYOTi5hNjZuHn4hYS5WOVlFBXnxRYxAv0AjlEHJ8tBC++6Xmw6AOI78PA5qcr1gtlTCBfsGA0cw209byK5mtzGY/fPx1X1x8Vv3g9jrJ3/eH146C8zmXil7QErI1g7EPvf1yP5r59fZg9jSUWwHdhQbOIDYxempB/a8sAWzz3hNOPB08ROwmoqL+w+86f0PZndl3D2w8UAAmD27nO1gvFczmJ2Rz3/w7wYpsN4PFacPtOQJg+1lEnh54OqTB2B2uDfPwXO/joLZLp9mH5jk5AlmJ2+rOaBpeArstqnHGO3D+wr3gdi///6z98h/AmYbxik75Bi/Bqs/atrosIuPGezf62fmORy4HwsWt73b41DqzwZ2T3PwOYfnNzvB4lNfvXY4anXVFsReuIPXcU3qzb1g83/ddHDP3g9Wz5y92mEu3zsw20NuhYP22TCwX/SXXHGIX1MFZhuXfnbgEjIEs8UAMQ+vosMq0iIAAAMWelRYdE1PTCByZGtpdCAyMDIzLjAzLjEAAHicfVZbbhsxDPz3KXQBC+Jb+mzsoCiKOECT9g797/3RoYxoHVTorkVotbPikBwRPpW8fly///5T1sXX06mU9p/fGKP8ktba6aXkpDw9f/12K5f3L08fK5fXn7f3tyJaJPAN7s/YL++vLx8rVC6FKruEtnK2aoNaG6XVNq/jUy6vhSv1rkLlrFXBBMv/AmXu6BxDpJylNurWbQNUAFsl5VAAufbWhfoGaACeW1WKMCtnwsxHyAbpIIn3o/FQzRk3j+YbZOSeXNVFNXeijuku7p5AqiY9jBCYuMWW5bjviLSwIV01DJ53JKmVWybGOlwPIIeHbFNJWR3k2tqgfKzRnY13SE6k1TFUOJFjuNEuHsr6nL0OGg37t9rJVLfeNbPZUWnllqE3RkixQ84KdQSiPjIilKrtefrdu0ASYIKqWthoO3lQpPuo3BHRLGaYj77NaL/7D+8yJtTUg3Z1p3FPaUfKeRJATil2XJHHS9ZpaHdJAPYeWzExTSlb8yGeezLiG7ugmOfpgEaIJ1LVyWmHzDpxNWPnGVKXsG328fpWtDaJjpKlBDUidIfMOinKBIVaeu/uvueZJykPObfp01jddiLhgHNHGOH3zDdMfJvOLFJUCZaeSaSmtC0RZ4l67VBGTJbUnGyXo+x1cN4JbSmQVh2o+xZIYGlQnXeoDrm00XkLzPpYZRN0mCL5BW/FITJduxpOB4CDPGK7o5Y3hO2tN4tsC+7Bu7Cfb9dPnfneq59eb9ejV+fNR0fGQ5Gj72qOo7vmbUcPJQw/GiVhxNENFaMfPU8xxtHZFIMeG5imIXpoVJqGFjk0JE1Di18mfppFEWqlaRZLNBKdmEWUkmmaxRV9gaZZdCn5JmYxpqQMw4+HGdnASX04s5qGj3wmZRhelDkpw/CizEkZhhdlnCmeZlHmpJwrizInZRhelHEYKA0vylD9XJFHdWuZ4n2QsaaRxVmSM4wcMpg6EOjuQYGaURyQzHL+OzhceULaIQiJ+8JR4pTnoxjz+eNPB+anv4troNs9JPavAAABjXpUWHRTTUlMRVMgcmRraXQgMjAyMy4wMy4xAAB4nCVRO64cMQy7Ssp9gEew/hIGqbbPHmL616R9hw/lNLZAiBQpvT8PP8/r88jzfD865fvr//OI4nn4z/v1+/OFFxh/P89f/vXzYpLQtHU5efPmdQtxlem6jGx367qZQhLFpbS5vNe9iU1ymoRql8q6r03Gme7rYlTRCYypt7QNJDsS6iBYqNmCRKHq0+Va6YtJw1NOEyaLL6H03AFEyctAE+pIhSnY892sYGUFem9E6DZ4wdQOH52g5kaoTcUO9n0VQtm0bPHjpyBoCV2433446uW8EMjT+2BJMiHhND26Di2j4H7MWxzTRgVnMkQ44oMptVUoDGhbTxKo7miNaRNMap8FIy2izA4tOM4V3CXOyNKEndtoaxbPyrdl5iA9wcGqiBihOZmcvC4WAAKCGcfmxo/5SZoC49j/NmYgRYWgNTq8g2dWYF9cjTVZI966HUsJDIcb75IBxDWXDi45jDDfBqA5xlxS7EJgnDBwsfX18w8Tb4sJi8IypQAAAABJRU5ErkJggg==\" alt=\"Mol\"/></div></td>\n",
              "      <td>34</td>\n",
              "    </tr>\n",
              "    <tr>\n",
              "      <th>41876</th>\n",
              "      <td>5330790.0</td>\n",
              "      <td>Nc1nc(Nc2ccc(S(N)(=O)=O)cc2)nn1C(=O)c1c(F)cccc1F</td>\n",
              "      <td>O75716</td>\n",
              "      <td>MGHALCVCSRGTVIIDNKRYLFIQKLGEGGFSYVDLVEGLHDGHFY...</td>\n",
              "      <td>0.01400</td>\n",
              "      <td style=\"text-align: center;\"><div style=\"width: 200px; height: 200px\" data-content=\"rdkit/molecule\"><img src=\"data:image/png;base64,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\" alt=\"Mol\"/></div></td>\n",
              "      <td>27</td>\n",
              "    </tr>\n",
              "    <tr>\n",
              "      <th>41877</th>\n",
              "      <td>57399640.0</td>\n",
              "      <td>COc1cc2c(Oc3ccc(NC(=O)C4(C(=O)NC5=CCC(F)C=C5)C...</td>\n",
              "      <td>P57058</td>\n",
              "      <td>MPAAAGDGLLGEPAAPGGGGGAEDAARPAAACEGSFLPAWVSGVPR...</td>\n",
              "      <td>0.54000</td>\n",
              "      <td style=\"text-align: center;\"><div style=\"width: 200px; height: 200px\" data-content=\"rdkit/molecule\"><img src=\"data:image/png;base64,iVBORw0KGgoAAAANSUhEUgAAAMgAAADICAIAAAAiOjnJAAAABmJLR0QA/wD/AP+gvaeTAAAYM0lEQVR4nO3deVxTV9oH8CchbGEJJCgIYt0qg1UUqRuoLVixYlWGwWoVWnCprSio046tL4ra4mgrqNDVpeJQRdsq40JdwEqnaLWiUsXqWBQEQQlJipggAsnz/nE1dRSSG8gR1Of78Q8+4dyTE/nl5t7nnnMjQEQgxNyEbT0A8mSiYBEmKFiECQoWYYKCRZigYBEmKFiECQoWYYKCRZigYBEmKFiECQoWYYKCRZigYBEmKFiECQoWYYKCRZigYBEmKFiECQoWYYKCRZigYBEmKFiECQoWYYKCRZigYBEmKFiECQoWYYKCRZigYBEmKFiECQoWYYKCRZigYBEmKFiECQoWYYKCRZigYBEmKFiECQoWYYKCRZigYBEmKFiECQoWYYKCRZigYBEmKFiECQoWYYKCRZigYBEmKFiECQoWYYKCRZigYBEmKFiECQoWYYKCRZigYBEmKFiECQoWYYKCRZigYBEmKFiEifYRLJ0OCguhoqKtx0HMpn0EKzYWLl2CjRthz562HgoxDzMHS6fThYWFxcXFnT17lu82N26ATAZhYbBkCWRlmXc8pK2IzNiXVqudPn16ZmYmAAiFwjVr1vDazNIS7tzhtgeBwIzjIW3IbMHSarXR0dHp6ek2NjZ1dXVnzpzhtVldHeh0YGkJKSlQXAyRkeYaTztVXAyrV4O7O2g0sGQJVFaCUgkKxVWNZm95uUqlUiqVvXv3njVrVlsPtNXQHOrr6//2t78BgL29/d69ey0sLKysrDQajfEtU1JQLMbXXsPCQrxzxyyDadfeeQdVKkTEpCRctAgBuH9XAgL0f5FXXnmlrUdpBmbYY9XX10+ePDkzM9PJyWn//v1Dhgzp16/f6dOnjx8/HhQUZGjLhgZISoLaWti+Hfbvh/JysLJq/Xjatdu3wd4eAEAigfp66NIFZDJwcbH29o7p318mk0ml0r/85S9tPUpzaGUw6+rqxo8fDwDOzs4nTpzgHvz73/8OAPHx8UY23rABAdDREQEwLq6VI3k85OTg8uV44gS+8caTvYduVbA0Gs2oUaMAoGPHjr/++qv+8X379gFAQECAgW0bGxszw8IaXVxQKERLS7x6tTUjeTxoNBgXh4cP48GDeOtWW4+GLQEitnhv5+/v//PPPzs5OWVlZfn7++sfv3XrlkwmQ0SVSuXg4NDktlu3bo2IiOjk7Jzcp8/YQYMcVq826amrq6szMzNFIpFSqVQqldxhb1VVFfezQqGwsLBITEyMjY1t8aszv5QUiIuDoUPh2LG2Hgp7rUlleHg414lQKPTz81u4cGF2dnZ9fT0iDh48GAAOHDjQ5IY6na5Pnz4AIBKJLCwsLl26ZNLz1tTUdOzY0cLCwsDrEgqFrq6uVVVVrXmB5lRfj126IADu3t3WQ3kUWnXwHh8f7+vrm5ub+9NPP506derUqVOrVq2SyWSjRo1ycXEBgCNHjgwZMkShUCjv4XYtJ0+eLCwsFIlEjY2NkZGRzz77rEnPu2nTJrlcLhaLw8LCZPdIpVIXFxcXFxeZTJaXlxcXF1dZWTlz5kyurtbminbs6FpRIfLxgXHj2nosj4RZ4qnRaLKysubOnftARAQGC55CoVAgEPz2228mPVddXZ2HhwcA2NjYLF68uMnBuLu7cw0AYNu2bWZ5ja3R0NDQvXv3bp6el3ftauuxPCLmKZCKxeKQkJCQkBAAuHz58oEDB7755pu8vDydTufo6MjtRe7ftchkMrVa/cEHH9TW1p4/f97b25v/c23evLm8vFwikdy8ebO2trbJwaSlpY0ePbqxsREAZs+ePXz48M6dO5vllbZMRkbGlStXevbs+cz48W04jEeKUWAPHz4MAMOHDzfQJiUlBQBcXV3lch6lVEREbGxs7NmzJwAIBAJra+vy8vLmWr755psA4OjoCADBwcE6nc60F9AKarX66tWrp0+fPnToUEZGRmpqqqenJwBs3rz5kY2hzbEK1tdffw0AkydPNtBGp9OFh78+YMChsDC+3aalpenjMnv2bAMt1Wo1F0FbW1sA2LBhg6F+VSrcswdNPIfQy8/PHzBgQN++fd3d3bnP3wd06tTJwcGhtLS0Zf0/jlgF66OPPgKABQsWGG5WVobOzgiA6enG+9Rqtc899xwAWFhYWFpaFhcXG26fl5dnYWHBnTza2dkVFRU13U6txjfewIICXLIEf/zR+Dj+l06n6969u6WlpT5GlpaWDg4O3MkE9+nv5eUFABMmTDC188cXq2DNnz8fAD7++GOjLTdtQgB0dsbKSiMtd+zYAQD29vYAEB0dzX8Y3B7Oy8tr0aJFb7311sSJE09FRmK/fti5M4rFuGwZbt+OiKhWo7F3wsP27NkDADKZ7K9//WtzxxtFRUXOzs4AkJaWZmr/jylzTpu5X0VFBQBwZ2fNuXIFuneHadNg927w9weRCADg0iXo1avp9qtWrQKAuro6CwuLhQsX8hlGYmLi/v37u3btmpeXV1NTs2LFCu7xiUOHDvj117uNGhpApQIAUCrByYlPt/dbuXIlAMTHxzs4OAiFwvvPVLjTFJlM1rVr1zVr1kRFRcXFxQUGBnbp0sXUZ3nstKrybsCIESN++umnI0eOvPjii821mTsXUlMBAObMAXd3KC+HTz+F+fNh9GhQKECpBJUKGhs3XbmSo1AoysrKioqK7Ozs7ty5Exoaun37dp4jUSgUJ0+eDAkJkUgkcXFxbm5uMplsmJubu0QCUinIZCAWw6JFIBZDZSX83/+BoyOIxTw7z8nJGTVqlEwmKykp4XalBoSHh+/cuXPkyJHZ2dmGCzFPAkZ7wh49egDAxYsXDbR5801MScGUFIyKwsREXLsWDx3CefNQKtVPJ8FBgz7UD9XJycnZ2fncuXMlJSUmDWbYsGHA53P5+nUcOxbHjePfM/e2WbFiBZ/Gcrnc1dUVAD777DP+T/GYYrXHsre312g0NTU1zV0rBIC5c4H7aHrvPfDwgJkzIT4eLC3h9m24cwdkMpDJoEuXX6ytL3MfKPPmzcvLywsNDTWpmJ6bmxsYGCiVSktKSgwMBgCgogL69gWVCr76CqKjjfZ8/PjxoUOHSiSSkpISJ36fobt37w4NDRWLxQUFBc1ebygogB07QCCACRNg8GA+3bZHLNJ6/vx5ABAIBJGRkWq1urlmc+bc/SEmBhMTsaoKCwsxOLjZbouLi7nDcJOK6S+99BIALF++nFfr9HRuJs9tHrMtxowZAwBNVv8NmDJlCgD4+/s3NjZyFa+yggI8dAgzMvCTT3DXLpw2DbVa1OmQ3wlK+2TmYF26dCk2NtbW1pa7XAMA3t7eBQUFTTbWah/8waj169cDgJOTU1lZGZ/2J06cAABHR0cVN2+Th7qIiFR//5EjRxquqZ45c0YgENjZ2cnlcp49I2J9fX15ebmrq6tQKNRXKFYPGfLnZ/9LL+GsWXdb6394DJktWNnZGBFRzYVJKLy7+IfbweSNHIlr1qCZat9jx44F3sX0cePGAcCiRYv4919VVcUdCaWmpj7wK41GU1paWlBQcPjw4YCAAAB45513TBr8+vXr3dzcevfuzZVt7ezsPD09V4SG4ksv4aRJOHs2fvYZzpmDZWV4/Tq+9ZZJnbcrJgTr7FlUKBARc3OxtBR/+AER8dAh3LIF+/W7+37z9188d+7cy5cvb926lUvVzG7dUCBAABwzBm/caP2IKyoqpFIp3FdM12q1VVVVFy9ePHr06J49e9LS0pKSkrZu3VpQUCAQCMRicaXREtn/2rVrFwBYW1uHhIQEBgb6+Ph4eHhwUdCTSCRisfjs2bP8u21sbOSOq7jdVbOThdRqTEnBtWuxrAyTk831hnzETAjW55/juXOIiHPmYG4uDhyIVVU4bx72748A6OqKCQl3k8e5cuXK5ODgRjc3FArR1hYB0NfXLP9NW7duhXvF9L59+zZ57BgUFDRx4kQAmD9/fguewsvL65lnnnmgz/tL6txV7dDQUP59/utf/wIA7gRiltGPOZ0OfX0RAL/8sgXjb3OmBSs2Fj/8EIOCMDcXN27EBQtw3jzctw/T0pqZwN3QgPHxaGGBACiR4L59uG4dLl9+d3fXClxovLy8unTpwu2WnJycZDKZi4uLVCp1cHCwsrJycHAQiUTXrl0ztfOioiKRSCQSibj5Gk06fvw4V0zfsmULnz4fmNv4+++/G99m1y4EQDs75NOYjTt37ly9epXnEe39TCg3fPEFDBsGffrA3LkQHg7V1SCXQ1oaHD1qbMvjx2HqVAgPh06dICAABg6EuXNh6VKQyXg+9cOqqqp69eql0WgaGhqaa2Nvb69Wq3fs2PHqq6+a1Pn06dO/+uqrGTNmBAQEJCUl6Svp+qq6VCoNCgr67rvvoqOjJRLJ2bNnjRbTd+7cGR4ezg3p9ddf37JlC6+hTJp0e+/eja+9FrNhg/7I1eyKioo2bNhga2urn4ypUCi46ZlqtRoAHB0dk5OTp0+fbkKn/DP47bfIXcZduRJPncLcXNRqcdIkfhurVHjnzp+nOZs3488/m/YWeMjBgwf9/f0jIiLi4uKWL1/+ySefZGRkZGdnnz59+urVq2q1+vPPPwcAmUx2/fp1/t2WlpZaWVnxnDDNraY0egqJiM8//zwAWFpaCoXCwsJCvqNRKF4cNAgAkpOT+W5iIrlc7uPj09yVACsrK2dnZ4FAIJFIrpqy4KXlZ4W9e6OvL968aco2q1cjV3pYsABNOUtvGZ1ON3r0aABYaMpEqJiYGACYOnUqn8Zyubxjx45grJielZUFAHZ2dgAwceJE/oNBxL179wKAtbX1vn378vPzDx48uG3bttTU1KVLl8bGxk6dOvXll1/29vYOCAi4f6EUf4sWLQKAjh07JiQkpKSkbN269cCBAydPniwuLq6pqeHacIsbgoKC+E9ra2Gw6upQIEBLSxNKUIiIt2/jRx/hBx/g99+37HlNde3atWm5uX75+bvvP61o3o0bN2xtbQUCwTnuPIUH7jKAnZ2dgT3c4sWLhUKhtbU1AOTn5/PsWW/atGmGV45w+8LRo0eb2nN1dTV3zeDo0aMGmnHvH69u3SoMT2u7TwuDVVyMAOjp2bKtH6kshcIvP3/EmTMVPBaIvvvuuwAQxn/mISL+bzGde0StVpeWlp45cyY7OzsjI+PTTz/lLp62bPn8zZs3g4ODZTKZr69vcHDw5MmTY2JilixZsm7duvT09O+///7bb7/l8mFkPuND1q3LtrCwGjlypNGWZ/btq7W1RbGY53TIFgbr6FEEwMGDW7b1o/ZOUZFffn6isUMEpVLJ1QJOnjxpUv8KhaJTp04A0KVLFw8PjyYnkQKAjY3N/v37W/E6DNm2bRsYns/4ELUaXVywa9f6H3+8wGuDyEgEwKFD8d77x4AWBuu7776TyTpER8e2bPNHTNnQ8EV5+e6qqo0VFTuaL5bGx8cDwJgxY0zq/NixY97e3iNGjJBIJPoMicViT0/P/v37BwUFTZo0afbs2W+//XZmZmarX4oh3MnvsGHDtPwOUFavRgAcMoT3E/zxB3bujK6uaHDSCqeFwVq3bh0AxMTEtGzzNvGxsSnn3CW8pKSksLAwXrfKQURErtYlFosBYNOmTWVlZbW1ta0ebEtUVVW5ubkBwNq1a402rqtDd3cEwKwsU54jPx9LSnDFCly2DA8eNNCwhcF67733AODDDz9s2eZt4oOSkvUVFYf/+KO5Bn5+fgDAHazM0U+9MIi7amRlZQUAQ4cONd9gW4ibJ21jY2OgotHQgHI51tXhRx/huHGmXwpZtuxu2SkmxkBRoCXBysvL69atG/C5LtGeGN1jXbt2jSumi0QigUDQ3P0B7jdlSu3w4Sk9e0Z07tz1+0d1qmtYVFQUAPj5+XH3OnhYaSk++yzevIkff4ymV9Txz0vjqanY/LmzCZV3rVabmZmZlJR0/PhxbudfW1sbFRWVmppqdFZue7BHqRxvrNa/ZcuWqKgo7qaEHh4e586d46LWpAsXoE8fEAqhsREGDWo4ccKyuZaP0s2bN318fEpLS1999dUJEyZw9zTQat++fLmjSgVKJYwdCxoNiEQglcLkyWDySt5VqyAkBPr0gbfeguRksLNruhmfjKrV6i+//JJbwwQA1tbWjo6OK1eu5Cp+Xbt2NVwFebxwxXRuaobhtUAREQiADg4IgO1q6Xx2djZ3U0X9X3no0FL9jK+oKExOxjVrMCLC9D2WVos//IDJybhsGR47ZqChkWDduHEjISFBdu+Nzl3W5X5OT0+/cOGCr68vAIhEooSEBJ4nI+2cfmY6NxFv586dzbU8dgyHDEGBAJ97zsRCMXvJyckhISGvvfbanDlzlixZsmlT0ddf4/79eOIEnj6NycnY0IA+Pnj1qonHWN9+iwBocB0yx1CwQkND9amXSqX6SXyvvPJKXl4e16aurm7hwoXc9dHAwMAWTCVoh/79738DAPfaO3To0OR0rl9+Qe7/YO1a/M9/HvUIW6OhAaurERELCvCFFzAlxZSN/fwQAD//3GjDZoN15MgRbqGcvjxjZ2c3Z86cJutv2dnZXIXQxcVl9xNx/yeumO7o6NinT5///ve/+sc1Giwrw4IC/PRTDAlBjQbnzWvDYbbK7t0IgGIx3vf6DNq7FwHQzQ151FOaDRZ3u8cRI0ZMnTrV1dU1ISFBYfBy240bN7grvkKhMDExkd9I2y+VSsWttu3Ro0dgYGC/fv06d+7M3S2V+/fuu7h3Ly5d+hgHC02rpeOEoKCsF16ofWjGdpOaDRa3bCE6Oloul9/hdxvWwsLC8ePHi0SiAQMG8GnfzmVkZHCXjfU6dNDa2mLnzujjg//4B54/j//8J5oyh7Tdqa7G3r2rhw9/c+XKlYZb5uTkAIBMJrvF7+6pzS6xv379OgC4u7t36NDB6Bkox9/fv6amBgC4qZKPu8mTJ/fo0ePixYseHh731sv/uUb6wAGws4N58+D999t0lK0jkcCaNb+8/PKGX36xGjt2bJN/uIaGBqVS+f777wPAggULeJaWjASLO3LiQ61W19TUcHd/NHzLhsfIwIEDBw4c2OSvXn757g88v9il3QoOHjVr1qwvvvgiODh42rRpNTU1+vt6cpNIb926BQA2NjYSiYSbrMZHs8Hic1ePh9uLxeKamhr+cSTtwerVq3Nycq5fv56YmPjwby0tLaVSqb29/bJly+6/0G6Y2YLF7eG42g8F6/FiZ2eXlZWVkJDg5eV1/01yuDn+XK3YVGbeY3GemI/Cp0evXr0yMjLM2GHTCz90Op1cLhcIBFwNmg8uWPX19UDBIs0Fq7KysrGxsUOHDla8vzWJ+yjkbmPMzQoiT7Omg1VcXGxra6tSqfjvHrk9llarlUqlD6xGJ0+hpoPl7+/v6+vb2Ng4ZcqUmTNnajQaox3NmDFjxowZQJ+DBAAMfCf00aNHt2zZIhaLN27c6Ofnd/r0aQO9/P7777t3705PT7eysnqgWk2eUoYL87/99lu/fv2g+YkxOTk5ISEh+okPI0aMuHz5Mp+SP3myGZ/od/v27djYWC46I0eO5L4Mor6+/ptvvhl870aGNjY2kZGRFy7wW0VEngJ857zv2bOHu2jo4uIybdo0/VfTdOrUKTExUalUMh0leeyYsJiisrKSW+rErWPp1avX2rVr22qpE2nnTLtrsk6n8/T0rKioWL9+/YwZM578m5WTljL5dtwSiaSmpkalUhlYvkKIacFSq9UODg62trZNflEgIXqmfZeOorZ2zOLFltXVjEZDnhimBUtlayufMKH/47A8lbQt025rWdXQAAAdLNvFkl/SnlGwCBOmBcvT2nqMs7N3c8v1CbnHhGDVaLXb5fLuYrEnXWYmxpi2x3Kzsupvb9+tmVshEqJnWrB0AFpTK6rkqWRaucHdyup5w98lSQgAmFR51yHKGxrceM+CJ08zVl/dS55yrL73hzzlKFiECQoWYYKCRZigYBEmKFiECQoWYYKCRZigYBEmKFiECQoWYYKCRZigYBEmKFiECQoWYYKCRZigYBEmKFiECQoWYYKCRZigYBEmKFiECQoWYYKCRZigYBEmKFiECQoWYYKCRZigYBEmKFiECQoWYYKCRZigYBEmKFiECQoWYYKCRZigYBEmKFiECQoWYYKCRZigYBEmKFiECQoWYYKCRZigYBEmKFiECQoWYYKCRZigYBEmKFiECQoWYYKCRZigYBEmKFiECQoWYYKCRZigYBEmKFiECQoWYYKCRZigYBEmKFiECQoWYeL/AXmIeXZOkuuwAAADHHpUWHRyZGtpdFBLTCByZGtpdCAyMDIzLjAzLjEAAHicfZJ/SBNhGMffe2+7m1OnzenmNrd3m+nNOdEKStR5VyT4j5D9IjM7Eez6rREmYRBEoIYgUUkNCS1R0iQK7Qe03UVg+U+S1R8FmRTUH0rRD4lC6/YsKWb1wsv3c899n+f9vse9D119idSViKILqztP3SvVfZxikKgqResQpyqNGR5Uw/BSRGnqdyGq/zHGdLAIClg9I6YVEVU1seUlfgYtToSQGEeVpuJgAPXH+78aVY3NtNi5JDQbNdD/vP/v8DFH/FIWJtOxZR2Ul7jjEYUoTDAtYVojarQS1jKEYQmrk7AuTozTS1gfT+ITSEIihxMMyJCEkpI5nLSMLDMSYwqHU0zIlIpS01CqGZktHDako3Qr0ttEm13C9gykdYgOp4SdRCQuCbvcotsjYU8myVyOlmehrGyUzSHOi7w5KMeHfLko1488WPRzyKUR7axoNSCLkZgYNSyDPW6XhmZ0cXqbnWVSTKlmi5FON1gZh5O4NFrGm+PL9XPmFeqPRf36x1De6ycv+EvF2/nIw/W5QX7SsQm42d7Fmyq+l0a4o6WCbzLOAlseZPJj6xHwfnN7qal7LBDhYHFDoDA4AfX8xp7whZ33gE/KjDzWlg8z37bUy1/3eoGHLa3yjnd94JmauymHhrqAn357LG/Lt4EnSEKyZ6AR+MQ+Smk3moA/TNJK55pK8FtvvJKL5mvvRlgeSVf2zW+APP4Mu+J8eDkc4fmFAuV23yfgPfWrlLVbt8kRZmeIMjzaCnx4o0eZbr4FvFofrxh+7AYe79UpA0f1wFMnLcoXkgcZqM2sUuSIZjvorZIzO+pLIM/zz+HAcR9kEMZbwzPr2uBc/Z3ngWByE3B1qLfU9TIBZnbaCvgNshZYO1HFu9wl4FlZ1s2/uUKAD5DrvLCqEO57cWGaPza4GfgsnuefNT8KRbiuIU2obj8HXPPRI5zach96j0wXCbPWUeBDdeVCw64cOKu9slboKfcA94f3CtcunQfPUEmN0KJzw13OVJQJ/SOn4dum/QRm6tnjfjP1bgAABBF6VFh0TU9MIHJka2l0IDIwMjMuMDMuMQAAeJx9VltuGzkQ/NcpeAER7CfJz9hOgmARGdj17h3yn/sj1RybM0EaK3ka0qiGLFZXd/tW4vX3y18/fpb94pfbrZT2P39zzvKftNZu30t8KE+fv357lOe3T08fd55f/328/VPUixGewft37Ke31+8fd6g8F6/DZ5depCqbdS+ttvU6n+TyWqxKl+EKnJDKoAQnWE9rZ7ysUJ0uwi3BKXBSmV2MgRvGxNm+BhxX69pJ8LM1am4JzoGj2voYGtvJmKNn+3aco1UW9eZ4wHkd/E/cwHp3quyg1QE0GqaSAGcAuVIzw22u3cBgJkBqgZTqjSAjkK6dKTsLRVLuWtkEWGzO08k0Q3J5lLvVrmOM0JuGTkt3j8TcvdoUoondlXWkipNCIqw5lXQgobXjSCPTiCI591HbGHMy1hQSF86QfiBZJi8VBxOlPqNI0L3XxjRcyh0IM+qZ8jTi8BOC+lgAboaPGXIlaSI3nVhWXvHEyKC8skRQkrXbws4mEDXD0juWO3IvkVyB+pbVBfPCxnG6s670dpaWeRQUvywsw89dV4JhFkvrUg9lHSmYuvxlTjNLAr+ny2R2JCFM63BiuqofgpmwDw1Xg4qni/ZjUbUBu4ZbHLWanmoc/tc2el8WNefUVzyP4pvEswU9wpp5t2lLqYq0e+f1CaKOLFkSyWqwPY5C4SvUFM10UV69hDt6nIZMeKBZZhYROJDjyNJ6IBvajmdelaPfKY2Jtozdw34tE1RsddCJ4oNtgXTu3tLdI0lWzV1XyePkmnYJiZpCSTnLqs6B7qfpipGiDsPDQxZ7a0NfztqJRIomfkc5j0DyjM9Zo4+CCi+rv6fIBN05E14JcqKcOqaQWkAVA2JmFtGVIwwG5L2PkN6dLZVeo/ORIjfsKE1A0VDEs1NptD5AuyiDYfQJ1HUqvkaaSOqYDRUdAJR+2nnVD6qChopaio7WUXhZ2X1+vPw2nI9x/fT6eDnHdbz5nMr4UuQcvhrXOWPjbecoxZfi58QkXP0cjIRrnPNPcc1zyikuug4zjUB0GVq0wiZHwS7C5ochFF8h8WXY0LqzWWKo0AqbKIYHR6DNlYJs3Nl0MQtohc04htwK19ZOEXhz5iUm/k5Bl6KYZZszmvFxZ3OGzXmFzZnfOfPmzKEuAm/OaJQa+vDmzKExAm/OaHwUQa4NTpEl2ZTRxjSCbMooaY0gpw2WD9CMN2UJIyDIpizhBgTZlCUoI8imLCFz/Fu4KUvIjCCbsgRlBL0WPEXQzVlDZgTdnDVkRtDNWUNmBD3dG9ZA0M1ZQ2YE3ZxRW7o47xtBOe6em4/j6Ocq4WWIvA9lyxf94kFbvrCLm6Iyr3UY3z/+5cbn2y98Qy2F+EZmMAAAAgp6VFh0U01JTEVTIHJka2l0IDIwMjMuMDMuMQAAeJwtUjmO4zAQ/MqGNqAh+j4gOCIw4fgRyvcF8/itljexiRKbXdd+X3xdcj3el17X9fjZj9f7ue1x//9sf+29H9/P/dr+3Nue16Xf+PmLmYvf+PjDe+Of//w+YlV02qHLxL2O05emVgBQNgVgK0VED14dqnKcukRCHUC5sB6nLE9LPmg5MYUfJy/KKgOi1ZXHSUvUggJDIbPv/OIlwZJAnMsHkcXkfshKL2MAuoJYE0hYyiC2xJUYQ9LB2PTlK62qgXBZB5BY3sqCKRMrve+0sRU0JZ5uILUIQ407yhp6I6ItQ7mEOeehXCQMK75ogRenDoMGp4AkKCLH6YbSEwtHUqXO+ww6WD5Qk9p/SNIPiNL2Huo872LTqErRDyKUfYwqSI6bV4Boz1x48Ie863g4hoXeZjYgARl4hwc+c+YlPpoD6dxuGlXWMVtDEPsdQrP0RMe4VXxDUBU51AmsesIz8IPrMAKuM+6fIwb9GA4yoU8LsAgWASGEHlMU44JSjKFSRTJlagQhA4Vk0F04j7AABWyzKQJ8D1GdKFAauAik0aucMSOUDqQaJzEbSHqO4ISjfZi76uQMzxO9HsQEXTsZXS34BJIR4iDJBrr4BAQZa95I6kiDRqIJnXVV07hEyO5uEB7StlsIJVJAb5+//wBAQrvIKGQEiQAAAABJRU5ErkJggg==\" alt=\"Mol\"/></div></td>\n",
              "      <td>46</td>\n",
              "    </tr>\n",
              "    <tr>\n",
              "      <th>41878</th>\n",
              "      <td>16722836.0</td>\n",
              "      <td>Cc1cnc(Nc2ccc(OCCN3CCCC3)cc2)nc1Nc1cccc(S(=O)(...</td>\n",
              "      <td>P00533</td>\n",
              "      <td>MRPSGTAGAALLALLAALCPASRALEEKKVCQGTSNKLTQLGTFED...</td>\n",
              "      <td>0.05700</td>\n",
              "      <td style=\"text-align: center;\"><div style=\"width: 200px; height: 200px\" data-content=\"rdkit/molecule\"><img src=\"data:image/png;base64,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\" alt=\"Mol\"/></div></td>\n",
              "      <td>37</td>\n",
              "    </tr>\n",
              "  </tbody>\n",
              "</table>\n",
              "<p>41879 rows × 7 columns</p>\n",
              "</div>"
            ],
            "text/plain": [
              "          Drug_ID                                               Drug   \n",
              "0            51.0                                O=C(O)CCC(=O)C(=O)O  \\\n",
              "1           187.0                               CC(=O)OCC[N+](C)(C)C   \n",
              "2           264.0                                          CCCC(=O)O   \n",
              "3           311.0                         O=C(O)CC(O)(CC(=O)O)C(=O)O   \n",
              "4           525.0                                  O=C(O)CC(O)C(=O)O   \n",
              "...           ...                                                ...   \n",
              "41874     44259.0  CN[C@@H]1C[C@H]2O[C@@](C)([C@@H]1OC)n1c3ccccc3...   \n",
              "41875   9869779.0  COc1cc(Oc2ccnc3cc(OC)c(OC)cc23)ccc1NC(=O)NC(C)...   \n",
              "41876   5330790.0   Nc1nc(Nc2ccc(S(N)(=O)=O)cc2)nn1C(=O)c1c(F)cccc1F   \n",
              "41877  57399640.0  COc1cc2c(Oc3ccc(NC(=O)C4(C(=O)NC5=CCC(F)C=C5)C...   \n",
              "41878  16722836.0  Cc1cnc(Nc2ccc(OCCN3CCCC3)cc2)nc1Nc1cccc(S(=O)(...   \n",
              "\n",
              "      Target_ID                                             Target        Y   \n",
              "0        Q9GZT9  MANDSGGPGGPSPSERDRQYCELCGKMENLLRCSRCRSSFYCCKEH...  0.09000  \\\n",
              "1        P58154  MRRNIFCLACLWIVQACLSLDRADILYNIRQTSRPDVIPTQRDRPV...  0.04580   \n",
              "2        Q9Z429  MQQFTIRTRLLMLVGAMFIGFITIELMGFSALQRGVASLNTVYLDR...  9.20000   \n",
              "3        P15474  MPRSLANAPIMILNGPNLNLLGQRQPEIYGSDTLADVEALCVKAAA...  0.73000   \n",
              "4        Q9Z429  MQQFTIRTRLLMLVGAMFIGFITIELMGFSALQRGVASLNTVYLDR...  0.85000   \n",
              "...         ...                                                ...      ...   \n",
              "41874    Q05655  MAPFLRIAFNSYELGSLQAEDEANQPFCAVKMKEALSTERGKTLVQ...  0.00015   \n",
              "41875    P00533  MRPSGTAGAALLALLAALCPASRALEEKKVCQGTSNKLTQLGTFED...  0.20000   \n",
              "41876    O75716  MGHALCVCSRGTVIIDNKRYLFIQKLGEGGFSYVDLVEGLHDGHFY...  0.01400   \n",
              "41877    P57058  MPAAAGDGLLGEPAAPGGGGGAEDAARPAAACEGSFLPAWVSGVPR...  0.54000   \n",
              "41878    P00533  MRPSGTAGAALLALLAALCPASRALEEKKVCQGTSNKLTQLGTFED...  0.05700   \n",
              "\n",
              "                                              Structure  Number_of_Atoms  \n",
              "0      <rdkit.Chem.rdchem.Mol object at 0x7f986aae2570>               10  \n",
              "1      <rdkit.Chem.rdchem.Mol object at 0x7f986aae25d0>               10  \n",
              "2      <rdkit.Chem.rdchem.Mol object at 0x7f986aae2630>                6  \n",
              "3      <rdkit.Chem.rdchem.Mol object at 0x7f986aae2690>               13  \n",
              "4      <rdkit.Chem.rdchem.Mol object at 0x7f986aae26f0>                9  \n",
              "...                                                 ...              ...  \n",
              "41874  <rdkit.Chem.rdchem.Mol object at 0x7f986a576570>               35  \n",
              "41875  <rdkit.Chem.rdchem.Mol object at 0x7f986a5765d0>               34  \n",
              "41876  <rdkit.Chem.rdchem.Mol object at 0x7f986a576630>               27  \n",
              "41877  <rdkit.Chem.rdchem.Mol object at 0x7f986a576690>               46  \n",
              "41878  <rdkit.Chem.rdchem.Mol object at 0x7f986a5766f0>               37  \n",
              "\n",
              "[41879 rows x 7 columns]"
            ]
          },
          "execution_count": 35,
          "metadata": {},
          "output_type": "execute_result"
        }
      ],
      "source": [
        "df"
      ]
    },
    {
      "cell_type": "markdown",
      "metadata": {
        "id": "EQI_ihpNdVZI"
      },
      "source": [
        "# **Converting into required DTypes**"
      ]
    },
    {
      "cell_type": "code",
      "execution_count": null,
      "metadata": {
        "gather": {
          "logged": 1674854849584
        },
        "id": "rwQ5BSsaUY7B"
      },
      "outputs": [],
      "source": [
        "X_drugs = df['Drug'].to_numpy(dtype='<U92')"
      ]
    },
    {
      "cell_type": "code",
      "execution_count": null,
      "metadata": {
        "colab": {
          "base_uri": "https://localhost:8080/"
        },
        "gather": {
          "logged": 1674854849963
        },
        "id": "KzlKzFIVVbrk",
        "outputId": "3cb1b556-25d1-49ad-8ccc-8d377d5268cb"
      },
      "outputs": [
        {
          "data": {
            "text/plain": [
              "array(['O=C(O)CCC(=O)C(=O)O', 'CC(=O)OCC[N+](C)(C)C', 'CCCC(=O)O', ...,\n",
              "       'Nc1nc(Nc2ccc(S(N)(=O)=O)cc2)nn1C(=O)c1c(F)cccc1F',\n",
              "       'COc1cc2c(Oc3ccc(NC(=O)C4(C(=O)NC5=CCC(F)C=C5)CC4)cc3F)ccnc2cc1OCCCN1CCOCC1',\n",
              "       'Cc1cnc(Nc2ccc(OCCN3CCCC3)cc2)nc1Nc1cccc(S(=O)(=O)NC(C)(C)C)c1'],\n",
              "      dtype='<U92')"
            ]
          },
          "execution_count": 37,
          "metadata": {},
          "output_type": "execute_result"
        }
      ],
      "source": [
        "X_drugs"
      ]
    },
    {
      "cell_type": "code",
      "execution_count": null,
      "metadata": {
        "gather": {
          "logged": 1674854850338
        },
        "id": "EQPYPDZZVdVo"
      },
      "outputs": [],
      "source": [
        "X_target = df['Target'].to_numpy(dtype='<U2549')"
      ]
    },
    {
      "cell_type": "code",
      "execution_count": null,
      "metadata": {
        "colab": {
          "base_uri": "https://localhost:8080/"
        },
        "gather": {
          "logged": 1674854850726
        },
        "id": "qQt0qMFDW--I",
        "outputId": "f0d3f4cd-ab99-4b47-e77a-70ad36a5930d"
      },
      "outputs": [
        {
          "data": {
            "text/plain": [
              "array(['MANDSGGPGGPSPSERDRQYCELCGKMENLLRCSRCRSSFYCCKEHQRQDWKKHKLVCQGSEGALGHGVGPHQHSGPAPPAAVPPPRAGAREPRKAAARRDNASGDAAKGKVKAKPPADPAAAASPCRAAAGGQGSAVAAEAEPGKEEPPARSSLFQEKANLYPPSNTPGDALSPGGGLRPNGQTKPLPALKLALEYIVPCMNKHGICVVDDFLGKETGQQIGDEVRALHDTGKFTDGQLVSQKSDSSKDIRGDKITWIEGKEPGCETIGLLMSSMDDLIRHCNGKLGSYKINGRTKAMVACYPGNGTGYVRHVDNPNGDGRCVTCIYYLNKDWDAKVSGGILRIFPEGKAQFADIEPKFDRLLFFWSDRRNPHEVQPAYATRYAITVWYFDADERARAKVKYLTGEKGVRVELNKPSDSVGKDVF',\n",
              "       'MRRNIFCLACLWIVQACLSLDRADILYNIRQTSRPDVIPTQRDRPVAVSVSLKFINILEVNEITNEVDVVFWQQTTWSDRTLAWNSSHSPDQVSVPISSLWVPDLAAYNAISKPEVLTPQLARVVSDGEVLYMPSIRQRFSCDVSGVDTESGATCRIKIGSWTHHSREISVDPTTENSDDSEYFSQYSRFEILDVTQKKNSVTYSCCPEAYEDVEVSLNFRKKGRSEIL',\n",
              "       'MQQFTIRTRLLMLVGAMFIGFITIELMGFSALQRGVASLNTVYLDRVVPLRDLKTIADLYAVKIVDSSHKARSGRMTYAQAEQEVKDAGRQIDMLWHAYQKTKKIDEEQRSVDALAKLVDEAQDPIERLKGILERGDKAALDTFVENEMYPLIDPLSEGLSHLTQIQVEESKRAYDAAVVLYDSSRTMLALLLLGILICGGVFATRLIRSIIHPLTTLKDAAARVALGDLSQSIQVSGRNEVTDVQQSVQAMQANLRNTLQDIQGSAAQLAAAAEELQTATESTAQGIHRQNDEMQMAATAVTEMSAAVDEVADNANRTSNASHEAMDLADGGRKQVMLTRETIDRLSGKLNETTRTVFRLAEEASNIGRVLDVIRAIAEQTKLLALNAAIEAAHAGEAGRGFAVVADEVRNLAQRTQTSTQEIERMISAIQSVTQEGVRDVQQSCEFAARSQTMSSEADQALTLIAERITEINGMNLVIASAAEEQAQVAREVDRNLVAISDISEQSTAGVQQTSEASEELARLAANLNNLVNRFSM',\n",
              "       ...,\n",
              "       'MGHALCVCSRGTVIIDNKRYLFIQKLGEGGFSYVDLVEGLHDGHFYALKRILCHEQQDREEAQREADMHRLFNHPNILRLVAYCLRERGAKHEAWLLLPFFKRGTLWNEIERLKDKGNFLTEDQILWLLLGICRGLEAIHAKGYAHRDLKPTNILLGDEGQPVLMDLGSMNQACIHVEGSRQALTLQDWAAQRCTISYRAPELFSVQSHCVIDERTDVWSLGCVLYAMMFGEGPYDMVFQKGDSVALAVQNQLSIPQSPRHSSALRQLLNSMMTVDPHQRPHIPLLLSQLEALQPPAPGQHTTQI',\n",
              "       'MPAAAGDGLLGEPAAPGGGGGAEDAARPAAACEGSFLPAWVSGVPRERLRDFQHHKRVGNYLIGSRKLGEGSFAKVREGLHVLTGEKVAIKVIDKKRAKKDTYVTKNLRREGQIQQMIRHPNITQLLDILETENSYYLVMELCPGGNLMHKIYEKKRLEESEARRYIRQLISAVEHLHRAGVVHRDLKIENLLLDEDNNIKLIDFGLSNCAGILGYSDPFSTQCGSPAYAAPELLARKKYGPKIDVWSIGVNMYAMLTGTLPFTVEPFSLRALYQKMVDKEMNPLPTQLSTGAISFLRSLLEPDPVKRPNIQQALANRWLNENYTGKVPCNVTYPNRISLEDLSPSVVLHMTEKLGYKNSDVINTVLSNRACHILAIYFLLNKKLERYLSGKSDIQDSLCYKTRLYQIEKYRAPKESYEASLDTWTRDLEFHAVQDKKPKEQEKRGDFLHRPFSKKLDKNLPSHKQPSGSLMTQIQNTKALLKDRKASKSSFPDKDSFGCRNIFRKTSDSNCVASSSMEFIPVPPPRTPRIVKKPEPHQPGPGSTGIPHKEDPLMLDMVRSFESVDRDDHVEVLSPSHHYRILNSPVSLARRNSSERTLSPGLPSGSMSPLHTPLHPTLVSFAHEDKNSPPKEEGLCCPPPVPSNGPMQPLGSPNCVKSRGRFPMMGIGQMLRKRHQSLQPSADRPLEASLPPLQPLAPVNLAFDMADGVKTQC',\n",
              "       'MRPSGTAGAALLALLAALCPASRALEEKKVCQGTSNKLTQLGTFEDHFLSLQRMFNNCEVVLGNLEITYVQRNYDLSFLKTIQEVAGYVLIALNTVERIPLENLQIIRGNMYYENSYALAVLSNYDANKTGLKELPMRNLQEILHGAVRFSNNPALCNVESIQWRDIVSSDFLSNMSMDFQNHLGSCQKCDPSCPNGSCWGAGEENCQKLTKIICAQQCSGRCRGKSPSDCCHNQCAAGCTGPRESDCLVCRKFRDEATCKDTCPPLMLYNPTTYQMDVNPEGKYSFGATCVKKCPRNYVVTDHGSCVRACGADSYEMEEDGVRKCKKCEGPCRKVCNGIGIGEFKDSLSINATNIKHFKNCTSISGDLHILPVAFRGDSFTHTPPLDPQELDILKTVKEITGFLLIQAWPENRTDLHAFENLEIIRGRTKQHGQFSLAVVSLNITSLGLRSLKEISDGDVIISGNKNLCYANTINWKKLFGTSGQKTKIISNRGENSCKATGQVCHALCSPEGCWGPEPRDCVSCRNVSRGRECVDKCNLLEGEPREFVENSECIQCHPECLPQAMNITCTGRGPDNCIQCAHYIDGPHCVKTCPAGVMGENNTLVWKYADAGHVCHLCHPNCTYGCTGPGLEGCPTNGPKIPSIATGMVGALLLLLVVALGIGLFMRRRHIVRKRTLRRLLQERELVEPLTPSGEAPNQALLRILKETEFKKIKVLGSGAFGTVYKGLWIPEGEKVKIPVAIKELREATSPKANKEILDEAYVMASVDNPHVCRLLGICLTSTVQLITQLMPFGCLLDYVREHKDNIGSQYLLNWCVQIAKGMNYLEDRRLVHRDLAARNVLVKTPQHVKITDFGLAKLLGAEEKEYHAEGGKVPIKWMALESILHRIYTHQSDVWSYGVTVWELMTFGSKPYDGIPASEISSILEKGERLPQPPICTIDVYMIMVKCWMIDADSRPKFRELIIEFSKMARDPQRYLVIQGDERMHLPSPTDSNFYRALMDEEDMDDVVDADEYLIPQQGFFSSPSTSRTPLLSSLSATSNNSTVACIDRNGLQSCPIKEDSFLQRYSSDPTGALTEDSIDDTFLPVPEYINQSVPKRPAGSVQNPVYHNQPLNPAPSRDPHYQDPHSTAVGNPEYLNTVQPTCVNSTFDSPAHWAQKGSHQISLDNPDYQQDFFPKEAKPNGIFKGSTAENAEYLRVAPQSSEFIGA'],\n",
              "      dtype='<U2549')"
            ]
          },
          "execution_count": 39,
          "metadata": {},
          "output_type": "execute_result"
        }
      ],
      "source": [
        "X_target"
      ]
    },
    {
      "cell_type": "markdown",
      "metadata": {
        "id": "-O7EAxZWdqbv"
      },
      "source": [
        "# **Importing Libraries for DTI**"
      ]
    },
    {
      "cell_type": "code",
      "execution_count": null,
      "metadata": {
        "colab": {
          "base_uri": "https://localhost:8080/"
        },
        "gather": {
          "logged": 1674854854793
        },
        "id": "bTqidWuRalq0",
        "outputId": "f99dcdfb-9827-457c-9337-01ac1522fe0d"
      },
      "outputs": [
        {
          "name": "stdout",
          "output_type": "stream",
          "text": [
            "Collecting DeepPurpose\n",
            "  Downloading DeepPurpose-0.1.5.tar.gz (158 kB)\n",
            "\u001b[2K     \u001b[90m━━━━━━━━━━━━━━━━━━━━━━━━━━━━━━━━━━━━━━━\u001b[0m \u001b[32m158.5/158.5 kB\u001b[0m \u001b[31m2.6 MB/s\u001b[0m eta \u001b[36m0:00:00\u001b[0ma \u001b[36m0:00:01\u001b[0m\n",
            "\u001b[?25h  Preparing metadata (setup.py) ... \u001b[?25ldone\n",
            "\u001b[?25hRequirement already satisfied: numpy in /anaconda/envs/jupyter_env/lib/python3.8/site-packages (from DeepPurpose) (1.24.2)\n",
            "Requirement already satisfied: pandas in /anaconda/envs/jupyter_env/lib/python3.8/site-packages (from DeepPurpose) (2.0.0)\n",
            "Requirement already satisfied: tqdm in /anaconda/envs/jupyter_env/lib/python3.8/site-packages (from DeepPurpose) (4.65.0)\n",
            "Requirement already satisfied: scikit-learn in /anaconda/envs/jupyter_env/lib/python3.8/site-packages (from DeepPurpose) (1.2.2)\n",
            "Collecting wget\n",
            "  Downloading wget-3.2.zip (10 kB)\n",
            "  Preparing metadata (setup.py) ... \u001b[?25ldone\n",
            "\u001b[?25hCollecting torch\n",
            "  Downloading torch-2.0.0-cp38-cp38-manylinux1_x86_64.whl (619.9 MB)\n",
            "\u001b[2K     \u001b[90m━━━━━━━━━━━━━━━━━━━━━━━━━━━━━━━━━━━━━\u001b[0m \u001b[32m619.9/619.9 MB\u001b[0m \u001b[31m699.3 kB/s\u001b[0m eta \u001b[36m0:00:00\u001b[0m00:01\u001b[0m00:01\u001b[0m\n",
            "\u001b[?25hRequirement already satisfied: matplotlib in /anaconda/envs/jupyter_env/lib/python3.8/site-packages (from DeepPurpose) (3.7.1)\n",
            "Requirement already satisfied: requests in /anaconda/envs/jupyter_env/lib/python3.8/site-packages (from DeepPurpose) (2.28.2)\n",
            "Collecting pandas-flavor\n",
            "  Downloading pandas_flavor-0.5.0-py3-none-any.whl (7.1 kB)\n",
            "Collecting subword-nmt\n",
            "  Downloading subword_nmt-0.3.8-py3-none-any.whl (27 kB)\n",
            "Collecting lifelines\n",
            "  Downloading lifelines-0.27.7-py3-none-any.whl (409 kB)\n",
            "\u001b[2K     \u001b[90m━━━━━━━━━━━━━━━━━━━━━━━━━━━━━━━━━━━━━━━\u001b[0m \u001b[32m409.4/409.4 kB\u001b[0m \u001b[31m4.9 MB/s\u001b[0m eta \u001b[36m0:00:00\u001b[0m00:01\u001b[0m\n",
            "\u001b[?25hCollecting prettytable\n",
            "  Downloading prettytable-3.7.0-py3-none-any.whl (27 kB)\n",
            "Requirement already satisfied: tensorboard in /anaconda/envs/jupyter_env/lib/python3.8/site-packages (from DeepPurpose) (2.12.1)\n",
            "Collecting ax-platform\n",
            "  Downloading ax_platform-0.3.1-py3-none-any.whl (1.2 MB)\n",
            "\u001b[2K     \u001b[90m━━━━━━━━━━━━━━━━━━━━━━━━━━━━━━━━━━━━━━━━\u001b[0m \u001b[32m1.2/1.2 MB\u001b[0m \u001b[31m12.2 MB/s\u001b[0m eta \u001b[36m0:00:00\u001b[0m:00:01\u001b[0m\n",
            "\u001b[?25hCollecting dgllife\n",
            "  Downloading dgllife-0.3.2-py3-none-any.whl (226 kB)\n",
            "\u001b[2K     \u001b[90m━━━━━━━━━━━━━━━━━━━━━━━━━━━━━━━━━━━━━━━\u001b[0m \u001b[32m226.1/226.1 kB\u001b[0m \u001b[31m4.9 MB/s\u001b[0m eta \u001b[36m0:00:00\u001b[0m00:01\u001b[0m\n",
            "\u001b[?25hCollecting plotly>=5.12.0\n",
            "  Downloading plotly-5.14.1-py2.py3-none-any.whl (15.3 MB)\n",
            "\u001b[2K     \u001b[90m━━━━━━━━━━━━━━━━━━━━━━━━━━━━━━━━━━━━━━━━\u001b[0m \u001b[32m15.3/15.3 MB\u001b[0m \u001b[31m21.7 MB/s\u001b[0m eta \u001b[36m0:00:00\u001b[0m00:01\u001b[0m00:01\u001b[0m\n",
            "\u001b[?25hCollecting botorch==0.8.3\n",
            "  Downloading botorch-0.8.3-py3-none-any.whl (521 kB)\n",
            "\u001b[2K     \u001b[90m━━━━━━━━━━━━━━━━━━━━━━━━━━━━━━━━━━━━━━━\u001b[0m \u001b[32m521.8/521.8 kB\u001b[0m \u001b[31m8.4 MB/s\u001b[0m eta \u001b[36m0:00:00\u001b[0m00:01\u001b[0m\n",
            "\u001b[?25hRequirement already satisfied: ipywidgets in /anaconda/envs/jupyter_env/lib/python3.8/site-packages (from ax-platform->DeepPurpose) (7.7.5)\n",
            "Requirement already satisfied: scipy in /anaconda/envs/jupyter_env/lib/python3.8/site-packages (from ax-platform->DeepPurpose) (1.9.1)\n",
            "Collecting typeguard==2.13.3\n",
            "  Downloading typeguard-2.13.3-py3-none-any.whl (17 kB)\n",
            "Requirement already satisfied: jinja2 in /anaconda/envs/jupyter_env/lib/python3.8/site-packages (from ax-platform->DeepPurpose) (3.0.3)\n",
            "Collecting pyro-ppl>=1.8.4\n",
            "  Downloading pyro_ppl-1.8.4-py3-none-any.whl (730 kB)\n",
            "\u001b[2K     \u001b[90m━━━━━━━━━━━━━━━━━━━━━━━━━━━━━━━━━━━━━━━\u001b[0m \u001b[32m730.7/730.7 kB\u001b[0m \u001b[31m9.4 MB/s\u001b[0m eta \u001b[36m0:00:00\u001b[0m00:01\u001b[0m\n",
            "\u001b[?25hCollecting linear-operator==0.3.0\n",
            "  Downloading linear_operator-0.3.0-py3-none-any.whl (155 kB)\n",
            "\u001b[2K     \u001b[90m━━━━━━━━━━━━━━━━━━━━━━━━━━━━━━━━━━━━━━━\u001b[0m \u001b[32m155.6/155.6 kB\u001b[0m \u001b[31m2.2 MB/s\u001b[0m eta \u001b[36m0:00:00\u001b[0m00:01\u001b[0m\n",
            "\u001b[?25hCollecting multipledispatch\n",
            "  Downloading multipledispatch-0.6.0-py3-none-any.whl (11 kB)\n",
            "Collecting gpytorch==1.9.1\n",
            "  Downloading gpytorch-1.9.1-py3-none-any.whl (250 kB)\n",
            "\u001b[2K     \u001b[90m━━━━━━━━━━━━━━━━━━━━━━━━━━━━━━━━━━━━━━━\u001b[0m \u001b[32m250.9/250.9 kB\u001b[0m \u001b[31m4.4 MB/s\u001b[0m eta \u001b[36m0:00:00\u001b[0m00:01\u001b[0m\n",
            "\u001b[?25hCollecting nvidia-nccl-cu11==2.14.3\n",
            "  Downloading nvidia_nccl_cu11-2.14.3-py3-none-manylinux1_x86_64.whl (177.1 MB)\n",
            "\u001b[2K     \u001b[90m━━━━━━━━━━━━━━━━━━━━━━━━━━━━━━━━━━━━━━━\u001b[0m \u001b[32m177.1/177.1 MB\u001b[0m \u001b[31m3.4 MB/s\u001b[0m eta \u001b[36m0:00:00\u001b[0m00:01\u001b[0m00:01\u001b[0m\n",
            "\u001b[?25hRequirement already satisfied: typing-extensions in /anaconda/envs/jupyter_env/lib/python3.8/site-packages (from torch->DeepPurpose) (4.5.0)\n",
            "Collecting triton==2.0.0\n",
            "  Downloading triton-2.0.0-1-cp38-cp38-manylinux2014_x86_64.manylinux_2_17_x86_64.whl (63.2 MB)\n",
            "\u001b[2K     \u001b[90m━━━━━━━━━━━━━━━━━━━━━━━━━━━━━━━━━━━━━━━━\u001b[0m \u001b[32m63.2/63.2 MB\u001b[0m \u001b[31m8.3 MB/s\u001b[0m eta \u001b[36m0:00:00\u001b[0m:00:01\u001b[0m00:01\u001b[0m\n",
            "\u001b[?25hCollecting nvidia-cuda-runtime-cu11==11.7.99\n",
            "  Downloading nvidia_cuda_runtime_cu11-11.7.99-py3-none-manylinux1_x86_64.whl (849 kB)\n",
            "\u001b[2K     \u001b[90m━━━━━━━━━━━━━━━━━━━━━━━━━━━━━━━━━━━━━━━\u001b[0m \u001b[32m849.3/849.3 kB\u001b[0m \u001b[31m9.4 MB/s\u001b[0m eta \u001b[36m0:00:00\u001b[0m00:01\u001b[0m\n",
            "\u001b[?25hCollecting nvidia-cublas-cu11==11.10.3.66\n",
            "  Downloading nvidia_cublas_cu11-11.10.3.66-py3-none-manylinux1_x86_64.whl (317.1 MB)\n",
            "\u001b[2K     \u001b[90m━━━━━━━━━━━━━━━━━━━━━━━━━━━━━━━━━━━━━━━\u001b[0m \u001b[32m317.1/317.1 MB\u001b[0m \u001b[31m1.6 MB/s\u001b[0m eta \u001b[36m0:00:00\u001b[0m00:01\u001b[0m00:01\u001b[0m\n",
            "\u001b[?25hCollecting nvidia-curand-cu11==10.2.10.91\n",
            "  Downloading nvidia_curand_cu11-10.2.10.91-py3-none-manylinux1_x86_64.whl (54.6 MB)\n",
            "\u001b[2K     \u001b[90m━━━━━━━━━━━━━━━━━━━━━━━━━━━━━━━━━━━━━━━━\u001b[0m \u001b[32m54.6/54.6 MB\u001b[0m \u001b[31m8.5 MB/s\u001b[0m eta \u001b[36m0:00:00\u001b[0m:00:01\u001b[0m00:01\u001b[0m\n",
            "\u001b[?25hCollecting nvidia-cuda-nvrtc-cu11==11.7.99\n",
            "  Downloading nvidia_cuda_nvrtc_cu11-11.7.99-2-py3-none-manylinux1_x86_64.whl (21.0 MB)\n",
            "\u001b[2K     \u001b[90m━━━━━━━━━━━━━━━━━━━━━━━━━━━━━━━━━━━━━━━━\u001b[0m \u001b[32m21.0/21.0 MB\u001b[0m \u001b[31m20.9 MB/s\u001b[0m eta \u001b[36m0:00:00\u001b[0m00:01\u001b[0m00:01\u001b[0m\n",
            "\u001b[?25hRequirement already satisfied: filelock in /anaconda/envs/jupyter_env/lib/python3.8/site-packages (from torch->DeepPurpose) (3.11.0)\n",
            "Collecting nvidia-cufft-cu11==10.9.0.58\n",
            "  Downloading nvidia_cufft_cu11-10.9.0.58-py3-none-manylinux1_x86_64.whl (168.4 MB)\n",
            "\u001b[2K     \u001b[90m━━━━━━━━━━━━━━━━━━━━━━━━━━━━━━━━━━━━━━━\u001b[0m \u001b[32m168.4/168.4 MB\u001b[0m \u001b[31m4.3 MB/s\u001b[0m eta \u001b[36m0:00:00\u001b[0m00:01\u001b[0m00:01\u001b[0m\n",
            "\u001b[?25hCollecting nvidia-cusparse-cu11==11.7.4.91\n",
            "  Downloading nvidia_cusparse_cu11-11.7.4.91-py3-none-manylinux1_x86_64.whl (173.2 MB)\n",
            "\u001b[2K     \u001b[90m━━━━━━━━━━━━━━━━━━━━━━━━━━━━━━━━━━━━━━━\u001b[0m \u001b[32m173.2/173.2 MB\u001b[0m \u001b[31m4.4 MB/s\u001b[0m eta \u001b[36m0:00:00\u001b[0m00:01\u001b[0m00:01\u001b[0m\n",
            "\u001b[?25hCollecting sympy\n",
            "  Downloading sympy-1.11.1-py3-none-any.whl (6.5 MB)\n",
            "\u001b[2K     \u001b[90m━━━━━━━━━━━━━━━━━━━━━━━━━━━━━━━━━━━━━━━━\u001b[0m \u001b[32m6.5/6.5 MB\u001b[0m \u001b[31m31.8 MB/s\u001b[0m eta \u001b[36m0:00:00\u001b[0m:00:01\u001b[0m00:01\u001b[0m\n",
            "\u001b[?25hCollecting nvidia-cudnn-cu11==8.5.0.96\n",
            "  Downloading nvidia_cudnn_cu11-8.5.0.96-2-py3-none-manylinux1_x86_64.whl (557.1 MB)\n",
            "\u001b[2K     \u001b[90m━━━━━━━━━━━━━━━━━━━━━━━━━━━━━━━━━━━━━\u001b[0m \u001b[32m557.1/557.1 MB\u001b[0m \u001b[31m852.6 kB/s\u001b[0m eta \u001b[36m0:00:00\u001b[0m00:01\u001b[0m00:01\u001b[0m\n",
            "\u001b[?25hRequirement already satisfied: networkx in /anaconda/envs/jupyter_env/lib/python3.8/site-packages (from torch->DeepPurpose) (3.1)\n",
            "Collecting nvidia-cusolver-cu11==11.4.0.1\n",
            "  Downloading nvidia_cusolver_cu11-11.4.0.1-2-py3-none-manylinux1_x86_64.whl (102.6 MB)\n",
            "\u001b[2K     \u001b[90m━━━━━━━━━━━━━━━━━━━━━━━━━━━━━━━━━━━━━━━\u001b[0m \u001b[32m102.6/102.6 MB\u001b[0m \u001b[31m4.2 MB/s\u001b[0m eta \u001b[36m0:00:00\u001b[0m00:01\u001b[0m00:01\u001b[0m\n",
            "\u001b[?25hCollecting nvidia-nvtx-cu11==11.7.91\n",
            "  Downloading nvidia_nvtx_cu11-11.7.91-py3-none-manylinux1_x86_64.whl (98 kB)\n",
            "\u001b[2K     \u001b[90m━━━━━━━━━━━━━━━━━━━━━━━━━━━━━━━━━━━━━━━━\u001b[0m \u001b[32m98.6/98.6 kB\u001b[0m \u001b[31m1.4 MB/s\u001b[0m eta \u001b[36m0:00:00\u001b[0mta \u001b[36m0:00:01\u001b[0m\n",
            "\u001b[?25hCollecting nvidia-cuda-cupti-cu11==11.7.101\n",
            "  Downloading nvidia_cuda_cupti_cu11-11.7.101-py3-none-manylinux1_x86_64.whl (11.8 MB)\n",
            "\u001b[2K     \u001b[90m━━━━━━━━━━━━━━━━━━━━━━━━━━━━━━━━━━━━━━━━\u001b[0m \u001b[32m11.8/11.8 MB\u001b[0m \u001b[31m32.0 MB/s\u001b[0m eta \u001b[36m0:00:00\u001b[0m00:01\u001b[0m00:01\u001b[0m\n",
            "\u001b[?25hRequirement already satisfied: setuptools in /anaconda/envs/jupyter_env/lib/python3.8/site-packages (from nvidia-cublas-cu11==11.10.3.66->torch->DeepPurpose) (65.6.3)\n",
            "Requirement already satisfied: wheel in /anaconda/envs/jupyter_env/lib/python3.8/site-packages (from nvidia-cublas-cu11==11.10.3.66->torch->DeepPurpose) (0.37.1)\n",
            "Collecting lit\n",
            "  Downloading lit-16.0.3.tar.gz (138 kB)\n",
            "\u001b[2K     \u001b[90m━━━━━━━━━━━━━━━━━━━━━━━━━━━━━━━━━━━━━━━\u001b[0m \u001b[32m138.0/138.0 kB\u001b[0m \u001b[31m3.2 MB/s\u001b[0m eta \u001b[36m0:00:00\u001b[0ma \u001b[36m0:00:01\u001b[0m\n",
            "\u001b[?25h  Preparing metadata (setup.py) ... \u001b[?25ldone\n",
            "\u001b[?25hCollecting cmake\n",
            "  Downloading cmake-3.26.3-py2.py3-none-manylinux2014_x86_64.manylinux_2_17_x86_64.whl (24.0 MB)\n",
            "\u001b[2K     \u001b[90m━━━━━━━━━━━━━━━━━━━━━━━━━━━━━━━━━━━━━━━━\u001b[0m \u001b[32m24.0/24.0 MB\u001b[0m \u001b[31m15.6 MB/s\u001b[0m eta \u001b[36m0:00:00\u001b[0m00:01\u001b[0m00:01\u001b[0m\n",
            "\u001b[?25hRequirement already satisfied: joblib in /anaconda/envs/jupyter_env/lib/python3.8/site-packages (from dgllife->DeepPurpose) (1.2.0)\n",
            "Collecting hyperopt\n",
            "  Downloading hyperopt-0.2.7-py2.py3-none-any.whl (1.6 MB)\n",
            "\u001b[2K     \u001b[90m━━━━━━━━━━━━━━━━━━━━━━━━━━━━━━━━━━━━━━━━\u001b[0m \u001b[32m1.6/1.6 MB\u001b[0m \u001b[31m13.6 MB/s\u001b[0m eta \u001b[36m0:00:00\u001b[0m:00:01\u001b[0m\n",
            "\u001b[?25hRequirement already satisfied: certifi>=2017.4.17 in /anaconda/envs/jupyter_env/lib/python3.8/site-packages (from requests->DeepPurpose) (2022.12.7)\n",
            "Requirement already satisfied: charset-normalizer<4,>=2 in /anaconda/envs/jupyter_env/lib/python3.8/site-packages (from requests->DeepPurpose) (3.1.0)\n",
            "Requirement already satisfied: idna<4,>=2.5 in /anaconda/envs/jupyter_env/lib/python3.8/site-packages (from requests->DeepPurpose) (3.4)\n",
            "Requirement already satisfied: urllib3<1.27,>=1.21.1 in /anaconda/envs/jupyter_env/lib/python3.8/site-packages (from requests->DeepPurpose) (1.26.15)\n",
            "Requirement already satisfied: threadpoolctl>=2.0.0 in /anaconda/envs/jupyter_env/lib/python3.8/site-packages (from scikit-learn->DeepPurpose) (3.1.0)\n",
            "Collecting formulaic>=0.2.2\n",
            "  Downloading formulaic-0.6.1-py3-none-any.whl (82 kB)\n",
            "\u001b[2K     \u001b[90m━━━━━━━━━━━━━━━━━━━━━━━━━━━━━━━━━━━━━━━━\u001b[0m \u001b[32m82.3/82.3 kB\u001b[0m \u001b[31m1.4 MB/s\u001b[0m eta \u001b[36m0:00:00\u001b[0m:00:01\u001b[0m\n",
            "\u001b[?25hCollecting autograd>=1.5\n",
            "  Downloading autograd-1.5-py3-none-any.whl (48 kB)\n",
            "\u001b[2K     \u001b[90m━━━━━━━━━━━━━━━━━━━━━━━━━━━━━━━━━━━━━━━━\u001b[0m \u001b[32m48.9/48.9 kB\u001b[0m \u001b[31m1.3 MB/s\u001b[0m eta \u001b[36m0:00:00\u001b[0m\n",
            "\u001b[?25hCollecting autograd-gamma>=0.3\n",
            "  Downloading autograd-gamma-0.5.0.tar.gz (4.0 kB)\n",
            "  Preparing metadata (setup.py) ... \u001b[?25ldone\n",
            "\u001b[?25hRequirement already satisfied: contourpy>=1.0.1 in /anaconda/envs/jupyter_env/lib/python3.8/site-packages (from matplotlib->DeepPurpose) (1.0.7)\n",
            "Requirement already satisfied: kiwisolver>=1.0.1 in /anaconda/envs/jupyter_env/lib/python3.8/site-packages (from matplotlib->DeepPurpose) (1.4.4)\n",
            "Requirement already satisfied: pillow>=6.2.0 in /anaconda/envs/jupyter_env/lib/python3.8/site-packages (from matplotlib->DeepPurpose) (9.5.0)\n",
            "Requirement already satisfied: cycler>=0.10 in /anaconda/envs/jupyter_env/lib/python3.8/site-packages (from matplotlib->DeepPurpose) (0.11.0)\n",
            "Requirement already satisfied: python-dateutil>=2.7 in /anaconda/envs/jupyter_env/lib/python3.8/site-packages (from matplotlib->DeepPurpose) (2.8.2)\n",
            "Requirement already satisfied: packaging>=20.0 in /anaconda/envs/jupyter_env/lib/python3.8/site-packages (from matplotlib->DeepPurpose) (21.3)\n",
            "Requirement already satisfied: importlib-resources>=3.2.0 in /anaconda/envs/jupyter_env/lib/python3.8/site-packages (from matplotlib->DeepPurpose) (5.12.0)\n",
            "Requirement already satisfied: fonttools>=4.22.0 in /anaconda/envs/jupyter_env/lib/python3.8/site-packages (from matplotlib->DeepPurpose) (4.39.3)\n",
            "Requirement already satisfied: pyparsing>=2.3.1 in /anaconda/envs/jupyter_env/lib/python3.8/site-packages (from matplotlib->DeepPurpose) (3.0.9)\n",
            "Requirement already satisfied: pytz>=2020.1 in /anaconda/envs/jupyter_env/lib/python3.8/site-packages (from pandas->DeepPurpose) (2023.3)\n",
            "Requirement already satisfied: tzdata>=2022.1 in /anaconda/envs/jupyter_env/lib/python3.8/site-packages (from pandas->DeepPurpose) (2023.3)\n",
            "Requirement already satisfied: lazy-loader>=0.1 in /anaconda/envs/jupyter_env/lib/python3.8/site-packages (from pandas-flavor->DeepPurpose) (0.2)\n",
            "Collecting xarray\n",
            "  Downloading xarray-2023.1.0-py3-none-any.whl (973 kB)\n",
            "\u001b[2K     \u001b[90m━━━━━━━━━━━━━━━━━━━━━━━━━━━━━━━━━━━━━━\u001b[0m \u001b[32m973.1/973.1 kB\u001b[0m \u001b[31m10.3 MB/s\u001b[0m eta \u001b[36m0:00:00\u001b[0m00:01\u001b[0m\n",
            "\u001b[?25hRequirement already satisfied: wcwidth in /anaconda/envs/jupyter_env/lib/python3.8/site-packages (from prettytable->DeepPurpose) (0.2.6)\n",
            "Collecting mock\n",
            "  Downloading mock-5.0.2-py3-none-any.whl (30 kB)\n",
            "Requirement already satisfied: google-auth-oauthlib<1.1,>=0.5 in /anaconda/envs/jupyter_env/lib/python3.8/site-packages (from tensorboard->DeepPurpose) (1.0.0)\n",
            "Requirement already satisfied: markdown>=2.6.8 in /anaconda/envs/jupyter_env/lib/python3.8/site-packages (from tensorboard->DeepPurpose) (3.4.3)\n",
            "Requirement already satisfied: tensorboard-data-server<0.8.0,>=0.7.0 in /anaconda/envs/jupyter_env/lib/python3.8/site-packages (from tensorboard->DeepPurpose) (0.7.0)\n",
            "Requirement already satisfied: protobuf>=3.19.6 in /anaconda/envs/jupyter_env/lib/python3.8/site-packages (from tensorboard->DeepPurpose) (3.20.3)\n",
            "Requirement already satisfied: absl-py>=0.4 in /anaconda/envs/jupyter_env/lib/python3.8/site-packages (from tensorboard->DeepPurpose) (1.4.0)\n",
            "Requirement already satisfied: werkzeug>=1.0.1 in /anaconda/envs/jupyter_env/lib/python3.8/site-packages (from tensorboard->DeepPurpose) (2.2.3)\n",
            "Requirement already satisfied: tensorboard-plugin-wit>=1.6.0 in /anaconda/envs/jupyter_env/lib/python3.8/site-packages (from tensorboard->DeepPurpose) (1.8.1)\n",
            "Requirement already satisfied: google-auth<3,>=1.6.3 in /anaconda/envs/jupyter_env/lib/python3.8/site-packages (from tensorboard->DeepPurpose) (2.17.2)\n",
            "Requirement already satisfied: grpcio>=1.48.2 in /anaconda/envs/jupyter_env/lib/python3.8/site-packages (from tensorboard->DeepPurpose) (1.53.0)\n",
            "Collecting future>=0.15.2\n",
            "  Downloading future-0.18.3.tar.gz (840 kB)\n",
            "\u001b[2K     \u001b[90m━━━━━━━━━━━━━━━━━━━━━━━━━━━━━━━━━━━━━━━\u001b[0m \u001b[32m840.9/840.9 kB\u001b[0m \u001b[31m9.8 MB/s\u001b[0m eta \u001b[36m0:00:00\u001b[0m00:01\u001b[0m\n",
            "\u001b[?25h  Preparing metadata (setup.py) ... \u001b[?25ldone\n",
            "\u001b[?25hCollecting graphlib-backport>=1.0.0\n",
            "  Downloading graphlib_backport-1.0.3-py3-none-any.whl (5.1 kB)\n",
            "Collecting wrapt>=1.0\n",
            "  Downloading wrapt-1.15.0-cp38-cp38-manylinux_2_5_x86_64.manylinux1_x86_64.manylinux_2_17_x86_64.manylinux2014_x86_64.whl (81 kB)\n",
            "\u001b[2K     \u001b[90m━━━━━━━━━━━━━━━━━━━━━━━━━━━━━━━━━━━━━━━━\u001b[0m \u001b[32m81.5/81.5 kB\u001b[0m \u001b[31m3.3 MB/s\u001b[0m eta \u001b[36m0:00:00\u001b[0m\n",
            "\u001b[?25hCollecting astor>=0.8\n",
            "  Downloading astor-0.8.1-py2.py3-none-any.whl (27 kB)\n",
            "Collecting interface-meta>=1.2.0\n",
            "  Downloading interface_meta-1.3.0-py3-none-any.whl (14 kB)\n",
            "Requirement already satisfied: pyasn1-modules>=0.2.1 in /anaconda/envs/jupyter_env/lib/python3.8/site-packages (from google-auth<3,>=1.6.3->tensorboard->DeepPurpose) (0.2.8)\n",
            "Requirement already satisfied: cachetools<6.0,>=2.0.0 in /anaconda/envs/jupyter_env/lib/python3.8/site-packages (from google-auth<3,>=1.6.3->tensorboard->DeepPurpose) (5.3.0)\n",
            "Requirement already satisfied: rsa<5,>=3.1.4 in /anaconda/envs/jupyter_env/lib/python3.8/site-packages (from google-auth<3,>=1.6.3->tensorboard->DeepPurpose) (4.9)\n",
            "Requirement already satisfied: six>=1.9.0 in /anaconda/envs/jupyter_env/lib/python3.8/site-packages (from google-auth<3,>=1.6.3->tensorboard->DeepPurpose) (1.16.0)\n",
            "Requirement already satisfied: requests-oauthlib>=0.7.0 in /anaconda/envs/jupyter_env/lib/python3.8/site-packages (from google-auth-oauthlib<1.1,>=0.5->tensorboard->DeepPurpose) (1.3.1)\n",
            "Requirement already satisfied: zipp>=3.1.0 in /anaconda/envs/jupyter_env/lib/python3.8/site-packages (from importlib-resources>=3.2.0->matplotlib->DeepPurpose) (3.15.0)\n",
            "Requirement already satisfied: importlib-metadata>=4.4 in /anaconda/envs/jupyter_env/lib/python3.8/site-packages (from markdown>=2.6.8->tensorboard->DeepPurpose) (6.1.0)\n",
            "Collecting tenacity>=6.2.0\n",
            "  Downloading tenacity-8.2.2-py3-none-any.whl (24 kB)\n",
            "Collecting MarkupSafe>=2.1.1\n",
            "  Downloading MarkupSafe-2.1.2-cp38-cp38-manylinux_2_17_x86_64.manylinux2014_x86_64.whl (25 kB)\n",
            "Collecting py4j\n",
            "  Downloading py4j-0.10.9.7-py2.py3-none-any.whl (200 kB)\n",
            "\u001b[2K     \u001b[90m━━━━━━━━━━━━━━━━━━━━━━━━━━━━━━━━━━━━━━━\u001b[0m \u001b[32m200.5/200.5 kB\u001b[0m \u001b[31m9.5 MB/s\u001b[0m eta \u001b[36m0:00:00\u001b[0m\n",
            "\u001b[?25hRequirement already satisfied: cloudpickle in /anaconda/envs/jupyter_env/lib/python3.8/site-packages (from hyperopt->dgllife->DeepPurpose) (2.2.1)\n",
            "Requirement already satisfied: widgetsnbextension~=3.6.4 in /anaconda/envs/jupyter_env/lib/python3.8/site-packages (from ipywidgets->ax-platform->DeepPurpose) (3.6.4)\n",
            "Requirement already satisfied: ipykernel>=4.5.1 in /anaconda/envs/jupyter_env/lib/python3.8/site-packages (from ipywidgets->ax-platform->DeepPurpose) (6.20.2)\n",
            "Requirement already satisfied: ipython-genutils~=0.2.0 in /anaconda/envs/jupyter_env/lib/python3.8/site-packages (from ipywidgets->ax-platform->DeepPurpose) (0.2.0)\n",
            "Requirement already satisfied: traitlets>=4.3.1 in /anaconda/envs/jupyter_env/lib/python3.8/site-packages (from ipywidgets->ax-platform->DeepPurpose) (5.9.0)\n",
            "Requirement already satisfied: ipython>=4.0.0 in /anaconda/envs/jupyter_env/lib/python3.8/site-packages (from ipywidgets->ax-platform->DeepPurpose) (8.12.0)\n",
            "Requirement already satisfied: jupyterlab-widgets<3,>=1.0.0 in /anaconda/envs/jupyter_env/lib/python3.8/site-packages (from ipywidgets->ax-platform->DeepPurpose) (1.1.1)\n",
            "Collecting mpmath>=0.19\n",
            "  Downloading mpmath-1.3.0-py3-none-any.whl (536 kB)\n",
            "\u001b[2K     \u001b[90m━━━━━━━━━━━━━━━━━━━━━━━━━━━━━━━━━━━━━━━\u001b[0m \u001b[32m536.2/536.2 kB\u001b[0m \u001b[31m7.4 MB/s\u001b[0m eta \u001b[36m0:00:00\u001b[0m00:01\u001b[0m\n",
            "\u001b[?25hRequirement already satisfied: psutil in /anaconda/envs/jupyter_env/lib/python3.8/site-packages (from ipykernel>=4.5.1->ipywidgets->ax-platform->DeepPurpose) (5.9.4)\n",
            "Requirement already satisfied: debugpy>=1.0 in /anaconda/envs/jupyter_env/lib/python3.8/site-packages (from ipykernel>=4.5.1->ipywidgets->ax-platform->DeepPurpose) (1.6.7)\n",
            "Requirement already satisfied: nest-asyncio in /anaconda/envs/jupyter_env/lib/python3.8/site-packages (from ipykernel>=4.5.1->ipywidgets->ax-platform->DeepPurpose) (1.5.6)\n",
            "Requirement already satisfied: pyzmq>=17 in /anaconda/envs/jupyter_env/lib/python3.8/site-packages (from ipykernel>=4.5.1->ipywidgets->ax-platform->DeepPurpose) (25.0.2)\n",
            "Requirement already satisfied: tornado>=6.1 in /anaconda/envs/jupyter_env/lib/python3.8/site-packages (from ipykernel>=4.5.1->ipywidgets->ax-platform->DeepPurpose) (6.2)\n",
            "Requirement already satisfied: jupyter-client>=6.1.12 in /anaconda/envs/jupyter_env/lib/python3.8/site-packages (from ipykernel>=4.5.1->ipywidgets->ax-platform->DeepPurpose) (8.1.0)\n",
            "Requirement already satisfied: matplotlib-inline>=0.1 in /anaconda/envs/jupyter_env/lib/python3.8/site-packages (from ipykernel>=4.5.1->ipywidgets->ax-platform->DeepPurpose) (0.1.6)\n",
            "Requirement already satisfied: comm>=0.1.1 in /anaconda/envs/jupyter_env/lib/python3.8/site-packages (from ipykernel>=4.5.1->ipywidgets->ax-platform->DeepPurpose) (0.1.3)\n",
            "Requirement already satisfied: jedi>=0.16 in /anaconda/envs/jupyter_env/lib/python3.8/site-packages (from ipython>=4.0.0->ipywidgets->ax-platform->DeepPurpose) (0.18.2)\n",
            "Requirement already satisfied: pygments>=2.4.0 in /anaconda/envs/jupyter_env/lib/python3.8/site-packages (from ipython>=4.0.0->ipywidgets->ax-platform->DeepPurpose) (2.14.0)\n",
            "Requirement already satisfied: pickleshare in /anaconda/envs/jupyter_env/lib/python3.8/site-packages (from ipython>=4.0.0->ipywidgets->ax-platform->DeepPurpose) (0.7.5)\n",
            "Requirement already satisfied: prompt-toolkit!=3.0.37,<3.1.0,>=3.0.30 in /anaconda/envs/jupyter_env/lib/python3.8/site-packages (from ipython>=4.0.0->ipywidgets->ax-platform->DeepPurpose) (3.0.38)\n",
            "Requirement already satisfied: pexpect>4.3 in /anaconda/envs/jupyter_env/lib/python3.8/site-packages (from ipython>=4.0.0->ipywidgets->ax-platform->DeepPurpose) (4.8.0)\n",
            "Requirement already satisfied: backcall in /anaconda/envs/jupyter_env/lib/python3.8/site-packages (from ipython>=4.0.0->ipywidgets->ax-platform->DeepPurpose) (0.2.0)\n",
            "Requirement already satisfied: stack-data in /anaconda/envs/jupyter_env/lib/python3.8/site-packages (from ipython>=4.0.0->ipywidgets->ax-platform->DeepPurpose) (0.6.2)\n",
            "Requirement already satisfied: decorator in /anaconda/envs/jupyter_env/lib/python3.8/site-packages (from ipython>=4.0.0->ipywidgets->ax-platform->DeepPurpose) (5.1.1)\n",
            "Requirement already satisfied: pyasn1<0.5.0,>=0.4.6 in /anaconda/envs/jupyter_env/lib/python3.8/site-packages (from pyasn1-modules>=0.2.1->google-auth<3,>=1.6.3->tensorboard->DeepPurpose) (0.4.8)\n",
            "Collecting pyro-api>=0.1.1\n",
            "  Downloading pyro_api-0.1.2-py3-none-any.whl (11 kB)\n",
            "Collecting opt-einsum>=2.3.2\n",
            "  Downloading opt_einsum-3.3.0-py3-none-any.whl (65 kB)\n",
            "\u001b[2K     \u001b[90m━━━━━━━━━━━━━━━━━━━━━━━━━━━━━━━━━━━━━━━━\u001b[0m \u001b[32m65.5/65.5 kB\u001b[0m \u001b[31m2.0 MB/s\u001b[0m eta \u001b[36m0:00:00\u001b[0m\n",
            "\u001b[?25hRequirement already satisfied: oauthlib>=3.0.0 in /anaconda/envs/jupyter_env/lib/python3.8/site-packages (from requests-oauthlib>=0.7.0->google-auth-oauthlib<1.1,>=0.5->tensorboard->DeepPurpose) (3.2.2)\n",
            "Requirement already satisfied: notebook>=4.4.1 in /anaconda/envs/jupyter_env/lib/python3.8/site-packages (from widgetsnbextension~=3.6.4->ipywidgets->ax-platform->DeepPurpose) (6.5.4)\n",
            "Requirement already satisfied: parso<0.9.0,>=0.8.0 in /anaconda/envs/jupyter_env/lib/python3.8/site-packages (from jedi>=0.16->ipython>=4.0.0->ipywidgets->ax-platform->DeepPurpose) (0.8.3)\n",
            "Requirement already satisfied: jupyter-core!=5.0.*,>=4.12 in /anaconda/envs/jupyter_env/lib/python3.8/site-packages (from jupyter-client>=6.1.12->ipykernel>=4.5.1->ipywidgets->ax-platform->DeepPurpose) (5.3.0)\n",
            "Requirement already satisfied: argon2-cffi in /anaconda/envs/jupyter_env/lib/python3.8/site-packages (from notebook>=4.4.1->widgetsnbextension~=3.6.4->ipywidgets->ax-platform->DeepPurpose) (21.3.0)\n",
            "Requirement already satisfied: terminado>=0.8.3 in /anaconda/envs/jupyter_env/lib/python3.8/site-packages (from notebook>=4.4.1->widgetsnbextension~=3.6.4->ipywidgets->ax-platform->DeepPurpose) (0.17.1)\n",
            "Requirement already satisfied: nbformat in /anaconda/envs/jupyter_env/lib/python3.8/site-packages (from notebook>=4.4.1->widgetsnbextension~=3.6.4->ipywidgets->ax-platform->DeepPurpose) (5.8.0)\n",
            "Requirement already satisfied: prometheus-client in /anaconda/envs/jupyter_env/lib/python3.8/site-packages (from notebook>=4.4.1->widgetsnbextension~=3.6.4->ipywidgets->ax-platform->DeepPurpose) (0.16.0)\n",
            "Requirement already satisfied: nbclassic>=0.4.7 in /anaconda/envs/jupyter_env/lib/python3.8/site-packages (from notebook>=4.4.1->widgetsnbextension~=3.6.4->ipywidgets->ax-platform->DeepPurpose) (0.5.5)\n",
            "Requirement already satisfied: nbconvert>=5 in /anaconda/envs/jupyter_env/lib/python3.8/site-packages (from notebook>=4.4.1->widgetsnbextension~=3.6.4->ipywidgets->ax-platform->DeepPurpose) (6.4.5)\n",
            "Requirement already satisfied: Send2Trash>=1.8.0 in /anaconda/envs/jupyter_env/lib/python3.8/site-packages (from notebook>=4.4.1->widgetsnbextension~=3.6.4->ipywidgets->ax-platform->DeepPurpose) (1.8.0)\n",
            "Requirement already satisfied: ptyprocess>=0.5 in /anaconda/envs/jupyter_env/lib/python3.8/site-packages (from pexpect>4.3->ipython>=4.0.0->ipywidgets->ax-platform->DeepPurpose) (0.7.0)\n",
            "Requirement already satisfied: pure-eval in /anaconda/envs/jupyter_env/lib/python3.8/site-packages (from stack-data->ipython>=4.0.0->ipywidgets->ax-platform->DeepPurpose) (0.2.2)\n",
            "Requirement already satisfied: executing>=1.2.0 in /anaconda/envs/jupyter_env/lib/python3.8/site-packages (from stack-data->ipython>=4.0.0->ipywidgets->ax-platform->DeepPurpose) (1.2.0)\n",
            "Requirement already satisfied: asttokens>=2.1.0 in /anaconda/envs/jupyter_env/lib/python3.8/site-packages (from stack-data->ipython>=4.0.0->ipywidgets->ax-platform->DeepPurpose) (2.2.1)\n",
            "Requirement already satisfied: platformdirs>=2.5 in /anaconda/envs/jupyter_env/lib/python3.8/site-packages (from jupyter-core!=5.0.*,>=4.12->jupyter-client>=6.1.12->ipykernel>=4.5.1->ipywidgets->ax-platform->DeepPurpose) (3.2.0)\n",
            "Requirement already satisfied: notebook-shim>=0.1.0 in /anaconda/envs/jupyter_env/lib/python3.8/site-packages (from nbclassic>=0.4.7->notebook>=4.4.1->widgetsnbextension~=3.6.4->ipywidgets->ax-platform->DeepPurpose) (0.2.2)\n",
            "Requirement already satisfied: jupyter-server>=1.8 in /anaconda/envs/jupyter_env/lib/python3.8/site-packages (from nbclassic>=0.4.7->notebook>=4.4.1->widgetsnbextension~=3.6.4->ipywidgets->ax-platform->DeepPurpose) (1.21.0)\n",
            "Requirement already satisfied: mistune<2,>=0.8.1 in /anaconda/envs/jupyter_env/lib/python3.8/site-packages (from nbconvert>=5->notebook>=4.4.1->widgetsnbextension~=3.6.4->ipywidgets->ax-platform->DeepPurpose) (0.8.4)\n",
            "Requirement already satisfied: beautifulsoup4 in /anaconda/envs/jupyter_env/lib/python3.8/site-packages (from nbconvert>=5->notebook>=4.4.1->widgetsnbextension~=3.6.4->ipywidgets->ax-platform->DeepPurpose) (4.12.1)\n",
            "Requirement already satisfied: pandocfilters>=1.4.1 in /anaconda/envs/jupyter_env/lib/python3.8/site-packages (from nbconvert>=5->notebook>=4.4.1->widgetsnbextension~=3.6.4->ipywidgets->ax-platform->DeepPurpose) (1.5.0)\n",
            "Requirement already satisfied: jupyterlab-pygments in /anaconda/envs/jupyter_env/lib/python3.8/site-packages (from nbconvert>=5->notebook>=4.4.1->widgetsnbextension~=3.6.4->ipywidgets->ax-platform->DeepPurpose) (0.2.2)\n",
            "Requirement already satisfied: testpath in /anaconda/envs/jupyter_env/lib/python3.8/site-packages (from nbconvert>=5->notebook>=4.4.1->widgetsnbextension~=3.6.4->ipywidgets->ax-platform->DeepPurpose) (0.6.0)\n",
            "Requirement already satisfied: bleach in /anaconda/envs/jupyter_env/lib/python3.8/site-packages (from nbconvert>=5->notebook>=4.4.1->widgetsnbextension~=3.6.4->ipywidgets->ax-platform->DeepPurpose) (6.0.0)\n",
            "Requirement already satisfied: defusedxml in /anaconda/envs/jupyter_env/lib/python3.8/site-packages (from nbconvert>=5->notebook>=4.4.1->widgetsnbextension~=3.6.4->ipywidgets->ax-platform->DeepPurpose) (0.7.1)\n",
            "Requirement already satisfied: nbclient<0.6.0,>=0.5.0 in /anaconda/envs/jupyter_env/lib/python3.8/site-packages (from nbconvert>=5->notebook>=4.4.1->widgetsnbextension~=3.6.4->ipywidgets->ax-platform->DeepPurpose) (0.5.13)\n",
            "Requirement already satisfied: entrypoints>=0.2.2 in /anaconda/envs/jupyter_env/lib/python3.8/site-packages (from nbconvert>=5->notebook>=4.4.1->widgetsnbextension~=3.6.4->ipywidgets->ax-platform->DeepPurpose) (0.4)\n",
            "Requirement already satisfied: jsonschema>=2.6 in /anaconda/envs/jupyter_env/lib/python3.8/site-packages (from nbformat->notebook>=4.4.1->widgetsnbextension~=3.6.4->ipywidgets->ax-platform->DeepPurpose) (4.17.3)\n",
            "Requirement already satisfied: fastjsonschema in /anaconda/envs/jupyter_env/lib/python3.8/site-packages (from nbformat->notebook>=4.4.1->widgetsnbextension~=3.6.4->ipywidgets->ax-platform->DeepPurpose) (2.16.3)\n",
            "Requirement already satisfied: argon2-cffi-bindings in /anaconda/envs/jupyter_env/lib/python3.8/site-packages (from argon2-cffi->notebook>=4.4.1->widgetsnbextension~=3.6.4->ipywidgets->ax-platform->DeepPurpose) (21.2.0)\n",
            "Requirement already satisfied: pkgutil-resolve-name>=1.3.10 in /anaconda/envs/jupyter_env/lib/python3.8/site-packages (from jsonschema>=2.6->nbformat->notebook>=4.4.1->widgetsnbextension~=3.6.4->ipywidgets->ax-platform->DeepPurpose) (1.3.10)\n",
            "Requirement already satisfied: pyrsistent!=0.17.0,!=0.17.1,!=0.17.2,>=0.14.0 in /anaconda/envs/jupyter_env/lib/python3.8/site-packages (from jsonschema>=2.6->nbformat->notebook>=4.4.1->widgetsnbextension~=3.6.4->ipywidgets->ax-platform->DeepPurpose) (0.19.3)\n",
            "Requirement already satisfied: attrs>=17.4.0 in /anaconda/envs/jupyter_env/lib/python3.8/site-packages (from jsonschema>=2.6->nbformat->notebook>=4.4.1->widgetsnbextension~=3.6.4->ipywidgets->ax-platform->DeepPurpose) (22.2.0)\n",
            "Requirement already satisfied: anyio<4,>=3.1.0 in /anaconda/envs/jupyter_env/lib/python3.8/site-packages (from jupyter-server>=1.8->nbclassic>=0.4.7->notebook>=4.4.1->widgetsnbextension~=3.6.4->ipywidgets->ax-platform->DeepPurpose) (3.6.2)\n",
            "Requirement already satisfied: websocket-client in /anaconda/envs/jupyter_env/lib/python3.8/site-packages (from jupyter-server>=1.8->nbclassic>=0.4.7->notebook>=4.4.1->widgetsnbextension~=3.6.4->ipywidgets->ax-platform->DeepPurpose) (1.5.1)\n",
            "Requirement already satisfied: cffi>=1.0.1 in /anaconda/envs/jupyter_env/lib/python3.8/site-packages (from argon2-cffi-bindings->argon2-cffi->notebook>=4.4.1->widgetsnbextension~=3.6.4->ipywidgets->ax-platform->DeepPurpose) (1.15.1)\n",
            "Requirement already satisfied: soupsieve>1.2 in /anaconda/envs/jupyter_env/lib/python3.8/site-packages (from beautifulsoup4->nbconvert>=5->notebook>=4.4.1->widgetsnbextension~=3.6.4->ipywidgets->ax-platform->DeepPurpose) (2.4)\n",
            "Requirement already satisfied: webencodings in /anaconda/envs/jupyter_env/lib/python3.8/site-packages (from bleach->nbconvert>=5->notebook>=4.4.1->widgetsnbextension~=3.6.4->ipywidgets->ax-platform->DeepPurpose) (0.5.1)\n",
            "Requirement already satisfied: sniffio>=1.1 in /anaconda/envs/jupyter_env/lib/python3.8/site-packages (from anyio<4,>=3.1.0->jupyter-server>=1.8->nbclassic>=0.4.7->notebook>=4.4.1->widgetsnbextension~=3.6.4->ipywidgets->ax-platform->DeepPurpose) (1.3.0)\n",
            "Requirement already satisfied: pycparser in /anaconda/envs/jupyter_env/lib/python3.8/site-packages (from cffi>=1.0.1->argon2-cffi-bindings->argon2-cffi->notebook>=4.4.1->widgetsnbextension~=3.6.4->ipywidgets->ax-platform->DeepPurpose) (2.21)\n",
            "Building wheels for collected packages: DeepPurpose, wget, autograd-gamma, future, lit\n",
            "  Building wheel for DeepPurpose (setup.py) ... \u001b[?25ldone\n",
            "\u001b[?25h  Created wheel for DeepPurpose: filename=DeepPurpose-0.1.5-py3-none-any.whl size=155660 sha256=84967eb69941f7c21608e613fb18f38b339103acc27e4834aed84b2a4ea41c0e\n",
            "  Stored in directory: /home/azureuser/.cache/pip/wheels/b5/5e/b7/dfc660339ff849eac421feb7e6016bc824ea9e76bfcab8a7f3\n",
            "  Building wheel for wget (setup.py) ... \u001b[?25ldone\n",
            "\u001b[?25h  Created wheel for wget: filename=wget-3.2-py3-none-any.whl size=9657 sha256=752246a4cb4386dec0869c0865a927ca26720118b835dbe412e3e2796cf977d7\n",
            "  Stored in directory: /home/azureuser/.cache/pip/wheels/46/4a/43/6e71c9584e8b20b326931deaf89f11bf4db1bda170ac38e7b4\n",
            "  Building wheel for autograd-gamma (setup.py) ... \u001b[?25ldone\n",
            "\u001b[?25h  Created wheel for autograd-gamma: filename=autograd_gamma-0.5.0-py3-none-any.whl size=4032 sha256=5ce76b2913d58969940fcb5786ffa84b82952c73ab846fe277500e45e71d68ad\n",
            "  Stored in directory: /home/azureuser/.cache/pip/wheels/73/c6/2a/01887d454b0ef63346882affa20e674627a2735aa7cbd3d95a\n",
            "  Building wheel for future (setup.py) ... \u001b[?25ldone\n",
            "\u001b[?25h  Created wheel for future: filename=future-0.18.3-py3-none-any.whl size=492025 sha256=753074a596086036ecc47eef0c89690e88e0e0adfc3a89a47a27bbeece3d3de6\n",
            "  Stored in directory: /home/azureuser/.cache/pip/wheels/a6/db/41/71a0e5d071a14e716cc11bb021a9caa8f76ec337eca071487e\n",
            "  Building wheel for lit (setup.py) ... \u001b[?25ldone\n",
            "\u001b[?25h  Created wheel for lit: filename=lit-16.0.3-py3-none-any.whl size=88175 sha256=940c42280816eccef66ab8e4350525b689704a54a911a2643df616b8c33c168b\n",
            "  Stored in directory: /home/azureuser/.cache/pip/wheels/13/44/7c/6cf62933237c3868c08880d0430efd72f464c92edc7aab8f00\n",
            "Successfully built DeepPurpose wget autograd-gamma future lit\n",
            "Installing collected packages: wget, pyro-api, py4j, mpmath, lit, cmake, wrapt, typeguard, tenacity, sympy, prettytable, opt-einsum, nvidia-nvtx-cu11, nvidia-nccl-cu11, nvidia-cusparse-cu11, nvidia-curand-cu11, nvidia-cufft-cu11, nvidia-cuda-runtime-cu11, nvidia-cuda-nvrtc-cu11, nvidia-cuda-cupti-cu11, nvidia-cublas-cu11, multipledispatch, mock, MarkupSafe, interface-meta, graphlib-backport, future, astor, subword-nmt, plotly, nvidia-cusolver-cu11, nvidia-cudnn-cu11, hyperopt, autograd, xarray, formulaic, dgllife, autograd-gamma, pandas-flavor, lifelines, triton, torch, linear-operator, pyro-ppl, gpytorch, botorch, ax-platform, DeepPurpose\n",
            "  Attempting uninstall: MarkupSafe\n",
            "    Found existing installation: MarkupSafe 2.0.1\n",
            "    Uninstalling MarkupSafe-2.0.1:\n",
            "      Successfully uninstalled MarkupSafe-2.0.1\n",
            "\u001b[31mERROR: pip's dependency resolver does not currently take into account all the packages that are installed. This behaviour is the source of the following dependency conflicts.\n",
            "azureml-widgets 1.49.0 requires jinja2<=2.11.2, but you have jinja2 3.0.3 which is incompatible.\n",
            "azureml-widgets 1.49.0 requires markupsafe<2.1.0, but you have markupsafe 2.1.2 which is incompatible.\u001b[0m\u001b[31m\n",
            "\u001b[0mSuccessfully installed DeepPurpose-0.1.5 MarkupSafe-2.1.2 astor-0.8.1 autograd-1.5 autograd-gamma-0.5.0 ax-platform-0.3.1 botorch-0.8.3 cmake-3.26.3 dgllife-0.3.2 formulaic-0.6.1 future-0.18.3 gpytorch-1.9.1 graphlib-backport-1.0.3 hyperopt-0.2.7 interface-meta-1.3.0 lifelines-0.27.7 linear-operator-0.3.0 lit-16.0.3 mock-5.0.2 mpmath-1.3.0 multipledispatch-0.6.0 nvidia-cublas-cu11-11.10.3.66 nvidia-cuda-cupti-cu11-11.7.101 nvidia-cuda-nvrtc-cu11-11.7.99 nvidia-cuda-runtime-cu11-11.7.99 nvidia-cudnn-cu11-8.5.0.96 nvidia-cufft-cu11-10.9.0.58 nvidia-curand-cu11-10.2.10.91 nvidia-cusolver-cu11-11.4.0.1 nvidia-cusparse-cu11-11.7.4.91 nvidia-nccl-cu11-2.14.3 nvidia-nvtx-cu11-11.7.91 opt-einsum-3.3.0 pandas-flavor-0.5.0 plotly-5.14.1 prettytable-3.7.0 py4j-0.10.9.7 pyro-api-0.1.2 pyro-ppl-1.8.4 subword-nmt-0.3.8 sympy-1.11.1 tenacity-8.2.2 torch-2.0.0 triton-2.0.0 typeguard-2.13.3 wget-3.2 wrapt-1.15.0 xarray-2023.1.0\n",
            "Note: you may need to restart the kernel to use updated packages.\n"
          ]
        }
      ],
      "source": [
        "pip install DeepPurpose"
      ]
    },
    {
      "cell_type": "code",
      "execution_count": null,
      "metadata": {
        "colab": {
          "base_uri": "https://localhost:8080/"
        },
        "gather": {
          "logged": 1674854869822
        },
        "id": "mTMDwCggcM63",
        "outputId": "636b631a-5cc8-4565-877c-8d50e6593404"
      },
      "outputs": [
        {
          "name": "stdout",
          "output_type": "stream",
          "text": [
            "Collecting git+https://github.com/bp-kelley/descriptastorus\n",
            "  Cloning https://github.com/bp-kelley/descriptastorus to /tmp/pip-req-build-pbhpez3d\n",
            "  Running command git clone --filter=blob:none --quiet https://github.com/bp-kelley/descriptastorus /tmp/pip-req-build-pbhpez3d\n",
            "  Resolved https://github.com/bp-kelley/descriptastorus to commit 86eedc60546abe6f59cdbcb12025a61157ba178d\n",
            "  Preparing metadata (setup.py) ... \u001b[?25ldone\n",
            "\u001b[?25hRequirement already satisfied: pandas_flavor in /anaconda/envs/jupyter_env/lib/python3.8/site-packages (from descriptastorus==2.5.0.20) (0.5.0)\n",
            "Requirement already satisfied: rdkit in /anaconda/envs/jupyter_env/lib/python3.8/site-packages (from descriptastorus==2.5.0.20) (2023.3.1)\n",
            "Requirement already satisfied: lazy-loader>=0.1 in /anaconda/envs/jupyter_env/lib/python3.8/site-packages (from pandas_flavor->descriptastorus==2.5.0.20) (0.2)\n",
            "Requirement already satisfied: pandas>=0.23 in /anaconda/envs/jupyter_env/lib/python3.8/site-packages (from pandas_flavor->descriptastorus==2.5.0.20) (2.0.0)\n",
            "Requirement already satisfied: xarray in /anaconda/envs/jupyter_env/lib/python3.8/site-packages (from pandas_flavor->descriptastorus==2.5.0.20) (2023.1.0)\n",
            "Requirement already satisfied: Pillow in /anaconda/envs/jupyter_env/lib/python3.8/site-packages (from rdkit->descriptastorus==2.5.0.20) (9.5.0)\n",
            "Requirement already satisfied: numpy in /anaconda/envs/jupyter_env/lib/python3.8/site-packages (from rdkit->descriptastorus==2.5.0.20) (1.24.2)\n",
            "Requirement already satisfied: pytz>=2020.1 in /anaconda/envs/jupyter_env/lib/python3.8/site-packages (from pandas>=0.23->pandas_flavor->descriptastorus==2.5.0.20) (2023.3)\n",
            "Requirement already satisfied: python-dateutil>=2.8.2 in /anaconda/envs/jupyter_env/lib/python3.8/site-packages (from pandas>=0.23->pandas_flavor->descriptastorus==2.5.0.20) (2.8.2)\n",
            "Requirement already satisfied: tzdata>=2022.1 in /anaconda/envs/jupyter_env/lib/python3.8/site-packages (from pandas>=0.23->pandas_flavor->descriptastorus==2.5.0.20) (2023.3)\n",
            "Requirement already satisfied: packaging>=21.3 in /anaconda/envs/jupyter_env/lib/python3.8/site-packages (from xarray->pandas_flavor->descriptastorus==2.5.0.20) (21.3)\n",
            "Requirement already satisfied: pyparsing!=3.0.5,>=2.0.2 in /anaconda/envs/jupyter_env/lib/python3.8/site-packages (from packaging>=21.3->xarray->pandas_flavor->descriptastorus==2.5.0.20) (3.0.9)\n",
            "Requirement already satisfied: six>=1.5 in /anaconda/envs/jupyter_env/lib/python3.8/site-packages (from python-dateutil>=2.8.2->pandas>=0.23->pandas_flavor->descriptastorus==2.5.0.20) (1.16.0)\n",
            "Building wheels for collected packages: descriptastorus\n",
            "  Building wheel for descriptastorus (setup.py) ... \u001b[?25ldone\n",
            "\u001b[?25h  Created wheel for descriptastorus: filename=descriptastorus-2.5.0.20-py3-none-any.whl size=1083427 sha256=2c4546ef15b19c5e3ef2ba9dd603efd0f1d2f320dcc4c9c2a95511d21a2bb120\n",
            "  Stored in directory: /tmp/pip-ephem-wheel-cache-8yymht1f/wheels/45/d6/37/fe624913d6e54388bccce05360ccd443eeb01defda346642c2\n",
            "Successfully built descriptastorus\n",
            "Installing collected packages: descriptastorus\n",
            "Successfully installed descriptastorus-2.5.0.20\n",
            "Note: you may need to restart the kernel to use updated packages.\n"
          ]
        }
      ],
      "source": [
        "pip install git+https://github.com/bp-kelley/descriptastorus"
      ]
    },
    {
      "cell_type": "code",
      "execution_count": null,
      "metadata": {
        "colab": {
          "base_uri": "https://localhost:8080/"
        },
        "gather": {
          "logged": 1674854874469
        },
        "id": "ytv77P9jcRNS",
        "outputId": "68acae18-d036-4e9f-b39f-230b553e9ff7"
      },
      "outputs": [
        {
          "name": "stdout",
          "output_type": "stream",
          "text": [
            "Requirement already satisfied: pandas-flavor in /anaconda/envs/jupyter_env/lib/python3.8/site-packages (0.5.0)\n",
            "Requirement already satisfied: pandas>=0.23 in /anaconda/envs/jupyter_env/lib/python3.8/site-packages (from pandas-flavor) (2.0.0)\n",
            "Requirement already satisfied: xarray in /anaconda/envs/jupyter_env/lib/python3.8/site-packages (from pandas-flavor) (2023.1.0)\n",
            "Requirement already satisfied: lazy-loader>=0.1 in /anaconda/envs/jupyter_env/lib/python3.8/site-packages (from pandas-flavor) (0.2)\n",
            "Requirement already satisfied: numpy>=1.20.3 in /anaconda/envs/jupyter_env/lib/python3.8/site-packages (from pandas>=0.23->pandas-flavor) (1.24.2)\n",
            "Requirement already satisfied: pytz>=2020.1 in /anaconda/envs/jupyter_env/lib/python3.8/site-packages (from pandas>=0.23->pandas-flavor) (2023.3)\n",
            "Requirement already satisfied: tzdata>=2022.1 in /anaconda/envs/jupyter_env/lib/python3.8/site-packages (from pandas>=0.23->pandas-flavor) (2023.3)\n",
            "Requirement already satisfied: python-dateutil>=2.8.2 in /anaconda/envs/jupyter_env/lib/python3.8/site-packages (from pandas>=0.23->pandas-flavor) (2.8.2)\n",
            "Requirement already satisfied: packaging>=21.3 in /anaconda/envs/jupyter_env/lib/python3.8/site-packages (from xarray->pandas-flavor) (21.3)\n",
            "Requirement already satisfied: pyparsing!=3.0.5,>=2.0.2 in /anaconda/envs/jupyter_env/lib/python3.8/site-packages (from packaging>=21.3->xarray->pandas-flavor) (3.0.9)\n",
            "Requirement already satisfied: six>=1.5 in /anaconda/envs/jupyter_env/lib/python3.8/site-packages (from python-dateutil>=2.8.2->pandas>=0.23->pandas-flavor) (1.16.0)\n",
            "Note: you may need to restart the kernel to use updated packages.\n"
          ]
        }
      ],
      "source": [
        "pip install pandas-flavor"
      ]
    },
    {
      "cell_type": "markdown",
      "metadata": {
        "id": "kT8-ajEdeGGd"
      },
      "source": [
        "#**Encoding Drugs and Targets**"
      ]
    },
    {
      "cell_type": "code",
      "execution_count": null,
      "metadata": {
        "gather": {
          "logged": 1674854875790
        },
        "id": "kLOjU3cBcdA-"
      },
      "outputs": [],
      "source": [
        "from DeepPurpose import utils\n",
        "from DeepPurpose import  DTI as models\n",
        "import warnings\n",
        "warnings.filterwarnings(\"ignore\")"
      ]
    },
    {
      "cell_type": "code",
      "execution_count": null,
      "metadata": {
        "gather": {
          "logged": 1674854876511
        },
        "id": "Ms54Ny96dKE_"
      },
      "outputs": [],
      "source": [
        "#Selecting the Drug and Target encoders\n",
        "drug_encoding, target_encoding = 'Transformer', 'CNN'"
      ]
    },
    {
      "cell_type": "code",
      "execution_count": null,
      "metadata": {
        "colab": {
          "base_uri": "https://localhost:8080/",
          "height": 281
        },
        "gather": {
          "logged": 1674854880475
        },
        "id": "qtKGcT0nf7F4",
        "outputId": "dab460b7-5348-45c8-a584-48bcff706c33"
      },
      "outputs": [
        {
          "name": "stdout",
          "output_type": "stream",
          "text": [
            "Drug Target Interaction Prediction Mode...\n",
            "in total: 41879 drug-target pairs\n",
            "encoding drug...\n",
            "unique drugs: 9201\n",
            "encoding protein...\n",
            "unique target sequence: 1080\n",
            "splitting dataset...\n",
            "Done.\n"
          ]
        },
        {
          "data": {
            "text/html": [
              "<div>\n",
              "<style scoped>\n",
              "    .dataframe tbody tr th:only-of-type {\n",
              "        vertical-align: middle;\n",
              "    }\n",
              "\n",
              "    .dataframe tbody tr th {\n",
              "        vertical-align: top;\n",
              "    }\n",
              "\n",
              "    .dataframe thead th {\n",
              "        text-align: right;\n",
              "    }\n",
              "</style>\n",
              "<table border=\"1\" class=\"dataframe\">\n",
              "  <thead>\n",
              "    <tr style=\"text-align: right;\">\n",
              "      <th></th>\n",
              "      <th>SMILES</th>\n",
              "      <th>Target Sequence</th>\n",
              "      <th>Label</th>\n",
              "      <th>drug_encoding</th>\n",
              "      <th>target_encoding</th>\n",
              "    </tr>\n",
              "  </thead>\n",
              "  <tbody>\n",
              "    <tr>\n",
              "      <th>0</th>\n",
              "      <td>O=C(O)CCC(=O)C(=O)O</td>\n",
              "      <td>MANDSGGPGGPSPSERDRQYCELCGKMENLLRCSRCRSSFYCCKEH...</td>\n",
              "      <td>0.09</td>\n",
              "      <td>([362, 915, 66, 267, 0, 0, 0, 0, 0, 0, 0, 0, 0...</td>\n",
              "      <td>[M, A, N, D, S, G, G, P, G, G, P, S, P, S, E, ...</td>\n",
              "    </tr>\n",
              "  </tbody>\n",
              "</table>\n",
              "</div>"
            ],
            "text/plain": [
              "                SMILES                                    Target Sequence   \n",
              "0  O=C(O)CCC(=O)C(=O)O  MANDSGGPGGPSPSERDRQYCELCGKMENLLRCSRCRSSFYCCKEH...  \\\n",
              "\n",
              "   Label                                      drug_encoding   \n",
              "0   0.09  ([362, 915, 66, 267, 0, 0, 0, 0, 0, 0, 0, 0, 0...  \\\n",
              "\n",
              "                                     target_encoding  \n",
              "0  [M, A, N, D, S, G, G, P, G, G, P, S, P, S, E, ...  "
            ]
          },
          "execution_count": 50,
          "metadata": {},
          "output_type": "execute_result"
        }
      ],
      "source": [
        "#Create Train, Validation and Test set\n",
        "train, val, test = utils.data_process(X_drugs, X_target, Y, \n",
        "                              drug_encoding, target_encoding, \n",
        "                              split_method='random',frac=[0.7,0.1,0.2],\n",
        "                              random_seed = 1)\n",
        "train.head(1)"
      ]
    },
    {
      "cell_type": "markdown",
      "metadata": {
        "id": "pdj4OhqAqgyg"
      },
      "source": [
        "#**Generating Config and Training/Testing Model**"
      ]
    },
    {
      "cell_type": "code",
      "execution_count": null,
      "metadata": {
        "gather": {
          "logged": 1674854880840
        },
        "id": "veRdM-J7qYep"
      },
      "outputs": [],
      "source": [
        "#Generating configuration for Training Model\n",
        "config = utils.generate_config(drug_encoding = drug_encoding, \n",
        "                         target_encoding = target_encoding, \n",
        "                         cls_hidden_dims = [1024,1024,512], \n",
        "                         train_epoch = 30, \n",
        "                         LR = 0.0001, \n",
        "                         batch_size = 128,\n",
        "                         hidden_dim_drug = 128,\n",
        "                         mpnn_hidden_size = 128,\n",
        "                         mpnn_depth = 3, \n",
        "                         cnn_target_filters = [32,64,96],\n",
        "                         cnn_target_kernels = [4,8,12]\n",
        "                        )"
      ]
    },
    {
      "cell_type": "code",
      "execution_count": null,
      "metadata": {
        "colab": {
          "base_uri": "https://localhost:8080/"
        },
        "gather": {
          "logged": 1674854881236
        },
        "id": "q1ARsdzxqskF",
        "outputId": "aa5c724f-49d1-4116-e5df-d207a46ad08a"
      },
      "outputs": [
        {
          "data": {
            "text/plain": [
              "<DeepPurpose.DTI.DBTA at 0x7f986cbf49a0>"
            ]
          },
          "execution_count": 52,
          "metadata": {},
          "output_type": "execute_result"
        }
      ],
      "source": [
        "model = models.model_initialize(**config)\n",
        "model"
      ]
    },
    {
      "cell_type": "code",
      "execution_count": null,
      "metadata": {
        "colab": {
          "base_uri": "https://localhost:8080/",
          "height": 735
        },
        "gather": {
          "logged": 1674861419860
        },
        "id": "skSGC_gSqsaK",
        "outputId": "d7c8f6ee-66e4-4621-ea28-38f3137888bc"
      },
      "outputs": [
        {
          "name": "stdout",
          "output_type": "stream",
          "text": [
            "Let's use 1 GPU!\n",
            "--- Data Preparation ---\n",
            "--- Go for Training ---\n",
            "Training at Epoch 1 iteration 0 with loss 3.01081. Total time 0.00027 hours\n",
            "Training at Epoch 1 iteration 100 with loss 86.4891. Total time 0.01805 hours\n",
            "Training at Epoch 1 iteration 200 with loss 7.10991. Total time 0.03611 hours\n",
            "Validation at Epoch 1 with loss:4.48003, MSE: 53.5753 , Pearson Correlation: 0.15745 with p-value: 1.18E-24 , Concordance Index: 0.49522\n",
            "Training at Epoch 2 iteration 0 with loss 1.93542. Total time 0.04527 hours\n",
            "Training at Epoch 2 iteration 100 with loss 6.34740. Total time 0.06333 hours\n",
            "Training at Epoch 2 iteration 200 with loss 55.5386. Total time 0.08111 hours\n",
            "Validation at Epoch 2 with loss:1.93991, MSE: 48.4340 , Pearson Correlation: 0.32474 with p-value: 1.89E-103 , Concordance Index: 0.52068\n",
            "Training at Epoch 3 iteration 0 with loss 11.1549. Total time 0.09055 hours\n",
            "Training at Epoch 3 iteration 100 with loss 34.7544. Total time 0.10861 hours\n",
            "Training at Epoch 3 iteration 200 with loss 21.8747. Total time 0.12638 hours\n",
            "Validation at Epoch 3 with loss:5.37865, MSE: 40.8299 , Pearson Correlation: 0.49208 with p-value: 2.37E-254 , Concordance Index: 0.55224\n",
            "Training at Epoch 4 iteration 0 with loss 17.6051. Total time 0.13583 hours\n",
            "Training at Epoch 4 iteration 100 with loss 5.33683. Total time 0.15361 hours\n",
            "Training at Epoch 4 iteration 200 with loss 50.2088. Total time 0.17166 hours\n",
            "Validation at Epoch 4 with loss:31.7303, MSE: 35.2868 , Pearson Correlation: 0.58984 with p-value: 0.00E+00 , Concordance Index: 0.55357\n",
            "Training at Epoch 5 iteration 0 with loss 12.5123. Total time 0.18083 hours\n",
            "Training at Epoch 5 iteration 100 with loss 33.2882. Total time 0.19888 hours\n",
            "Training at Epoch 5 iteration 200 with loss 24.4566. Total time 0.21694 hours\n",
            "Validation at Epoch 5 with loss:0.80164, MSE: 37.7173 , Pearson Correlation: 0.58800 with p-value: 0.00E+00 , Concordance Index: 0.60945\n",
            "Training at Epoch 6 iteration 0 with loss 1.37443. Total time 0.22638 hours\n",
            "Training at Epoch 6 iteration 100 with loss 72.7854. Total time 0.24444 hours\n",
            "Training at Epoch 6 iteration 200 with loss 7.99237. Total time 0.2625 hours\n",
            "Validation at Epoch 6 with loss:52.7942, MSE: 39.6462 , Pearson Correlation: 0.51445 with p-value: 8.58E-282 , Concordance Index: 0.63686\n",
            "Training at Epoch 7 iteration 0 with loss 21.1254. Total time 0.27194 hours\n",
            "Training at Epoch 7 iteration 100 with loss 65.5440. Total time 0.28972 hours\n",
            "Training at Epoch 7 iteration 200 with loss 41.2502. Total time 0.30777 hours\n",
            "Validation at Epoch 7 with loss:60.9895, MSE: 35.5475 , Pearson Correlation: 0.60374 with p-value: 0.00E+00 , Concordance Index: 0.61884\n",
            "Training at Epoch 8 iteration 0 with loss 88.8352. Total time 0.31722 hours\n",
            "Training at Epoch 8 iteration 100 with loss 6.43532. Total time 0.33527 hours\n",
            "Training at Epoch 8 iteration 200 with loss 10.8709. Total time 0.35333 hours\n",
            "Validation at Epoch 8 with loss:98.6705, MSE: 35.2651 , Pearson Correlation: 0.58863 with p-value: 0.00E+00 , Concordance Index: 0.59465\n",
            "Training at Epoch 9 iteration 0 with loss 5.62939. Total time 0.36277 hours\n",
            "Training at Epoch 9 iteration 100 with loss 3.17721. Total time 0.38083 hours\n",
            "Training at Epoch 9 iteration 200 with loss 9.32861. Total time 0.39888 hours\n",
            "Validation at Epoch 9 with loss:4.00876, MSE: 37.5995 , Pearson Correlation: 0.60939 with p-value: 0.00E+00 , Concordance Index: 0.58984\n",
            "Training at Epoch 10 iteration 0 with loss 19.9875. Total time 0.40833 hours\n",
            "Training at Epoch 10 iteration 100 with loss 14.3418. Total time 0.42611 hours\n",
            "Training at Epoch 10 iteration 200 with loss 9.90475. Total time 0.44416 hours\n",
            "Validation at Epoch 10 with loss:12.7356, MSE: 37.8700 , Pearson Correlation: 0.55452 with p-value: 0.00E+00 , Concordance Index: 0.63582\n",
            "Training at Epoch 11 iteration 0 with loss 3.27492. Total time 0.45333 hours\n",
            "Training at Epoch 11 iteration 100 with loss 7.95304. Total time 0.47111 hours\n",
            "Training at Epoch 11 iteration 200 with loss 13.3414. Total time 0.48916 hours\n",
            "Validation at Epoch 11 with loss:3.00608, MSE: 35.8847 , Pearson Correlation: 0.60360 with p-value: 0.00E+00 , Concordance Index: 0.63641\n",
            "Training at Epoch 12 iteration 0 with loss 4.94142. Total time 0.49861 hours\n",
            "Training at Epoch 12 iteration 100 with loss 19.9307. Total time 0.51638 hours\n",
            "Training at Epoch 12 iteration 200 with loss 16.1216. Total time 0.53666 hours\n",
            "Validation at Epoch 12 with loss:23.8365, MSE: 33.2581 , Pearson Correlation: 0.61897 with p-value: 0.00E+00 , Concordance Index: 0.59558\n",
            "Training at Epoch 13 iteration 0 with loss 3.62837. Total time 0.54611 hours\n",
            "Training at Epoch 13 iteration 100 with loss 3.69517. Total time 0.56388 hours\n",
            "Training at Epoch 13 iteration 200 with loss 8.62021. Total time 0.58166 hours\n",
            "Validation at Epoch 13 with loss:31.0632, MSE: 36.2025 , Pearson Correlation: 0.59653 with p-value: 0.00E+00 , Concordance Index: 0.62008\n",
            "Training at Epoch 14 iteration 0 with loss 2.73622. Total time 0.59083 hours\n",
            "Training at Epoch 14 iteration 100 with loss 10.2249. Total time 0.60888 hours\n",
            "Training at Epoch 14 iteration 200 with loss 21.1065. Total time 0.62666 hours\n",
            "Validation at Epoch 14 with loss:8.57589, MSE: 32.5497 , Pearson Correlation: 0.63133 with p-value: 0.00E+00 , Concordance Index: 0.61280\n",
            "Training at Epoch 15 iteration 0 with loss 25.5863. Total time 0.63583 hours\n",
            "Training at Epoch 15 iteration 100 with loss 1.81232. Total time 0.65388 hours\n",
            "Training at Epoch 15 iteration 200 with loss 15.8090. Total time 0.67166 hours\n",
            "Validation at Epoch 15 with loss:73.7222, MSE: 31.9858 , Pearson Correlation: 0.63721 with p-value: 0.00E+00 , Concordance Index: 0.62746\n",
            "Training at Epoch 16 iteration 0 with loss 2.04737. Total time 0.68111 hours\n",
            "Training at Epoch 16 iteration 100 with loss 1.19611. Total time 0.69888 hours\n",
            "Training at Epoch 16 iteration 200 with loss 2.16064. Total time 0.71694 hours\n",
            "Validation at Epoch 16 with loss:12.7865, MSE: 36.4627 , Pearson Correlation: 0.57141 with p-value: 0.00E+00 , Concordance Index: 0.64169\n",
            "Training at Epoch 17 iteration 0 with loss 5.05384. Total time 0.72611 hours\n",
            "Training at Epoch 17 iteration 100 with loss 7.38436. Total time 0.74416 hours\n",
            "Training at Epoch 17 iteration 200 with loss 4.39551. Total time 0.76194 hours\n",
            "Validation at Epoch 17 with loss:60.5499, MSE: 36.1376 , Pearson Correlation: 0.59734 with p-value: 0.00E+00 , Concordance Index: 0.60913\n",
            "Training at Epoch 18 iteration 0 with loss 3.27741. Total time 0.77111 hours\n",
            "Training at Epoch 18 iteration 100 with loss 9.45367. Total time 0.78916 hours\n",
            "Training at Epoch 18 iteration 200 with loss 2.98841. Total time 0.80694 hours\n",
            "Validation at Epoch 18 with loss:1.51511, MSE: 37.6984 , Pearson Correlation: 0.56553 with p-value: 0.00E+00 , Concordance Index: 0.63922\n",
            "Training at Epoch 19 iteration 0 with loss 78.1916. Total time 0.81638 hours\n",
            "Training at Epoch 19 iteration 100 with loss 12.1041. Total time 0.83666 hours\n",
            "Training at Epoch 19 iteration 200 with loss 7.52630. Total time 0.85472 hours\n",
            "Validation at Epoch 19 with loss:7.30013, MSE: 34.0640 , Pearson Correlation: 0.61099 with p-value: 0.00E+00 , Concordance Index: 0.59577\n",
            "Training at Epoch 20 iteration 0 with loss 5.69295. Total time 0.86388 hours\n",
            "Training at Epoch 20 iteration 100 with loss 3.30391. Total time 0.88194 hours\n",
            "Training at Epoch 20 iteration 200 with loss 5.50181. Total time 0.89972 hours\n",
            "Validation at Epoch 20 with loss:1.50463, MSE: 35.2603 , Pearson Correlation: 0.59473 with p-value: 0.00E+00 , Concordance Index: 0.63607\n",
            "Training at Epoch 21 iteration 0 with loss 53.6045. Total time 0.90916 hours\n",
            "Training at Epoch 21 iteration 100 with loss 50.8684. Total time 0.92694 hours\n",
            "Training at Epoch 21 iteration 200 with loss 1.22079. Total time 0.94472 hours\n",
            "Validation at Epoch 21 with loss:50.6770, MSE: 35.7124 , Pearson Correlation: 0.58791 with p-value: 0.00E+00 , Concordance Index: 0.67804\n",
            "Training at Epoch 22 iteration 0 with loss 1.78755. Total time 0.95388 hours\n",
            "Training at Epoch 22 iteration 100 with loss 2.66310. Total time 0.97194 hours\n",
            "Training at Epoch 22 iteration 200 with loss 5.34037. Total time 0.98972 hours\n",
            "Validation at Epoch 22 with loss:3.32513, MSE: 33.4034 , Pearson Correlation: 0.61979 with p-value: 0.00E+00 , Concordance Index: 0.65308\n",
            "Training at Epoch 23 iteration 0 with loss 3.37542. Total time 0.99888 hours\n",
            "Training at Epoch 23 iteration 100 with loss 16.1199. Total time 1.01666 hours\n",
            "Training at Epoch 23 iteration 200 with loss 2.05567. Total time 1.03472 hours\n",
            "Validation at Epoch 23 with loss:1.90788, MSE: 34.9521 , Pearson Correlation: 0.62222 with p-value: 0.00E+00 , Concordance Index: 0.67185\n",
            "Training at Epoch 24 iteration 0 with loss 2.86369. Total time 1.04388 hours\n",
            "Training at Epoch 24 iteration 100 with loss 8.94756. Total time 1.06166 hours\n",
            "Training at Epoch 24 iteration 200 with loss 12.8055. Total time 1.07972 hours\n",
            "Validation at Epoch 24 with loss:105.940, MSE: 33.1185 , Pearson Correlation: 0.62867 with p-value: 0.00E+00 , Concordance Index: 0.65557\n",
            "Training at Epoch 25 iteration 0 with loss 14.8393. Total time 1.08888 hours\n",
            "Training at Epoch 25 iteration 100 with loss 6.28423. Total time 1.10666 hours\n",
            "Training at Epoch 25 iteration 200 with loss 83.3311. Total time 1.12444 hours\n",
            "Validation at Epoch 25 with loss:43.9676, MSE: 32.3620 , Pearson Correlation: 0.63429 with p-value: 0.00E+00 , Concordance Index: 0.67397\n",
            "Training at Epoch 26 iteration 0 with loss 4.89008. Total time 1.13361 hours\n",
            "Training at Epoch 26 iteration 100 with loss 8.43226. Total time 1.15388 hours\n",
            "Training at Epoch 26 iteration 200 with loss 2.04607. Total time 1.17166 hours\n",
            "Validation at Epoch 26 with loss:37.7325, MSE: 31.6564 , Pearson Correlation: 0.65376 with p-value: 0.00E+00 , Concordance Index: 0.66427\n",
            "Training at Epoch 27 iteration 0 with loss 5.25560. Total time 1.18083 hours\n",
            "Training at Epoch 27 iteration 100 with loss 2.31922. Total time 1.19888 hours\n",
            "Training at Epoch 27 iteration 200 with loss 1.37776. Total time 1.21666 hours\n",
            "Validation at Epoch 27 with loss:42.7420, MSE: 33.8513 , Pearson Correlation: 0.61119 with p-value: 0.00E+00 , Concordance Index: 0.66557\n",
            "Training at Epoch 28 iteration 0 with loss 6.95460. Total time 1.22583 hours\n",
            "Training at Epoch 28 iteration 100 with loss 7.29894. Total time 1.24388 hours\n",
            "Training at Epoch 28 iteration 200 with loss 1.53684. Total time 1.26166 hours\n",
            "Validation at Epoch 28 with loss:120.843, MSE: 32.4274 , Pearson Correlation: 0.63189 with p-value: 0.00E+00 , Concordance Index: 0.68814\n",
            "Training at Epoch 29 iteration 0 with loss 4.59872. Total time 1.27111 hours\n",
            "Training at Epoch 29 iteration 100 with loss 5.47231. Total time 1.28888 hours\n",
            "Training at Epoch 29 iteration 200 with loss 14.3410. Total time 1.30666 hours\n",
            "Validation at Epoch 29 with loss:76.0841, MSE: 34.4848 , Pearson Correlation: 0.60366 with p-value: 0.00E+00 , Concordance Index: 0.69522\n",
            "Training at Epoch 30 iteration 0 with loss 10.6816. Total time 1.31611 hours\n",
            "Training at Epoch 30 iteration 100 with loss 12.8266. Total time 1.33416 hours\n",
            "Training at Epoch 30 iteration 200 with loss 13.0518. Total time 1.35222 hours\n",
            "Validation at Epoch 30 with loss:171.778, MSE: 38.0407 , Pearson Correlation: 0.55205 with p-value: 0.00E+00 , Concordance Index: 0.70131\n",
            "--- Go for Testing ---\n",
            "Testing MSE: 35.84910898712793 , Pearson Correlation: 0.4861345925206266 with p-value: 0.00E+00 , Concordance Index: 0.6612895846241458\n",
            "--- Training Finished ---\n"
          ]
        },
        {
          "data": {
            "image/png": "[encoded data removed]",
            "text/plain": [
              "<Figure size 640x480 with 1 Axes>"
            ]
          },
          "metadata": {},
          "output_type": "display_data"
        }
      ],
      "source": [
        "#Training Model\n",
        "model.train(train, val, test)"
      ]
    },
    {
      "cell_type": "markdown",
      "metadata": {
        "id": "dY-rPz3ktu5U"
      },
      "source": [
        "#**Inferring the model and saving it**"
      ]
    },
    {
      "cell_type": "code",
      "execution_count": null,
      "metadata": {
        "colab": {
          "base_uri": "https://localhost:8080/"
        },
        "gather": {
          "logged": 1674863108430
        },
        "id": "SYGCEnpptzjr",
        "outputId": "18a53f32-e762-4eb7-db37-638b8f0d6b55"
      },
      "outputs": [
        {
          "name": "stdout",
          "output_type": "stream",
          "text": [
            "Drug Target Interaction Prediction Mode...\n",
            "in total: 1 drug-target pairs\n",
            "encoding drug...\n",
            "unique drugs: 1\n",
            "encoding protein...\n",
            "unique target sequence: 1\n",
            "splitting dataset...\n",
            "do not do train/test split on the data for already splitted data\n",
            "predicting...\n",
            "The predicted score is [45.22111129760742]\n"
          ]
        }
      ],
      "source": [
        "#Random Observation\n",
        "X_drug = ['N=C(N)c1ccccc1']\n",
        "X_target = ['MAHVRGLQLPGCLALAALCSLVHSQHVFLAPQQARSLLQRVRRANTFLEEVRKGNLERECVEETCSYEEAFEALESSTATDVFWAKYTACETARTPRDKLAACLEGNCAEGLGTNYRGHVNITRSGIECQLWRSRYPHKPEINSTTHPGADLQENFCRNPDSSTTGPWCYTTDPTVRRQECSIPVCGQDQVTVAMTPRSEGSSVNLSPPLEQCVPDRGQQYQGRLAVTTHGLPCLAWASAQAKALSKHQDFNSAVQLVENFCRNPDGDEEGVWCYVAGKPGDFGYCDLNYCEEAVEEETGDGLDEDSDRAIEGRTATSEYQTFFNPRTFGSGEADCGLRPLFEKKSLEDKTERELLESYIDGRIVEGSDAEIGMSPWQVMLFRKSPQELLCGASLISDRWVLTAAHCLLYPPWDKNFTENDLLVRIGKHSRTRYERNIEKISMLEKIYIHPRYNWRENLDRDIALMKLKKPVAFSDYIHPVCLPDRETAASLLQAGYKGRVTGWGNLKETWTANVGKGQPSVLQVVNLPIVERPVCKDSTRIRITDNMFCAGYKPDEGKRGDACEGDSGGPFVMKSPFNNRWYQMGIVSWGEGCDRDGKYGFYTHVFRLKKWIQKVIDQFGE']\n",
        "y = [35.4999]\n",
        "X_pred = utils.data_process(X_drug, X_target, y,\n",
        "                                drug_encoding, target_encoding, \n",
        "                                split_method='no_split')\n",
        "y_pred = model.predict(X_pred)\n",
        "print('The predicted score is ' + str(y_pred))"
      ]
    },
    {
      "cell_type": "code",
      "execution_count": null,
      "metadata": {
        "gather": {
          "logged": 1674863392564
        },
        "id": "b5j3A0jD8a9c"
      },
      "outputs": [],
      "source": [
        "#Saving the trained model\n",
        "model.save_model('./DTI_Model')"
      ]
    }
  ],
  "metadata": {
    "colab": {
      "collapsed_sections": [
        "EQI_ihpNdVZI",
        "-O7EAxZWdqbv"
      ],
      "provenance": []
    },
    "kernel_info": {
      "name": "python3"
    },
    "kernelspec": {
      "display_name": "Python 3 (ipykernel)",
      "language": "python",
      "name": "python3"
    },
    "language_info": {
      "codemirror_mode": {
        "name": "ipython",
        "version": 3
      },
      "file_extension": ".py",
      "mimetype": "text/x-python",
      "name": "python",
      "nbconvert_exporter": "python",
      "pygments_lexer": "ipython3",
      "version": "3.8.5"
    },
    "microsoft": {
      "host": {
        "AzureML": {
          "notebookHasBeenCompleted": true
        }
      }
    },
    "nteract": {
      "version": "nteract-front-end@1.0.0"
    }
  },
  "nbformat": 4,
  "nbformat_minor": 0
}