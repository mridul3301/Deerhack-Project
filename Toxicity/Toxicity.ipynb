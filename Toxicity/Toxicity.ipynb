{
  "nbformat": 4,
  "nbformat_minor": 0,
  "metadata": {
    "colab": {
      "provenance": []
    },
    "kernelspec": {
      "name": "python3",
      "display_name": "Python 3"
    },
    "language_info": {
      "name": "python"
    }
  },
  "cells": [
    {
      "cell_type": "code",
      "source": [
        "pip install PyTDC"
      ],
      "metadata": {
        "colab": {
          "base_uri": "https://localhost:8080/"
        },
        "id": "RH-EvCQ-A29p",
        "outputId": "02409b4a-a8ba-4ac6-bc58-98bddf78a5a0"
      },
      "execution_count": 1,
      "outputs": [
        {
          "output_type": "stream",
          "name": "stdout",
          "text": [
            "Looking in indexes: https://pypi.org/simple, https://us-python.pkg.dev/colab-wheels/public/simple/\n",
            "Requirement already satisfied: PyTDC in /usr/local/lib/python3.10/dist-packages (0.4.0)\n",
            "Requirement already satisfied: fuzzywuzzy in /usr/local/lib/python3.10/dist-packages (from PyTDC) (0.18.0)\n",
            "Requirement already satisfied: numpy in /usr/local/lib/python3.10/dist-packages (from PyTDC) (1.22.4)\n",
            "Requirement already satisfied: pandas in /usr/local/lib/python3.10/dist-packages (from PyTDC) (1.5.3)\n",
            "Requirement already satisfied: seaborn in /usr/local/lib/python3.10/dist-packages (from PyTDC) (0.12.2)\n",
            "Requirement already satisfied: requests in /usr/local/lib/python3.10/dist-packages (from PyTDC) (2.27.1)\n",
            "Requirement already satisfied: rdkit-pypi in /usr/local/lib/python3.10/dist-packages (from PyTDC) (2022.9.5)\n",
            "Requirement already satisfied: dataclasses in /usr/local/lib/python3.10/dist-packages (from PyTDC) (0.6)\n",
            "Requirement already satisfied: huggingface-hub in /usr/local/lib/python3.10/dist-packages (from PyTDC) (0.14.1)\n",
            "Requirement already satisfied: tqdm in /usr/local/lib/python3.10/dist-packages (from PyTDC) (4.65.0)\n",
            "Requirement already satisfied: scikit-learn in /usr/local/lib/python3.10/dist-packages (from PyTDC) (1.2.2)\n",
            "Requirement already satisfied: filelock in /usr/local/lib/python3.10/dist-packages (from huggingface-hub->PyTDC) (3.12.0)\n",
            "Requirement already satisfied: pyyaml>=5.1 in /usr/local/lib/python3.10/dist-packages (from huggingface-hub->PyTDC) (6.0)\n",
            "Requirement already satisfied: packaging>=20.9 in /usr/local/lib/python3.10/dist-packages (from huggingface-hub->PyTDC) (23.1)\n",
            "Requirement already satisfied: fsspec in /usr/local/lib/python3.10/dist-packages (from huggingface-hub->PyTDC) (2023.4.0)\n",
            "Requirement already satisfied: typing-extensions>=3.7.4.3 in /usr/local/lib/python3.10/dist-packages (from huggingface-hub->PyTDC) (4.5.0)\n",
            "Requirement already satisfied: pytz>=2020.1 in /usr/local/lib/python3.10/dist-packages (from pandas->PyTDC) (2022.7.1)\n",
            "Requirement already satisfied: python-dateutil>=2.8.1 in /usr/local/lib/python3.10/dist-packages (from pandas->PyTDC) (2.8.2)\n",
            "Requirement already satisfied: Pillow in /usr/local/lib/python3.10/dist-packages (from rdkit-pypi->PyTDC) (8.4.0)\n",
            "Requirement already satisfied: charset-normalizer~=2.0.0 in /usr/local/lib/python3.10/dist-packages (from requests->PyTDC) (2.0.12)\n",
            "Requirement already satisfied: certifi>=2017.4.17 in /usr/local/lib/python3.10/dist-packages (from requests->PyTDC) (2022.12.7)\n",
            "Requirement already satisfied: urllib3<1.27,>=1.21.1 in /usr/local/lib/python3.10/dist-packages (from requests->PyTDC) (1.26.15)\n",
            "Requirement already satisfied: idna<4,>=2.5 in /usr/local/lib/python3.10/dist-packages (from requests->PyTDC) (3.4)\n",
            "Requirement already satisfied: joblib>=1.1.1 in /usr/local/lib/python3.10/dist-packages (from scikit-learn->PyTDC) (1.2.0)\n",
            "Requirement already satisfied: scipy>=1.3.2 in /usr/local/lib/python3.10/dist-packages (from scikit-learn->PyTDC) (1.10.1)\n",
            "Requirement already satisfied: threadpoolctl>=2.0.0 in /usr/local/lib/python3.10/dist-packages (from scikit-learn->PyTDC) (3.1.0)\n",
            "Requirement already satisfied: matplotlib!=3.6.1,>=3.1 in /usr/local/lib/python3.10/dist-packages (from seaborn->PyTDC) (3.7.1)\n",
            "Requirement already satisfied: kiwisolver>=1.0.1 in /usr/local/lib/python3.10/dist-packages (from matplotlib!=3.6.1,>=3.1->seaborn->PyTDC) (1.4.4)\n",
            "Requirement already satisfied: fonttools>=4.22.0 in /usr/local/lib/python3.10/dist-packages (from matplotlib!=3.6.1,>=3.1->seaborn->PyTDC) (4.39.3)\n",
            "Requirement already satisfied: pyparsing>=2.3.1 in /usr/local/lib/python3.10/dist-packages (from matplotlib!=3.6.1,>=3.1->seaborn->PyTDC) (3.0.9)\n",
            "Requirement already satisfied: contourpy>=1.0.1 in /usr/local/lib/python3.10/dist-packages (from matplotlib!=3.6.1,>=3.1->seaborn->PyTDC) (1.0.7)\n",
            "Requirement already satisfied: cycler>=0.10 in /usr/local/lib/python3.10/dist-packages (from matplotlib!=3.6.1,>=3.1->seaborn->PyTDC) (0.11.0)\n",
            "Requirement already satisfied: six>=1.5 in /usr/local/lib/python3.10/dist-packages (from python-dateutil>=2.8.1->pandas->PyTDC) (1.16.0)\n"
          ]
        }
      ]
    },
    {
      "cell_type": "code",
      "execution_count": 2,
      "metadata": {
        "colab": {
          "base_uri": "https://localhost:8080/"
        },
        "id": "MZeqNkSQA1k3",
        "outputId": "919ab923-d9ba-4c4d-81ae-c5725c1d3942"
      },
      "outputs": [
        {
          "output_type": "stream",
          "name": "stderr",
          "text": [
            "Found local copy...\n",
            "Loading...\n",
            "Done!\n"
          ]
        }
      ],
      "source": [
        "from tdc.single_pred import Tox\n",
        "data = Tox(name = 'hERG_Karim')\n",
        "split = data.get_split()"
      ]
    },
    {
      "cell_type": "code",
      "source": [
        "data"
      ],
      "metadata": {
        "colab": {
          "base_uri": "https://localhost:8080/"
        },
        "id": "sWcb8zvMA7Sv",
        "outputId": "88524342-e9f2-4758-b9f5-b857eb3a080a"
      },
      "execution_count": 3,
      "outputs": [
        {
          "output_type": "execute_result",
          "data": {
            "text/plain": [
              "<tdc.single_pred.tox.Tox at 0x7fc47d1477f0>"
            ]
          },
          "metadata": {},
          "execution_count": 3
        }
      ]
    },
    {
      "cell_type": "code",
      "source": [
        "split"
      ],
      "metadata": {
        "colab": {
          "base_uri": "https://localhost:8080/"
        },
        "id": "6_VOypa5BAv6",
        "outputId": "7cb7ae08-cb9e-424c-a6dd-25f71aa5e00a"
      },
      "execution_count": 4,
      "outputs": [
        {
          "output_type": "execute_result",
          "data": {
            "text/plain": [
              "{'train':       Drug_ID                                               Drug  Y\n",
              " 0           1  COc1cc(N2Cc3ccc(Sc4ccc(F)cc4)nc3C2=O)ccc1OCCN1...  0\n",
              " 1           2  CCOC(=O)[C@H]1CC[C@@H](N2CC(NC(=O)CNc3nn(C(N)=...  0\n",
              " 2           3  N[C@@H](Cn1c(=O)cnc2ccc(F)cc21)C1CCC(NCc2ccc3c...  0\n",
              " 3           4  O=C(NC1COc2cccc(-c3ccnc(CO)c3)c2C1)c1ccc(OCC(F...  0\n",
              " 4           5      Cc1cc(Nc2cncc(N[C@@H](C)c3ncc(F)cn3)n2)n[nH]1  0\n",
              " ...       ...                                                ... ..\n",
              " 9407    13437               O=c1cc(-c2ccccc2)oc2cc(O)c(O)c(O)c12  0\n",
              " 9408    13438  CN(C)c1ccc2cc(C(=O)N[C@@H](CCCNC(=N)CCl)C(=O)N...  0\n",
              " 9409    13439  CCN(CC)CCCCNc1ncc2c(n1)N(C)C(=O)N(c1c(Cl)c(OC)...  0\n",
              " 9410    13441              Cc1cccc(-c2n[nH]cc2-c2ccc3ncccc3n2)n1  0\n",
              " 9411    13444  CCc1c(O)cc(O)c(C(=O)c2ccc(OCCN3CCOCC3)c(OC)c2)...  0\n",
              " \n",
              " [9412 rows x 3 columns],\n",
              " 'valid':       Drug_ID                                               Drug  Y\n",
              " 0       10900  CC(C)(C)c1cc(NC(=O)n2ccc3ncc(OC4=NC=N[C@H]5CNC...  0\n",
              " 1        1624  CC(C)OC(=O)C1=CN(C(=O)c2ccc(OCCCN3CCOCC3)cc2)C...  1\n",
              " 2        4173  CS(=O)(=O)C1(c2cc(N3CCOCC3)nc(-c3cccc4[nH]ccc3...  0\n",
              " 3        1291  CS(=O)(=O)Nc1ccc(CCN(CCOc2ccc(NS(C)(=O)=O)cc2)...  1\n",
              " 4        7661  CCN[C@H]1CC[C@@H](c2c[nH]c3ccc(N=C(N)c4cccs4)c...  0\n",
              " ...       ...                                                ... ..\n",
              " 1339     1172  Cc1cc(Cn2cc(CN(C(=O)C3CNCCC3(O)c3ccc(F)c(F)c3)...  1\n",
              " 1340     2467  Cc1c(C(F)CN2CCN(C(=O)Cc3ccc(-n4cnnn4)nc3)CC2)c...  0\n",
              " 1341     9928              Clc1ccc2c(c1)NC(N1CCNCC1)=c1ccccc1=N2  1\n",
              " 1342     4313  FC(F)(F)c1ccc(Nc2ncnc3cc(-c4ncccc4C(F)(F)F)ccc...  1\n",
              " 1343     4497        CCn1c(-c2ccc(OCCCN3CCCCC3)cc2)nc2ccccc2c1=O  1\n",
              " \n",
              " [1344 rows x 3 columns],\n",
              " 'test':       Drug_ID                                               Drug  Y\n",
              " 0       10325             COc1nccnc1CC1=C(CCN(C)C)Cc2cc(Cl)ccc21  1\n",
              " 1       11864  O=C(NC1CCN(Cc2ccn(-c3ccc(C(F)(F)F)cc3)c2)CC1)N...  0\n",
              " 2        5893                  Fc1ccc(Cn2cc(NCCN3CCCCC3)nn2)cc1F  0\n",
              " 3        6664  CC1(C)C[C@@H](NC(=O)CC(O)(C(F)(F)F)C(F)(F)F)c2...  0\n",
              " 4         977  O=C(O)C[C@@H]1c2ccccc2C[C@H]1NC(=O)c1cc2sc(Cl)...  0\n",
              " ...       ...                                                ... ..\n",
              " 2684     6422         O=c1cc([C@H]2CCN[C@@H](Cc3ccccc3)C2)o[nH]1  0\n",
              " 2685    11883  C[C@@H]1CN(C(=O)c2ccccc2)CCN1C(=O)C(=O)c1c[nH]...  0\n",
              " 2686     7349  O=C(Nc1ccc(-c2nnn[nH]2)cc1F)C(C1CCCCC1)n1c(-c2...  0\n",
              " 2687     8836  C[C@]1(CS(=O)(=O)N2CCN(c3ncc(OCc4ccc(C(F)(F)F)...  0\n",
              " 2688    11510  O=C(Nc1ccc(-c2nnc(NCCCN3CCCCC3)o2)cc1)c1c(F)cc...  1\n",
              " \n",
              " [2689 rows x 3 columns]}"
            ]
          },
          "metadata": {},
          "execution_count": 4
        }
      ]
    },
    {
      "cell_type": "code",
      "source": [
        "train = split['train']\n",
        "train.head()"
      ],
      "metadata": {
        "colab": {
          "base_uri": "https://localhost:8080/",
          "height": 206
        },
        "id": "9SSJNxAsBCKR",
        "outputId": "24ed8a70-9744-4bc2-b115-04e71c99ca92"
      },
      "execution_count": 5,
      "outputs": [
        {
          "output_type": "execute_result",
          "data": {
            "text/plain": [
              "   Drug_ID                                               Drug  Y\n",
              "0        1  COc1cc(N2Cc3ccc(Sc4ccc(F)cc4)nc3C2=O)ccc1OCCN1...  0\n",
              "1        2  CCOC(=O)[C@H]1CC[C@@H](N2CC(NC(=O)CNc3nn(C(N)=...  0\n",
              "2        3  N[C@@H](Cn1c(=O)cnc2ccc(F)cc21)C1CCC(NCc2ccc3c...  0\n",
              "3        4  O=C(NC1COc2cccc(-c3ccnc(CO)c3)c2C1)c1ccc(OCC(F...  0\n",
              "4        5      Cc1cc(Nc2cncc(N[C@@H](C)c3ncc(F)cn3)n2)n[nH]1  0"
            ],
            "text/html": [
              "\n",
              "  <div id=\"df-95549839-d29d-43c1-b023-2c3ca13e802e\">\n",
              "    <div class=\"colab-df-container\">\n",
              "      <div>\n",
              "<style scoped>\n",
              "    .dataframe tbody tr th:only-of-type {\n",
              "        vertical-align: middle;\n",
              "    }\n",
              "\n",
              "    .dataframe tbody tr th {\n",
              "        vertical-align: top;\n",
              "    }\n",
              "\n",
              "    .dataframe thead th {\n",
              "        text-align: right;\n",
              "    }\n",
              "</style>\n",
              "<table border=\"1\" class=\"dataframe\">\n",
              "  <thead>\n",
              "    <tr style=\"text-align: right;\">\n",
              "      <th></th>\n",
              "      <th>Drug_ID</th>\n",
              "      <th>Drug</th>\n",
              "      <th>Y</th>\n",
              "    </tr>\n",
              "  </thead>\n",
              "  <tbody>\n",
              "    <tr>\n",
              "      <th>0</th>\n",
              "      <td>1</td>\n",
              "      <td>COc1cc(N2Cc3ccc(Sc4ccc(F)cc4)nc3C2=O)ccc1OCCN1...</td>\n",
              "      <td>0</td>\n",
              "    </tr>\n",
              "    <tr>\n",
              "      <th>1</th>\n",
              "      <td>2</td>\n",
              "      <td>CCOC(=O)[C@H]1CC[C@@H](N2CC(NC(=O)CNc3nn(C(N)=...</td>\n",
              "      <td>0</td>\n",
              "    </tr>\n",
              "    <tr>\n",
              "      <th>2</th>\n",
              "      <td>3</td>\n",
              "      <td>N[C@@H](Cn1c(=O)cnc2ccc(F)cc21)C1CCC(NCc2ccc3c...</td>\n",
              "      <td>0</td>\n",
              "    </tr>\n",
              "    <tr>\n",
              "      <th>3</th>\n",
              "      <td>4</td>\n",
              "      <td>O=C(NC1COc2cccc(-c3ccnc(CO)c3)c2C1)c1ccc(OCC(F...</td>\n",
              "      <td>0</td>\n",
              "    </tr>\n",
              "    <tr>\n",
              "      <th>4</th>\n",
              "      <td>5</td>\n",
              "      <td>Cc1cc(Nc2cncc(N[C@@H](C)c3ncc(F)cn3)n2)n[nH]1</td>\n",
              "      <td>0</td>\n",
              "    </tr>\n",
              "  </tbody>\n",
              "</table>\n",
              "</div>\n",
              "      <button class=\"colab-df-convert\" onclick=\"convertToInteractive('df-95549839-d29d-43c1-b023-2c3ca13e802e')\"\n",
              "              title=\"Convert this dataframe to an interactive table.\"\n",
              "              style=\"display:none;\">\n",
              "        \n",
              "  <svg xmlns=\"http://www.w3.org/2000/svg\" height=\"24px\"viewBox=\"0 0 24 24\"\n",
              "       width=\"24px\">\n",
              "    <path d=\"M0 0h24v24H0V0z\" fill=\"none\"/>\n",
              "    <path d=\"M18.56 5.44l.94 2.06.94-2.06 2.06-.94-2.06-.94-.94-2.06-.94 2.06-2.06.94zm-11 1L8.5 8.5l.94-2.06 2.06-.94-2.06-.94L8.5 2.5l-.94 2.06-2.06.94zm10 10l.94 2.06.94-2.06 2.06-.94-2.06-.94-.94-2.06-.94 2.06-2.06.94z\"/><path d=\"M17.41 7.96l-1.37-1.37c-.4-.4-.92-.59-1.43-.59-.52 0-1.04.2-1.43.59L10.3 9.45l-7.72 7.72c-.78.78-.78 2.05 0 2.83L4 21.41c.39.39.9.59 1.41.59.51 0 1.02-.2 1.41-.59l7.78-7.78 2.81-2.81c.8-.78.8-2.07 0-2.86zM5.41 20L4 18.59l7.72-7.72 1.47 1.35L5.41 20z\"/>\n",
              "  </svg>\n",
              "      </button>\n",
              "      \n",
              "  <style>\n",
              "    .colab-df-container {\n",
              "      display:flex;\n",
              "      flex-wrap:wrap;\n",
              "      gap: 12px;\n",
              "    }\n",
              "\n",
              "    .colab-df-convert {\n",
              "      background-color: #E8F0FE;\n",
              "      border: none;\n",
              "      border-radius: 50%;\n",
              "      cursor: pointer;\n",
              "      display: none;\n",
              "      fill: #1967D2;\n",
              "      height: 32px;\n",
              "      padding: 0 0 0 0;\n",
              "      width: 32px;\n",
              "    }\n",
              "\n",
              "    .colab-df-convert:hover {\n",
              "      background-color: #E2EBFA;\n",
              "      box-shadow: 0px 1px 2px rgba(60, 64, 67, 0.3), 0px 1px 3px 1px rgba(60, 64, 67, 0.15);\n",
              "      fill: #174EA6;\n",
              "    }\n",
              "\n",
              "    [theme=dark] .colab-df-convert {\n",
              "      background-color: #3B4455;\n",
              "      fill: #D2E3FC;\n",
              "    }\n",
              "\n",
              "    [theme=dark] .colab-df-convert:hover {\n",
              "      background-color: #434B5C;\n",
              "      box-shadow: 0px 1px 3px 1px rgba(0, 0, 0, 0.15);\n",
              "      filter: drop-shadow(0px 1px 2px rgba(0, 0, 0, 0.3));\n",
              "      fill: #FFFFFF;\n",
              "    }\n",
              "  </style>\n",
              "\n",
              "      <script>\n",
              "        const buttonEl =\n",
              "          document.querySelector('#df-95549839-d29d-43c1-b023-2c3ca13e802e button.colab-df-convert');\n",
              "        buttonEl.style.display =\n",
              "          google.colab.kernel.accessAllowed ? 'block' : 'none';\n",
              "\n",
              "        async function convertToInteractive(key) {\n",
              "          const element = document.querySelector('#df-95549839-d29d-43c1-b023-2c3ca13e802e');\n",
              "          const dataTable =\n",
              "            await google.colab.kernel.invokeFunction('convertToInteractive',\n",
              "                                                     [key], {});\n",
              "          if (!dataTable) return;\n",
              "\n",
              "          const docLinkHtml = 'Like what you see? Visit the ' +\n",
              "            '<a target=\"_blank\" href=https://colab.research.google.com/notebooks/data_table.ipynb>data table notebook</a>'\n",
              "            + ' to learn more about interactive tables.';\n",
              "          element.innerHTML = '';\n",
              "          dataTable['output_type'] = 'display_data';\n",
              "          await google.colab.output.renderOutput(dataTable, element);\n",
              "          const docLink = document.createElement('div');\n",
              "          docLink.innerHTML = docLinkHtml;\n",
              "          element.appendChild(docLink);\n",
              "        }\n",
              "      </script>\n",
              "    </div>\n",
              "  </div>\n",
              "  "
            ]
          },
          "metadata": {},
          "execution_count": 5
        }
      ]
    },
    {
      "cell_type": "code",
      "source": [
        "test = split['test']\n",
        "test"
      ],
      "metadata": {
        "colab": {
          "base_uri": "https://localhost:8080/",
          "height": 423
        },
        "id": "7PrpMEC-BIxP",
        "outputId": "19ff5946-c8d3-4d07-c83b-5b73139cddec"
      },
      "execution_count": 6,
      "outputs": [
        {
          "output_type": "execute_result",
          "data": {
            "text/plain": [
              "      Drug_ID                                               Drug  Y\n",
              "0       10325             COc1nccnc1CC1=C(CCN(C)C)Cc2cc(Cl)ccc21  1\n",
              "1       11864  O=C(NC1CCN(Cc2ccn(-c3ccc(C(F)(F)F)cc3)c2)CC1)N...  0\n",
              "2        5893                  Fc1ccc(Cn2cc(NCCN3CCCCC3)nn2)cc1F  0\n",
              "3        6664  CC1(C)C[C@@H](NC(=O)CC(O)(C(F)(F)F)C(F)(F)F)c2...  0\n",
              "4         977  O=C(O)C[C@@H]1c2ccccc2C[C@H]1NC(=O)c1cc2sc(Cl)...  0\n",
              "...       ...                                                ... ..\n",
              "2684     6422         O=c1cc([C@H]2CCN[C@@H](Cc3ccccc3)C2)o[nH]1  0\n",
              "2685    11883  C[C@@H]1CN(C(=O)c2ccccc2)CCN1C(=O)C(=O)c1c[nH]...  0\n",
              "2686     7349  O=C(Nc1ccc(-c2nnn[nH]2)cc1F)C(C1CCCCC1)n1c(-c2...  0\n",
              "2687     8836  C[C@]1(CS(=O)(=O)N2CCN(c3ncc(OCc4ccc(C(F)(F)F)...  0\n",
              "2688    11510  O=C(Nc1ccc(-c2nnc(NCCCN3CCCCC3)o2)cc1)c1c(F)cc...  1\n",
              "\n",
              "[2689 rows x 3 columns]"
            ],
            "text/html": [
              "\n",
              "  <div id=\"df-ce5b94e2-0227-4996-9078-8434ed6a1fe6\">\n",
              "    <div class=\"colab-df-container\">\n",
              "      <div>\n",
              "<style scoped>\n",
              "    .dataframe tbody tr th:only-of-type {\n",
              "        vertical-align: middle;\n",
              "    }\n",
              "\n",
              "    .dataframe tbody tr th {\n",
              "        vertical-align: top;\n",
              "    }\n",
              "\n",
              "    .dataframe thead th {\n",
              "        text-align: right;\n",
              "    }\n",
              "</style>\n",
              "<table border=\"1\" class=\"dataframe\">\n",
              "  <thead>\n",
              "    <tr style=\"text-align: right;\">\n",
              "      <th></th>\n",
              "      <th>Drug_ID</th>\n",
              "      <th>Drug</th>\n",
              "      <th>Y</th>\n",
              "    </tr>\n",
              "  </thead>\n",
              "  <tbody>\n",
              "    <tr>\n",
              "      <th>0</th>\n",
              "      <td>10325</td>\n",
              "      <td>COc1nccnc1CC1=C(CCN(C)C)Cc2cc(Cl)ccc21</td>\n",
              "      <td>1</td>\n",
              "    </tr>\n",
              "    <tr>\n",
              "      <th>1</th>\n",
              "      <td>11864</td>\n",
              "      <td>O=C(NC1CCN(Cc2ccn(-c3ccc(C(F)(F)F)cc3)c2)CC1)N...</td>\n",
              "      <td>0</td>\n",
              "    </tr>\n",
              "    <tr>\n",
              "      <th>2</th>\n",
              "      <td>5893</td>\n",
              "      <td>Fc1ccc(Cn2cc(NCCN3CCCCC3)nn2)cc1F</td>\n",
              "      <td>0</td>\n",
              "    </tr>\n",
              "    <tr>\n",
              "      <th>3</th>\n",
              "      <td>6664</td>\n",
              "      <td>CC1(C)C[C@@H](NC(=O)CC(O)(C(F)(F)F)C(F)(F)F)c2...</td>\n",
              "      <td>0</td>\n",
              "    </tr>\n",
              "    <tr>\n",
              "      <th>4</th>\n",
              "      <td>977</td>\n",
              "      <td>O=C(O)C[C@@H]1c2ccccc2C[C@H]1NC(=O)c1cc2sc(Cl)...</td>\n",
              "      <td>0</td>\n",
              "    </tr>\n",
              "    <tr>\n",
              "      <th>...</th>\n",
              "      <td>...</td>\n",
              "      <td>...</td>\n",
              "      <td>...</td>\n",
              "    </tr>\n",
              "    <tr>\n",
              "      <th>2684</th>\n",
              "      <td>6422</td>\n",
              "      <td>O=c1cc([C@H]2CCN[C@@H](Cc3ccccc3)C2)o[nH]1</td>\n",
              "      <td>0</td>\n",
              "    </tr>\n",
              "    <tr>\n",
              "      <th>2685</th>\n",
              "      <td>11883</td>\n",
              "      <td>C[C@@H]1CN(C(=O)c2ccccc2)CCN1C(=O)C(=O)c1c[nH]...</td>\n",
              "      <td>0</td>\n",
              "    </tr>\n",
              "    <tr>\n",
              "      <th>2686</th>\n",
              "      <td>7349</td>\n",
              "      <td>O=C(Nc1ccc(-c2nnn[nH]2)cc1F)C(C1CCCCC1)n1c(-c2...</td>\n",
              "      <td>0</td>\n",
              "    </tr>\n",
              "    <tr>\n",
              "      <th>2687</th>\n",
              "      <td>8836</td>\n",
              "      <td>C[C@]1(CS(=O)(=O)N2CCN(c3ncc(OCc4ccc(C(F)(F)F)...</td>\n",
              "      <td>0</td>\n",
              "    </tr>\n",
              "    <tr>\n",
              "      <th>2688</th>\n",
              "      <td>11510</td>\n",
              "      <td>O=C(Nc1ccc(-c2nnc(NCCCN3CCCCC3)o2)cc1)c1c(F)cc...</td>\n",
              "      <td>1</td>\n",
              "    </tr>\n",
              "  </tbody>\n",
              "</table>\n",
              "<p>2689 rows × 3 columns</p>\n",
              "</div>\n",
              "      <button class=\"colab-df-convert\" onclick=\"convertToInteractive('df-ce5b94e2-0227-4996-9078-8434ed6a1fe6')\"\n",
              "              title=\"Convert this dataframe to an interactive table.\"\n",
              "              style=\"display:none;\">\n",
              "        \n",
              "  <svg xmlns=\"http://www.w3.org/2000/svg\" height=\"24px\"viewBox=\"0 0 24 24\"\n",
              "       width=\"24px\">\n",
              "    <path d=\"M0 0h24v24H0V0z\" fill=\"none\"/>\n",
              "    <path d=\"M18.56 5.44l.94 2.06.94-2.06 2.06-.94-2.06-.94-.94-2.06-.94 2.06-2.06.94zm-11 1L8.5 8.5l.94-2.06 2.06-.94-2.06-.94L8.5 2.5l-.94 2.06-2.06.94zm10 10l.94 2.06.94-2.06 2.06-.94-2.06-.94-.94-2.06-.94 2.06-2.06.94z\"/><path d=\"M17.41 7.96l-1.37-1.37c-.4-.4-.92-.59-1.43-.59-.52 0-1.04.2-1.43.59L10.3 9.45l-7.72 7.72c-.78.78-.78 2.05 0 2.83L4 21.41c.39.39.9.59 1.41.59.51 0 1.02-.2 1.41-.59l7.78-7.78 2.81-2.81c.8-.78.8-2.07 0-2.86zM5.41 20L4 18.59l7.72-7.72 1.47 1.35L5.41 20z\"/>\n",
              "  </svg>\n",
              "      </button>\n",
              "      \n",
              "  <style>\n",
              "    .colab-df-container {\n",
              "      display:flex;\n",
              "      flex-wrap:wrap;\n",
              "      gap: 12px;\n",
              "    }\n",
              "\n",
              "    .colab-df-convert {\n",
              "      background-color: #E8F0FE;\n",
              "      border: none;\n",
              "      border-radius: 50%;\n",
              "      cursor: pointer;\n",
              "      display: none;\n",
              "      fill: #1967D2;\n",
              "      height: 32px;\n",
              "      padding: 0 0 0 0;\n",
              "      width: 32px;\n",
              "    }\n",
              "\n",
              "    .colab-df-convert:hover {\n",
              "      background-color: #E2EBFA;\n",
              "      box-shadow: 0px 1px 2px rgba(60, 64, 67, 0.3), 0px 1px 3px 1px rgba(60, 64, 67, 0.15);\n",
              "      fill: #174EA6;\n",
              "    }\n",
              "\n",
              "    [theme=dark] .colab-df-convert {\n",
              "      background-color: #3B4455;\n",
              "      fill: #D2E3FC;\n",
              "    }\n",
              "\n",
              "    [theme=dark] .colab-df-convert:hover {\n",
              "      background-color: #434B5C;\n",
              "      box-shadow: 0px 1px 3px 1px rgba(0, 0, 0, 0.15);\n",
              "      filter: drop-shadow(0px 1px 2px rgba(0, 0, 0, 0.3));\n",
              "      fill: #FFFFFF;\n",
              "    }\n",
              "  </style>\n",
              "\n",
              "      <script>\n",
              "        const buttonEl =\n",
              "          document.querySelector('#df-ce5b94e2-0227-4996-9078-8434ed6a1fe6 button.colab-df-convert');\n",
              "        buttonEl.style.display =\n",
              "          google.colab.kernel.accessAllowed ? 'block' : 'none';\n",
              "\n",
              "        async function convertToInteractive(key) {\n",
              "          const element = document.querySelector('#df-ce5b94e2-0227-4996-9078-8434ed6a1fe6');\n",
              "          const dataTable =\n",
              "            await google.colab.kernel.invokeFunction('convertToInteractive',\n",
              "                                                     [key], {});\n",
              "          if (!dataTable) return;\n",
              "\n",
              "          const docLinkHtml = 'Like what you see? Visit the ' +\n",
              "            '<a target=\"_blank\" href=https://colab.research.google.com/notebooks/data_table.ipynb>data table notebook</a>'\n",
              "            + ' to learn more about interactive tables.';\n",
              "          element.innerHTML = '';\n",
              "          dataTable['output_type'] = 'display_data';\n",
              "          await google.colab.output.renderOutput(dataTable, element);\n",
              "          const docLink = document.createElement('div');\n",
              "          docLink.innerHTML = docLinkHtml;\n",
              "          element.appendChild(docLink);\n",
              "        }\n",
              "      </script>\n",
              "    </div>\n",
              "  </div>\n",
              "  "
            ]
          },
          "metadata": {},
          "execution_count": 6
        }
      ]
    },
    {
      "cell_type": "code",
      "source": [
        "import pandas as pd\n",
        "train_df= pd.DataFrame.from_dict(split['train'])\n",
        "validate_df= pd.DataFrame.from_dict(split['valid'])\n",
        "test_df= pd.DataFrame.from_dict(split['test'])"
      ],
      "metadata": {
        "id": "BR2ku0VvHnV1"
      },
      "execution_count": 7,
      "outputs": []
    },
    {
      "cell_type": "code",
      "source": [
        "#Combining the datasets into a single one\n",
        "df = pd.concat([train_df,validate_df,test_df])"
      ],
      "metadata": {
        "id": "K2X2hC36H8EL"
      },
      "execution_count": 8,
      "outputs": []
    },
    {
      "cell_type": "code",
      "source": [
        "df"
      ],
      "metadata": {
        "colab": {
          "base_uri": "https://localhost:8080/",
          "height": 423
        },
        "id": "TqlqlVGYH9tV",
        "outputId": "7ebf2916-dfdf-4374-b401-88eca6e76b74"
      },
      "execution_count": 9,
      "outputs": [
        {
          "output_type": "execute_result",
          "data": {
            "text/plain": [
              "      Drug_ID                                               Drug  Y\n",
              "0           1  COc1cc(N2Cc3ccc(Sc4ccc(F)cc4)nc3C2=O)ccc1OCCN1...  0\n",
              "1           2  CCOC(=O)[C@H]1CC[C@@H](N2CC(NC(=O)CNc3nn(C(N)=...  0\n",
              "2           3  N[C@@H](Cn1c(=O)cnc2ccc(F)cc21)C1CCC(NCc2ccc3c...  0\n",
              "3           4  O=C(NC1COc2cccc(-c3ccnc(CO)c3)c2C1)c1ccc(OCC(F...  0\n",
              "4           5      Cc1cc(Nc2cncc(N[C@@H](C)c3ncc(F)cn3)n2)n[nH]1  0\n",
              "...       ...                                                ... ..\n",
              "2684     6422         O=c1cc([C@H]2CCN[C@@H](Cc3ccccc3)C2)o[nH]1  0\n",
              "2685    11883  C[C@@H]1CN(C(=O)c2ccccc2)CCN1C(=O)C(=O)c1c[nH]...  0\n",
              "2686     7349  O=C(Nc1ccc(-c2nnn[nH]2)cc1F)C(C1CCCCC1)n1c(-c2...  0\n",
              "2687     8836  C[C@]1(CS(=O)(=O)N2CCN(c3ncc(OCc4ccc(C(F)(F)F)...  0\n",
              "2688    11510  O=C(Nc1ccc(-c2nnc(NCCCN3CCCCC3)o2)cc1)c1c(F)cc...  1\n",
              "\n",
              "[13445 rows x 3 columns]"
            ],
            "text/html": [
              "\n",
              "  <div id=\"df-1fcb714b-dbf9-4518-871b-447cf60e9fa1\">\n",
              "    <div class=\"colab-df-container\">\n",
              "      <div>\n",
              "<style scoped>\n",
              "    .dataframe tbody tr th:only-of-type {\n",
              "        vertical-align: middle;\n",
              "    }\n",
              "\n",
              "    .dataframe tbody tr th {\n",
              "        vertical-align: top;\n",
              "    }\n",
              "\n",
              "    .dataframe thead th {\n",
              "        text-align: right;\n",
              "    }\n",
              "</style>\n",
              "<table border=\"1\" class=\"dataframe\">\n",
              "  <thead>\n",
              "    <tr style=\"text-align: right;\">\n",
              "      <th></th>\n",
              "      <th>Drug_ID</th>\n",
              "      <th>Drug</th>\n",
              "      <th>Y</th>\n",
              "    </tr>\n",
              "  </thead>\n",
              "  <tbody>\n",
              "    <tr>\n",
              "      <th>0</th>\n",
              "      <td>1</td>\n",
              "      <td>COc1cc(N2Cc3ccc(Sc4ccc(F)cc4)nc3C2=O)ccc1OCCN1...</td>\n",
              "      <td>0</td>\n",
              "    </tr>\n",
              "    <tr>\n",
              "      <th>1</th>\n",
              "      <td>2</td>\n",
              "      <td>CCOC(=O)[C@H]1CC[C@@H](N2CC(NC(=O)CNc3nn(C(N)=...</td>\n",
              "      <td>0</td>\n",
              "    </tr>\n",
              "    <tr>\n",
              "      <th>2</th>\n",
              "      <td>3</td>\n",
              "      <td>N[C@@H](Cn1c(=O)cnc2ccc(F)cc21)C1CCC(NCc2ccc3c...</td>\n",
              "      <td>0</td>\n",
              "    </tr>\n",
              "    <tr>\n",
              "      <th>3</th>\n",
              "      <td>4</td>\n",
              "      <td>O=C(NC1COc2cccc(-c3ccnc(CO)c3)c2C1)c1ccc(OCC(F...</td>\n",
              "      <td>0</td>\n",
              "    </tr>\n",
              "    <tr>\n",
              "      <th>4</th>\n",
              "      <td>5</td>\n",
              "      <td>Cc1cc(Nc2cncc(N[C@@H](C)c3ncc(F)cn3)n2)n[nH]1</td>\n",
              "      <td>0</td>\n",
              "    </tr>\n",
              "    <tr>\n",
              "      <th>...</th>\n",
              "      <td>...</td>\n",
              "      <td>...</td>\n",
              "      <td>...</td>\n",
              "    </tr>\n",
              "    <tr>\n",
              "      <th>2684</th>\n",
              "      <td>6422</td>\n",
              "      <td>O=c1cc([C@H]2CCN[C@@H](Cc3ccccc3)C2)o[nH]1</td>\n",
              "      <td>0</td>\n",
              "    </tr>\n",
              "    <tr>\n",
              "      <th>2685</th>\n",
              "      <td>11883</td>\n",
              "      <td>C[C@@H]1CN(C(=O)c2ccccc2)CCN1C(=O)C(=O)c1c[nH]...</td>\n",
              "      <td>0</td>\n",
              "    </tr>\n",
              "    <tr>\n",
              "      <th>2686</th>\n",
              "      <td>7349</td>\n",
              "      <td>O=C(Nc1ccc(-c2nnn[nH]2)cc1F)C(C1CCCCC1)n1c(-c2...</td>\n",
              "      <td>0</td>\n",
              "    </tr>\n",
              "    <tr>\n",
              "      <th>2687</th>\n",
              "      <td>8836</td>\n",
              "      <td>C[C@]1(CS(=O)(=O)N2CCN(c3ncc(OCc4ccc(C(F)(F)F)...</td>\n",
              "      <td>0</td>\n",
              "    </tr>\n",
              "    <tr>\n",
              "      <th>2688</th>\n",
              "      <td>11510</td>\n",
              "      <td>O=C(Nc1ccc(-c2nnc(NCCCN3CCCCC3)o2)cc1)c1c(F)cc...</td>\n",
              "      <td>1</td>\n",
              "    </tr>\n",
              "  </tbody>\n",
              "</table>\n",
              "<p>13445 rows × 3 columns</p>\n",
              "</div>\n",
              "      <button class=\"colab-df-convert\" onclick=\"convertToInteractive('df-1fcb714b-dbf9-4518-871b-447cf60e9fa1')\"\n",
              "              title=\"Convert this dataframe to an interactive table.\"\n",
              "              style=\"display:none;\">\n",
              "        \n",
              "  <svg xmlns=\"http://www.w3.org/2000/svg\" height=\"24px\"viewBox=\"0 0 24 24\"\n",
              "       width=\"24px\">\n",
              "    <path d=\"M0 0h24v24H0V0z\" fill=\"none\"/>\n",
              "    <path d=\"M18.56 5.44l.94 2.06.94-2.06 2.06-.94-2.06-.94-.94-2.06-.94 2.06-2.06.94zm-11 1L8.5 8.5l.94-2.06 2.06-.94-2.06-.94L8.5 2.5l-.94 2.06-2.06.94zm10 10l.94 2.06.94-2.06 2.06-.94-2.06-.94-.94-2.06-.94 2.06-2.06.94z\"/><path d=\"M17.41 7.96l-1.37-1.37c-.4-.4-.92-.59-1.43-.59-.52 0-1.04.2-1.43.59L10.3 9.45l-7.72 7.72c-.78.78-.78 2.05 0 2.83L4 21.41c.39.39.9.59 1.41.59.51 0 1.02-.2 1.41-.59l7.78-7.78 2.81-2.81c.8-.78.8-2.07 0-2.86zM5.41 20L4 18.59l7.72-7.72 1.47 1.35L5.41 20z\"/>\n",
              "  </svg>\n",
              "      </button>\n",
              "      \n",
              "  <style>\n",
              "    .colab-df-container {\n",
              "      display:flex;\n",
              "      flex-wrap:wrap;\n",
              "      gap: 12px;\n",
              "    }\n",
              "\n",
              "    .colab-df-convert {\n",
              "      background-color: #E8F0FE;\n",
              "      border: none;\n",
              "      border-radius: 50%;\n",
              "      cursor: pointer;\n",
              "      display: none;\n",
              "      fill: #1967D2;\n",
              "      height: 32px;\n",
              "      padding: 0 0 0 0;\n",
              "      width: 32px;\n",
              "    }\n",
              "\n",
              "    .colab-df-convert:hover {\n",
              "      background-color: #E2EBFA;\n",
              "      box-shadow: 0px 1px 2px rgba(60, 64, 67, 0.3), 0px 1px 3px 1px rgba(60, 64, 67, 0.15);\n",
              "      fill: #174EA6;\n",
              "    }\n",
              "\n",
              "    [theme=dark] .colab-df-convert {\n",
              "      background-color: #3B4455;\n",
              "      fill: #D2E3FC;\n",
              "    }\n",
              "\n",
              "    [theme=dark] .colab-df-convert:hover {\n",
              "      background-color: #434B5C;\n",
              "      box-shadow: 0px 1px 3px 1px rgba(0, 0, 0, 0.15);\n",
              "      filter: drop-shadow(0px 1px 2px rgba(0, 0, 0, 0.3));\n",
              "      fill: #FFFFFF;\n",
              "    }\n",
              "  </style>\n",
              "\n",
              "      <script>\n",
              "        const buttonEl =\n",
              "          document.querySelector('#df-1fcb714b-dbf9-4518-871b-447cf60e9fa1 button.colab-df-convert');\n",
              "        buttonEl.style.display =\n",
              "          google.colab.kernel.accessAllowed ? 'block' : 'none';\n",
              "\n",
              "        async function convertToInteractive(key) {\n",
              "          const element = document.querySelector('#df-1fcb714b-dbf9-4518-871b-447cf60e9fa1');\n",
              "          const dataTable =\n",
              "            await google.colab.kernel.invokeFunction('convertToInteractive',\n",
              "                                                     [key], {});\n",
              "          if (!dataTable) return;\n",
              "\n",
              "          const docLinkHtml = 'Like what you see? Visit the ' +\n",
              "            '<a target=\"_blank\" href=https://colab.research.google.com/notebooks/data_table.ipynb>data table notebook</a>'\n",
              "            + ' to learn more about interactive tables.';\n",
              "          element.innerHTML = '';\n",
              "          dataTable['output_type'] = 'display_data';\n",
              "          await google.colab.output.renderOutput(dataTable, element);\n",
              "          const docLink = document.createElement('div');\n",
              "          docLink.innerHTML = docLinkHtml;\n",
              "          element.appendChild(docLink);\n",
              "        }\n",
              "      </script>\n",
              "    </div>\n",
              "  </div>\n",
              "  "
            ]
          },
          "metadata": {},
          "execution_count": 9
        }
      ]
    },
    {
      "cell_type": "code",
      "source": [
        "#Saving DataFrame as csv file\n",
        "df.to_csv('Toxicity.csv')"
      ],
      "metadata": {
        "id": "m2ucEw9tH-K1"
      },
      "execution_count": 10,
      "outputs": []
    },
    {
      "cell_type": "code",
      "source": [
        "df.isnull().sum()"
      ],
      "metadata": {
        "colab": {
          "base_uri": "https://localhost:8080/"
        },
        "id": "5deWHACnIC3c",
        "outputId": "f84d6baa-4257-4388-d233-5b411950e0dd"
      },
      "execution_count": 11,
      "outputs": [
        {
          "output_type": "execute_result",
          "data": {
            "text/plain": [
              "Drug_ID    0\n",
              "Drug       0\n",
              "Y          0\n",
              "dtype: int64"
            ]
          },
          "metadata": {},
          "execution_count": 11
        }
      ]
    },
    {
      "cell_type": "code",
      "source": [
        "df.shape"
      ],
      "metadata": {
        "colab": {
          "base_uri": "https://localhost:8080/"
        },
        "id": "DS8TysW0IFl7",
        "outputId": "c26c517e-9d6b-458e-e26b-591153d21e6e"
      },
      "execution_count": 12,
      "outputs": [
        {
          "output_type": "execute_result",
          "data": {
            "text/plain": [
              "(13445, 3)"
            ]
          },
          "metadata": {},
          "execution_count": 12
        }
      ]
    },
    {
      "cell_type": "code",
      "source": [
        "df['Drug']"
      ],
      "metadata": {
        "colab": {
          "base_uri": "https://localhost:8080/"
        },
        "id": "ao4E1zq_IHfe",
        "outputId": "39d90310-479b-4365-fc99-549402885b69"
      },
      "execution_count": 13,
      "outputs": [
        {
          "output_type": "execute_result",
          "data": {
            "text/plain": [
              "0       COc1cc(N2Cc3ccc(Sc4ccc(F)cc4)nc3C2=O)ccc1OCCN1...\n",
              "1       CCOC(=O)[C@H]1CC[C@@H](N2CC(NC(=O)CNc3nn(C(N)=...\n",
              "2       N[C@@H](Cn1c(=O)cnc2ccc(F)cc21)C1CCC(NCc2ccc3c...\n",
              "3       O=C(NC1COc2cccc(-c3ccnc(CO)c3)c2C1)c1ccc(OCC(F...\n",
              "4           Cc1cc(Nc2cncc(N[C@@H](C)c3ncc(F)cn3)n2)n[nH]1\n",
              "                              ...                        \n",
              "2684           O=c1cc([C@H]2CCN[C@@H](Cc3ccccc3)C2)o[nH]1\n",
              "2685    C[C@@H]1CN(C(=O)c2ccccc2)CCN1C(=O)C(=O)c1c[nH]...\n",
              "2686    O=C(Nc1ccc(-c2nnn[nH]2)cc1F)C(C1CCCCC1)n1c(-c2...\n",
              "2687    C[C@]1(CS(=O)(=O)N2CCN(c3ncc(OCc4ccc(C(F)(F)F)...\n",
              "2688    O=C(Nc1ccc(-c2nnc(NCCCN3CCCCC3)o2)cc1)c1c(F)cc...\n",
              "Name: Drug, Length: 13445, dtype: object"
            ]
          },
          "metadata": {},
          "execution_count": 13
        }
      ]
    },
    {
      "cell_type": "code",
      "source": [
        "Drugs = df['Drug']"
      ],
      "metadata": {
        "id": "E3UK0Hm4JsSv"
      },
      "execution_count": 14,
      "outputs": []
    },
    {
      "cell_type": "code",
      "source": [
        "pip install rdkit"
      ],
      "metadata": {
        "colab": {
          "base_uri": "https://localhost:8080/"
        },
        "id": "tuyIPKY_Jvi4",
        "outputId": "6668ec62-0ff6-4621-feab-25a3012dfff7"
      },
      "execution_count": 15,
      "outputs": [
        {
          "output_type": "stream",
          "name": "stdout",
          "text": [
            "Looking in indexes: https://pypi.org/simple, https://us-python.pkg.dev/colab-wheels/public/simple/\n",
            "Requirement already satisfied: rdkit in /usr/local/lib/python3.10/dist-packages (2023.3.1)\n",
            "Requirement already satisfied: Pillow in /usr/local/lib/python3.10/dist-packages (from rdkit) (8.4.0)\n",
            "Requirement already satisfied: numpy in /usr/local/lib/python3.10/dist-packages (from rdkit) (1.22.4)\n"
          ]
        }
      ]
    },
    {
      "cell_type": "code",
      "source": [
        "#Generating the Molecular Structure\n",
        "from  rdkit.Chem import PandasTools\n",
        "PandasTools.AddMoleculeColumnToFrame(df, smilesCol = 'Drug', molCol = 'Structure')"
      ],
      "metadata": {
        "id": "c0_meLhcKCSX"
      },
      "execution_count": 16,
      "outputs": []
    },
    {
      "cell_type": "code",
      "source": [
        "df"
      ],
      "metadata": {
        "colab": {
          "base_uri": "https://localhost:8080/",
          "height": 1000
        },
        "id": "4RQC0Yl-KFtJ",
        "outputId": "4d074947-65c9-41e4-baa5-7f59235659bb"
      },
      "execution_count": 17,
      "outputs": [
        {
          "output_type": "execute_result",
          "data": {
            "text/plain": [
              "      Drug_ID                                               Drug  Y  \\\n",
              "0           1  COc1cc(N2Cc3ccc(Sc4ccc(F)cc4)nc3C2=O)ccc1OCCN1...  0   \n",
              "1           2  CCOC(=O)[C@H]1CC[C@@H](N2CC(NC(=O)CNc3nn(C(N)=...  0   \n",
              "2           3  N[C@@H](Cn1c(=O)cnc2ccc(F)cc21)C1CCC(NCc2ccc3c...  0   \n",
              "3           4  O=C(NC1COc2cccc(-c3ccnc(CO)c3)c2C1)c1ccc(OCC(F...  0   \n",
              "4           5      Cc1cc(Nc2cncc(N[C@@H](C)c3ncc(F)cn3)n2)n[nH]1  0   \n",
              "...       ...                                                ... ..   \n",
              "2684     6422         O=c1cc([C@H]2CCN[C@@H](Cc3ccccc3)C2)o[nH]1  0   \n",
              "2685    11883  C[C@@H]1CN(C(=O)c2ccccc2)CCN1C(=O)C(=O)c1c[nH]...  0   \n",
              "2686     7349  O=C(Nc1ccc(-c2nnn[nH]2)cc1F)C(C1CCCCC1)n1c(-c2...  0   \n",
              "2687     8836  C[C@]1(CS(=O)(=O)N2CCN(c3ncc(OCc4ccc(C(F)(F)F)...  0   \n",
              "2688    11510  O=C(Nc1ccc(-c2nnc(NCCCN3CCCCC3)o2)cc1)c1c(F)cc...  1   \n",
              "\n",
              "                                             Structure  \n",
              "0     <rdkit.Chem.rdchem.Mol object at 0x7fc4480c4f90>  \n",
              "1     <rdkit.Chem.rdchem.Mol object at 0x7fc4480c4eb0>  \n",
              "2     <rdkit.Chem.rdchem.Mol object at 0x7fc4480c5150>  \n",
              "3     <rdkit.Chem.rdchem.Mol object at 0x7fc4480c7920>  \n",
              "4     <rdkit.Chem.rdchem.Mol object at 0x7fc4480c7990>  \n",
              "...                                                ...  \n",
              "2684  <rdkit.Chem.rdchem.Mol object at 0x7fc44503a730>  \n",
              "2685  <rdkit.Chem.rdchem.Mol object at 0x7fc44503a7a0>  \n",
              "2686  <rdkit.Chem.rdchem.Mol object at 0x7fc44503a810>  \n",
              "2687  <rdkit.Chem.rdchem.Mol object at 0x7fc44503a880>  \n",
              "2688  <rdkit.Chem.rdchem.Mol object at 0x7fc44503a8f0>  \n",
              "\n",
              "[13445 rows x 4 columns]"
            ],
            "text/html": [
              "\n",
              "  <div id=\"df-f86109af-16b0-47e8-954d-4335c86c81a5\">\n",
              "    <div class=\"colab-df-container\">\n",
              "      <div>\n",
              "<style scoped>\n",
              "    .dataframe tbody tr th:only-of-type {\n",
              "        vertical-align: middle;\n",
              "    }\n",
              "\n",
              "    .dataframe tbody tr th {\n",
              "        vertical-align: top;\n",
              "    }\n",
              "\n",
              "    .dataframe thead th {\n",
              "        text-align: right;\n",
              "    }\n",
              "</style>\n",
              "<table border=\"1\" class=\"dataframe\">\n",
              "  <thead>\n",
              "    <tr style=\"text-align: right;\">\n",
              "      <th></th>\n",
              "      <th>Drug_ID</th>\n",
              "      <th>Drug</th>\n",
              "      <th>Y</th>\n",
              "      <th>Structure</th>\n",
              "    </tr>\n",
              "  </thead>\n",
              "  <tbody>\n",
              "    <tr>\n",
              "      <th>0</th>\n",
              "      <td>1</td>\n",
              "      <td>COc1cc(N2Cc3ccc(Sc4ccc(F)cc4)nc3C2=O)ccc1OCCN1...</td>\n",
              "      <td>0</td>\n",
              "      <td style=\"text-align: center;\"><div style=\"width: 200px; height: 200px\" data-content=\"rdkit/molecule\"><img src=\"data:image/png;base64,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\" alt=\"Mol\"/></div></td>\n",
              "    </tr>\n",
              "    <tr>\n",
              "      <th>1</th>\n",
              "      <td>2</td>\n",
              "      <td>CCOC(=O)[C@H]1CC[C@@H](N2CC(NC(=O)CNc3nn(C(N)=...</td>\n",
              "      <td>0</td>\n",
              "      <td style=\"text-align: center;\"><div style=\"width: 200px; height: 200px\" data-content=\"rdkit/molecule\"><img src=\"data:image/png;base64,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\" alt=\"Mol\"/></div></td>\n",
              "    </tr>\n",
              "    <tr>\n",
              "      <th>2</th>\n",
              "      <td>3</td>\n",
              "      <td>N[C@@H](Cn1c(=O)cnc2ccc(F)cc21)C1CCC(NCc2ccc3c...</td>\n",
              "      <td>0</td>\n",
              "      <td style=\"text-align: center;\"><div style=\"width: 200px; height: 200px\" data-content=\"rdkit/molecule\"><img src=\"data:image/png;base64,iVBORw0KGgoAAAANSUhEUgAAAMgAAADICAIAAAAiOjnJAAAABmJLR0QA/wD/AP+gvaeTAAAYb0lEQVR4nO3daVRUR9oH8Ke72UERRQWJQUBEm0WNICqIIqLGoBFOXMYMcU3GlahojNs4BlySM05M4q6TiGvEo2ZIgNGJeTVERcSJsomigCIqCgiyNNBNP++HIh1QgXtvUwOa53fmzAdyq6vs/vetulV1b8sQEQhpafLWbgB5NVGwCBcULMIFBYtwQcEiXFCwCBcULMIFBYtwQcEiXFCwCBcULMIFBYtwQcEiXFCwCBcULMIFBYtwQcEiXFCwCBcULMIFBYtwQcEiXFCwCBcULMIFBYtwQcEiXFCwCBcULMIFBYtwQcEiXFCwCBcULMIFBYtwQcEiXFCwCBcULMIFBYtwQcEiXFCwCBcULMIFBYtwQcEiXFCwCBcULMIFBYtwQcEiXFCwCBcULMIFBYtwQcEiXFCwCBcULMIFBYtwQcEiXFCwCBcULMIFBYtwQcEiXFCwCBcULMIFBYtwQcEiXPAPlkYD9++DVsu9ItKWcA7Ww4cwdy6cOgWzZ4NKxbcu0pbIEJHjy3/xBQQGglIJ8fFQXQ0TJnCsi7QlnM9YWi0oFAAAcjn1hn8onM9YeXkQGQljx8J338FXX4GFBce6SFvCM1jvvw+FhTBjBnTvDkolGBvzqoi0PdyCVVEBNjZQUQG9e8OjR/DTT+DhwaUi0iZxG2MdPw7l5dC/P1y/Dojg4sKrItImcQvWgQMAAJ06AQBMnUr94B8Nn64wPx/s7cHQEKys4MEDuHQJBg5s+VpIG8bljHX6u+/uDRxYO3gwPHgAvXpRqv6AuAQrfOfO7hcvTjQ0PDR0aOG8eTyqIG1cy3eFycnJXl5enTt3rqioUKlU2dnZPXr0aNkqSNvX8mesAwcOAED//v0rKyv9/f0pVX9MLRwsjUZz9OhRACguLgaA0NDQln198rJoga7wyZMn6enpGRkZ6enp586du3btGgDIZDJTU9OHDx+2a9euJdpJXjIGYguUlZWlp6enpqampaWlpaWlpqY+fvz4mWMUCkVtbW337t3bfqrUavXNmzfZtyIjI+PixYvl5eXLli1buXJlazft5SbijBUdHT137twnT548U6RDhw5ubm6urq4eHh6urq7u7u45OTl+fn6VlZXbtm2b15auCrVabXZ2dmpqqu67cfPmTY1GU/8YuVxuamp64cIFj5dhDer+/fvs652env7vf/+7X79++/fvt7a2bu12CQ6WRqPp1q1bSUkJADg7O7u6uiqVSvb/SqVSJpM9c/yxY8cmT56sUCji4+NHjhzZ8g0X6a9//evBgwcLCgoqKyvr/12hUPTs2dPd3d3Nzc3NzU2pVEZERBw5csTe3v7SpUtdu3ZtrQa/0NOnT7OystLT069cuZKRkZGamlpQUFD/AJlM9vbbb584ceL5T+R/DYX54YcfAMDR0TE7O1tgkVWrVslksjff/DQzU2AJXmJjYw0M6jp9W1vbkSNHhoWF7dq1KyEhoaKi4pmDVSrV4MGDAWDIkCFVVVWt0uD6ampq3n333REjRrz++uvPf3wdO3YcNmzY/Pnzd+7cuWXLlvbt2wPAmjVrWrvVKDRYkydPBoDRo0fL5fL169cLKaLVahcuPAeAzs5YVKRHG/U2f/58ABg7dizrx5v1+PFjR0dHAAgNDeXdtmZNmTJFFyMjIyOlUjlx4sS1a9fGxMTcvn1bq9Wyw/Ly8t544w1fX18DAwOZTHbw4MHWbbagYJWWlpqamsrl8l69egFAXFycwFevrEQvLwRAPz+srtajmXqoqalhY45r164JL5Wens6+/Rs3buTXNiFcXFwAYN68eVlZWbW1tY0dlpmZ2aFDBwAYM2YMAJiYmFy8ePF/2c5nCArW7t27AWDgwIEA0LVrV7VaLbyC/Hy0s0MAnDlTahv1c/LkSQDo16+f2IKxsbEKhUImkx09epRHw4Q4f/48677t7OwWLVqkOz+90OnTp9npig1qbWxs7t69+z9r6jMEBSswUOPjc3v06BAACA8PF1tHYiKamqK3N5aXN3pMSUlJcnJyVFRUWFjYyJEjHRwc+vfvX1hYKLau54WEhADA5s2bJZTduHEjAJiaml6+fFlgkddfx8JCPH4cz57FDz9ERExJwb17JVSOiDhnzhwAGDVqFAC8+eabzR7/xRdfsNOVp6cn+zqVN/Gm89R8sHJyUCZDc3McMSJ7wIAVV69elVBNQgLm5uJ77yEi7t+P9+5hWhpGR+PatRgUhI6O6Oz8ght4QkJCmjj5C1FUVGRsbKxQKO7fvy/tFWbPng0A3bp1u3fvXmPHaDSYmYnHjmFyMk6bhkuX1gUrNBRTUvD4cdy9W0rV1dXVnTp1AgA28XH48GEhpebOnQsAXbp0YcPE4OBgoe/h48e4fDlGROC2bVKa21Dzwfrb3xAA/f0RAN3cpNd05w4GBeHhw/jZZ7hgAQI0+J+//24vL6+ZM2du3rz59OnT586dYwOj1atXS68Scdu2bQK/642prq4eNmwYAHh6euouIe/cuRMXF7d1a3xoKPbvj8bGdf+KsDAMD8edO3HpUjx7FoODMSYGv/xSYrCOHTsGAG5ubjKZrH379s9fwL6QWq0OCAgAgD59+rBR18qVK5spU1iIqam4ejXm5yMirl2LevehzQerVy8EwKFDEQD//nfpNd25g59/jgsW4OrVuHMnKpU4aRJGRODJk3jrFj7/pTp37pyRkZFMJjtw4IDkSgcNGiT8u96YgoICtpTep08fHx8f9mkBQPfufixPMhk6OOC4cbh3L4aHY20t+vri2bO4YAEi4rVrEoM1fvx4diUOALNmzRJesKioiF1m+fj4sFFX/fewvLw8KSmp6MABXLIEAwPR1hYB0MkJ58xBNobbuxeTkqS0uJ5mgvXLLwiAtrZobIwKBUrtTxB/C1ZeHtrbY+O9SgN79+5lI4YLFy5IqDErK0vUd70JKSkp5ubmrGMCgM6dOwcEBCxatHj3bm1iIj59+vuRN28iIubl4a+/YmAgPnmCZWV1JwJRCgsLjYyMDAwM7O3tAeDs2bOiimdmZlpZWQHAW2+9BQDGxsbTp08PDg52cnKSy+UAED148O/9Rbt2OGQIRkXhkSNYVobTp6Pe71ijwaqtxUeP8NEjjIzE995DABwzRq+aEhMxNhYRMS6uwSfRtAULFrBL0Tt37oitcc2aNWK/642Jj49nI63//Oc/BQUFQooEBCAABgaimGvo37Fh+JAhQwDA3t5ewliTXSTa2tqGhIRYWlrWnwzz8PCIXroUN27E77/HnBzUXWzGxuLnn2NuLubmYlSUlHb/ptFgFRdjjx5YXIw7duD163jtGl65ok9FOGoUyuUYEyOulEajGTt2LAD07du3rKxMeEGtVstGr2K/6y80depUAIiMjBReJDcXu3ZFAFy4UEqN7LJuxIgR+gw0jx49mpeXFxYWxmaLvv3227S0tJqammaKPXmCNjZSPq16mgrWwoX40Ud1wdJTfj4qFGhigsKmvhsoLS11dXVlU+cajUZgqbNnz0r+rj+jrKzMwsJCJpMJX85izp+vG9dv3y6uxoyMDACwtLRkZ5rrenwAarXaxsYGAK6IOjFERCAAWligmFnl+poKVkQEbt2Ks2a1QLA+/RQBcNIkicWzs7PZReKKFSuaOIwNS//5z38uXryYrawtWrRIYpX1fP311wDg7+8voez+/WhmVunr++6ZM2eEl/r4448BgF3cDRo0SEK9Ot9//z0AKJVKccW0Wnz3XQRAe3sU1vU/o5lgaTTo6YnXr+u7IOPujgD4/ffSX+Hnn382MjICgD179rC/qNXq27dvx8TErF27duLEiUqlkg1LdUxNTT09PfVfSPb39weAr7/+WlrxiIiv2GrxTTawbwTb0hMTE7N+/Xp2olq4cKG5ufk2/WaVJk2aBACffvqp6JIqFQ4apG3ffuef/yzhPWxq8M66rSdPcPt2dHPD4mLRbWN+/bXQwkLbpQs227k3bdeuXQBgYGDg7e3t4eHBclafkZFR3759p06dunHjxgMHDrz22mug90LynTt32A6tkpISaa+g1WrZp+vi4lJc700sLi5OSEjYtWtXWFiYj49P/U2RFhYWBgYGhw4dKisr0+eStqSkhC3y5uXlSSn/4MEHvr4AMH36dLFFm5/HqqrCfv0QAEeOlHiBs2jRIjMz608+iZVSuKHJkyfX32lka2sbFBS0fPnyqKio5ORklUpV/+CrV69aWFgAwKZNmyTXGBkZCQBTp07Vp9mVlZVeXl4A4OjoOH/+/ICAgC5dujy/0mBraxsYGLhkyRJ2raD/QjL7KgYGBkp+Bd17+Nlnn4kqKGitULeQLOHKXTd4TE5OFl34OQ8ePHBxcVmxYsXly5eFrIKdPHlSLpfL5fLvvvtOWo29e/cGgPj4eGnFdfLz821tbeufZdu3bz9gwIDQ0NBNmzbFxMQ8ePCg/vFsZUbPhWRfX18A2L9/vz4tZ4vxcrn85MmTwksJ3Y918SKamCAAbtsmrj+TOHhsxMyZM+fNmyeqyIYNG1jnImGVMzExEcRv6GjMhQsXQkJCVq5cGRsb2+y0XE1NDZtr8PMbIW0dOScnRyaTmZubi5qmeaH169fLZDJnZ2fhRYQGCxGjo9HB4YaTU5/YWBGdGhte6NMZ6ZSWllpZWUnoHWbNmsWmHh4+fCiqINshuHTpUrE1toiioqLhw9/q0eNGSMgLlryatXbtWgCYNm2a/i05deoUAFhZWQkvIiJYiLhmzd8AoEOHDplNbjcuKCj48ccft2zZMmPGDCMjI+mDx4bYJILwqSyd+gvJlZWVwktJ2CHYsjIz0coKAVDgFGl1dfXVq1ezsrIQkS0X/vjjj/o3g90fum7dOuFFxAVLq9WyPcqOjo6PHz9mf6yurk5LS4uKilq+fHlQUBCb79bp0KFDi+yUrahAa+vCnj2lLBpivd3GkyZNanq7HPtsDh065OfnBwDu7u7Samwpp0+jgQHKZPj8WnxtLd66hSdO4JYtsZMmTVIqlWxrf1hYWEJCAgDY2dlJ+B4+o7y8nM0P3759W3gpccFi1fTv3x8AnJ2dg4KCHBwcnr8hxNLS0sfH5y9/+cvWrVvZ7V/6X+CsWoUmJjhnjvRX0O023rBhQ/2/5+fnx8TEbNq0KTQ0dMCAASYmJvX/LWKHdDxs3YoAaGKCubl1f1m3Dj090cysbhF52LA41lqFQuHk5PTee++x+0Gank8WKCoqCgD8/PxElRIdLETMz8+3tLTs3r07+8cYGhrqdvhHR0enpaXpTgkXLlywsbHR7ZSVsJDMVFWhhQWamUleYKgTFxfHdhuPHj165syZnp6eZmZmz3wrFAqFi4vLO++8s2rVqi1btuhVX8v58EPcswd/+gkR8d49fOedukjZ2aG3N06YkD1+/AcDBgxgOxqYjh07fvTRR/pXzT4+3by0QFKCxeYMjY2No6Kirl+/3sQV09atW9npis3i9OvXT9oVyrJlaG6Orq7YZCcmyLp163S3gjFWVlY+Pj5N3BDWdjg4YGIinjiBy5bhoEH42mu/73zx8/tWl6dhw4aNGTNGJpMpFIoffvhBnxrv3bunUChMTEwE3uCkIyVYbM5w+PDhgwYNio6Obvpg1hXqdspOmDBB7KqwVouWlgiAY8dKaOwLbN682d/ff8eOHQkJCWLfr9a1eDHOno3HjuGmTXV5MjNDT0+cMQN37bp9+vTp/Ho7vyIiIgCgXbt2KSkpkmtku/6nTJkitqCUYLE5Qza2bXYeQa1Ws3OpUqlkG+Wa3yn7nB070N8fv/pKQmNfKeHhmJSEo0ZhTAyeOIFZWU1NQ2i1WjaD7+jo9OiR0GvhZ7i5uQGAqAkmRnSw2JyhjY0NW4QSMi9cXFzMLn2HDh3Kpp5fuNv41i1kU7vR0b9vud60Cdm2AH12Rb8y2KRDWBgmJAg6XqVSDR060sfnlo8PSliLv3z5MuttJMwPiw4WmzNkG7GFL0Ldvn2bzQmxnbIv3G2ckoI7dyIifvkl3rhR98fwcJw/H6uqsCX2v/wRPXig7d4dAVD8OjKyHYKLFy+WUK+4YOnmDN944w2xi1Ds5ggAYD2jtbX1M/MiKSn49tsYGYlBQQ2ClZGBGzdSsKT79Vc0N0cAFLWOrFar2TNR/vvf/0qoVFywTpw4wUZL0hah2M0RRkZG7OYZR0fH+rf7PXPGys3F4mJkt8euW4cffCCqKtLA8eMol6NcLrQPLSwsDA8PZx8Wm8cXS1ywgoODdf2gtEUo1pMGBAR07NhRLpf/4x//0P2nx4+RLRNfuYLFxZicjFu21A2wystRv6vmPzS2beKTT/D99+sGrxpNg911FRV4+TIeOXJpyZIlgYGBtra2bOaCTX0rlUoJe9FEBIvdVWxgYMAmDqQtQqnV6vXr15eXl7Ph/DOT4PXdvKnXjlOiw25vvHEDv/gCJ0zAI0ewsBCXL8fVqzE4GHv2RLkcAdDX9xvd3J6pqSkbCrOPafTo0WLH7yIebnvkyJHq6movL6/s7Gw7O7vhw4cLL6tjYGCwcuXKnJycmzdvdurUiZ1vn6fVwokTdT91SPSUlwcHD0JMDACAkxMkJkJpKQBAZCScPAm3boGBAXh4QN++Qzds2BATE5OdnV1WVjZu3LiqqiqtVtu5c+dTp04tW7ZMVKUinkHKnrPN1kBCQ0MVenzs+/btA4CpU6c+v72Ykcth+XLJL08asLaGoUMhJwdSUgAAli2DyEjo1g0iIsDZGVxdwcUFDA0BwAlgha7UoUOHfHx8UlNTBw4cWFFWNvnqVdi7F2bPFlip0GCdOXMmKSnJwsICEUG/52zX1tYePnxYzxchwpmagr09VFfXBcvODnr1gvJyWL26qVLt2rX717/+5e3tnZuefmXcuN7HjsH589CzJwjsqQR2mXFxcQBgbGx89+7dW7duiezlX/BSvXr10udFiHDs2l2jwcpKZLvRamux4e0Bjfrl558r3NzqboQHwI4dscl7jXSEBkulUrHdMvo/culPf/oTNDlsJ23Lvn0IgIaG6OODANi7t5DbjsVdFbJrBBGPXHpOaWmpmZmZXC6XvIWGtIJlyxAAraywd2+0tkYBU6bi5rF0zzBZtWqVtBayOdIRI0ZIK05aR20tjhtX1yEK20cqeq1Q96BLaY+tYnvPv/nmGwllSWt6+hTDwrCkBM+excWLcc2aunWSRkjZNqPbvifwsVU1NTVpaWllZWW5ublyudzMzOyp8OcYkbbm/ffr9lt+8EETu3ZE/5YOAMyfPz8jI2P79u3BwcFJSUnPP9j+/v377Ndp2A8oZGRkqFSq+Pj4y5cva7XakJCQtv8bO6RRcjmwuxyMjUGjgUZmIqUECwC+/PLL3NzcuLi48ePH//LLLxYWFtu2bbt27Rr7UZeysrKGLZH36NEjKSlpz549QNNXLzulEg4eBDs7kMkaSxXo87NyT58+HTx4cEZGxtixY2NiYlxdXW/cuMH+k5WVVY8ePSwtLRUKhUqlun//fm5uLgBYW1urVKrz58/37dtXWqWkTbhyBUpKYNgwMGj0xKTX7xVmZ2d7e3sXFhZOmTLFwsLi7t275eXl+fn5bFtp/SMtLS3d3NyKiooyMzMdHBwuXbrUuXNnyfWStk/fH8I8c+bM6NGj2f1euj8aGhq+8BfCqqqq/P39ExMTfXx8zpw5Y2xsrHf7SRvVAr+wum7dun379vXp08fLy8vNzc3d3b1nz54GjZwkHz586O3tfffu3WnTprGlaPJKavlfsW/W1atXfX19A1atmjh9+p9/21NGXjGtECwA+On69Y8rKwHg705Ofr89j5+8Slr4V+wFGtGnzxw7Oy3A6pycLJWqVdpAuGqdYAHADBubsR07Vmq1S27dKlarW6sZhJNWC5YMYLW9vYe5eUFNzc+lpY/V6uKGP/pNXmqtM8bSKVarMysr/6+kxN3c3FyhCKj3sBTyUmu1MxbT0dBwiKWlDMBcobBpfH2AvHQkrhW2LIVM5mBqakE35bxC2kSw5DKZY8Pn6JGXXSuPsZgnGo1V48uZ5GXUJoJFXj2tPHgnryoKFuGCgkW4oGARLihYhAsKFuGCgkW4oGARLihYhAsKFuGCgkW4oGARLihYhAsKFuGCgkW4oGARLihYhAsKFuGCgkW4oGARLihYhAsKFuGCgkW4oGARLihYhAsKFuGCgkW4oGARLihYhAsKFuGCgkW4oGARLihYhAsKFuGCgkW4oGARLihYhAsKFuGCgkW4oGARLihYhAsKFuGCgkW4oGARLihYhAsKFuGCgkW4oGARLihYhAsKFuGCgkW4oGARLihYhAsKFuGCgkW4oGARLihYhAsKFuGCgkW4oGARLihYhIv/ByJBlhtDdiujAAACgHpUWHRyZGtpdFBLTCByZGtpdCAyMDIzLjAzLjEAAHice79v7T0GIOBlgAAmIFYCYjUgbmBkZ0gA0oxMbAomIJqRhQ0swMTE7qABpJmZ2SA0CwcDmGZic8gAizOiK4BLIDEgMpwMCiCzMcQhVgH5UCtRaWao25gQ8gRtgtEwt7EzgBWAjEDzBdRIdD6M5mZkYGFkZGJgYgZqSmBh1WBiYUtgY89gYudI4ODMYOLkSuDizmDi5mHg5k3g5ctgYuRn4BdgEBBkEBRiEBJmEBZhEBFlEBXLYBITTxCXyGCSkEyQlMpgkpRWkJZRkJHVYJKRY5CTZxBSYFBQZOBjTlDkZ+DjSJASTZCXUBBhBbqBjYWNnYOPmY2Ti5uXj4NNQFBIQZGfTUxcQlJKlE1aRk5eQlJ8ESMwWKHRyqDE31xywDNn1n4QR6co+MDkBX52IHZmdceBe5Zr7UFsvWPbD/jF94DZjR3XDvQ+4ncAsfkZjh3YxZQFZi9+yXSw89U/sJo7utwHo0NEweyUmd8P2JQLgs1/LcBy8NfvP2B2c/zLA48NPA6A2PtEdh2YfdgczM4Omn3AYXcDmO3Ts/LALbfdYPXz/U4csGiZvw/Edt35cn/Xrldgd36Mj90flGcIVmP6TcY+peg+WM3DORPsW49XgN3w67GaQ7DdXDB7QUaKQ2nHXFsQW7R+oUPcmVVgc9rZNzkUf74HVuMd9NCB+dx/MNufi8Ex/0IEmK3b897BYwM/2K4MxwMOGamBYLaDOrvjB9vbYPaiM3KO8cm7wOwzunqOU5+ogf1yW0DdsTzBZS+IvWm9uOMJp16wmSvm6Ngdf8IODsO66cv3/3v3DiwuBgBQfqrcrjNTfwAAAyF6VFh0TU9MIHJka2l0IDIwMjMuMDMuMQAAeJx9VsuO2zAMvOcr9AMriA9R1KGHfaMoNgHabf+h9/4/OlS6chYg6tiELY+pITkkcipxfH/69vtP2Qc/nU6ltP+cc87yS1prp7cSN+Xh+fXruTy+3z98rDxefp7ffxTRIo5v8PuMvX+/vH2sUDmXO6nOTeH4jio3U6y32tZxfMvlMZDSxFXwnhsN1wQoAdTK1pv1QlW6CHsC1Ni716E8lQFs06xnwB4erY6mZFK4soIvJ0ArlwCSj95GkWrdlEYCHOHRAUTcSEKdk7pkHj04erXpNg3vu4tQxnGGx1GHDB293AFpzmwJktp1c+5KeETO5zDVLOdEV688ebYZ6SceM806rfr06tQbIrnj6oOEUqiUl6iQd3HsgLvG7Gnm8f3yytNlWHBVE2op139V4j779MiAEPWeZsACSlBdR8kB0O7aU6qrUK266dCVVpvSZrq/A4r3CDrih1Mx5RQZtSKkcg6PoOegMbPd8fUZcrM2bCkZWVJLgVEniZK7r4CHzXRrjir12tSGRROJSE+jYVnAbqKgS2gS8pZuHRUa8IhwbCnZQ4AJMOrjWOa+WgKhzLzRbXlUKMLoqmTiVHM8kB/D8tJklAmJTOvI0UdeVUdzjtIPuEyHAkdxZp2s01ZzKLZPtYnzgmaqSDk5heJRqJHOBYn6AKoYILRk1BQlT6cXw+tE9E2gCaikiaV6F1l6I/MODTPkhGKmPPWqdugWHQGXbjgy5PP56dNwvo7rh8v56RjXhEGMaF5ev9AxmWNRjvlLuPSYsvHrxyxlXHZMTLwr45iLisuP6ae45jHjFBfdTjINQ5sK4tMwxDdziZbZ/DB+dK1sihQMYWizRJFWoJsnRgYts6lCxLTMZosJQMtswtE6Yfi2pSkMH9lbOcW5KaNJNQxvyhyUYXhT5qAMw5sy+ise0T43jaRheHPm4BwrmzMHZxjenNEAHEZuhU5rZXOW4Awjm7PwNVI5ZLB0IJDfjRAjx4c0JLKM1SPNYlfIZiOhCNA+siPBGNsdkYdsb0Uazx//R3B/+gtj8qXy3vRH6gAAAaB6VFh0U01JTEVTIHJka2l0IDIwMjMuMDMuMQAAeJwlkr2KHDEQhF/F4S5ohfq/24PhYMBctBddZBxNvqmTe3hX6zJRlLqqP+n553x7e/97O1903X593K/Xxdd13X7fr4vpftJ5nrfnuUX5wBme5yUvvp8n/fi6PWQmLxsPmrxcZRxQZEnqWFAocDgeOtlt+aApJtImm6FcCmWVu0PxGUvJB0/W5C1QhtGQ6ebaSkLh1ZeqyGQrXhmIshShhBIzJDTGA5ons28Xm5J0yQpX3TYuLhpoSxyVu1KSLbh4ZpDQ7p0mCZfOxZy+XVwp2bPUt8kxvbwDhcisTQQoVt1LLdU6cM10DbX2ecmqceCAGOGWVPaKhDYVhYsVFOBz8PQV3uhQQDFceq9sC/RqHIfNpR4OCXCtWjAXzCNQbioBA/Zvbgk2R8612BgXMLIAsqbmkoKDliCE0KgfA82WokdrNYu1F8Xm5vTtynRuYii556rG2nCCOKWTNS39+zkgoa0jvIk3EuzYdNYkT/N+fGIR3QjBCHyBEv8jxn38+/yJ3/L1H7WTjg3VgCBoAAAAAElFTkSuQmCC\" alt=\"Mol\"/></div></td>\n",
              "    </tr>\n",
              "    <tr>\n",
              "      <th>3</th>\n",
              "      <td>4</td>\n",
              "      <td>O=C(NC1COc2cccc(-c3ccnc(CO)c3)c2C1)c1ccc(OCC(F...</td>\n",
              "      <td>0</td>\n",
              "      <td style=\"text-align: center;\"><div style=\"width: 200px; height: 200px\" data-content=\"rdkit/molecule\"><img src=\"data:image/png;base64,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\" alt=\"Mol\"/></div></td>\n",
              "    </tr>\n",
              "    <tr>\n",
              "      <th>4</th>\n",
              "      <td>5</td>\n",
              "      <td>Cc1cc(Nc2cncc(N[C@@H](C)c3ncc(F)cn3)n2)n[nH]1</td>\n",
              "      <td>0</td>\n",
              "      <td style=\"text-align: center;\"><div style=\"width: 200px; height: 200px\" data-content=\"rdkit/molecule\"><img src=\"data:image/png;base64,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\" alt=\"Mol\"/></div></td>\n",
              "    </tr>\n",
              "    <tr>\n",
              "      <th>...</th>\n",
              "      <td>...</td>\n",
              "      <td>...</td>\n",
              "      <td>...</td>\n",
              "      <td>...</td>\n",
              "    </tr>\n",
              "    <tr>\n",
              "      <th>2684</th>\n",
              "      <td>6422</td>\n",
              "      <td>O=c1cc([C@H]2CCN[C@@H](Cc3ccccc3)C2)o[nH]1</td>\n",
              "      <td>0</td>\n",
              "      <td style=\"text-align: center;\"><div style=\"width: 200px; height: 200px\" data-content=\"rdkit/molecule\"><img src=\"data:image/png;base64,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\" alt=\"Mol\"/></div></td>\n",
              "    </tr>\n",
              "    <tr>\n",
              "      <th>2685</th>\n",
              "      <td>11883</td>\n",
              "      <td>C[C@@H]1CN(C(=O)c2ccccc2)CCN1C(=O)C(=O)c1c[nH]...</td>\n",
              "      <td>0</td>\n",
              "      <td style=\"text-align: center;\"><div style=\"width: 200px; height: 200px\" data-content=\"rdkit/molecule\"><img src=\"data:image/png;base64,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\" alt=\"Mol\"/></div></td>\n",
              "    </tr>\n",
              "    <tr>\n",
              "      <th>2686</th>\n",
              "      <td>7349</td>\n",
              "      <td>O=C(Nc1ccc(-c2nnn[nH]2)cc1F)C(C1CCCCC1)n1c(-c2...</td>\n",
              "      <td>0</td>\n",
              "      <td style=\"text-align: center;\"><div style=\"width: 200px; height: 200px\" data-content=\"rdkit/molecule\"><img src=\"data:image/png;base64,iVBORw0KGgoAAAANSUhEUgAAAMgAAADICAIAAAAiOjnJAAAABmJLR0QA/wD/AP+gvaeTAAAgAElEQVR4nO2deVyUVRfHzzMDwzqxiII7W6C+iBqJKa6IvpqYS+4p4hISKGa4IGZCaZKZr5pLmFqglmKmaaTgmuKWoLmAgKwiCsgyw77MzHn/uDohKMzM8zyD5v1+/IPP8NzDmfE3527n3MsgIlAoXCNoaQco/06osCi8QIVF4QUqLAovUGFReIEKi8ILVFgUXqDCovACFRaFF6iwKLxAhUXhBSosCi9QYVF4gQqLwgtUWBReoMKi8AIVFoUXqLAovECFReEFKiwKL1BhUXiBCovCC1RYFF6gwqLwAhUWhReosCi8QIVF4QUqLAovUGFReIEKi8ILVFgUXqDCovACFRaFF6iwKLxAhUXhBSosCi9QYVF4gQrrVUImk2VnZ1dUVLS0I82j09IOUCA6OtrQ0LCsrEz6LCUlJVKptLS0VPkKkZSpqemBAweGDx/e0o43BUPPeW9ZPDw8Tp8+reLDAoFAIBDIZLI+ffpcunRJIHh5OxwqrJYkKSnJyckJAFxcXKysrEzqYWZmRn544403lC+KxeLi4uIePXo8ePBg48aNCxcubOl38GKQ0nJMnjwZAPz9/dVq9fvvvwOAoaHhvXv3eHKMPVRYLUZiYqJAINDT08vJyVG37QcffAAAgwcPVigUfPjGHiqsFoOEq/nz52vQtrCw0NLSEgC2bdvGuWNNk1ube6b0jFQm3V+8v4nHqLBaBjbhivDbb78BgJGRUXp6Ore+NcG1imsfZn94qvRURFHER/c/auJJKqyWgU24UjJx4kQAcHd311qHuOTBkge1D8jPTQvr5Z2v/otJSko6ePCgnp7esmXL2NjZtm1bmzZtzpw5s2vXLq58axoGGASVlhGosFqA0NBQhULx4YcfdujQgY0dCwuLjRs3AkBgYGBOTg5H3jXFZLPJIQ9DzpSdiZZGN/OoViIo5R/Yj64aMH78eAB49913ObH2Iv6Q/uGd5V0pr8ytzY2VxubV5t2rbmqxgwpL20yaNAkAFixYwJXBR48emZubA0BERARXNhtwr/qe2d9mkADhj8NVbEKFpVU4D1eEiIgIADAxMeHWLKFMXuaU5AQJMCZtjAJVnSVQYWkVMo/jMFwp+e9//wsAzs7O3JpVoGJSxiRIAMdER6lMqnpDOnjXHrdu3Tp06JC+vv7SpUs5N/72228zDFNaWsqt2a8ffh1VEmUqND1qd/QN4RtqtORE1wUFeOECImJmJl6/zonJfyFvv/02AEyaNIlzyzKZzNHREQDWr1/PodnY2Nj2vdp3j+9+THJM3bbcRKzCQrhyBQAgOxtu3+bE5L8QY2NjhmEKCgo4t7xv376UlBQ7O7sX5TsUFxfLZDK1bKanp0+ePDn3Ru6kmEmeJp5q+8SJtJOS0MMDV65ELy/kbWqiHnK5PD8/PzU1taUd+YekpCRTU1MAOHDgAIdmleHqxx9/fO4DEyZMEAqFQqHQ1tbWw8MjICAgPDz85MmTDx8+fJHN8vLy7t27A8CYMWM0W9bnJh/r7l2IjobFi+HPPyE7G7y82Jt8PomJienp6QKBoEGmZf00S0JZWRkACASCCRMmHDhwgC+H1CQ8PNzX19fCwiIxMbFNmzac2IyMjJw5c6adnV1ycrKOTsOU4Ojo6Pfee4/8Zzdua2Fh4ejo6Ojo6ODg4ODg0KVLFzs7O11d3alTpx44cMDR0fHq1asmJiaauKWBGBtz9y5u2ICIeP487tnDicnnsHXrVl1dXdXfmlgsZhhGKBRef2nGfQqFgqQUT5kyhRODTYer1NRUEiNDQ0PLysoSEhJ+/vnn0NDQqVOnuri4iMXixh+aUCi0srICABMTk+TkZI0d4yZiSSQQHg7LlsGdOyCTQc+e7E0+BxcXl+vXr1tYWLi6ujbItKyfZqlEoVAsWLBg27Ztzs7O165dE4lEvLilJllZWc7OzmVlZYcOHSKL5myIiIjw9va2t7e/e/dug3BVXl7+zjvvJCYmjh49Oi8vr1evXlu2bGnwzSwpKcnIyEhMTExKSiI/pKamymQyU1NTLy+vTZs2ae6Z5l+Wejx4gE5OGBuLf/yBhw9zYrIhJ06cAAALC4sbN26o8vy9e/f69es3ZcoUe3t7AAgNDeXFLY349ttvAcDKyqqoqIiNHWW4arzmrlAoyJpZly5dpk6dCgB2dnYlJSXN2qypqVmzZg0AuLm5sfGNA2HduoXp6fjFF+jlhYcP8yWs/v37A0BQUJCuru7w4cNlMlnTz2dkZBgbGwPA6tWrGYbR0dF5eTpEuVw+cOBAAPDy8mJj58cffwQAe3v7urq6Br/64osvAMDMzOzTTz8FACMjo1u3bjVrMCMjw9fX9+OPPyYdaGJiosa+aS6sykqMikIPDwTALVtw9Wq8cQOHDOFFWMePHyfhysvLCwC8vb1VabVhwwYAaNu27Zw5cwCgZ8+etbW13DunERkZGUZGRgBw5MgRzSw0Ea5iYmKEQqFAIFi3bp1IJGIYZv/+prI9lSQnJzMMY2xsTD6xwMBAzXxDzYR15QrOnYtiMQIgAJqZ4Zdf4jffICIGBmJ0NErVWPpXCRKuli9fLhKJhEJhSkqKKq3kcjlp6OXlZWtrCwBr167l2DMWfPPNNwDQrl274uJiDZr/8MMPzw1XygH70qVLycQzKChIdbPkE/vss88AoFWrVtXV1Rr4hmoJSyLB8HDs2fOJngDQxQXDw7G8/JnHDh5EU1M8d04zf56DMlzNmDFD9XBFSE5ONjAwAICwsDCGYfT09O7cucOZZ+xQ6n7OnDnqtpXJZA4ODgAQGRlZ//WysjJSTzZ69OjevXsDgIeHR7PDhvqQ7rVfv369evUCgKioKHV9IzQlrDFjsKQEi4pw7VqcNg319Z/oydISly7FF0WNTz5BAGzVCrlKxXZzcwOA4OBgtcKVkrCwMABo37496Ub79Omj1gfNK8nJyfr6+gBw4sQJtRo+N1wpFAqSk9OlSxfyZq2trR8/fqyW5crKShLwVqxYAQDDhw9Xq7mSpoQ1diwuWYJ5eRgUhMbGKBCghwdGRWHTAxW5HEeNQgDs0aNhMNOAP/74o364mjVrlroWZDIZ+e7Onj27Y8eOwPWGGkvWrl0LAJ07dy4tLa3/ukwmKyoqSk9PT0hIOHv27JEjRyIiIjZv3vzFF198/PHHenp6jcMVmc2JxWKiCQMDg4SEBA1c+uijjwDA39/f0NCQYZi0tDQNjDQlLD8/XLcOjx7Fzz7Dw4fx/n1VjUql2K0bAuD48cgyzb9Pnz5swhUhKSlJX1+fYRjy0evp6SUlJanevLISSYyrqEC5HEmMkMmQk8BXV1dHNqdtbW379u3brVu39u3bk/lsEzAMY2ZmVj9cxcbGajZgb8zff/9NBljTpk0j4y0NjDQjrJoaHDMGNbCcnIympgiAGzde08AtAvtwpYRMv62trcmH1bdvX7lcrmLb4GBcuRIRcd48jIvD3bsREQ8dwt9/19idZ/juu+8aK4lIx8bGpmfPngMHDhw9evT06dP9/f2Dg4O/+uorPz+/+otSKSkpJIYtWbKkXbt2ZOTOxqW33noLAEJCQgCgQ4cOGgwemhLWpk2IiH/+iS/Y3GyG48dx0KCPGIb55ZdfNGn/NFwtX75cV1dX43BFqKurc3FxAQBfX9/27dsDwObNm8mvysrKHjx4kJiYeOnSpZiY2v37MTwcw8Jw+XL080M/PwwOxsBAvHPnibC++grT03HbNs6ERYbws2fPjouLu3379v3796Vqzqt37NgBAMbGxqmpqd26dRs2bBjLceTWrVsBYNiwYV27dgWA6OhodS00JSy5HEeMwP79celS7NABf/pJbf/Wr19POvv4+Hh120ZHR5NwNX36dJbhinDjxg1dXV2BQLB582ayZmhmZtbgwJZ27bKVc17yz8AAg4MxNxdnzkQfH4yLwzlz8IcfcP58boSlnPOWlZVpbCQrK0tPT08gEGRlZZWWlrJc0EdEiURCBlgkJ3HcuHHqWmhmuYHMBH19EeBJAFOXuXPnksFpfn6+Wg2V4UpHR0coFHKSAPP111//9NNPUqnU0NCQFCAAgKGhYdu2bbt06dKnT5+pU7MmTkQfH1yyBFevxm+/xchIDA7GkhL87Tfs2pX7rpDMeb/++muWdkgXHxISwoFPiIhI5pWffPKJrq6ujo5OEzk2z6UZYVlZIQAuXIgA+PnnmvhXW1tLti/c3NxKSkpyc3Pv3Llz4cKFo0ePRkREbNy4MSwsbNWqVQEBATNmzPD09HRzc+vWrVubNm309fXNzMyOHDnSpk0b9uGqPp9//jkAuLq6FhYWNt4MacyffyJZJty3D3ftwmvXEBFTUzlYT1EOItmEK8KZM2cAoGPHjlwtppw/f54s04wbN44sBKrVvBlhOToiAC5ejACowfp+QUFBfn7+o0ePLC0tyehSdYyNjQ0MDDIzM8vLy9VdjGkCqVRKYtXZs2fVbbtsGQLgokVc+fIkKrMPV4ioUCjefPNNADh+/Dh7a8Rgv379AgICdu7cCQCmpqZqNW/mqEiS4yUUAgBIpWoJAwDA39//9OnT+/btMzExKSwsFIvFrVu3NjU1bZziosyBUSbAzJ8//9ChQ3PmzDl16hTZVuOETZs2FRcXu7m5DR48WN22U6bAhg2waROMHw/9+7P15Pjx41evXrWwsPD19WVrC4BhmFmzZgUHB+/atWvEiBGcGLx48SIAkCn5G2+oU0kBzaXNDBuGALh8OQLgxInqSZ6Mvo2MjBYvXgwA1tbW5eosmD5+/Jhsde3YsUO9P/xi2IQrQnAwAqCjI1ZWsnWGhCsOV2sfPXqkq6urq6v76NEjrmySDB8DA4PY2Fi1GjYjrAkTEODJp6nW4r5UKiXL3J9++inZrVPXM0Tcv38/+a7cV31xtklCQ0MBoH///hpbqK7G//wHAXDZMlaeKOe87EdX9Rk7diwArFu3jhNrFy9eJGutP//8s7ptmxHWnDkIgEFBCICurmrY9fPzAwBXV1d3d3dgsVhAciw9PDzYn9SjDFfn2O2QX7mCQiGKRJiQkKexEc7DFeHYsWMA4ODgwP7jevjwIZu11maERXaUlyx5Ev9V5OJFHDLktJGR6Zo1WwDA0tJS45UV5cEELypBUR0SroYMGcLSDiKGhEicnD50cnKqqanRoDlP4QoRZTJZp06dAOD8+fNs7FRXV7u6ugLA0KFDVZk4N6YZYYWG/rPcYGWlok9PNgqXLSs3N8eBAxOjoljl/kVGRgLrgwm4CleE6urqbt26kY5eg+Y8hSvCypUrgXVuqnL1UeP5eDPCio1FPz/89VcMC3uyMNgsq1YhADo44NixCIAjR2rm2DOQoYOnp6fGFjgMV4RLly4JhUIdHR11NxXImceWlpYVFRVcOVOfzMxMgUBgYGCgWf4gPt3P0Wy/REkzwurdGwsLMSMDd+5UyVxyMurrI8PgmjUIgEZGmJGhsW//kJuba2ZmBgD79u3ToLlEIiHNOQlXSgICAgCgR48eL8p4rqqqysvLS0lJuXbt2smTJw8ePLhz505S3PENybjlh2HDhgHA1q1bEdHJyalBnWrTZ5ZeunSJlDOxHHs0U/71/vvQuTP4+sKxYxAY2PzixYgREBMDs2bByZPw4AF8+y3Mn998K1XYtWvX3LlzW7VqlZiYaGlpmZeXl5WVRW4EIVeDNICUsA4dOnTHjh2hoaEhISHu7u6q3wGhCjk5Oba2tjKZzN7eftCgQVKpVCKRSCQSpQ81NTWNW1lZWVVUVNy5c4cMhvggKipq8uTJzs7O169fNzIyauyGubm5g4ND/VLVrl276ujo5OXlubi4PHz4MDAwkOzzakwzwvL3B3t7MDODwkL47juwsQEPD/DwgF694LnXbeTmwmefAQDs3g19+sDFi08WVzlh5MiRJ06cGDNmzJEjR8LCwpYvX95sE09Pz71799rY2JSUlJw7d27QoEGceQMQHBy8du1aPT295woIAEQikXLtV7ksfO7cuczMzOnTp+/Zs4dDZ+pTW1traWlZVlbWt29fJycnS0tLgUBQWVlZXFycmZl5+/bt/Pz8Bk1SU1Otra3d3d3j4uLc3d1jYmIaF1WrRfPC2rQJRo2Cnj1h3bp/Xm/TBoYMgaFDwd0d7OwatvrlFwgMhOhocHJi41tD7t+/7+TkVFZWdvDgQblcvmHDBuV/mJ6enkgkItk1DMMgovwpcXFx8fHxgwcPPnv2LIfOFBUV2djYlJWVzZ49e/fu3a1bt968eXOrVq3qbySQBbwGZGZmOjs7l5eXHz58mIwdOef8+fNDhw4Vi8UlJSX1XxeJRB06dOjWrZuNjY1IJFIoFNXV1bm5uWlpaTdv3vTz8/v+++87deoUHx/funVrtk403VOSIc3Vqxgbizk5GBGBXl7YocMziSWdO+Ps2bh3L65YgXv3IiKuWNFM+rLGbN++HQB0dHR69+7t5OTUsWNHVbYazM3NP/zwQ249CQoKAoCRI0eSGqwffvhB9bb/+9//AKBt27Yaj6+b4OHDh23btgUAX1/f6Ojob775Zt68eUOGDCFZaI1p3br1gAEDyD6jxtnMjdGwxD4jA06dglOn4MwZKCoCABCLYfp0EAjg888hOBi++04Dq82DiLa2tllZWQ1eJ3GrcaG9qalpfn7+xo0bRSJRfHy8E0chVBmuQkJCQkJCXnQgx4tQKBSDBw++cOHCrFmzdu/ezYlLhOrq6kGDBv31118eHh4nTpwQPjsQqampSUtLI9X0pKD+1q1b5PQUAGAYJiwsjLND4VgKUy7H69dx/XpctQr9/TE7GxctwnnzOJD8i5DJZLt3746Njb1582ZWVpYqZeM+Pj4A4OrqylVKyYrgYNA0XBFIfY6b23cxMapmSKsCKTRVqzgnJyfn9OnTc+fOPX36NIeecHkGqb8/KhS4fj26u3NolQOkUimZgnGzifb4cXH79isHDyYp4c+tcFeFrVsLALBTJ87qe5Ubxlx1Z2zgUlg//YQKBdbWopo5Ydrg1KlTpGCVzXkETyBpWe++W+Ti8ungwT8/W4OlOnI59uuHANwEeLJhDAAabBjzwWt0arK3t/fQgICP79xh1fcUFj45XIDsMNjZoUbhinD37pP15JgYNj79s2G8ZMkSVoa44zUSlrSycsTNmy7x8T+pmX3/DCRcjRr1JLmW9db46tUIgNbW+Gy9qhqw3zDmg9dIWIh4QSJxiY93u379vmZnXTx+/CRcffYZAqC9PZtwRairw7feQh0dPHpUQwvsN4z54PU6572/iclIc/NqheKL7GxNVlk2bICyMhg1CsihpitXArvlaQDQ0YGICIiJgbo6AICUFGi0ltIU27Zt27lzp4GBwaFDhywsLFg6wyUtrWxtI6mrG3bzpkt8fFRBgdqNHz/GZcswJISrcKUkNRXt7fHOHTx4EE+cQBXXTbnaMOYDtl+4Vw4THZ2gjh2XZWTkVFer1zIpCQ4eBEtLmDABKivhrbfYh6v6zJkD69aBpydkZgIphjAwAENDMDEBIyNwcjr1+PFXpHJJLBaLxWK5XL5nz57a2tpPPvlk5syZHHrCCdwcbvvKkVpVVSGXX5BKdRjGs1WrTs2WppWXw7x5sHs3ZGRAeDhs3MitP/fuQXQ02NvDrl3g7g4rVzasierf//u4OJ8GrWxtbQ0MDP7++2+WG8Z88NI5pB0cDAwOFxZ6mJp2U7GwLCkJ+vUDPT3o2hWe3dnlEE9P2LkTunQBiQQAoKICqqqgtBTKy6GmZpRUerK0tLSqqqqioqK0tDQ+Pv7AgQODBg16CVUFr62wCL88fmwhkcxt107EMM082qYNPHoEAKBQAA8x/uxZEAhAIoGoKFD6YmQERkbwdETeDqCd8vnMzMwePXr88ssvly9fLi8vb/bYI+3zmnaFAHC4sNDRwEDViAUAq1dDTQ0UFcG0aRyUq9ZDoQBra8jJgT//hIEDm3/+4sWL/fv3d3JyMjY2vnLlyrFjxzw91b/rhm9aevbQYpwoKkpRt+pU5SO11CImBgHQxkbVQ+pqampIiFq0aBHwc/she16vdaz6/Nfc3OF5iXhN8dysWdZERAAAzJoFzXbIBJFIRM4HMDQ0BIDY2Fg+vGLJ6yusl4TSUjhyBBgGpk9XoxW5kCc9Pd3KysbY+P3799VcOuEfKqwWZv9+qKwEd3ewsVGjFbmo99SpU25u9xIS1pw4oc+Xf5pChdXCxMXt69WrZOZM9aZQDg4O48ZdNjXNcXAQAsBL2Bm+1ssNLU5qaurevTOMjIzGjXsEoN6SQevW76SlPdlhPH0aZDJuNwLYQiNWS0L2+CZPnqzBQtTw4QAA166BgwNIJHDtGvfusYEKq8VQKBR79+4FAG9vbw2aDx0KOjpw6RKQA+RiYrj0jT1UWC1GbGxsTk6Ovb09Od9WXUxNwdUV6urA0hIA4OpVjt1jycvULb9mkMPZvb29GRXXrxrh6QkiEbz1FqxfD4sWQX4+SKXg4MCpl5pChaVtSktL9+/fHxkZefv2bZFIpO6Zv/VZvhyWL4eKCpg/H/r2BYaBlJSXRVi0K9QecXFx3t7ebdu2nTdv3sWLFxUKRW1t7ZIlSxYtWiSTydhYnjQJtm8HdjY4hgqLd0pKSnbs2NGjR48BAwZERERUV1e7ubktXrz48uXL4eHhIpFo48aN7u7ujQ/qUIW4OKiqAh0d8PWF7ds5950FLb1Z+a9FLpefPHlyxowZyqNB2rZtu3DhwtWrV3fv3h0A/Pz8EDE+Pp4U03bo0OHq1auq26+owGXLUCDAjz9GUvQ1ezaqX5LNF1RY3JObmxsWFkYuCwYAgUAwdOjQ4ODg8ePHkxR1IiNlWXZBQQHZVNbT09u1a5cqfyI2Fjt3RgAUiXD1aiQnvFZWal5DxjlUWFxy+fLlrl27Ko/isLOzCwoKWrFihc3TjUChUOjh4REVFdWgALCurm7ZsmXkGR8fnyYuRZdK0ccHGebJVaPXr/P/rjSCCotLLC0tSSH/hAkTvvrqq4kTJyrzhu3t7VetWpWdnd1E88jISNJv9u/f/7mXAERHR48e/SkA6uvj2rUcVglxDxUWZ9TW1uro6DAMk5yc3KVLF6InfX39adOmnTlzRsWD1xMSEsiQq3379leuXFG+XlxcTK7jYhhm6tRL6lwQ2zJQYXHG3bt3AcDW1hYR58+f37Vr17CwMA2qkwsKCoYMGUKGXDt37kTE33//nRybZmBgEBYW9vJclt4EVFic8dtvvwHAyJEjEbGqqoqNqZqaGnLjNwA4PF3xHDBgACeXNmoHuo7FGSkpKfBUB/r6rDLvRCLRtm3b9uzZIxKJKioqSKA6d+4cOdDxlYBu6XBGamoqAJAz/liSm5v766+/9urVy9nZOT4+fs+ePdPVylx+CaDC4gwSsTgR1l9//RUQEDBq1KicnBwA4PYUce1Au0LOqN8VcmLK2to6Pz/f0NDwRQcev8xQYXGDRCIpKCgwMjLiRASkVyUnjTs4OAj4KTvjlVfP45cTZbjSOLmqsTWiJ076Vu1DhcUNHI7c4amwKisrgaO+VftQYXEDhyP34uLioqIisVicm5vLlU3tQ4XFDRyO3JOTkwHA0dGRQ5vahwqLGzjsCpWm0tLSAOAVWhStDxUWBygUCqUI7t27d/PmTTbWSKAiV7BaWVmZmppy46V2ocJiS3V19ZYtWyorK83NzRmGGTdu3DvvvBNBTpDRCCIskj/zig6wgAqLDXfv3g0KCurYsePChQuNjY2Li4unTJni4uJSXV3t7e09b968OlIAryakK5TL5fAqC4tmN6hNhUz2/fffk5voCb179w4ICCDXTjs4OISEhJAU5IEDB+areQuGXC7X19dnGMbX1xd4u+leC1BhqUFSRcWarKwBN264TpoEACYmJj4+PtefZgenpaWRKgmxWPzll1+S2yg7duz4119/qf4nysvLAwICPvjgA3JQ0bFjx/h5K7zz+p5B2jQlMll2dTUA2OrrA8AfxcVHCgvTqqoAgAHwKCv7z4MH77//foPLecvLy2fPnn3w4EGGYfz8/BISEq5cuaKvr799+3a1DmhITk52cXGprKy8ffs2V5d3ahkqrOfzR1FRkUxmZ2BQXFf35f37tQoFAJjr6nq2ajW2VatOL063QsTNmzcvXrxYJpONHDmydevWkZGRAODj47NlyxZdXd0m/mhNTc3Ro0d37Nhx+vRpABCLxY8ePSLnQb56tHDEfFmJLizcnpt7vKjoUU1N34SEj1JTTxYX16l4+izi2bNnyX3db7755qpVq5RDrry8vOc+f/PmzQULFpBRGgAYGxuPGjXq7NmznL0frUOF9XyiCwuPFRamVVbKFQqpRtUw2dnZLi4uACAWi9esWWNlZQUA1tbWEolE+UxpaWlERISHh4fye+7i4hIeHl768tQHagoV1vOJLixMKCtjaaSqqkpZWuPv79+3b9/AwEDyq/j4eB8fH+V5aw3mAf8CqLCez+Pa2lKOimHCw8NJdeGIESPS0tLCw8N79OjRIERVVFRw8rdeHujgXRucPHly6tSpRUVFIpGotrYWAKysrLy9vefMmWNvb9/S3vECFZaWyMzM7NWrF8Mw3bt3X7BgwdixY5ueIb7qUGFpidraWiMjI0SsqKhgc9jaqwLdK9QS6enpMpnMxsbmdVAVUGFpDQ5TTF8JqLC0xCudDqoBVFhagttqi5cfWgmtJVq9955np05Ob7/d0o5oCSosLXHd2lrSoYOjs3NLO6IlaFeoDUplMolMZigUtvpXr13VhwpLG2TV1ABAZz09DqqkXxGosLQByRnszO7QrFcLKixtcJ8Ki8IHD552hS3tiPags0LeuVtZ6frGG46Ghj3Vv+3y1YUKi3fOSSSDTExMdXXNX5spIdCuUDvElJTEFBfrcHF01qsCjVja4ANLS4uX6ipw/qERSxsIAQSvU7gCmuinBScHve8AAAC7SURBVCrkcgOh8HX7BlNhUXjhdfsiUbQEFRaFF6iwKLxAhUXhBSosCi9QYVF4gQqLwgtUWBReoMKi8AIVFoUXqLAovECFReEFKiwKL1BhUXiBCovCC1RYFF6gwqLwAhUWhReosCi8QIVF4QUqLAovUGFReIEKi8ILVFgUXqDCovACFRaFF6iwKLxAhUXhBSosCi9QYVF4gQqLwgtUWBReoMKi8AIVFoUXqLAovECFReEFKiwKL1BhUXjh/yhbv9XJXN+CAAACwnpUWHRyZGtpdFBLTCByZGtpdCAyMDIzLjAzLjEAAHichZJfSFNRHMfPPXe729zW/v9323Uup8F66qGCeU8vmjUjpDSI8mQhN9ZLD/0xRE0LIinDSkgHBmkSGVFUULTtLqkQexASKtKeUtOiIqiHoj/3/qZQDunC4fs5535/3/O9cD+lb7xB8mNEuQfLq1ReUXm1MVpgFnM5VWmQCHuGI7kDjsABy/wFi28WRnLK5utaRRk2b1KHeFkZDlEw/KsY/08XL1haZPmqloUL8wz5UctUXbpdYtMjphQzmMcsz6pErFJTNSdiTsNrtCLW6qiuQMQFesoZqMEoYuMKxJiQyYzMFmSxIqsN2ezI7kAmJ3K6qMvNuz0i9nip1ydiXyHy+ak/IGJXUMRBnvJFIi4K0VAxCoVFHF6JwiW0JCKHstRhRhEn1WtowE0jPLVzcjdOpeYMRlat1egLdJzFarM7zJzH6/MH3OqgyxnhuaJQuCTCu+YZ+cMW/hFUWj3cknFcuJRRNgcaB9PT983lCk9w5zM1+24LCsd3lEkObgh4bvVu6eK1YqLwDNMvHfnuB9YdvyMlq86B51jirVT//gTw7MZfkre7Ma3wu13OrCQVQv7NUVd2asNz8JgOMtm5QQPkPHD0SmM+BP7u2m1Sz5A9pfC31qBU82UAeq7a2iOMXU9Azt34B2GMH4Wc5v524fO9NZCjTb4UqitO5nqG4mTSfwo429xGog4CHPuxnWhbJ2B278/fQvJFO+RXTdcTZ3cn8Pj0GXKoYyimcNPOFJm3WaHbwJbXZPxpB8xGno2S/RU+yKzJzJKuzY3ALbW9ZORKGfDVJ0fJulgK/JV7msimupCkcGp9GZmJ1gE3THlJ0tAHPPK1XfB0DQP7D8eFR6pJ4OoBd/pj31ngzlePM4nAZeBbDb2x0/Fy4GjiodBV6QN2/gF1B8cYu+nZnAAAA5B6VFh0TU9MIHJka2l0IDIwMjMuMDMuMQAAeJx9VltuJDcM/PcpdAELfEri59reDYJgx0Di5A4B8pn7I0XNWj0LEJlxEz3qarH4KMpPLT+/v/3297/tfOTt6ak1+p+/iGh/KRE9fW95016+/vLrrb1+fHn5XHl9//P28UczauZ4B9+fsV8+3r9/rnB7b8/UI2zxbM/cOWKpNOq0P9e70l4TqaJkE8/ZWNUKoLbb3sjWsNG4a+hYswBa7igdKGJLINmaWgA9gdpt8mBt0t2nyCiAI4HWY6xYAqCNZVwFMxPocE3TGa5Zpli140rg7KyLBdnqpMu04hgZ9exhQ1EhJErEeVRhMyU0kJcZOwp2pRkVku9IZHJqwPtwMiv3lESuTkFMGTnHHGWKkMCdo8XOLkmUQZRKqN3zrjznsoSSDokqevb2LWtpIbw8yy8L5fcKmkVCxqepMJ6jn9AqFXBu4EJ7RNbIJyuXztcGkhDcI/YlOkYZUGzgCHSPNOs8bClXvQ4RNe28YmSfdnGtg0EEr3hOSKUE3iBiiVI9sndUU/NdSfS8VJWUlA9DkBFg8ZxhiVDp2/aWBr2O2MggjSpu8c0SvpV2AqH1qKQrWRvvgeKgTNkbJsNLZBZn9OWqvnUh4VqyXBuoNHhySlJwU2YIxfmnzS4mjHi1ewZWIXPEIRyUmXxhS6hiIFcFkHeG1posOWAMbVzWW1M+AMZweEQfo94+q6bUlE/OrGS5xTGEZ5V0tY20rcStOHNZlczVf/SvQoo5ljQwjErvAzKjPgMDAdMa+Z/uq4xo3sc1W9CwdG8+vJ7XK7ULfZlP4vRPpLNUmqaAsDxdcyBIj6kmlX+jHZNNITx/3nUXq/b8env76US6n1Ev77e364ySvK6DKBf0Om4Yl12HSn79Ojrwo43rgDBc8zoGGNe6hr3himukGy5+HNyWhvlhQFsaPuQwiC23PfSQR0vDh2GeddsckpieO8ZDE+LjbQ5TTqppDllMPd7m8MV44zTyOMc4jRzGKAankSudcvclh7IkZRg5lFM9aeRQlkwsjBzOkrmFkcMZM8LSyOEsyRlGDmfJJGNFH9VtbYv3QcaW3vVw1swyjF5dkJxh9HDW7AMYPZw10wyjh7Mm51w5nDXzDKOHs2ZX5MrhrMk5zWO3W5b06sKdZnkooCVlo4c02+4MudrPNmN+yLL5/aUrzlTLozby9+f/frh/+g/DGuhAYt8bqgAAAc16VFh0U01JTEVTIHJka2l0IDIwMjMuMDMuMQAAeJwlUktq5UAMvMosbfBr9FcLk5UhZJUcIMzK28EnyOGn1DEY4+pWqaqkr7dr+7z5vu/tdcvzPN/Px1/Z75vf92u7+OqH94fXeV+7/uFU9qf/tvd9vbfwn5/tRaPKJufx4sFVU48TmIqS5UGDjVUNGE5thh88tDQKiIywIG6EbCYQHZYcfMhwT2kmGxWzJhCLaQzEUUXZPCwpDiQH62QBQjpNF1IWdkCHiHM0daFtlrYiV8paEASloS6crJnmoKJuz5Xx236yszcTg4liiVTOnI2RhpTE8mIlXB2CzLZ5Ql+aChoiClhvZMJvoZ8nKzdAQlboN0VbJZSUgM8Gh3WSOngWlNgQVzg6bRA7ktFBxFJ9Q00t2gSy1OYoPNJKSET6hmEqaz5wtzhQ0UkQxlY4OX0UxMqyaRKOSzGmq3bMJPULKAXGDKfS3zOHmDCUOOijaeECCUnHGavxnLnmYrnmAqDC40BacOOIpFegSTrUEF6IdfhHR2/eDluBwhkmryVYqpNGFiYHS1CZ3kRLeVEPHfY8XNfKuXl2IZEmdyE2RydsQUKlwvLZ6oSkERgTO/af/0klpKZPElYuAAAAAElFTkSuQmCC\" alt=\"Mol\"/></div></td>\n",
              "    </tr>\n",
              "    <tr>\n",
              "      <th>2687</th>\n",
              "      <td>8836</td>\n",
              "      <td>C[C@]1(CS(=O)(=O)N2CCN(c3ncc(OCc4ccc(C(F)(F)F)...</td>\n",
              "      <td>0</td>\n",
              "      <td style=\"text-align: center;\"><div style=\"width: 200px; height: 200px\" data-content=\"rdkit/molecule\"><img src=\"data:image/png;base64,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\" alt=\"Mol\"/></div></td>\n",
              "    </tr>\n",
              "    <tr>\n",
              "      <th>2688</th>\n",
              "      <td>11510</td>\n",
              "      <td>O=C(Nc1ccc(-c2nnc(NCCCN3CCCCC3)o2)cc1)c1c(F)cc...</td>\n",
              "      <td>1</td>\n",
              "      <td style=\"text-align: center;\"><div style=\"width: 200px; height: 200px\" data-content=\"rdkit/molecule\"><img src=\"data:image/png;base64,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\" alt=\"Mol\"/></div></td>\n",
              "    </tr>\n",
              "  </tbody>\n",
              "</table>\n",
              "<p>13445 rows × 4 columns</p>\n",
              "</div>\n",
              "      <button class=\"colab-df-convert\" onclick=\"convertToInteractive('df-f86109af-16b0-47e8-954d-4335c86c81a5')\"\n",
              "              title=\"Convert this dataframe to an interactive table.\"\n",
              "              style=\"display:none;\">\n",
              "        \n",
              "  <svg xmlns=\"http://www.w3.org/2000/svg\" height=\"24px\"viewBox=\"0 0 24 24\"\n",
              "       width=\"24px\">\n",
              "    <path d=\"M0 0h24v24H0V0z\" fill=\"none\"/>\n",
              "    <path d=\"M18.56 5.44l.94 2.06.94-2.06 2.06-.94-2.06-.94-.94-2.06-.94 2.06-2.06.94zm-11 1L8.5 8.5l.94-2.06 2.06-.94-2.06-.94L8.5 2.5l-.94 2.06-2.06.94zm10 10l.94 2.06.94-2.06 2.06-.94-2.06-.94-.94-2.06-.94 2.06-2.06.94z\"/><path d=\"M17.41 7.96l-1.37-1.37c-.4-.4-.92-.59-1.43-.59-.52 0-1.04.2-1.43.59L10.3 9.45l-7.72 7.72c-.78.78-.78 2.05 0 2.83L4 21.41c.39.39.9.59 1.41.59.51 0 1.02-.2 1.41-.59l7.78-7.78 2.81-2.81c.8-.78.8-2.07 0-2.86zM5.41 20L4 18.59l7.72-7.72 1.47 1.35L5.41 20z\"/>\n",
              "  </svg>\n",
              "      </button>\n",
              "      \n",
              "  <style>\n",
              "    .colab-df-container {\n",
              "      display:flex;\n",
              "      flex-wrap:wrap;\n",
              "      gap: 12px;\n",
              "    }\n",
              "\n",
              "    .colab-df-convert {\n",
              "      background-color: #E8F0FE;\n",
              "      border: none;\n",
              "      border-radius: 50%;\n",
              "      cursor: pointer;\n",
              "      display: none;\n",
              "      fill: #1967D2;\n",
              "      height: 32px;\n",
              "      padding: 0 0 0 0;\n",
              "      width: 32px;\n",
              "    }\n",
              "\n",
              "    .colab-df-convert:hover {\n",
              "      background-color: #E2EBFA;\n",
              "      box-shadow: 0px 1px 2px rgba(60, 64, 67, 0.3), 0px 1px 3px 1px rgba(60, 64, 67, 0.15);\n",
              "      fill: #174EA6;\n",
              "    }\n",
              "\n",
              "    [theme=dark] .colab-df-convert {\n",
              "      background-color: #3B4455;\n",
              "      fill: #D2E3FC;\n",
              "    }\n",
              "\n",
              "    [theme=dark] .colab-df-convert:hover {\n",
              "      background-color: #434B5C;\n",
              "      box-shadow: 0px 1px 3px 1px rgba(0, 0, 0, 0.15);\n",
              "      filter: drop-shadow(0px 1px 2px rgba(0, 0, 0, 0.3));\n",
              "      fill: #FFFFFF;\n",
              "    }\n",
              "  </style>\n",
              "\n",
              "      <script>\n",
              "        const buttonEl =\n",
              "          document.querySelector('#df-f86109af-16b0-47e8-954d-4335c86c81a5 button.colab-df-convert');\n",
              "        buttonEl.style.display =\n",
              "          google.colab.kernel.accessAllowed ? 'block' : 'none';\n",
              "\n",
              "        async function convertToInteractive(key) {\n",
              "          const element = document.querySelector('#df-f86109af-16b0-47e8-954d-4335c86c81a5');\n",
              "          const dataTable =\n",
              "            await google.colab.kernel.invokeFunction('convertToInteractive',\n",
              "                                                     [key], {});\n",
              "          if (!dataTable) return;\n",
              "\n",
              "          const docLinkHtml = 'Like what you see? Visit the ' +\n",
              "            '<a target=\"_blank\" href=https://colab.research.google.com/notebooks/data_table.ipynb>data table notebook</a>'\n",
              "            + ' to learn more about interactive tables.';\n",
              "          element.innerHTML = '';\n",
              "          dataTable['output_type'] = 'display_data';\n",
              "          await google.colab.output.renderOutput(dataTable, element);\n",
              "          const docLink = document.createElement('div');\n",
              "          docLink.innerHTML = docLinkHtml;\n",
              "          element.appendChild(docLink);\n",
              "        }\n",
              "      </script>\n",
              "    </div>\n",
              "  </div>\n",
              "  "
            ]
          },
          "metadata": {},
          "execution_count": 17
        }
      ]
    },
    {
      "cell_type": "code",
      "source": [
        "#Checking the number of atoms in Drug Molecules\n",
        "from rdkit import Chem\n",
        "from rdkit.Chem import AllChem\n",
        "#Getting the number of atoms\n",
        "df['Number_of_Atoms'] = df['Drug'].map(lambda x: Chem.MolFromSmiles(x).GetNumAtoms())\n",
        "df"
      ],
      "metadata": {
        "colab": {
          "base_uri": "https://localhost:8080/",
          "height": 1000
        },
        "id": "2MDtICLNKIZH",
        "outputId": "ebb45438-63d1-4c3e-c649-57062a5d55fc"
      },
      "execution_count": 18,
      "outputs": [
        {
          "output_type": "execute_result",
          "data": {
            "text/plain": [
              "      Drug_ID                                               Drug  Y  \\\n",
              "0           1  COc1cc(N2Cc3ccc(Sc4ccc(F)cc4)nc3C2=O)ccc1OCCN1...  0   \n",
              "1           2  CCOC(=O)[C@H]1CC[C@@H](N2CC(NC(=O)CNc3nn(C(N)=...  0   \n",
              "2           3  N[C@@H](Cn1c(=O)cnc2ccc(F)cc21)C1CCC(NCc2ccc3c...  0   \n",
              "3           4  O=C(NC1COc2cccc(-c3ccnc(CO)c3)c2C1)c1ccc(OCC(F...  0   \n",
              "4           5      Cc1cc(Nc2cncc(N[C@@H](C)c3ncc(F)cn3)n2)n[nH]1  0   \n",
              "...       ...                                                ... ..   \n",
              "2684     6422         O=c1cc([C@H]2CCN[C@@H](Cc3ccccc3)C2)o[nH]1  0   \n",
              "2685    11883  C[C@@H]1CN(C(=O)c2ccccc2)CCN1C(=O)C(=O)c1c[nH]...  0   \n",
              "2686     7349  O=C(Nc1ccc(-c2nnn[nH]2)cc1F)C(C1CCCCC1)n1c(-c2...  0   \n",
              "2687     8836  C[C@]1(CS(=O)(=O)N2CCN(c3ncc(OCc4ccc(C(F)(F)F)...  0   \n",
              "2688    11510  O=C(Nc1ccc(-c2nnc(NCCCN3CCCCC3)o2)cc1)c1c(F)cc...  1   \n",
              "\n",
              "                                             Structure  Number_of_Atoms  \n",
              "0     <rdkit.Chem.rdchem.Mol object at 0x7fc4480c4f90>               34  \n",
              "1     <rdkit.Chem.rdchem.Mol object at 0x7fc4480c4eb0>               36  \n",
              "2     <rdkit.Chem.rdchem.Mol object at 0x7fc4480c5150>               34  \n",
              "3     <rdkit.Chem.rdchem.Mol object at 0x7fc4480c7920>               33  \n",
              "4     <rdkit.Chem.rdchem.Mol object at 0x7fc4480c7990>               23  \n",
              "...                                                ...              ...  \n",
              "2684  <rdkit.Chem.rdchem.Mol object at 0x7fc44503a730>               19  \n",
              "2685  <rdkit.Chem.rdchem.Mol object at 0x7fc44503a7a0>               28  \n",
              "2686  <rdkit.Chem.rdchem.Mol object at 0x7fc44503a810>               40  \n",
              "2687  <rdkit.Chem.rdchem.Mol object at 0x7fc44503a880>               35  \n",
              "2688  <rdkit.Chem.rdchem.Mol object at 0x7fc44503a8f0>               32  \n",
              "\n",
              "[13445 rows x 5 columns]"
            ],
            "text/html": [
              "\n",
              "  <div id=\"df-8fc6377a-d306-4c52-975d-0af255a6bad7\">\n",
              "    <div class=\"colab-df-container\">\n",
              "      <div>\n",
              "<style scoped>\n",
              "    .dataframe tbody tr th:only-of-type {\n",
              "        vertical-align: middle;\n",
              "    }\n",
              "\n",
              "    .dataframe tbody tr th {\n",
              "        vertical-align: top;\n",
              "    }\n",
              "\n",
              "    .dataframe thead th {\n",
              "        text-align: right;\n",
              "    }\n",
              "</style>\n",
              "<table border=\"1\" class=\"dataframe\">\n",
              "  <thead>\n",
              "    <tr style=\"text-align: right;\">\n",
              "      <th></th>\n",
              "      <th>Drug_ID</th>\n",
              "      <th>Drug</th>\n",
              "      <th>Y</th>\n",
              "      <th>Structure</th>\n",
              "      <th>Number_of_Atoms</th>\n",
              "    </tr>\n",
              "  </thead>\n",
              "  <tbody>\n",
              "    <tr>\n",
              "      <th>0</th>\n",
              "      <td>1</td>\n",
              "      <td>COc1cc(N2Cc3ccc(Sc4ccc(F)cc4)nc3C2=O)ccc1OCCN1...</td>\n",
              "      <td>0</td>\n",
              "      <td style=\"text-align: center;\"><div style=\"width: 200px; height: 200px\" data-content=\"rdkit/molecule\"><img src=\"data:image/png;base64,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\" alt=\"Mol\"/></div></td>\n",
              "      <td>34</td>\n",
              "    </tr>\n",
              "    <tr>\n",
              "      <th>1</th>\n",
              "      <td>2</td>\n",
              "      <td>CCOC(=O)[C@H]1CC[C@@H](N2CC(NC(=O)CNc3nn(C(N)=...</td>\n",
              "      <td>0</td>\n",
              "      <td style=\"text-align: center;\"><div style=\"width: 200px; height: 200px\" data-content=\"rdkit/molecule\"><img src=\"data:image/png;base64,iVBORw0KGgoAAAANSUhEUgAAAMgAAADICAIAAAAiOjnJAAAABmJLR0QA/wD/AP+gvaeTAAAX4UlEQVR4nO3deVhVZR4H8O8993K597LIpoAkKo6jYmpkKuaSC2HmxriVOpZjhpVpqbE42YNpzkODlrZ6m0amzDHQ1DQdF1BHwxJJUEtc0tAUwQWR5cKFe89v/jhElCx3OWdw+X2eHh8fOO9Cfu8573nP+x5URATG5CY0dwfY3YmDxRTBwWKK4GAxRXCwmCI4WEwRHCymCA4WUwQHiymCg8UUwcFiiuBgMUVwsJgiOFhMERwspggOFlMEB4spgoPFFMHBYorgYDFFcLCYIjhYTBEcLKYIDhZTBAeLKYKDxRTBwWKK4GAxRXCwmCI4WEwRHCymCA4WUwQHiymCg8UUwcFiiuBgMUVwsJgiOFhMERwspggOFlMEB4spgoPFFMHBYorgYDFFcLCYIjhYTBEcLKYIDhZTBAeLKYKDxRTBwWKK4GAxRWiauwOs+YlEVUQAXAVBJVOdHCyGtOLinLKy1lrtCF9fb408keBgMQAIdnX9g14vV6rAYywmcVGptIKcYeBgMQD4g17f3c1Nxgo5WAyd9frTFRWZJSUy1snBYrhusbx54cJHly/LWCcHi6HCagVg4DEWk5dJFAHo1WoZ6+RgsZpg8RmLyay6qKi9KHqZzTLWycFiOL1hw4bevS8nJ8tYJweLoby8HICbrPNY/Ejnbvb2xYseanWgVjvC17eRw6Rgubu7y9g0B+tuVk30VECABvhXQUGp1aoTBFdBcFer3SorK7Ky3N3dPT09DQbD5cuXAeh0ukaqKrVaky9fdlOr+7ZoEWowNNm0iohk+znYbWbBuXOdDYb73dySfv75x4qK2q93sFpT+/Spe6RGo7FYLIIgtGjRwt3dPaB9+06rVrmp1TpB0AmCp1rdzcOjqKrq6YAAG5vmM9bdzMfFRYrCXwICCqqqKkSxUhRNVqtQVGQeM6a8vLy4uNhkMuXl5ZlMJilbN27cuHHjhrplS9FkqluVp4tLbnl5FVGUn19LF5cmm+Yz1t0sq7T0IQ+PJg8bPHjwvn379uzZM2DAgNLS0tLSUrMoWlq1KrVaK0XRLIqlVmuQq+vJ8nIZzliffPJJenr6P/7xD1dXV1t/DnabsSVVAMrKygC4u7trNBpvb29vb+9bjymxWqtE0famG5xuePvtt9esWZORkWF7XewOVRusRo7xVKsHtGhhe50NBisyMhLArl27bK+L3aFsCZa9OFhMkWA1OHivrKz09fWtqKjIz88PsHnIxu5EWq22urrabDZrtVq56mzwjKXT6QYOHEhE6enpcjXGbkNms7m6ulqr1cqYKjT+rPDRRx8FXw3vdkpcB9F4sIYNGwZg165dPNd1F2uGYHXt2rVNmzYFBQXHjx+Xt1V2+2iGYAGIiIgAXw3vas0TLB5m3d0OHToUGxvr7+9/8uTJL774Qs6qqVFXr14VBEGn05WXlzd+JLuzHDlyZOTIkVIG9Hq99JeJEycWFBTIUn8TwSKi4OBgjUYTGBgYHR2dmpp67do1WRpmzeXEiRNTp04VBAGAu7t7XFzc0aNH+/btK10Nvby8jEajKIpOttJ0sDZu3BgSElJ7hhMEYcvkyRQTQzt2UFmZk82z/6e8vLzo6Gi1Wg3AYDDMmTNHOj+NGzcOgLe394MPPij9Kw8cOPDkyZPOtNV0sIjIYrFkZWUlJiZGRETodLrC3r0JIIC0Who4kDZsoDffpNdfp9mz6fvvnekNU8iFCxfmzJkjLVTRarXR0dGXLl2q/e6lS5eioqKkSIWGhvr4+EjXx4SEhKqqKsdatClYdZlMpuq0NIqPp169SK0mgJKSaMECIqKKCnrxRcf6wRRy5cqVsWPHSpHSaDQzZsw4f/58vUempqa2bNkSgE6n6927t0qlAtCjR4/MzEwH2rU7WL9x4wZt2kSHDlFiYs1XnnvOqQqZ3KKiotRqtSAIEyZMOHXqVOMHFxUVRUdHS6euDh06BAYGSnGcNGlSRUWFXe06FyyJ1UrTplFWFr33Hn3+uQwVMvk8/PDDAObNm3f27Fmz2WxLkf/85z/t2rUD4OLiEh4eLgiCIAiLFy+2q1059hUKAt5/H/n58PREmzYyVMjkI13Rvvjiiw4dOpw9e9aWIo899tgPP/wQFxcniqKPj09UVJQoivn5+Xa1K9OGVYMBJhOeegoJCfJUyGQiTaxXVlbCnul1g8GQmJiYkZFhNBqlOYG6MwO2kG+XTkQEBAFffw2TCTbsO2P/H1KwKioqYP9zmz59+sDRZz7ybbH39cWDD6KyEgcOOFON1WpNT0/fu3evXP26x9UNlmOb6Js7WAAiIwFg926HKxBF8bHHHouIiBgyZIi/v//EiRM/+uijvLw8uTp4D5Ji4cxSPqkGe0Mp54ZV67Bh+7dvP3Lx4nyHioui+Mwzz6SlpWk0mhYtWly5cmX9+vXr168H0LFjxyFDhgwdOnTw4MF+fn4y9vnuJoqiyWRSqVRE5PD6BQff7ODAHWxDzGazh4cHgJ9//tnesqIoPvfccwAMBsPevXuJ6Pvvv1+5cuWYMWNa1Nl1JAhCWFjY/PnzU1JSrl+/LmPn70olJSX45WQTHBzsWCV9+/YFkJGRYVcpOYNFRKNGjQKQnJxsVylRFF944QUpVXv27Pndd3/3QKk2ZG3bti0pKZGt63K5fp3276fb41G9NEfg6+sLIDQ01LFKunXrBuDo0aN2lZI5WO+88w6ASZMm2V5EFMVZs2YB0Ov16enpjR9cUVGRlpb217/+VXpGsX37duf6K7dLl+jZZ2n/fnr2WbL/tC2706dPAwgKCgLQu3dvxypp3749gLNnz9pVSs5giaI4depUAC4uLmvXrrVlnlcUxRdffFFK1e7du21va/78+QAWSM8obx8ff0yHDxMRffcdGY3O1HTuHEnP9PbvJ6vVwUqys7MBdOjQAcCQIUMcq0R6gFhYWGhXKTnvCufOnbtmzRpBEKxW6/Tp09u1axcVFbV161ar1dpQkfj4+Pfee0+r1a5fv15aBm2j23Q/rcGA0lIAKCtzcjLv++9x8iQAbNoEi8XBSoqKigDo9fqkpKSZM2faVba4uDglJQUOr112LMW3io+PB6DVar28vKS/6HQ6Nzc3nU6n1+sHDhy4a9cu628/enFxcdKRW7dutbe5iooKvV4vCIK9nyRllZdTdDQtX07R0U4uVtuyhaZNozfeoH79yLZHfL+Xn58fFhbWunVrlUoVHR1t+3i0rKwsMTHR29tbEIRDhw4BEATB3qV/8gTr2uLFQR4erq6u999/P4C2bdueOXMmJydn5cqVU6dO7dSpkzSJotfrw8PDt23bVnsPqNVqt2zZ4lij0klr7dq1svwIsiktpQ0bKDaWOnUiey7uv7NlC+3cSUQ0d64jwcrMzJSGVr6+vhqNRvpHaXJIajKZli9fLl37AHTr1i04OFgQBA8PD3s7IEew4uIIKOnefVBYGID27dvXu+InPz9/48aN48ePDwkJkT5GarXa4VQR0bJlywBMmzbNia4rIC6OAOrThwCKjXW4mv/+lw4eJCJatoyqq+0ru27dOoPBAKB///6FhYXHjh3r88v7+yZMmHDlypVbi1RVVRmNRimLADp16iSN2QG0adPG3tt8kiFYCxcSQC4udP/95Z07P9Kt27lz55ostHr1agCBgYHOtHzs2DEAAQEBzi/QllNaGgHUoQMB1KOHw9Xk5NCSJURE779vRylRFBMSEqQVDdHR0bX3T1ar1Wg0SuMkb2/vuqvarVZramqqNMAHEBISUvv34OBgo9FYbW+uicjZYL3+ek2qQkMJoOBg0YZUEVF1dbWnpyeACxcuONy4KIqtW7cGcPz4cYcrkZ/ZTO7upFKRwUAqFeXnO1bN3r00ciRlZtJLL5HFYlORkpKSMWPGANBoNCtXrrz1gJ9++kna3Q5g0KBBp0+fJqIZM2ZIX+nQoYM0ZQWgZcuWiYmJ9i7uq8u5YO3YQe7u1LUrAXTfffTjj7YXHT16NIDVq1c70/7TTz8NYPny5c5UQkR79uwZNmzY1KlTHft0/t7jjxNA3bsTQJ9+6lgde/fSpk30zDP04ouUkEAhIRQdTampDc68njlzJjQ0VBpUNT4dWLsEWVobk5mZ2bp16+7du0uR8vX1TUxMNJlMjnW7lkPBsljos8/ovffo6lXavp30egoKojNn7Krj3XffhZ1Tqbdau3YtgGHDhjlcQ15e3vjx42vvkT/66CNn+lNjxQrR0zM3MvLfAwe+8cILDlRw9Srt3UtbttA331CbNhQZWbN5BSBBoDFjjsfExOzYsaN2s+fOnTul9zt2s20ocuXKlcmTJ0s/srT+GICXl9eSJUvkepjhULASEigzk65coaeeIiJKT6emFlPf6tSpUwD8/PysDk//1dlP68AnrLzcumjRImmvpru7+8SJEwG0atXqxo0bDvdHkpebq9NopAcp/v7+9g4Bv/uOfHxo8eKaj+q6dWSxUFYWJSZSRATpdDRo0N+kKGi12kceeWTUqFHSjq6xY8eWlpba3tD27dt9fHzatm2r1+vj4uKKiors6mfjHApW7Y6JV14hJwIu3XcclqaqHSWNND/88EO7Sm3ZQu3bU3h4EoCRI0dKt7GPPPIIgHnz5jnTH0mbNm2kGwsAOTk5thc8fJi8vAighk7lJhOlpx+Oj4/v1auXlCd/f3+VShUXF1dRUWHvp7Rnz54APldgp4JDwXr+eaqsJCJ69lnHHzcQSRtCli5d6nANBw8edHV1ValUnTt37t+//6xZs9atW3fy5KVGRrvHj9PgwTWXlWHDyg8cOFDnW8c1Go1Go3H+bmD69OkAevXqBeDNN9+0sVR2Nvn6EkDjxtk0xVBUVJSamirdBr388sutWrWS3jllo+LiYrVardVq7TrP2cihYJ0+Ta+8Qq+9Rps3O9P2hg0bpNsTx4p/99130sAiMjKyrKwsJSVl6NChfn5+Ot1FrZZCQ2nECHruOdq4kVasoGvXqLSU4uNJoyGA/PzIaKznQ/H8888DGDp0qDM/FxF9/vnn+GVZQdeuXS9evNhkkezs7MjIk1Kq7NolOm/ePAC9e/cG8MQTT9hecPPmzQAGDBhgR2M2k3l1g11u3Lih0Wgc+8QcOXJE2rA7YcKEurdyN2/eXLToes+e5OJC7u4EUK9eNGMGxcbS1au0YAEFBFB0NF29Wn+1169fl9Kw2bnPzKVLl1QqlTSfVDs/1MjLL3Jycnx9fQVBM3t2rr17j3Nzc1Uqlaenp/Q/s975z3rNnj0bwKJFi+xrzzbNGSz6ZRGZvc8Ks7OzpVSNHz++oQmCvDx68kny9qannqL588lopM2bafHipseE0u1qSEiIw7M4ZrNZWpfm4+Mzc+bMkSNHetR5kb8gCD179oyNjd25c6d0W5ebm+vv7w9g+PDhldIYw079+vUD8MADDwB46616ZrDqNXTojwMHvp+RochbEZo5WAkJCQDmzJlje5Hs7GzppDJu3Dhbpp1EkebPJ6uVJk0iWzZdWiyWHj16AHjjjTds71Uts9ksTdG1bNmydqxWXV2dkZGxZMmSQYMG1f1NH1qtNiwsTFrhOXLkSBs3lN5q7dr0/v3PhIV9+/DD5x94wKab0IICUqnIzc3BJ9xNauZg7du3D4Crq+vSpUu//fZbS1NzzNIlQ7q1tv19FZ98QkR05Aj9619ky3q1AwcOqFQqg8GQl5dnYxMSs5kmTbreqdMDfn5+x44dq/cYk8m0e/fuhISEiIgIFxcXaSgWGRnpzDR3WRl5ehJALVsSQLasIv7sMwJo+HCH22xCMweroqIiODi49hPs7u4eERGRmJiYlZV16/TP0aNHpZ0Ujz/+uAOXjIwM8vWl/v3JlnklaVrLrvnbqir6058IoJCQ60eP2nR9KSoqWr58+apVq27evGl7Q/WKjv712ff06U0f/5e/EEDLljnZbIOaOVhEVFBQYDQaZ86c2bFjR9QRGBg4ZcqU1atXS5NMubm50rSQwwORkhIKDCSAbFloc+bMGRcXFxcXl/Hjx3/66ad1X/pTL4uFnnySAPLyIucm5hyUmUkAeXvXXOCaDGq7dgRQdrZS/Wn+YNV1/vz51atX//nPf659ziAJDg6WhiYjRoxweCBCRMnJBFBQEDV+G7p79+4uXboAkB5ySzp37hwT8+bGjVTvBHVsbM2/a1aWw71zVo8eZDDQ88/T/v2NnZULC+n8eTp+nF57zZlZyCbcXsGq6+zZs0ajccKECdINIICwsDBnBiJEZLWS9NK4hQvrP+edPn16xIgRUnOdOnUyGo1vvfVW7W1dv34fAKRW00MPUVwc7dxJMTH0009UXEwffED9+pFDb5KSzf79tGoVEVFaGjX0ylhRpJQUioig6mp66SUFO3MH/CJMq9X61VdfVVZWjho1yuD0WyEyMxEb+05u7t8OHsyoXXgEoLy8PCkpKTEx0Ww2e3l5xcfHz507t3brsMViyczMPHw4YNOmkG+/hdkMAL6+eOIJCAISErBqFRYudLJrzjp1CpMnIzkZmzfjj3/E3r24eRM3b6Kk5Dd/Ll0KLy9UVSEvDytWKNWZOyBYsps+fXpycvLo0aO//PJLAES0Zs2auLi4goICQRCmTJmybNmyVq1aNVTcZMLXXyM9HRoNzGb064fr11FQcFsEKy0NOTm47z6YTPj73+s/7LXXMHw4tm7F2bNISVGsNwqeDW9XhYWF0u7q7du3Z2VlSa8mA9CrV69vvvnGrqrmzycimjatZrVn8zp5klaton37qEsX2r2bPvyQ/v1v2raNDhygY8coL4+kdRtffkmZmVRcTP37k8lU/5DRefdisIgoKSkJgMFgkN5KHRQU9NlnnzmwxHnjRiKic+fodtg5+/PP9NVXREQLFti06OTiRXroIRoyxO419ba4R4NlNps7duyoVqs1Gs2cOXMcnkaS3uVbXk4xMXJ27/8jP5+Cggig2bPlr1zOt83cQbRabVpaWkpKSnh4+IABAxyup6QE6ek1Y/k7TmAgvvwSAwbg3XfRtSvs3NDaBFnfj3VHCQ4OjomJcSZVANRquLnBofeZ3RZ69sSHHwJAUtK5jIxDNpWxWpGSgo8/rtnz3YB79IwlFzc3hIfDZMK2bc3dFUc9/TQuXDi1YkW/sWPVmZmZbdu2/c23S0qQm4sffqj5MyoK589j9Gj4++Pll/HPfzZULQfLKQsWAIBej7lzm7srTnj11Y6HDoVv27Zt1KhRb7/99rlz506cOHHixInc3NzzpaWq4uJfD23VCjodpO2vBgOqq+HiUm+d9+I8FrtVSUlJ3759T5w48buvF3fv3sJkQosWUKtRVgZfX3Tpgg8+gFqNGTPw8ccNVcjBYjVOnTrVo0cPi8USEhLi7e1dUlKSn5//bbduXTIyfj3IzQ1ff421a2vOW7/8YrpbcbBYDYvF4u/vL735qNam4cOjSksRGvrrf7+836FxPMZiNXbu3FlUVOTp6TllypSuXbt26dIlNDRUWqrkAA4Wq5GcnAxg4cKFMTExztfGl0IGAEVFRa1bt7ZarRcuXPjdYjjH8BmLAcD69frw8APt2u2QJVXgMxaTPPggsrOxfj3qvCHFKRwshuPH0b07fHyQn486m9Occu8+K2S1pAczkyfLlirwGYtZrQgKQmEhsrLQs6ds1fIZ616Rn4/CQgDIyUHtyeTAAYgiDh7Eq6/KmSpwsO4dhw/j2DEA+OQT1P5GB6MR774LHx9o5J4e4OmGe8i6dcjMRGbmr18JCMDNm1DiF0JysO4hkybh0Udx7dpvvhgTg1mz8MtL3WXDwbpXuLpC2iXp4QGLBamp8PODXg93d4wejTNnZG6O7wrvUWYzUlMxdapS9fPg/V5UVoZ58/Dbl7DIjM9Y9yKrFSUlcHGBo78numkcLKYIvhQyRXCwmCI4WEwRHCymCA4WUwQHiymCg8UUwcFiiuBgMUVwsJgiOFhMERwspggOFlMEB4spgoPFFMHBYorgYDFFcLCYIjhYTBEcLKYIDhZTBAeLKYKDxRTBwWKK4GAxRXCwmCI4WEwRHCymCA4WUwQHiymCg8UUwcFiiuBgMUVwsJgiOFhMERwspggOFlMEB4spgoPFFMHBYorgYDFFcLCYIjhYTBEcLKYIDhZTBAeLKYKDxRTBwWKK4GAxRXCwmCI4WEwRHCymiP8B0x+JFSBNXAEAAAKQelRYdHJka2l0UEtMIHJka2l0IDIwMjMuMDMuMQAAeJxtkV9IU3EUx8/vd//sbndT59Y2t2o/p9l6qBDCyvzzG/kgBJr00EMtrlAy8KFCSiipiIokeiuyP1CQFCHLPRT0R929SFHRS0SskHQaFoaUhC+9ZPeebZrVDw7fz++c7+9wzr3fR5LjYB4X5A41o9KMtWacIjJophIhp5QqEDVVoHJOxcU722T5iFgwLmqhYANmOZfXBWKDBDYg/3TMG5cMPGew5VQoaOFh3kiWZsw/kDkWBPIH5Cs4k2hHIcvlP+a/NsurCgQIBSowQYxSSRCJJINsA5sCil0kdgc4VFCd4HQxV1GUuoqhuARK3MxdmqClHs3jZd4VzOuLUo9f8wcSNFCmlQUTNBiC0EoIrYLQagiGtTBLULUclAhEKqBCgnJzTLfG/JpXNKeQpYqIYpNFh1pul0rdzO+RA2XBMPP7nxBzl/yvhcp3m5uMvlv7uXUJTNQb3aqC3Hy3yth5bKLR4gstzNjKrzZYfHN9tbHueFPa4qc+u0Fe9g9b3HpwTq863YP+wQVDn2kOIde0PNSvqbvRf3n8nN4ZuYEcj8X11CzTLZ464NCfTWYxfzZYk65OK5jvSA426HPnMX+mbc+w9FnHGcbuTTfuu/gY89vaavi3X6MjFjf09fIHW7Zj/nbRdV5Z68A+mZ+v+Hy/iHy4Y4bfmW5BHjrynrO9l5Cz7c5Yelcj8gLL8Ne+MPY5OQWxNRO99RbvABobSbzAvTb0jfGAFMBv9fztR37iazdyvDjLf3wZQK77JMdau7qQPZNJnmzvQd44n+Ifshnsc+XRfd6Z4rhXarJWrxuYxV3izox+yDOPMywMU+PN0VFk328AP66ZLeWpcgAAA0d6VFh0TU9MIHJka2l0IDIwMjMuMDMuMQAAeJx9VstuHDkMvM9X6Afc4JvSYQ+xHQfBImMg8eYfcs//Y4uatXqMCNszTXTLJarIIjm+tLq+P//963dblzxfLq3R/3zHGO2nEtHlW6uH9vj5y9dre3r79Pi+8vT6z/XtR9NoOrAHn4/YT2+v395XuD21B5ZDQkO56eEpStLooHmde2Ui+egRI7LJweJZgD+Q2l6BpMPYu+GII82H7JA2fWKdB2cAIGMo9w3Sp08+KMGztwc6MtLJNtAop/3w6ORUSOpksQspC5mHs3qvQ0dHFngD7AWMg0Js/j0ovO+Ao4B+RHiOrLORAJIdkqld24MdwhbJiA1Po2/zyVMkPcyT2dqDgLGZxQ46VYI2xbSX10QextarFgHkkVlN5iaNyC20dKJDTRkywinF6JY75NQJ665uXntKJt8hSybQGwam5dNshGx9JogKMtmTpvLapW+V59LJqoi62q1GBCW4Qw74NPh015yx+0h01qbsS6dA7OW1kJSClO6QJVPidK2IoZeoIPodUqbPDNOUKgKUnWz1lOqlfmRqH16njz6sb5GlEXyKZM4sBSrLto3sQHZI5DImu0jddqfEBKLPCRXK6ChH6++AOc/uURFDKiRAeVf00idwqDDVsOno5r7N0GgvyCUR9/Tm8CgUOyHxfQFHU7LM8kg6UNkbIAPoAMKVAzhM90NBq4X8QHI6JaKOHm67ylCdQAsirRO5d87t0XZrSsxAwtnQBieLbcPx26RBuOKj2mJQdNt6/W/OcbJ2L6hL7pP0+fr8YejffgYeX6/P589AfeSc9Xhpeg50iNXsnNqC28/RzJi5iPHly198DuFazHPSMu5+zlPGPc6pyXXTRxc8adX4uxuEPM0iysW0zOLKRbbMosvFF4YXYy7KtRJ304inWYy5KJdZpDFdrAwv3pgiVkbupwWXkcVZZmLxPZMr4FMrizO63OauxRndbGVkcUbh1Cua8q49rYwszlKcqwMXZ6lMw8jiLOO2ovctdFtZnNErVn50cdZSHEbPmtBb5nVxRpmXjLooa6UZRhdlrTTDnAvFuDaebCrL5XzFoOO2cman6vm+euv9/R8gPF/+BfJGuxxcR0OiAAABuXpUWHRTTUlMRVMgcmRraXQgMjAyMy4wMy4xAAB4nCVSu4ocQQz8FYc7MNvoLbUXg6HhuGgvusg4mvxSJ/fxLvXCwkjVpVJJ2rU+1u3Xx/Fn/X7/y2vhi+D2lLVuz/2ynpd+fd2QHsguu64LyduB39txXWrHkmMt/vF9u7MMCY1Th6fo+bgzj4o8ZbB4dk7D2OvkkeZTXggxIhoyp3K9iiihcqeRkU4GrIZHkTdGRRbsAHM4q0/UzkJbBhSDQiwABYVXQz4CUVeWEUlDNoQNvu6MYHZPHebJfN4FmmatDtOQ2qRE8wkIhpjVpGmsAYUHDTVlaRbFLN8scvUWwWNPABAa08SbZjYDuxHYqeT2pSXVU1rvoPQ1uHhtqMzddkNvp9H9OqXcK03UoMmJCUQlsxkZpvBtA0tBz0eNTJ1dNGva3BSR3DsJbAIDgUPuCscUqULcCI5GiVt5+NatEFUcU9OVG5iKdeooXGu2FSKuOh0EoWgFU7JqBulEhQPAG4BpiisBcJm4Eo+o6D2BEUTtA0qcuu8wBXdrsxYiZvvM6CDR65wU9fqHcHJPCb+SaH+c/z5/Qu+sUd//AfE5mAtJ+t37AAAAAElFTkSuQmCC\" alt=\"Mol\"/></div></td>\n",
              "      <td>36</td>\n",
              "    </tr>\n",
              "    <tr>\n",
              "      <th>2</th>\n",
              "      <td>3</td>\n",
              "      <td>N[C@@H](Cn1c(=O)cnc2ccc(F)cc21)C1CCC(NCc2ccc3c...</td>\n",
              "      <td>0</td>\n",
              "      <td style=\"text-align: center;\"><div style=\"width: 200px; height: 200px\" data-content=\"rdkit/molecule\"><img src=\"data:image/png;base64,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\" alt=\"Mol\"/></div></td>\n",
              "      <td>34</td>\n",
              "    </tr>\n",
              "    <tr>\n",
              "      <th>3</th>\n",
              "      <td>4</td>\n",
              "      <td>O=C(NC1COc2cccc(-c3ccnc(CO)c3)c2C1)c1ccc(OCC(F...</td>\n",
              "      <td>0</td>\n",
              "      <td style=\"text-align: center;\"><div style=\"width: 200px; height: 200px\" data-content=\"rdkit/molecule\"><img src=\"data:image/png;base64,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\" alt=\"Mol\"/></div></td>\n",
              "      <td>33</td>\n",
              "    </tr>\n",
              "    <tr>\n",
              "      <th>4</th>\n",
              "      <td>5</td>\n",
              "      <td>Cc1cc(Nc2cncc(N[C@@H](C)c3ncc(F)cn3)n2)n[nH]1</td>\n",
              "      <td>0</td>\n",
              "      <td style=\"text-align: center;\"><div style=\"width: 200px; height: 200px\" data-content=\"rdkit/molecule\"><img src=\"data:image/png;base64,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\" alt=\"Mol\"/></div></td>\n",
              "      <td>23</td>\n",
              "    </tr>\n",
              "    <tr>\n",
              "      <th>...</th>\n",
              "      <td>...</td>\n",
              "      <td>...</td>\n",
              "      <td>...</td>\n",
              "      <td>...</td>\n",
              "      <td>...</td>\n",
              "    </tr>\n",
              "    <tr>\n",
              "      <th>2684</th>\n",
              "      <td>6422</td>\n",
              "      <td>O=c1cc([C@H]2CCN[C@@H](Cc3ccccc3)C2)o[nH]1</td>\n",
              "      <td>0</td>\n",
              "      <td style=\"text-align: center;\"><div style=\"width: 200px; height: 200px\" data-content=\"rdkit/molecule\"><img src=\"data:image/png;base64,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\" alt=\"Mol\"/></div></td>\n",
              "      <td>19</td>\n",
              "    </tr>\n",
              "    <tr>\n",
              "      <th>2685</th>\n",
              "      <td>11883</td>\n",
              "      <td>C[C@@H]1CN(C(=O)c2ccccc2)CCN1C(=O)C(=O)c1c[nH]...</td>\n",
              "      <td>0</td>\n",
              "      <td style=\"text-align: center;\"><div style=\"width: 200px; height: 200px\" data-content=\"rdkit/molecule\"><img src=\"data:image/png;base64,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\" alt=\"Mol\"/></div></td>\n",
              "      <td>28</td>\n",
              "    </tr>\n",
              "    <tr>\n",
              "      <th>2686</th>\n",
              "      <td>7349</td>\n",
              "      <td>O=C(Nc1ccc(-c2nnn[nH]2)cc1F)C(C1CCCCC1)n1c(-c2...</td>\n",
              "      <td>0</td>\n",
              "      <td style=\"text-align: center;\"><div style=\"width: 200px; height: 200px\" data-content=\"rdkit/molecule\"><img src=\"data:image/png;base64,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\" alt=\"Mol\"/></div></td>\n",
              "      <td>40</td>\n",
              "    </tr>\n",
              "    <tr>\n",
              "      <th>2687</th>\n",
              "      <td>8836</td>\n",
              "      <td>C[C@]1(CS(=O)(=O)N2CCN(c3ncc(OCc4ccc(C(F)(F)F)...</td>\n",
              "      <td>0</td>\n",
              "      <td style=\"text-align: center;\"><div style=\"width: 200px; height: 200px\" data-content=\"rdkit/molecule\"><img src=\"data:image/png;base64,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\" alt=\"Mol\"/></div></td>\n",
              "      <td>35</td>\n",
              "    </tr>\n",
              "    <tr>\n",
              "      <th>2688</th>\n",
              "      <td>11510</td>\n",
              "      <td>O=C(Nc1ccc(-c2nnc(NCCCN3CCCCC3)o2)cc1)c1c(F)cc...</td>\n",
              "      <td>1</td>\n",
              "      <td style=\"text-align: center;\"><div style=\"width: 200px; height: 200px\" data-content=\"rdkit/molecule\"><img src=\"data:image/png;base64,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\" alt=\"Mol\"/></div></td>\n",
              "      <td>32</td>\n",
              "    </tr>\n",
              "  </tbody>\n",
              "</table>\n",
              "<p>13445 rows × 5 columns</p>\n",
              "</div>\n",
              "      <button class=\"colab-df-convert\" onclick=\"convertToInteractive('df-8fc6377a-d306-4c52-975d-0af255a6bad7')\"\n",
              "              title=\"Convert this dataframe to an interactive table.\"\n",
              "              style=\"display:none;\">\n",
              "        \n",
              "  <svg xmlns=\"http://www.w3.org/2000/svg\" height=\"24px\"viewBox=\"0 0 24 24\"\n",
              "       width=\"24px\">\n",
              "    <path d=\"M0 0h24v24H0V0z\" fill=\"none\"/>\n",
              "    <path d=\"M18.56 5.44l.94 2.06.94-2.06 2.06-.94-2.06-.94-.94-2.06-.94 2.06-2.06.94zm-11 1L8.5 8.5l.94-2.06 2.06-.94-2.06-.94L8.5 2.5l-.94 2.06-2.06.94zm10 10l.94 2.06.94-2.06 2.06-.94-2.06-.94-.94-2.06-.94 2.06-2.06.94z\"/><path d=\"M17.41 7.96l-1.37-1.37c-.4-.4-.92-.59-1.43-.59-.52 0-1.04.2-1.43.59L10.3 9.45l-7.72 7.72c-.78.78-.78 2.05 0 2.83L4 21.41c.39.39.9.59 1.41.59.51 0 1.02-.2 1.41-.59l7.78-7.78 2.81-2.81c.8-.78.8-2.07 0-2.86zM5.41 20L4 18.59l7.72-7.72 1.47 1.35L5.41 20z\"/>\n",
              "  </svg>\n",
              "      </button>\n",
              "      \n",
              "  <style>\n",
              "    .colab-df-container {\n",
              "      display:flex;\n",
              "      flex-wrap:wrap;\n",
              "      gap: 12px;\n",
              "    }\n",
              "\n",
              "    .colab-df-convert {\n",
              "      background-color: #E8F0FE;\n",
              "      border: none;\n",
              "      border-radius: 50%;\n",
              "      cursor: pointer;\n",
              "      display: none;\n",
              "      fill: #1967D2;\n",
              "      height: 32px;\n",
              "      padding: 0 0 0 0;\n",
              "      width: 32px;\n",
              "    }\n",
              "\n",
              "    .colab-df-convert:hover {\n",
              "      background-color: #E2EBFA;\n",
              "      box-shadow: 0px 1px 2px rgba(60, 64, 67, 0.3), 0px 1px 3px 1px rgba(60, 64, 67, 0.15);\n",
              "      fill: #174EA6;\n",
              "    }\n",
              "\n",
              "    [theme=dark] .colab-df-convert {\n",
              "      background-color: #3B4455;\n",
              "      fill: #D2E3FC;\n",
              "    }\n",
              "\n",
              "    [theme=dark] .colab-df-convert:hover {\n",
              "      background-color: #434B5C;\n",
              "      box-shadow: 0px 1px 3px 1px rgba(0, 0, 0, 0.15);\n",
              "      filter: drop-shadow(0px 1px 2px rgba(0, 0, 0, 0.3));\n",
              "      fill: #FFFFFF;\n",
              "    }\n",
              "  </style>\n",
              "\n",
              "      <script>\n",
              "        const buttonEl =\n",
              "          document.querySelector('#df-8fc6377a-d306-4c52-975d-0af255a6bad7 button.colab-df-convert');\n",
              "        buttonEl.style.display =\n",
              "          google.colab.kernel.accessAllowed ? 'block' : 'none';\n",
              "\n",
              "        async function convertToInteractive(key) {\n",
              "          const element = document.querySelector('#df-8fc6377a-d306-4c52-975d-0af255a6bad7');\n",
              "          const dataTable =\n",
              "            await google.colab.kernel.invokeFunction('convertToInteractive',\n",
              "                                                     [key], {});\n",
              "          if (!dataTable) return;\n",
              "\n",
              "          const docLinkHtml = 'Like what you see? Visit the ' +\n",
              "            '<a target=\"_blank\" href=https://colab.research.google.com/notebooks/data_table.ipynb>data table notebook</a>'\n",
              "            + ' to learn more about interactive tables.';\n",
              "          element.innerHTML = '';\n",
              "          dataTable['output_type'] = 'display_data';\n",
              "          await google.colab.output.renderOutput(dataTable, element);\n",
              "          const docLink = document.createElement('div');\n",
              "          docLink.innerHTML = docLinkHtml;\n",
              "          element.appendChild(docLink);\n",
              "        }\n",
              "      </script>\n",
              "    </div>\n",
              "  </div>\n",
              "  "
            ]
          },
          "metadata": {},
          "execution_count": 18
        }
      ]
    },
    {
      "cell_type": "code",
      "source": [
        "# using dataset \n",
        "Y = train_df['Y']\n",
        "Y_test = test_df['Y']"
      ],
      "metadata": {
        "id": "wls-UWh_K9jC"
      },
      "execution_count": 20,
      "outputs": []
    },
    {
      "cell_type": "code",
      "source": [
        "import numpy as np\n",
        "from sklearn.preprocessing import OneHotEncoder\n",
        "\n",
        "# Create a list of unique characters in the SMILES strings\n",
        "smiles = train_df['Drug']\n",
        "unique_chars = sorted(list(set(''.join(smiles))))\n",
        "\n",
        "# Create a dictionary that maps each unique character to an index\n",
        "char_to_index = {char: index for index, char in enumerate(unique_chars)}\n",
        "\n",
        "# Convert SMILES strings to integer sequences\n",
        "sequences = [[char_to_index[char] for char in s] for s in smiles]\n",
        "\n",
        "# create a list\n",
        "one_hot_list = []\n",
        "\n",
        "# Pad the sequences with zeros to make them of equal length\n",
        "max_len = max(map(len, sequences))\n",
        "padded_sequences = np.zeros((len(sequences), max_len))\n",
        "for i, seq in enumerate(sequences):\n",
        "    padded_sequences[i, :len(seq)] = seq\n",
        "    \n",
        "# Create a one-hot encoder\n",
        "one_hot_encoder = OneHotEncoder(categories='auto')\n",
        "\n",
        "# Fit and transform the padded sequences into one-hot encoded representation\n",
        "one_hot_encoded = one_hot_encoder.fit_transform(padded_sequences)\n",
        "\n",
        "# Convert the sparse matrix to a dense numpy array\n",
        "one_hot_encoded_array_train = one_hot_encoded.toarray()\n",
        "\n",
        "# Print the shape of the one-hot encoded array\n",
        "print('Shape of one-hot encoded array:', one_hot_encoded_array_train.shape)\n",
        "print(one_hot_encoded_array_train)"
      ],
      "metadata": {
        "colab": {
          "base_uri": "https://localhost:8080/"
        },
        "id": "JgH_xOkPltoe",
        "outputId": "741d0b4d-e96c-4049-db51-0fb217fe6ced"
      },
      "execution_count": 29,
      "outputs": [
        {
          "output_type": "stream",
          "name": "stdout",
          "text": [
            "Shape of one-hot encoded array: (9412, 3066)\n",
            "[[0. 1. 0. ... 0. 1. 0.]\n",
            " [0. 1. 0. ... 0. 1. 0.]\n",
            " [0. 0. 0. ... 0. 1. 0.]\n",
            " ...\n",
            " [0. 1. 0. ... 0. 1. 0.]\n",
            " [0. 1. 0. ... 0. 1. 0.]\n",
            " [0. 1. 0. ... 0. 1. 0.]]\n"
          ]
        }
      ]
    },
    {
      "cell_type": "code",
      "source": [
        "import numpy as np\n",
        "np.save('one_hot_train.npy',one_hot_encoded_array_train)"
      ],
      "metadata": {
        "id": "kr_-DqYCPHbv"
      },
      "execution_count": 30,
      "outputs": []
    },
    {
      "cell_type": "code",
      "source": [
        "import numpy as np\n",
        "from sklearn.preprocessing import OneHotEncoder\n",
        "\n",
        "# Create a list of unique characters in the SMILES strings\n",
        "smiles = test_df['Drug']\n",
        "unique_chars = sorted(list(set(''.join(smiles))))\n",
        "\n",
        "# Create a dictionary that maps each unique character to an index\n",
        "char_to_index = {char: index for index, char in enumerate(unique_chars)}\n",
        "\n",
        "# Convert SMILES strings to integer sequences\n",
        "sequences = [[char_to_index[char] for char in s] for s in smiles]\n",
        "\n",
        "# create a list\n",
        "one_hot_list = []\n",
        "\n",
        "# Pad the sequences with zeros to make them of equal length\n",
        "max_len = max(map(len, sequences))\n",
        "padded_sequences = np.zeros((len(sequences), max_len))\n",
        "for i, seq in enumerate(sequences):\n",
        "    padded_sequences[i, :len(seq)] = seq\n",
        "    \n",
        "# Create a one-hot encoder\n",
        "one_hot_encoder = OneHotEncoder(categories='auto')\n",
        "\n",
        "# Fit and transform the padded sequences into one-hot encoded representation\n",
        "one_hot_encoded = one_hot_encoder.fit_transform(padded_sequences)\n",
        "\n",
        "# Convert the sparse matrix to a dense numpy array\n",
        "one_hot_encoded_array_test = one_hot_encoded.toarray()\n",
        "\n",
        "# Print the shape of the one-hot encoded array\n",
        "print('Shape of one-hot encoded array:', one_hot_encoded_array_test.shape)\n",
        "print(one_hot_encoded_array_test)"
      ],
      "metadata": {
        "colab": {
          "base_uri": "https://localhost:8080/"
        },
        "id": "usXLXFPqxDG4",
        "outputId": "c63599f8-7e89-49ff-a797-2a897854b293"
      },
      "execution_count": 31,
      "outputs": [
        {
          "output_type": "stream",
          "name": "stdout",
          "text": [
            "Shape of one-hot encoded array: (2689, 2768)\n",
            "[[0. 1. 0. ... 0. 1. 0.]\n",
            " [0. 0. 0. ... 0. 1. 0.]\n",
            " [0. 0. 1. ... 0. 1. 0.]\n",
            " ...\n",
            " [0. 0. 0. ... 0. 1. 0.]\n",
            " [0. 1. 0. ... 0. 1. 0.]\n",
            " [0. 0. 0. ... 0. 1. 0.]]\n"
          ]
        }
      ]
    },
    {
      "cell_type": "code",
      "source": [
        "import numpy as np\n",
        "np.save('one_hot_test.npy',one_hot_encoded_array_test)"
      ],
      "metadata": {
        "id": "F3JxArIfyDxu"
      },
      "execution_count": 32,
      "outputs": []
    },
    {
      "cell_type": "code",
      "source": [
        "x = list(one_hot_encoded_array_train)\n",
        "\n",
        "x_test = list(one_hot_encoded_array_test)"
      ],
      "metadata": {
        "id": "yLRZzi6lyjWC"
      },
      "execution_count": 41,
      "outputs": []
    },
    {
      "cell_type": "code",
      "source": [
        "print(len(x))\n",
        "print(len(x_test))"
      ],
      "metadata": {
        "colab": {
          "base_uri": "https://localhost:8080/"
        },
        "id": "gRdX-ORvzcla",
        "outputId": "9163e03f-98d2-45a2-8b45-454116f4aac5"
      },
      "execution_count": 44,
      "outputs": [
        {
          "output_type": "stream",
          "name": "stdout",
          "text": [
            "9412\n",
            "2689\n"
          ]
        }
      ]
    },
    {
      "cell_type": "code",
      "source": [
        "train_df"
      ],
      "metadata": {
        "colab": {
          "base_uri": "https://localhost:8080/",
          "height": 423
        },
        "id": "-skZxhmx1922",
        "outputId": "b4c3c8ff-f925-4c1d-b8b3-0a33e03d70f5"
      },
      "execution_count": 46,
      "outputs": [
        {
          "output_type": "execute_result",
          "data": {
            "text/plain": [
              "      Drug_ID                                               Drug  Y\n",
              "0           1  COc1cc(N2Cc3ccc(Sc4ccc(F)cc4)nc3C2=O)ccc1OCCN1...  0\n",
              "1           2  CCOC(=O)[C@H]1CC[C@@H](N2CC(NC(=O)CNc3nn(C(N)=...  0\n",
              "2           3  N[C@@H](Cn1c(=O)cnc2ccc(F)cc21)C1CCC(NCc2ccc3c...  0\n",
              "3           4  O=C(NC1COc2cccc(-c3ccnc(CO)c3)c2C1)c1ccc(OCC(F...  0\n",
              "4           5      Cc1cc(Nc2cncc(N[C@@H](C)c3ncc(F)cn3)n2)n[nH]1  0\n",
              "...       ...                                                ... ..\n",
              "9407    13437               O=c1cc(-c2ccccc2)oc2cc(O)c(O)c(O)c12  0\n",
              "9408    13438  CN(C)c1ccc2cc(C(=O)N[C@@H](CCCNC(=N)CCl)C(=O)N...  0\n",
              "9409    13439  CCN(CC)CCCCNc1ncc2c(n1)N(C)C(=O)N(c1c(Cl)c(OC)...  0\n",
              "9410    13441              Cc1cccc(-c2n[nH]cc2-c2ccc3ncccc3n2)n1  0\n",
              "9411    13444  CCc1c(O)cc(O)c(C(=O)c2ccc(OCCN3CCOCC3)c(OC)c2)...  0\n",
              "\n",
              "[9412 rows x 3 columns]"
            ],
            "text/html": [
              "\n",
              "  <div id=\"df-f1d1a5cb-1ae2-4ba7-ada0-86610e46731a\">\n",
              "    <div class=\"colab-df-container\">\n",
              "      <div>\n",
              "<style scoped>\n",
              "    .dataframe tbody tr th:only-of-type {\n",
              "        vertical-align: middle;\n",
              "    }\n",
              "\n",
              "    .dataframe tbody tr th {\n",
              "        vertical-align: top;\n",
              "    }\n",
              "\n",
              "    .dataframe thead th {\n",
              "        text-align: right;\n",
              "    }\n",
              "</style>\n",
              "<table border=\"1\" class=\"dataframe\">\n",
              "  <thead>\n",
              "    <tr style=\"text-align: right;\">\n",
              "      <th></th>\n",
              "      <th>Drug_ID</th>\n",
              "      <th>Drug</th>\n",
              "      <th>Y</th>\n",
              "    </tr>\n",
              "  </thead>\n",
              "  <tbody>\n",
              "    <tr>\n",
              "      <th>0</th>\n",
              "      <td>1</td>\n",
              "      <td>COc1cc(N2Cc3ccc(Sc4ccc(F)cc4)nc3C2=O)ccc1OCCN1...</td>\n",
              "      <td>0</td>\n",
              "    </tr>\n",
              "    <tr>\n",
              "      <th>1</th>\n",
              "      <td>2</td>\n",
              "      <td>CCOC(=O)[C@H]1CC[C@@H](N2CC(NC(=O)CNc3nn(C(N)=...</td>\n",
              "      <td>0</td>\n",
              "    </tr>\n",
              "    <tr>\n",
              "      <th>2</th>\n",
              "      <td>3</td>\n",
              "      <td>N[C@@H](Cn1c(=O)cnc2ccc(F)cc21)C1CCC(NCc2ccc3c...</td>\n",
              "      <td>0</td>\n",
              "    </tr>\n",
              "    <tr>\n",
              "      <th>3</th>\n",
              "      <td>4</td>\n",
              "      <td>O=C(NC1COc2cccc(-c3ccnc(CO)c3)c2C1)c1ccc(OCC(F...</td>\n",
              "      <td>0</td>\n",
              "    </tr>\n",
              "    <tr>\n",
              "      <th>4</th>\n",
              "      <td>5</td>\n",
              "      <td>Cc1cc(Nc2cncc(N[C@@H](C)c3ncc(F)cn3)n2)n[nH]1</td>\n",
              "      <td>0</td>\n",
              "    </tr>\n",
              "    <tr>\n",
              "      <th>...</th>\n",
              "      <td>...</td>\n",
              "      <td>...</td>\n",
              "      <td>...</td>\n",
              "    </tr>\n",
              "    <tr>\n",
              "      <th>9407</th>\n",
              "      <td>13437</td>\n",
              "      <td>O=c1cc(-c2ccccc2)oc2cc(O)c(O)c(O)c12</td>\n",
              "      <td>0</td>\n",
              "    </tr>\n",
              "    <tr>\n",
              "      <th>9408</th>\n",
              "      <td>13438</td>\n",
              "      <td>CN(C)c1ccc2cc(C(=O)N[C@@H](CCCNC(=N)CCl)C(=O)N...</td>\n",
              "      <td>0</td>\n",
              "    </tr>\n",
              "    <tr>\n",
              "      <th>9409</th>\n",
              "      <td>13439</td>\n",
              "      <td>CCN(CC)CCCCNc1ncc2c(n1)N(C)C(=O)N(c1c(Cl)c(OC)...</td>\n",
              "      <td>0</td>\n",
              "    </tr>\n",
              "    <tr>\n",
              "      <th>9410</th>\n",
              "      <td>13441</td>\n",
              "      <td>Cc1cccc(-c2n[nH]cc2-c2ccc3ncccc3n2)n1</td>\n",
              "      <td>0</td>\n",
              "    </tr>\n",
              "    <tr>\n",
              "      <th>9411</th>\n",
              "      <td>13444</td>\n",
              "      <td>CCc1c(O)cc(O)c(C(=O)c2ccc(OCCN3CCOCC3)c(OC)c2)...</td>\n",
              "      <td>0</td>\n",
              "    </tr>\n",
              "  </tbody>\n",
              "</table>\n",
              "<p>9412 rows × 3 columns</p>\n",
              "</div>\n",
              "      <button class=\"colab-df-convert\" onclick=\"convertToInteractive('df-f1d1a5cb-1ae2-4ba7-ada0-86610e46731a')\"\n",
              "              title=\"Convert this dataframe to an interactive table.\"\n",
              "              style=\"display:none;\">\n",
              "        \n",
              "  <svg xmlns=\"http://www.w3.org/2000/svg\" height=\"24px\"viewBox=\"0 0 24 24\"\n",
              "       width=\"24px\">\n",
              "    <path d=\"M0 0h24v24H0V0z\" fill=\"none\"/>\n",
              "    <path d=\"M18.56 5.44l.94 2.06.94-2.06 2.06-.94-2.06-.94-.94-2.06-.94 2.06-2.06.94zm-11 1L8.5 8.5l.94-2.06 2.06-.94-2.06-.94L8.5 2.5l-.94 2.06-2.06.94zm10 10l.94 2.06.94-2.06 2.06-.94-2.06-.94-.94-2.06-.94 2.06-2.06.94z\"/><path d=\"M17.41 7.96l-1.37-1.37c-.4-.4-.92-.59-1.43-.59-.52 0-1.04.2-1.43.59L10.3 9.45l-7.72 7.72c-.78.78-.78 2.05 0 2.83L4 21.41c.39.39.9.59 1.41.59.51 0 1.02-.2 1.41-.59l7.78-7.78 2.81-2.81c.8-.78.8-2.07 0-2.86zM5.41 20L4 18.59l7.72-7.72 1.47 1.35L5.41 20z\"/>\n",
              "  </svg>\n",
              "      </button>\n",
              "      \n",
              "  <style>\n",
              "    .colab-df-container {\n",
              "      display:flex;\n",
              "      flex-wrap:wrap;\n",
              "      gap: 12px;\n",
              "    }\n",
              "\n",
              "    .colab-df-convert {\n",
              "      background-color: #E8F0FE;\n",
              "      border: none;\n",
              "      border-radius: 50%;\n",
              "      cursor: pointer;\n",
              "      display: none;\n",
              "      fill: #1967D2;\n",
              "      height: 32px;\n",
              "      padding: 0 0 0 0;\n",
              "      width: 32px;\n",
              "    }\n",
              "\n",
              "    .colab-df-convert:hover {\n",
              "      background-color: #E2EBFA;\n",
              "      box-shadow: 0px 1px 2px rgba(60, 64, 67, 0.3), 0px 1px 3px 1px rgba(60, 64, 67, 0.15);\n",
              "      fill: #174EA6;\n",
              "    }\n",
              "\n",
              "    [theme=dark] .colab-df-convert {\n",
              "      background-color: #3B4455;\n",
              "      fill: #D2E3FC;\n",
              "    }\n",
              "\n",
              "    [theme=dark] .colab-df-convert:hover {\n",
              "      background-color: #434B5C;\n",
              "      box-shadow: 0px 1px 3px 1px rgba(0, 0, 0, 0.15);\n",
              "      filter: drop-shadow(0px 1px 2px rgba(0, 0, 0, 0.3));\n",
              "      fill: #FFFFFF;\n",
              "    }\n",
              "  </style>\n",
              "\n",
              "      <script>\n",
              "        const buttonEl =\n",
              "          document.querySelector('#df-f1d1a5cb-1ae2-4ba7-ada0-86610e46731a button.colab-df-convert');\n",
              "        buttonEl.style.display =\n",
              "          google.colab.kernel.accessAllowed ? 'block' : 'none';\n",
              "\n",
              "        async function convertToInteractive(key) {\n",
              "          const element = document.querySelector('#df-f1d1a5cb-1ae2-4ba7-ada0-86610e46731a');\n",
              "          const dataTable =\n",
              "            await google.colab.kernel.invokeFunction('convertToInteractive',\n",
              "                                                     [key], {});\n",
              "          if (!dataTable) return;\n",
              "\n",
              "          const docLinkHtml = 'Like what you see? Visit the ' +\n",
              "            '<a target=\"_blank\" href=https://colab.research.google.com/notebooks/data_table.ipynb>data table notebook</a>'\n",
              "            + ' to learn more about interactive tables.';\n",
              "          element.innerHTML = '';\n",
              "          dataTable['output_type'] = 'display_data';\n",
              "          await google.colab.output.renderOutput(dataTable, element);\n",
              "          const docLink = document.createElement('div');\n",
              "          docLink.innerHTML = docLinkHtml;\n",
              "          element.appendChild(docLink);\n",
              "        }\n",
              "      </script>\n",
              "    </div>\n",
              "  </div>\n",
              "  "
            ]
          },
          "metadata": {},
          "execution_count": 46
        }
      ]
    },
    {
      "cell_type": "code",
      "source": [
        "# Extract SMILES strings and labels from the train/test data\n",
        "train_smiles = train_df['Drug']\n",
        "train_labels = train_df['Y']\n",
        "test_smiles = test_df['Drug']\n",
        "test_labels = test_df['Y']"
      ],
      "metadata": {
        "id": "jqH5_CYB61IZ"
      },
      "execution_count": 47,
      "outputs": []
    },
    {
      "cell_type": "code",
      "source": [
        "from sklearn.feature_extraction.text import CountVectorizer\n",
        "\n",
        "# Initialize the CountVectorizer for converting SMILES strings to numerical features\n",
        "vectorizer = CountVectorizer(token_pattern=r'\\b\\w+\\b')"
      ],
      "metadata": {
        "id": "F1nno1Pe8Trs"
      },
      "execution_count": 48,
      "outputs": []
    },
    {
      "cell_type": "code",
      "source": [
        "vectorizer"
      ],
      "metadata": {
        "colab": {
          "base_uri": "https://localhost:8080/",
          "height": 74
        },
        "id": "GM2q9FGh8b-B",
        "outputId": "2e9a1b93-9b40-4214-af27-7acd9b8e4918"
      },
      "execution_count": 49,
      "outputs": [
        {
          "output_type": "execute_result",
          "data": {
            "text/plain": [
              "CountVectorizer(token_pattern='\\\\b\\\\w+\\\\b')"
            ],
            "text/html": [
              "<style>#sk-container-id-1 {color: black;background-color: white;}#sk-container-id-1 pre{padding: 0;}#sk-container-id-1 div.sk-toggleable {background-color: white;}#sk-container-id-1 label.sk-toggleable__label {cursor: pointer;display: block;width: 100%;margin-bottom: 0;padding: 0.3em;box-sizing: border-box;text-align: center;}#sk-container-id-1 label.sk-toggleable__label-arrow:before {content: \"▸\";float: left;margin-right: 0.25em;color: #696969;}#sk-container-id-1 label.sk-toggleable__label-arrow:hover:before {color: black;}#sk-container-id-1 div.sk-estimator:hover label.sk-toggleable__label-arrow:before {color: black;}#sk-container-id-1 div.sk-toggleable__content {max-height: 0;max-width: 0;overflow: hidden;text-align: left;background-color: #f0f8ff;}#sk-container-id-1 div.sk-toggleable__content pre {margin: 0.2em;color: black;border-radius: 0.25em;background-color: #f0f8ff;}#sk-container-id-1 input.sk-toggleable__control:checked~div.sk-toggleable__content {max-height: 200px;max-width: 100%;overflow: auto;}#sk-container-id-1 input.sk-toggleable__control:checked~label.sk-toggleable__label-arrow:before {content: \"▾\";}#sk-container-id-1 div.sk-estimator input.sk-toggleable__control:checked~label.sk-toggleable__label {background-color: #d4ebff;}#sk-container-id-1 div.sk-label input.sk-toggleable__control:checked~label.sk-toggleable__label {background-color: #d4ebff;}#sk-container-id-1 input.sk-hidden--visually {border: 0;clip: rect(1px 1px 1px 1px);clip: rect(1px, 1px, 1px, 1px);height: 1px;margin: -1px;overflow: hidden;padding: 0;position: absolute;width: 1px;}#sk-container-id-1 div.sk-estimator {font-family: monospace;background-color: #f0f8ff;border: 1px dotted black;border-radius: 0.25em;box-sizing: border-box;margin-bottom: 0.5em;}#sk-container-id-1 div.sk-estimator:hover {background-color: #d4ebff;}#sk-container-id-1 div.sk-parallel-item::after {content: \"\";width: 100%;border-bottom: 1px solid gray;flex-grow: 1;}#sk-container-id-1 div.sk-label:hover label.sk-toggleable__label {background-color: #d4ebff;}#sk-container-id-1 div.sk-serial::before {content: \"\";position: absolute;border-left: 1px solid gray;box-sizing: border-box;top: 0;bottom: 0;left: 50%;z-index: 0;}#sk-container-id-1 div.sk-serial {display: flex;flex-direction: column;align-items: center;background-color: white;padding-right: 0.2em;padding-left: 0.2em;position: relative;}#sk-container-id-1 div.sk-item {position: relative;z-index: 1;}#sk-container-id-1 div.sk-parallel {display: flex;align-items: stretch;justify-content: center;background-color: white;position: relative;}#sk-container-id-1 div.sk-item::before, #sk-container-id-1 div.sk-parallel-item::before {content: \"\";position: absolute;border-left: 1px solid gray;box-sizing: border-box;top: 0;bottom: 0;left: 50%;z-index: -1;}#sk-container-id-1 div.sk-parallel-item {display: flex;flex-direction: column;z-index: 1;position: relative;background-color: white;}#sk-container-id-1 div.sk-parallel-item:first-child::after {align-self: flex-end;width: 50%;}#sk-container-id-1 div.sk-parallel-item:last-child::after {align-self: flex-start;width: 50%;}#sk-container-id-1 div.sk-parallel-item:only-child::after {width: 0;}#sk-container-id-1 div.sk-dashed-wrapped {border: 1px dashed gray;margin: 0 0.4em 0.5em 0.4em;box-sizing: border-box;padding-bottom: 0.4em;background-color: white;}#sk-container-id-1 div.sk-label label {font-family: monospace;font-weight: bold;display: inline-block;line-height: 1.2em;}#sk-container-id-1 div.sk-label-container {text-align: center;}#sk-container-id-1 div.sk-container {/* jupyter's `normalize.less` sets `[hidden] { display: none; }` but bootstrap.min.css set `[hidden] { display: none !important; }` so we also need the `!important` here to be able to override the default hidden behavior on the sphinx rendered scikit-learn.org. See: https://github.com/scikit-learn/scikit-learn/issues/21755 */display: inline-block !important;position: relative;}#sk-container-id-1 div.sk-text-repr-fallback {display: none;}</style><div id=\"sk-container-id-1\" class=\"sk-top-container\"><div class=\"sk-text-repr-fallback\"><pre>CountVectorizer(token_pattern=&#x27;\\\\b\\\\w+\\\\b&#x27;)</pre><b>In a Jupyter environment, please rerun this cell to show the HTML representation or trust the notebook. <br />On GitHub, the HTML representation is unable to render, please try loading this page with nbviewer.org.</b></div><div class=\"sk-container\" hidden><div class=\"sk-item\"><div class=\"sk-estimator sk-toggleable\"><input class=\"sk-toggleable__control sk-hidden--visually\" id=\"sk-estimator-id-1\" type=\"checkbox\" checked><label for=\"sk-estimator-id-1\" class=\"sk-toggleable__label sk-toggleable__label-arrow\">CountVectorizer</label><div class=\"sk-toggleable__content\"><pre>CountVectorizer(token_pattern=&#x27;\\\\b\\\\w+\\\\b&#x27;)</pre></div></div></div></div></div>"
            ]
          },
          "metadata": {},
          "execution_count": 49
        }
      ]
    },
    {
      "cell_type": "code",
      "source": [
        "# Fit and transform the training SMILES strings\n",
        "train_features = vectorizer.fit_transform(train_smiles)"
      ],
      "metadata": {
        "id": "UVT3Csim8efP"
      },
      "execution_count": 50,
      "outputs": []
    },
    {
      "cell_type": "code",
      "source": [
        "train_features"
      ],
      "metadata": {
        "colab": {
          "base_uri": "https://localhost:8080/"
        },
        "id": "KSxCjsCK8kbC",
        "outputId": "6e0bcb2d-2bf0-4cfc-f992-e4ec50085f84"
      },
      "execution_count": 51,
      "outputs": [
        {
          "output_type": "execute_result",
          "data": {
            "text/plain": [
              "<9412x4730 sparse matrix of type '<class 'numpy.int64'>'\n",
              "\twith 94057 stored elements in Compressed Sparse Row format>"
            ]
          },
          "metadata": {},
          "execution_count": 51
        }
      ]
    },
    {
      "cell_type": "code",
      "source": [
        "# Transform the testing SMILES strings\n",
        "test_features = vectorizer.transform(test_smiles)"
      ],
      "metadata": {
        "id": "_3mfwghZ8mII"
      },
      "execution_count": 52,
      "outputs": []
    },
    {
      "cell_type": "code",
      "source": [
        "test_features"
      ],
      "metadata": {
        "colab": {
          "base_uri": "https://localhost:8080/"
        },
        "id": "I7O9-p2l8vKE",
        "outputId": "0770328e-862f-4b65-cfec-f8f9ed4db650"
      },
      "execution_count": 53,
      "outputs": [
        {
          "output_type": "execute_result",
          "data": {
            "text/plain": [
              "<2689x4730 sparse matrix of type '<class 'numpy.int64'>'\n",
              "\twith 26237 stored elements in Compressed Sparse Row format>"
            ]
          },
          "metadata": {},
          "execution_count": 53
        }
      ]
    },
    {
      "cell_type": "code",
      "source": [
        "from sklearn.linear_model import LogisticRegression\n",
        "\n",
        "# Train a logistic regression model\n",
        "model = LogisticRegression()\n",
        "model.fit(train_features, train_labels)\n",
        "\n",
        "# Make predictions on the test set\n",
        "predictions = model.predict(test_features)"
      ],
      "metadata": {
        "id": "63RC9C-S8wsE"
      },
      "execution_count": 54,
      "outputs": []
    },
    {
      "cell_type": "code",
      "source": [
        "predictions"
      ],
      "metadata": {
        "colab": {
          "base_uri": "https://localhost:8080/"
        },
        "id": "NzU8NHB386Zx",
        "outputId": "c2ea85b9-0629-430d-8238-5c16beaf2c15"
      },
      "execution_count": 55,
      "outputs": [
        {
          "output_type": "execute_result",
          "data": {
            "text/plain": [
              "array([1, 0, 0, ..., 0, 0, 0])"
            ]
          },
          "metadata": {},
          "execution_count": 55
        }
      ]
    },
    {
      "cell_type": "code",
      "source": [
        "from sklearn.metrics import accuracy_score\n",
        "\n",
        "# Calculate accuracy\n",
        "accuracy = accuracy_score(test_labels, predictions)\n",
        "print(f\"Accuracy: {accuracy}\")"
      ],
      "metadata": {
        "colab": {
          "base_uri": "https://localhost:8080/"
        },
        "id": "62JtgR4188Ps",
        "outputId": "15fb4b24-3f0f-4c68-b861-fcb933a3b4e2"
      },
      "execution_count": 56,
      "outputs": [
        {
          "output_type": "stream",
          "name": "stdout",
          "text": [
            "Accuracy: 0.7593901078467832\n"
          ]
        }
      ]
    },
    {
      "cell_type": "code",
      "source": [
        "import pickle\n",
        "\n",
        "# Save the model to a file\n",
        "with open('trained_model.pkl', 'wb') as file:\n",
        "    pickle.dump(model, file)"
      ],
      "metadata": {
        "id": "RRifQztx9hnl"
      },
      "execution_count": 57,
      "outputs": []
    },
    {
      "cell_type": "code",
      "source": [
        "from sklearn.pipeline import Pipeline\n",
        "from sklearn.feature_extraction.text import CountVectorizer\n",
        "from sklearn.linear_model import LogisticRegression\n",
        "\n",
        "# Create the pipeline\n",
        "pipeline = Pipeline([\n",
        "    ('vectorizer', CountVectorizer(token_pattern=r'\\b\\w+\\b'))\n",
        "])\n",
        "\n",
        "# Fit the pipeline (vectorization + model training)\n",
        "pipeline.fit_transform(train_smiles)\n",
        "\n",
        "# Make predictions on the test set\n",
        "predictions = pipeline.predict(test_smiles)\n"
      ],
      "metadata": {
        "colab": {
          "base_uri": "https://localhost:8080/"
        },
        "id": "2TKreScW-wS1",
        "outputId": "d85a4ddd-92db-4fce-d28d-d4206d7ad069"
      },
      "execution_count": 67,
      "outputs": [
        {
          "output_type": "execute_result",
          "data": {
            "text/plain": [
              "<9412x4730 sparse matrix of type '<class 'numpy.int64'>'\n",
              "\twith 94057 stored elements in Compressed Sparse Row format>"
            ]
          },
          "metadata": {},
          "execution_count": 67
        }
      ]
    },
    {
      "cell_type": "code",
      "source": [
        "from sklearn.metrics import accuracy_score\n",
        "\n",
        "# Calculate accuracy\n",
        "accuracy = accuracy_score(test_labels, predictions)\n",
        "print(f\"Accuracy: {accuracy}\")"
      ],
      "metadata": {
        "colab": {
          "base_uri": "https://localhost:8080/"
        },
        "id": "05_TQUxlAVNQ",
        "outputId": "714f9596-9940-4006-f874-9b857a148c9c"
      },
      "execution_count": 59,
      "outputs": [
        {
          "output_type": "stream",
          "name": "stdout",
          "text": [
            "Accuracy: 0.7593901078467832\n"
          ]
        }
      ]
    },
    {
      "cell_type": "code",
      "source": [
        "import pickle\n",
        "\n",
        "# Save the model to a file\n",
        "with open('pipeline.pkl', 'wb') as file:\n",
        "    pickle.dump(model, file)"
      ],
      "metadata": {
        "id": "Qo0VL0oBAXw0"
      },
      "execution_count": 60,
      "outputs": []
    },
    {
      "cell_type": "code",
      "source": [
        "from sklearn.pipeline import Pipeline\n",
        "from sklearn.feature_extraction.text import CountVectorizer\n",
        "from sklearn.linear_model import LogisticRegression\n",
        "\n",
        "# Create the pipeline\n",
        "pipeline = Pipeline([\n",
        "    ('vectorizer', CountVectorizer(token_pattern=r'\\b\\w+\\b')),\n",
        "    ('model', LogisticRegression())\n",
        "])\n",
        "\n",
        "# Fit the pipeline (vectorization + model training)\n",
        "pipeline.fit(train_smiles, train_labels)\n",
        "\n",
        "# Make predictions on the test set\n",
        "predictions = pipeline.predict(test_smiles)\n",
        "\n",
        "# Example of using the pipeline for a new SMILES input\n",
        "# new_smiles = ['CCOC(=O)C1=C(C=CC=C1)N']\n",
        "new_predictions = pipeline.predict(['O=c1cc(-c2ccccc2)oc2cc(O)c(O)c(O)c12'])\n",
        "print(new_predictions)\n"
      ],
      "metadata": {
        "colab": {
          "base_uri": "https://localhost:8080/"
        },
        "id": "2GE3bZCNAefO",
        "outputId": "367f424f-2c03-4d6c-9ef8-3e372af54ade"
      },
      "execution_count": 74,
      "outputs": [
        {
          "output_type": "stream",
          "name": "stdout",
          "text": [
            "[0]\n"
          ]
        }
      ]
    },
    {
      "cell_type": "code",
      "source": [],
      "metadata": {
        "id": "VM4hSR4FEYkL"
      },
      "execution_count": null,
      "outputs": []
    }
  ]
}